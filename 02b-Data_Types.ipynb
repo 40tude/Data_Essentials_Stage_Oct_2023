{
 "cells": [
  {
   "cell_type": "markdown",
   "source": [
    "# Types of data\n",
    "\n",
    "What are the data types of the following statistics?\n",
    "\n",
    "1. Age 🧒\n",
    "    1. Quantitative / Qualitative?\n",
    "    2. Ordinal / Nominal?\n",
    "    3. Discrete / Continuous?\n",
    "2. Salary 💸\n",
    "    1. Quantitative / Qualitative?\n",
    "    2. Ordinal / Nominal?\n",
    "    3. Discrete / Continuous?\n",
    "3. Country 🇪🇺\n",
    "    1. Quantitative / Qualitative?\n",
    "    2. Ordinal / Nominal?\n",
    "    3. Discrete / Continuous?\n",
    "4. Color 🎨\n",
    "    1. Quantitative / Qualitative?\n",
    "    2. Ordinal / Nominal?\n",
    "    3. Discrete / Continuous?\n",
    "5. Sex 👫\n",
    "    1. Quantitative / Qualitative?\n",
    "    2. Ordinal / Nominal?\n",
    "    3. Discrete / Continuous?\n",
    "6. Customer satisfaction with a service 💌\n",
    "    1. Quantitative / Qualitative?\n",
    "    2. Ordinal / Nominal?\n",
    "    3. Discrete / Continuous?"
   ],
   "metadata": {}
  }
 ],
 "metadata": {
  "kernelspec": {
   "display_name": "Python 3",
   "language": "python",
   "name": "python3"
  },
  "language_info": {
   "codemirror_mode": {
    "name": "ipython",
    "version": 3
   },
   "file_extension": ".py",
   "mimetype": "text/x-python",
   "name": "python",
   "nbconvert_exporter": "python",
   "pygments_lexer": "ipython3",
   "version": "3.8.5"
  }
 },
 "nbformat": 4,
 "nbformat_minor": 4
}