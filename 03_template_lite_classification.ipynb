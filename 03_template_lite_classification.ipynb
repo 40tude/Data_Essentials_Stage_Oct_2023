{
 "cells": [
  {
   "attachments": {},
   "cell_type": "markdown",
   "metadata": {},
   "source": [
    "# Classification\n",
    "Same set of data but 3 differents classifiers\n",
    "* LogisticRegression\n",
    "* DecisionTreeClassifier\n",
    "* RandomForestClassifier\n",
    "\n",
    "Preprocessing is comon to all models\n",
    "1. Preprocessing\n",
    "    1. Import lib\n",
    "    1. Import dataset\n",
    "    1. EDA - Exploratory Data Analysis\n",
    "    1. Separate features from target\n",
    "    1. Split Train and Test sets (80/20)\n",
    "    1. Cleaning\n",
    "        1. Replace missing val (imputers) \n",
    "        1. Standardize numerical features + One hot encode categorical variables (transformers)\n",
    "        1. Encode labels of y\n",
    "\n",
    "**LogisticRegression**\n",
    "1. Build the model\n",
    "    1. Select and train a model\n",
    "    1. Apply model to train set\n",
    "    1. Apply model to test set (don't forget imputer & transformers)\n",
    "1. Evaluate model (confusion matrix, score, precision, recall, score)\n",
    "1. Features importance\n",
    "\n",
    "**DecisionTreeClassifier**\n",
    "1. Build the model\n",
    "    1. Select and train a model\n",
    "    1. Apply model to train set\n",
    "    1. Apply model to test set\n",
    "1. Evaluate model (confusion matrix, score, precision, recall, score)\n",
    "1. Features importance\n",
    "\n",
    "**RandomForestClassifier**\n",
    "1. Build the model\n",
    "    1. Select and train a model\n",
    "    1. Apply model to train set\n",
    "    1. Apply model to test set\n",
    "1. Evaluate model (confusion matrix, score, precision, recall, score)\n",
    "1. Features importance\n",
    "\n"
   ]
  },
  {
   "attachments": {},
   "cell_type": "markdown",
   "metadata": {},
   "source": [
    "## Step 1 - Preprocessing"
   ]
  },
  {
   "cell_type": "markdown",
   "metadata": {},
   "source": [
    "### Step 1.1 - Import libraries"
   ]
  },
  {
   "cell_type": "code",
   "execution_count": 1089,
   "metadata": {},
   "outputs": [],
   "source": [
    "import pandas as pd\n",
    "import numpy as np \n",
    "import matplotlib.pyplot as plt \n",
    "import seaborn as sns \n",
    "from sklearn.model_selection import train_test_split\n",
    "from sklearn.preprocessing import StandardScaler, OneHotEncoder\n",
    "from sklearn.compose import ColumnTransformer\n",
    "from sklearn.linear_model import LogisticRegression\n",
    "from sklearn.tree import DecisionTreeClassifier\n",
    "from sklearn.ensemble import RandomForestClassifier\n",
    "from sklearn.metrics import confusion_matrix, ConfusionMatrixDisplay\n",
    "from sklearn.metrics import precision_score\n",
    "from sklearn.metrics import recall_score\n",
    "from sklearn.metrics import accuracy_score\n",
    "from sklearn.metrics import f1_score"
   ]
  },
  {
   "cell_type": "markdown",
   "metadata": {},
   "source": [
    "### Step 1.2 - Import dataset"
   ]
  },
  {
   "cell_type": "code",
   "execution_count": 1090,
   "metadata": {},
   "outputs": [
    {
     "data": {
      "text/html": [
       "<div>\n",
       "<style scoped>\n",
       "    .dataframe tbody tr th:only-of-type {\n",
       "        vertical-align: middle;\n",
       "    }\n",
       "\n",
       "    .dataframe tbody tr th {\n",
       "        vertical-align: top;\n",
       "    }\n",
       "\n",
       "    .dataframe thead th {\n",
       "        text-align: right;\n",
       "    }\n",
       "</style>\n",
       "<table border=\"1\" class=\"dataframe\">\n",
       "  <thead>\n",
       "    <tr style=\"text-align: right;\">\n",
       "      <th></th>\n",
       "      <th>User ID</th>\n",
       "      <th>Gender</th>\n",
       "      <th>Age</th>\n",
       "      <th>EstimatedSalary</th>\n",
       "      <th>Purchased</th>\n",
       "    </tr>\n",
       "  </thead>\n",
       "  <tbody>\n",
       "    <tr>\n",
       "      <th>0</th>\n",
       "      <td>15624510</td>\n",
       "      <td>Male</td>\n",
       "      <td>19</td>\n",
       "      <td>19000</td>\n",
       "      <td>0</td>\n",
       "    </tr>\n",
       "    <tr>\n",
       "      <th>1</th>\n",
       "      <td>15810944</td>\n",
       "      <td>Male</td>\n",
       "      <td>35</td>\n",
       "      <td>20000</td>\n",
       "      <td>0</td>\n",
       "    </tr>\n",
       "    <tr>\n",
       "      <th>2</th>\n",
       "      <td>15668575</td>\n",
       "      <td>Female</td>\n",
       "      <td>26</td>\n",
       "      <td>43000</td>\n",
       "      <td>0</td>\n",
       "    </tr>\n",
       "    <tr>\n",
       "      <th>3</th>\n",
       "      <td>15603246</td>\n",
       "      <td>Female</td>\n",
       "      <td>27</td>\n",
       "      <td>57000</td>\n",
       "      <td>0</td>\n",
       "    </tr>\n",
       "    <tr>\n",
       "      <th>4</th>\n",
       "      <td>15804002</td>\n",
       "      <td>Male</td>\n",
       "      <td>19</td>\n",
       "      <td>76000</td>\n",
       "      <td>0</td>\n",
       "    </tr>\n",
       "  </tbody>\n",
       "</table>\n",
       "</div>"
      ],
      "text/plain": [
       "    User ID  Gender  Age  EstimatedSalary  Purchased\n",
       "0  15624510    Male   19            19000          0\n",
       "1  15810944    Male   35            20000          0\n",
       "2  15668575  Female   26            43000          0\n",
       "3  15603246  Female   27            57000          0\n",
       "4  15804002    Male   19            76000          0"
      ]
     },
     "execution_count": 1090,
     "metadata": {},
     "output_type": "execute_result"
    }
   ],
   "source": [
    "df = pd.read_csv(\"./assets/ML/Social_Network_Ads.csv\")\n",
    "df.head()"
   ]
  },
  {
   "cell_type": "markdown",
   "metadata": {},
   "source": [
    "### Step 1.3 - EDA - Exploratory Data Analysis"
   ]
  },
  {
   "cell_type": "code",
   "execution_count": 1091,
   "metadata": {},
   "outputs": [
    {
     "name": "stdout",
     "output_type": "stream",
     "text": [
      "(400, 5)\n",
      "             User ID  Gender         Age  EstimatedSalary   Purchased\n",
      "count   4.000000e+02     400  400.000000       400.000000  400.000000\n",
      "unique           NaN       2         NaN              NaN         NaN\n",
      "top              NaN  Female         NaN              NaN         NaN\n",
      "freq             NaN     204         NaN              NaN         NaN\n",
      "mean    1.569154e+07     NaN   37.655000     69742.500000    0.357500\n",
      "std     7.165832e+04     NaN   10.482877     34096.960282    0.479864\n",
      "min     1.556669e+07     NaN   18.000000     15000.000000    0.000000\n",
      "25%     1.562676e+07     NaN   29.750000     43000.000000    0.000000\n",
      "50%     1.569434e+07     NaN   37.000000     70000.000000    0.000000\n",
      "75%     1.575036e+07     NaN   46.000000     88000.000000    1.000000\n",
      "max     1.581524e+07     NaN   60.000000    150000.000000    1.000000\n"
     ]
    }
   ],
   "source": [
    "print(df.shape)                         # (#rows, #columns)\n",
    "print(df.describe(include=\"all\"))\n",
    "# Vérifier que le count est identique pour toutes les colonnes\n",
    "# Attention on peut avoir le même nb de valeurs qui manquent partout\n",
    "# Faut correler avec df.shape\n",
    "\n",
    "\n",
    "# Here, there are tons of options \n",
    "  # df.value_counts()\n",
    "  # df = df.drop(columns=[\"PassengerId\", \"Name\", \"Ticket\", \"Cabin\"])\n",
    "  # sns.catplot(data = df, x=\"Sex\", y=\"Survived\", kind=\"bar\")\n",
    "  # print(df[df['Embarked'].isna()])                                      # print lines with NaN\n",
    "  # df.isna().sum() / len(df) * 100                                       # print nb of Nana as %\n",
    "  # df.isnull().any()                                                     # missing values"
   ]
  },
  {
   "cell_type": "markdown",
   "metadata": {},
   "source": [
    "### Step 1.4 - Separate Target from feature variables"
   ]
  },
  {
   "cell_type": "code",
   "execution_count": 1092,
   "metadata": {},
   "outputs": [],
   "source": [
    "features_list = ['Gender', 'Age', 'EstimatedSalary']           # On ne garde pas \"User Id\"\n",
    "X = df.loc[:,features_list]                                    \n",
    "y = df.loc[:,\"Purchased\"]                                      \n",
    "# print(X.head())\n",
    "# print(y.head())                     "
   ]
  },
  {
   "cell_type": "markdown",
   "metadata": {},
   "source": [
    "### Step 1.5 - Train / Test split "
   ]
  },
  {
   "cell_type": "code",
   "execution_count": 1093,
   "metadata": {},
   "outputs": [],
   "source": [
    "# si stratify = y       # Allows you to stratify your sample. \n",
    "                        # Meaning, you will have the same proportion of categories in test and train set\n",
    "# test_size=0.2 is completely arbitrary.  \n",
    "X_train, X_test, y_train, y_test = train_test_split(X, y, \n",
    "                                                    test_size=0.2, \n",
    "                                                    random_state=0, \n",
    "                                                    stratify = y) "
   ]
  },
  {
   "cell_type": "markdown",
   "metadata": {},
   "source": [
    "### Step 1.6 - Cleaning \n",
    "1. Remplace missing values - SimpleImputer avec strategy='mean' pour valeurs numériques ou strategy='mode' si il manque des données catégorielles\n",
    "1. Standardize numerical features + One hot encode categorical variables\n",
    "1. If y is discrete => Encode labels of y"
   ]
  },
  {
   "cell_type": "code",
   "execution_count": 1094,
   "metadata": {},
   "outputs": [
    {
     "name": "stdout",
     "output_type": "stream",
     "text": [
      "     Gender  Age  EstimatedSalary\n",
      "213    Male   35            58000\n",
      "192    Male   29            43000\n",
      "26     Male   49            28000\n",
      "195    Male   34            43000\n",
      "252  Female   48           134000\n",
      "\n",
      "[[ 1.         -0.25808475 -0.33624928]\n",
      " [ 1.         -0.82439644 -0.77364672]\n",
      " [ 1.          1.06330919 -1.21104417]\n",
      " [ 1.         -0.35247004 -0.77364672]\n",
      " [ 0.          0.9689239   1.87989775]]\n"
     ]
    }
   ],
   "source": [
    "# In this case, no need to Replace missing values\n",
    "  # imputer = SimpleImputer(strategy=\"mean\")\n",
    "  # X_train.iloc[:,[1,2]] = imputer.fit_transform(X_train.iloc[:,[1,2]])\n",
    "\n",
    "  # categorical_imputer = SimpleImputer(strategy=\"constant\", fill_value=\"Unknown\")\n",
    "\n",
    "\n",
    "\n",
    "# Standardize numerical features + One hot encode categorical variables\n",
    "print(X_train.head())\n",
    "print()\n",
    "\n",
    "numeric_features = [1, 2] \n",
    "numeric_transformer = StandardScaler()\n",
    "\n",
    "categorical_features = [0] \n",
    "categorical_transformer = OneHotEncoder(drop=\"first\")               # ! Il faut garder le drop first car ici on a 1 colonne avec 2 categories (M/F)\n",
    "                                                                    # Sinon on a 2 colonnes qui sont 100% corrélées et c'est mauvais le modèle\n",
    "feature_encoder = ColumnTransformer(\n",
    "    transformers=[\n",
    "        ('cat', categorical_transformer, categorical_features),    \n",
    "        ('num', numeric_transformer, numeric_features)\n",
    "        ]\n",
    "    )\n",
    "X_train = feature_encoder.fit_transform(X_train)\n",
    "print(X_train[0:5,:])                                               # print first 5 rows (not using iloc since now X_train became a numpy array)\n",
    "\n",
    "\n",
    "\n",
    "# In this case, no need to Encode labels of y\n",
    "  # labelencoder = LabelEncoder()    \n",
    "  # y_train = labelencoder.fit_transform(y_train)"
   ]
  },
  {
   "attachments": {},
   "cell_type": "markdown",
   "metadata": {},
   "source": [
    "## Step 2 - Build the model - LogisticRegression"
   ]
  },
  {
   "cell_type": "markdown",
   "metadata": {},
   "source": [
    "### 2.1 Select and train a model"
   ]
  },
  {
   "cell_type": "code",
   "execution_count": 1095,
   "metadata": {},
   "outputs": [
    {
     "data": {
      "text/html": [
       "<style>#sk-container-id-86 {color: black;}#sk-container-id-86 pre{padding: 0;}#sk-container-id-86 div.sk-toggleable {background-color: white;}#sk-container-id-86 label.sk-toggleable__label {cursor: pointer;display: block;width: 100%;margin-bottom: 0;padding: 0.3em;box-sizing: border-box;text-align: center;}#sk-container-id-86 label.sk-toggleable__label-arrow:before {content: \"▸\";float: left;margin-right: 0.25em;color: #696969;}#sk-container-id-86 label.sk-toggleable__label-arrow:hover:before {color: black;}#sk-container-id-86 div.sk-estimator:hover label.sk-toggleable__label-arrow:before {color: black;}#sk-container-id-86 div.sk-toggleable__content {max-height: 0;max-width: 0;overflow: hidden;text-align: left;background-color: #f0f8ff;}#sk-container-id-86 div.sk-toggleable__content pre {margin: 0.2em;color: black;border-radius: 0.25em;background-color: #f0f8ff;}#sk-container-id-86 input.sk-toggleable__control:checked~div.sk-toggleable__content {max-height: 200px;max-width: 100%;overflow: auto;}#sk-container-id-86 input.sk-toggleable__control:checked~label.sk-toggleable__label-arrow:before {content: \"▾\";}#sk-container-id-86 div.sk-estimator input.sk-toggleable__control:checked~label.sk-toggleable__label {background-color: #d4ebff;}#sk-container-id-86 div.sk-label input.sk-toggleable__control:checked~label.sk-toggleable__label {background-color: #d4ebff;}#sk-container-id-86 input.sk-hidden--visually {border: 0;clip: rect(1px 1px 1px 1px);clip: rect(1px, 1px, 1px, 1px);height: 1px;margin: -1px;overflow: hidden;padding: 0;position: absolute;width: 1px;}#sk-container-id-86 div.sk-estimator {font-family: monospace;background-color: #f0f8ff;border: 1px dotted black;border-radius: 0.25em;box-sizing: border-box;margin-bottom: 0.5em;}#sk-container-id-86 div.sk-estimator:hover {background-color: #d4ebff;}#sk-container-id-86 div.sk-parallel-item::after {content: \"\";width: 100%;border-bottom: 1px solid gray;flex-grow: 1;}#sk-container-id-86 div.sk-label:hover label.sk-toggleable__label {background-color: #d4ebff;}#sk-container-id-86 div.sk-serial::before {content: \"\";position: absolute;border-left: 1px solid gray;box-sizing: border-box;top: 0;bottom: 0;left: 50%;z-index: 0;}#sk-container-id-86 div.sk-serial {display: flex;flex-direction: column;align-items: center;background-color: white;padding-right: 0.2em;padding-left: 0.2em;position: relative;}#sk-container-id-86 div.sk-item {position: relative;z-index: 1;}#sk-container-id-86 div.sk-parallel {display: flex;align-items: stretch;justify-content: center;background-color: white;position: relative;}#sk-container-id-86 div.sk-item::before, #sk-container-id-86 div.sk-parallel-item::before {content: \"\";position: absolute;border-left: 1px solid gray;box-sizing: border-box;top: 0;bottom: 0;left: 50%;z-index: -1;}#sk-container-id-86 div.sk-parallel-item {display: flex;flex-direction: column;z-index: 1;position: relative;background-color: white;}#sk-container-id-86 div.sk-parallel-item:first-child::after {align-self: flex-end;width: 50%;}#sk-container-id-86 div.sk-parallel-item:last-child::after {align-self: flex-start;width: 50%;}#sk-container-id-86 div.sk-parallel-item:only-child::after {width: 0;}#sk-container-id-86 div.sk-dashed-wrapped {border: 1px dashed gray;margin: 0 0.4em 0.5em 0.4em;box-sizing: border-box;padding-bottom: 0.4em;background-color: white;}#sk-container-id-86 div.sk-label label {font-family: monospace;font-weight: bold;display: inline-block;line-height: 1.2em;}#sk-container-id-86 div.sk-label-container {text-align: center;}#sk-container-id-86 div.sk-container {/* jupyter's `normalize.less` sets `[hidden] { display: none; }` but bootstrap.min.css set `[hidden] { display: none !important; }` so we also need the `!important` here to be able to override the default hidden behavior on the sphinx rendered scikit-learn.org. See: https://github.com/scikit-learn/scikit-learn/issues/21755 */display: inline-block !important;position: relative;}#sk-container-id-86 div.sk-text-repr-fallback {display: none;}</style><div id=\"sk-container-id-86\" class=\"sk-top-container\"><div class=\"sk-text-repr-fallback\"><pre>LogisticRegression(random_state=0)</pre><b>In a Jupyter environment, please rerun this cell to show the HTML representation or trust the notebook. <br />On GitHub, the HTML representation is unable to render, please try loading this page with nbviewer.org.</b></div><div class=\"sk-container\" hidden><div class=\"sk-item\"><div class=\"sk-estimator sk-toggleable\"><input class=\"sk-toggleable__control sk-hidden--visually\" id=\"sk-estimator-id-86\" type=\"checkbox\" checked><label for=\"sk-estimator-id-86\" class=\"sk-toggleable__label sk-toggleable__label-arrow\">LogisticRegression</label><div class=\"sk-toggleable__content\"><pre>LogisticRegression(random_state=0)</pre></div></div></div></div></div>"
      ],
      "text/plain": [
       "LogisticRegression(random_state=0)"
      ]
     },
     "execution_count": 1095,
     "metadata": {},
     "output_type": "execute_result"
    }
   ],
   "source": [
    "classifier = LogisticRegression(random_state = 0) \n",
    "classifier.fit(X_train, y_train)                  # This steps is the actual training"
   ]
  },
  {
   "cell_type": "markdown",
   "metadata": {},
   "source": [
    "### 2.2 Apply model on train set"
   ]
  },
  {
   "cell_type": "code",
   "execution_count": 1096,
   "metadata": {},
   "outputs": [],
   "source": [
    "y_train_pred = classifier.predict(X_train)\n",
    "# print(y_train_pred[0:5])                      # print first 5 rows\n",
    "                                                # ! y_train became a numpy array"
   ]
  },
  {
   "cell_type": "markdown",
   "metadata": {},
   "source": [
    "### 2.3 Apply model on test set"
   ]
  },
  {
   "cell_type": "code",
   "execution_count": 1097,
   "metadata": {},
   "outputs": [],
   "source": [
    "# Process test set data\n",
    "\n",
    "# 1.5 - No missing values => No imputer.transform...\n",
    "\n",
    "# 1.5 - Encoding categorical features and standardizing numeric features\n",
    "X_test = feature_encoder.transform(X_test)\n",
    "\n",
    "# 1.5 - No need to encode y labels => No LabelEncoder"
   ]
  },
  {
   "cell_type": "code",
   "execution_count": 1098,
   "metadata": {},
   "outputs": [],
   "source": [
    "# Predictions on test set\n",
    "# cf 2.1 above\n",
    "y_test_pred = classifier.predict(X_test) \n",
    "#print(y_train_pred[0:5])"
   ]
  },
  {
   "attachments": {},
   "cell_type": "markdown",
   "metadata": {},
   "source": [
    "## Step 3 - Evaluate the model"
   ]
  },
  {
   "cell_type": "code",
   "execution_count": 1099,
   "metadata": {},
   "outputs": [
    {
     "data": {
      "image/png": "[encoded data removed]",
      "text/plain": [
       "<Figure size 640x480 with 2 Axes>"
      ]
     },
     "metadata": {},
     "output_type": "display_data"
    }
   ],
   "source": [
    "# Plot confusion matrix on train set\n",
    "cm = confusion_matrix(y_train, y_train_pred, labels=classifier.classes_)\n",
    "cm_display = ConfusionMatrixDisplay.from_predictions(y_train, y_train_pred)\n",
    "cm_display.ax_.set_title(\"Confusion matrix on train et \") \n",
    "plt.show() \n",
    "\n"
   ]
  },
  {
   "cell_type": "code",
   "execution_count": 1100,
   "metadata": {},
   "outputs": [
    {
     "name": "stdout",
     "output_type": "stream",
     "text": [
      "Precision TP/(TP+FP) - Left col                  : 0.848\n",
      "Recall TP/(TP+FN)  - Bottom line                 : 0.737\n",
      "F1 2/(1/Prec + 1/Rec)                            : 0.789\n",
      "Accuracy (TP+TN)/(TP+FN+TN+FP) - Diag over total : 0.859\n",
      "Accuracy on train set                            : 0.859\n"
     ]
    }
   ],
   "source": [
    "# https://vitalflux.com/accuracy-precision-recall-f1-score-python-example/\n",
    "# Precision : Out of all the positive predicted, what percentage is truly positive. Spam\n",
    "# Recall    : Out of the total positive, what percentage are predicted positive.    Medicine, Credit card\n",
    "# F1        : Harmonic average Recall Precision \n",
    "print(f\"Precision TP/(TP+FP) - Left col                  : {precision_score(y_train, y_train_pred):.3f}\" )\n",
    "print(f\"Recall TP/(TP+FN)  - Bottom line                 : {recall_score(y_train, y_train_pred):.3f}\" )\n",
    "print(f\"F1 2/(1/Prec + 1/Rec)                            : {f1_score(y_train, y_train_pred):.3f}\" )\n",
    "print(f\"Accuracy (TP+TN)/(TP+FN+TN+FP) - Diag over total : {accuracy_score(y_train, y_train_pred):.3f}\" )\n",
    "print(f\"Accuracy on train set                            : {classifier.score(X_train, y_train):.3f}\")"
   ]
  },
  {
   "cell_type": "code",
   "execution_count": 1101,
   "metadata": {},
   "outputs": [
    {
     "data": {
      "image/png": "[encoded data removed]",
      "text/plain": [
       "<Figure size 640x480 with 2 Axes>"
      ]
     },
     "metadata": {},
     "output_type": "display_data"
    }
   ],
   "source": [
    "# Plot confusion matrix on test set\n",
    "cm = confusion_matrix(y_test, y_test_pred, labels=classifier.classes_)\n",
    "cm_display = ConfusionMatrixDisplay.from_predictions(y_test, y_test_pred)\n",
    "cm_display.ax_.set_title(\"Confusion matrix on test set \") \n",
    "plt.show() "
   ]
  },
  {
   "cell_type": "code",
   "execution_count": 1102,
   "metadata": {},
   "outputs": [
    {
     "name": "stdout",
     "output_type": "stream",
     "text": [
      "Precision TP/(TP+FP) - Left col                  : 0.864\n",
      "Recall TP/(TP+FN)  - Bottom line                 : 0.655\n",
      "F1 2/(1/Prec + 1/Rec)                            : 0.745\n",
      "Accuracy (TP+TN)/(TP+FN+TN+FP) - Diag over total : 0.838\n",
      "Accuracy on test set                             : 0.838\n"
     ]
    }
   ],
   "source": [
    "# https://vitalflux.com/accuracy-precision-recall-f1-score-python-example/\n",
    "# Precision : Out of all the positive predicted, what percentage is truly positive. Credit card\n",
    "# Recall    : Out of the total positive, what percentage are predicted positive.    Spam\n",
    "# F1        : Harmonic average Recall Precision \n",
    "print(f\"Precision TP/(TP+FP) - Left col                  : {precision_score(y_test, y_test_pred):.3f}\" )\n",
    "print(f\"Recall TP/(TP+FN)  - Bottom line                 : {recall_score(y_test, y_test_pred):.3f}\" )\n",
    "print(f\"F1 2/(1/Prec + 1/Rec)                            : {f1_score(y_test, y_test_pred):.3f}\" )\n",
    "print(f\"Accuracy (TP+TN)/(TP+FN+TN+FP) - Diag over total : {accuracy_score(y_test, y_test_pred):.3f}\" )\n",
    "print(f\"Accuracy on test set                             : {classifier.score(X_test, y_test):.3f}\")"
   ]
  },
  {
   "cell_type": "markdown",
   "metadata": {},
   "source": [
    "## Step 4 - Features importance\n",
    "If you want to interpret coefficients, make sure you `NORMALIZED` your data in the preprocessing part"
   ]
  },
  {
   "cell_type": "code",
   "execution_count": 1103,
   "metadata": {},
   "outputs": [
    {
     "name": "stdout",
     "output_type": "stream",
     "text": [
      "     feature_names  coefficients\n",
      "1              Age      2.221089\n",
      "2  EstimatedSalary      1.086204\n",
      "0           Gender      0.359329\n",
      "Constant is                    :  [-1.27921518]\n"
     ]
    }
   ],
   "source": [
    "\n",
    "feature_importance = pd.DataFrame({\n",
    "    \"feature_names\": X.columns,\n",
    "    \"coefficients\" : classifier.coef_.squeeze() # ! Bien comprendre ce qui se passe ici\n",
    "                                                # CAREFUL HERE. We need to access first index of our list because \n",
    "                                                # Data needs to be 1 dimensional\n",
    "                                                # That's what .squeeze() is for\n",
    "})\n",
    "\n",
    "feature_importance.sort_values(by=\"coefficients\", ascending=False, inplace=True)\n",
    "print(feature_importance)\n",
    "print(\"Constant is                    : \", classifier.intercept_)"
   ]
  },
  {
   "attachments": {},
   "cell_type": "markdown",
   "metadata": {},
   "source": [
    "$$ \n",
    "y = \\frac{1}{1+e^{0.35 \\times Gender + 2.2 \\times Age + 1.08 \\times EstimatedSalary - 1.10}}\n",
    "$$"
   ]
  },
  {
   "cell_type": "code",
   "execution_count": 1104,
   "metadata": {},
   "outputs": [
    {
     "data": {
      "text/latex": [
       "\\begin{equation*}\n",
       "y = \\frac1{1 + e^{   0.36*Gender  + 2.22*Age  + 1.09*EstimatedSalary  + -1.28   }                      }\n",
       "\\end{equation*}\n"
      ],
      "text/plain": [
       "<IPython.core.display.Latex object>"
      ]
     },
     "execution_count": 1104,
     "metadata": {},
     "output_type": "execute_result"
    }
   ],
   "source": [
    "# En chantier : Voir que par rapport à l'équation précédente, ici on écrit la formule avec les variables\n",
    "# Comme ça si ça les valeurs changent on à rien à faire.\n",
    "\n",
    "# TODO : à terminer et à rendre encore plus générique \n",
    "\n",
    "from IPython.display import Latex\n",
    "feature0 = feature_importance.loc[0, \"feature_names\"]\n",
    "coef0 = feature_importance.loc[0, \"coefficients\"].round(2)\n",
    "\n",
    "feature1 = feature_importance.loc[1, \"feature_names\"]\n",
    "coef1 = feature_importance.loc[1, \"coefficients\"].round(2)\n",
    "\n",
    "feature2 = feature_importance.loc[2, \"feature_names\"]\n",
    "coef2 = feature_importance.loc[2, \"coefficients\"].round(2)\n",
    "\n",
    "constant = classifier.intercept_[0].round(2)\n",
    "\n",
    "Latex(f\"\"\"\\\\begin{{equation*}}\n",
    "y = \\\\frac{1}{{1 + e^{{   {coef0}*{feature0}  + {coef1}*{feature1}  + {coef2}*{feature2}  + {constant}   }}                      }}\n",
    "\\\\end{{equation*}}\n",
    "\"\"\")"
   ]
  },
  {
   "cell_type": "code",
   "execution_count": 1105,
   "metadata": {},
   "outputs": [
    {
     "data": {
      "image/png": "[encoded data removed]",
      "text/plain": [
       "<Figure size 640x480 with 1 Axes>"
      ]
     },
     "metadata": {},
     "output_type": "display_data"
    }
   ],
   "source": [
    "_ = feature_importance.sort_values(by=\"coefficients\", ascending=False).plot(kind=\"bar\", x=\"feature_names\") # , figsize=(16*.65, 9*.65)\n",
    "_ = plt.xticks(rotation=0)\n"
   ]
  },
  {
   "attachments": {},
   "cell_type": "markdown",
   "metadata": {},
   "source": [
    "## Step 2 - Build the model - DecisionTreeClassifier"
   ]
  },
  {
   "cell_type": "markdown",
   "metadata": {},
   "source": [
    "### 2.1 Select and train a model"
   ]
  },
  {
   "cell_type": "code",
   "execution_count": 1106,
   "metadata": {},
   "outputs": [
    {
     "data": {
      "text/html": [
       "<style>#sk-container-id-87 {color: black;}#sk-container-id-87 pre{padding: 0;}#sk-container-id-87 div.sk-toggleable {background-color: white;}#sk-container-id-87 label.sk-toggleable__label {cursor: pointer;display: block;width: 100%;margin-bottom: 0;padding: 0.3em;box-sizing: border-box;text-align: center;}#sk-container-id-87 label.sk-toggleable__label-arrow:before {content: \"▸\";float: left;margin-right: 0.25em;color: #696969;}#sk-container-id-87 label.sk-toggleable__label-arrow:hover:before {color: black;}#sk-container-id-87 div.sk-estimator:hover label.sk-toggleable__label-arrow:before {color: black;}#sk-container-id-87 div.sk-toggleable__content {max-height: 0;max-width: 0;overflow: hidden;text-align: left;background-color: #f0f8ff;}#sk-container-id-87 div.sk-toggleable__content pre {margin: 0.2em;color: black;border-radius: 0.25em;background-color: #f0f8ff;}#sk-container-id-87 input.sk-toggleable__control:checked~div.sk-toggleable__content {max-height: 200px;max-width: 100%;overflow: auto;}#sk-container-id-87 input.sk-toggleable__control:checked~label.sk-toggleable__label-arrow:before {content: \"▾\";}#sk-container-id-87 div.sk-estimator input.sk-toggleable__control:checked~label.sk-toggleable__label {background-color: #d4ebff;}#sk-container-id-87 div.sk-label input.sk-toggleable__control:checked~label.sk-toggleable__label {background-color: #d4ebff;}#sk-container-id-87 input.sk-hidden--visually {border: 0;clip: rect(1px 1px 1px 1px);clip: rect(1px, 1px, 1px, 1px);height: 1px;margin: -1px;overflow: hidden;padding: 0;position: absolute;width: 1px;}#sk-container-id-87 div.sk-estimator {font-family: monospace;background-color: #f0f8ff;border: 1px dotted black;border-radius: 0.25em;box-sizing: border-box;margin-bottom: 0.5em;}#sk-container-id-87 div.sk-estimator:hover {background-color: #d4ebff;}#sk-container-id-87 div.sk-parallel-item::after {content: \"\";width: 100%;border-bottom: 1px solid gray;flex-grow: 1;}#sk-container-id-87 div.sk-label:hover label.sk-toggleable__label {background-color: #d4ebff;}#sk-container-id-87 div.sk-serial::before {content: \"\";position: absolute;border-left: 1px solid gray;box-sizing: border-box;top: 0;bottom: 0;left: 50%;z-index: 0;}#sk-container-id-87 div.sk-serial {display: flex;flex-direction: column;align-items: center;background-color: white;padding-right: 0.2em;padding-left: 0.2em;position: relative;}#sk-container-id-87 div.sk-item {position: relative;z-index: 1;}#sk-container-id-87 div.sk-parallel {display: flex;align-items: stretch;justify-content: center;background-color: white;position: relative;}#sk-container-id-87 div.sk-item::before, #sk-container-id-87 div.sk-parallel-item::before {content: \"\";position: absolute;border-left: 1px solid gray;box-sizing: border-box;top: 0;bottom: 0;left: 50%;z-index: -1;}#sk-container-id-87 div.sk-parallel-item {display: flex;flex-direction: column;z-index: 1;position: relative;background-color: white;}#sk-container-id-87 div.sk-parallel-item:first-child::after {align-self: flex-end;width: 50%;}#sk-container-id-87 div.sk-parallel-item:last-child::after {align-self: flex-start;width: 50%;}#sk-container-id-87 div.sk-parallel-item:only-child::after {width: 0;}#sk-container-id-87 div.sk-dashed-wrapped {border: 1px dashed gray;margin: 0 0.4em 0.5em 0.4em;box-sizing: border-box;padding-bottom: 0.4em;background-color: white;}#sk-container-id-87 div.sk-label label {font-family: monospace;font-weight: bold;display: inline-block;line-height: 1.2em;}#sk-container-id-87 div.sk-label-container {text-align: center;}#sk-container-id-87 div.sk-container {/* jupyter's `normalize.less` sets `[hidden] { display: none; }` but bootstrap.min.css set `[hidden] { display: none !important; }` so we also need the `!important` here to be able to override the default hidden behavior on the sphinx rendered scikit-learn.org. See: https://github.com/scikit-learn/scikit-learn/issues/21755 */display: inline-block !important;position: relative;}#sk-container-id-87 div.sk-text-repr-fallback {display: none;}</style><div id=\"sk-container-id-87\" class=\"sk-top-container\"><div class=\"sk-text-repr-fallback\"><pre>DecisionTreeClassifier()</pre><b>In a Jupyter environment, please rerun this cell to show the HTML representation or trust the notebook. <br />On GitHub, the HTML representation is unable to render, please try loading this page with nbviewer.org.</b></div><div class=\"sk-container\" hidden><div class=\"sk-item\"><div class=\"sk-estimator sk-toggleable\"><input class=\"sk-toggleable__control sk-hidden--visually\" id=\"sk-estimator-id-87\" type=\"checkbox\" checked><label for=\"sk-estimator-id-87\" class=\"sk-toggleable__label sk-toggleable__label-arrow\">DecisionTreeClassifier</label><div class=\"sk-toggleable__content\"><pre>DecisionTreeClassifier()</pre></div></div></div></div></div>"
      ],
      "text/plain": [
       "DecisionTreeClassifier()"
      ]
     },
     "execution_count": 1106,
     "metadata": {},
     "output_type": "execute_result"
    }
   ],
   "source": [
    "classifier = DecisionTreeClassifier()\n",
    "classifier.fit(X_train, y_train)"
   ]
  },
  {
   "cell_type": "markdown",
   "metadata": {},
   "source": [
    "### 2.2 Apply model on train set"
   ]
  },
  {
   "cell_type": "code",
   "execution_count": 1107,
   "metadata": {},
   "outputs": [],
   "source": [
    "y_train_pred = classifier.predict(X_train)"
   ]
  },
  {
   "cell_type": "markdown",
   "metadata": {},
   "source": [
    "### 2.3 Apply model on test set"
   ]
  },
  {
   "cell_type": "code",
   "execution_count": 1108,
   "metadata": {},
   "outputs": [],
   "source": [
    "y_test_pred = classifier.predict(X_test)"
   ]
  },
  {
   "attachments": {},
   "cell_type": "markdown",
   "metadata": {},
   "source": [
    "## Step 3 - Evaluate the model"
   ]
  },
  {
   "cell_type": "code",
   "execution_count": 1109,
   "metadata": {},
   "outputs": [
    {
     "data": {
      "image/png": "[encoded data removed]",
      "text/plain": [
       "<Figure size 640x480 with 1 Axes>"
      ]
     },
     "metadata": {},
     "output_type": "display_data"
    }
   ],
   "source": [
    "# Plot confusion matrix on train set\n",
    "cm = confusion_matrix(y_train, y_train_pred, labels=classifier.classes_)\n",
    "cm_display = ConfusionMatrixDisplay.from_predictions(y_train, y_train_pred, colorbar=False)\n",
    "cm_display.ax_.set_title(\"Confusion matrix on train set \")\n",
    "\n",
    "plt.show()\n"
   ]
  },
  {
   "cell_type": "code",
   "execution_count": 1110,
   "metadata": {},
   "outputs": [
    {
     "name": "stdout",
     "output_type": "stream",
     "text": [
      "Precision TP/(TP+FP) - Left col                  : 1.000\n",
      "Recall TP/(TP+FN)  - Bottom line                 : 1.000\n",
      "F1 2/(1/Prec + 1/Rec)                            : 1.000\n",
      "Accuracy (TP+TN)/(TP+FN+TN+FP) - Diag over total : 1.000\n",
      "Accuracy       on train set                      : 1.000\n"
     ]
    }
   ],
   "source": [
    "# https://vitalflux.com/accuracy-precision-recall-f1-score-python-example/\n",
    "# Precision : Out of all the positive predicted, what percentage is truly positive. Spam\n",
    "# Recall    : Out of the total positive, what percentage are predicted positive.    Medicine, Credit card\n",
    "# F1        : Harmonic average Recall Precision \n",
    "print(f\"Precision TP/(TP+FP) - Left col                  : {precision_score(y_train, y_train_pred):.3f}\" )\n",
    "print(f\"Recall TP/(TP+FN)  - Bottom line                 : {recall_score(y_train, y_train_pred):.3f}\" )\n",
    "print(f\"F1 2/(1/Prec + 1/Rec)                            : {f1_score(y_train, y_train_pred):.3f}\" )\n",
    "print(f\"Accuracy (TP+TN)/(TP+FN+TN+FP) - Diag over total : {accuracy_score(y_train, y_train_pred):.3f}\" )\n",
    "print(f\"Accuracy       on train set                      : {classifier.score(X_train, y_train):.3f}\")"
   ]
  },
  {
   "cell_type": "code",
   "execution_count": 1111,
   "metadata": {},
   "outputs": [
    {
     "data": {
      "image/png": "[encoded data removed]",
      "text/plain": [
       "<Figure size 640x480 with 1 Axes>"
      ]
     },
     "metadata": {},
     "output_type": "display_data"
    }
   ],
   "source": [
    "# Plot confusion matrix on test set\n",
    "cm = confusion_matrix(y_test, y_test_pred, labels=classifier.classes_)\n",
    "cm_display = ConfusionMatrixDisplay.from_predictions(y_test, y_test_pred, colorbar=False)\n",
    "cm_display.ax_.set_title(\"Confusion matrix on test set \") \n",
    "plt.show()"
   ]
  },
  {
   "cell_type": "code",
   "execution_count": 1112,
   "metadata": {},
   "outputs": [
    {
     "name": "stdout",
     "output_type": "stream",
     "text": [
      "Precision TP/(TP+FP) - Left col                  : 0.852\n",
      "Recall TP/(TP+FN)  - Bottom line                 : 0.793\n",
      "F1 2/(1/Prec + 1/Rec)                            : 0.821\n",
      "Accuracy (TP+TN)/(TP+FN+TN+FP) - Diag over total : 0.875\n",
      "Accuracy on train set                            : 0.875\n"
     ]
    }
   ],
   "source": [
    "# https://vitalflux.com/accuracy-precision-recall-f1-score-python-example/\n",
    "# Precision : Out of all the positive predicted, what percentage is truly positive. Spam\n",
    "# Recall    : Out of the total positive, what percentage are predicted positive.    Medicine, Credit card\n",
    "# F1        : Harmonic average Recall Precision \n",
    "print(f\"Precision TP/(TP+FP) - Left col                  : {precision_score(y_test, y_test_pred):.3f}\" )\n",
    "print(f\"Recall TP/(TP+FN)  - Bottom line                 : {recall_score(y_test, y_test_pred):.3f}\" )\n",
    "print(f\"F1 2/(1/Prec + 1/Rec)                            : {f1_score(y_test, y_test_pred):.3f}\" )\n",
    "print(f\"Accuracy (TP+TN)/(TP+FN+TN+FP) - Diag over total : {accuracy_score(y_test, y_test_pred):.3f}\" )\n",
    "print(f\"Accuracy on train set                            : {classifier.score(X_test, y_test):.3f}\")"
   ]
  },
  {
   "attachments": {},
   "cell_type": "markdown",
   "metadata": {},
   "source": [
    "## Step 4 - Feature importance"
   ]
  },
  {
   "cell_type": "code",
   "execution_count": 1113,
   "metadata": {},
   "outputs": [
    {
     "data": {
      "text/html": [
       "<div>\n",
       "<style scoped>\n",
       "    .dataframe tbody tr th:only-of-type {\n",
       "        vertical-align: middle;\n",
       "    }\n",
       "\n",
       "    .dataframe tbody tr th {\n",
       "        vertical-align: top;\n",
       "    }\n",
       "\n",
       "    .dataframe thead th {\n",
       "        text-align: right;\n",
       "    }\n",
       "</style>\n",
       "<table border=\"1\" class=\"dataframe\">\n",
       "  <thead>\n",
       "    <tr style=\"text-align: right;\">\n",
       "      <th></th>\n",
       "      <th>feature_names</th>\n",
       "      <th>coefficients</th>\n",
       "    </tr>\n",
       "  </thead>\n",
       "  <tbody>\n",
       "    <tr>\n",
       "      <th>0</th>\n",
       "      <td>Gender</td>\n",
       "      <td>0.019985</td>\n",
       "    </tr>\n",
       "    <tr>\n",
       "      <th>1</th>\n",
       "      <td>Age</td>\n",
       "      <td>0.514678</td>\n",
       "    </tr>\n",
       "    <tr>\n",
       "      <th>2</th>\n",
       "      <td>EstimatedSalary</td>\n",
       "      <td>0.465336</td>\n",
       "    </tr>\n",
       "  </tbody>\n",
       "</table>\n",
       "</div>"
      ],
      "text/plain": [
       "     feature_names  coefficients\n",
       "0           Gender      0.019985\n",
       "1              Age      0.514678\n",
       "2  EstimatedSalary      0.465336"
      ]
     },
     "execution_count": 1113,
     "metadata": {},
     "output_type": "execute_result"
    }
   ],
   "source": [
    "# Feature importance \n",
    "# Feature importance is here determined using Gini coefficient. \n",
    "# It's a little too complex at this point but feel free to check out documentation\n",
    "# https://scikit-learn.org/stable/modules/tree.html#classification-criteria\n",
    "\n",
    "feature_importance = pd.DataFrame({\n",
    "    \"feature_names\": X.columns,\n",
    "    \"coefficients\": classifier.feature_importances_\n",
    "})\n",
    "feature_importance"
   ]
  },
  {
   "cell_type": "code",
   "execution_count": 1114,
   "metadata": {},
   "outputs": [
    {
     "data": {
      "image/png": "[encoded data removed]",
      "text/plain": [
       "<Figure size 640x480 with 1 Axes>"
      ]
     },
     "metadata": {},
     "output_type": "display_data"
    }
   ],
   "source": [
    "_ = feature_importance.sort_values(by=\"coefficients\", ascending=False).plot(kind=\"bar\", x=\"feature_names\")\n",
    "_ = plt.xticks(rotation=0)\n"
   ]
  },
  {
   "attachments": {},
   "cell_type": "markdown",
   "metadata": {},
   "source": [
    "## Step 2 - Build the model - RandomForestClassifier"
   ]
  },
  {
   "cell_type": "markdown",
   "metadata": {},
   "source": [
    "### 2.1 Select and train a model"
   ]
  },
  {
   "cell_type": "code",
   "execution_count": 1115,
   "metadata": {},
   "outputs": [
    {
     "data": {
      "text/html": [
       "<style>#sk-container-id-88 {color: black;}#sk-container-id-88 pre{padding: 0;}#sk-container-id-88 div.sk-toggleable {background-color: white;}#sk-container-id-88 label.sk-toggleable__label {cursor: pointer;display: block;width: 100%;margin-bottom: 0;padding: 0.3em;box-sizing: border-box;text-align: center;}#sk-container-id-88 label.sk-toggleable__label-arrow:before {content: \"▸\";float: left;margin-right: 0.25em;color: #696969;}#sk-container-id-88 label.sk-toggleable__label-arrow:hover:before {color: black;}#sk-container-id-88 div.sk-estimator:hover label.sk-toggleable__label-arrow:before {color: black;}#sk-container-id-88 div.sk-toggleable__content {max-height: 0;max-width: 0;overflow: hidden;text-align: left;background-color: #f0f8ff;}#sk-container-id-88 div.sk-toggleable__content pre {margin: 0.2em;color: black;border-radius: 0.25em;background-color: #f0f8ff;}#sk-container-id-88 input.sk-toggleable__control:checked~div.sk-toggleable__content {max-height: 200px;max-width: 100%;overflow: auto;}#sk-container-id-88 input.sk-toggleable__control:checked~label.sk-toggleable__label-arrow:before {content: \"▾\";}#sk-container-id-88 div.sk-estimator input.sk-toggleable__control:checked~label.sk-toggleable__label {background-color: #d4ebff;}#sk-container-id-88 div.sk-label input.sk-toggleable__control:checked~label.sk-toggleable__label {background-color: #d4ebff;}#sk-container-id-88 input.sk-hidden--visually {border: 0;clip: rect(1px 1px 1px 1px);clip: rect(1px, 1px, 1px, 1px);height: 1px;margin: -1px;overflow: hidden;padding: 0;position: absolute;width: 1px;}#sk-container-id-88 div.sk-estimator {font-family: monospace;background-color: #f0f8ff;border: 1px dotted black;border-radius: 0.25em;box-sizing: border-box;margin-bottom: 0.5em;}#sk-container-id-88 div.sk-estimator:hover {background-color: #d4ebff;}#sk-container-id-88 div.sk-parallel-item::after {content: \"\";width: 100%;border-bottom: 1px solid gray;flex-grow: 1;}#sk-container-id-88 div.sk-label:hover label.sk-toggleable__label {background-color: #d4ebff;}#sk-container-id-88 div.sk-serial::before {content: \"\";position: absolute;border-left: 1px solid gray;box-sizing: border-box;top: 0;bottom: 0;left: 50%;z-index: 0;}#sk-container-id-88 div.sk-serial {display: flex;flex-direction: column;align-items: center;background-color: white;padding-right: 0.2em;padding-left: 0.2em;position: relative;}#sk-container-id-88 div.sk-item {position: relative;z-index: 1;}#sk-container-id-88 div.sk-parallel {display: flex;align-items: stretch;justify-content: center;background-color: white;position: relative;}#sk-container-id-88 div.sk-item::before, #sk-container-id-88 div.sk-parallel-item::before {content: \"\";position: absolute;border-left: 1px solid gray;box-sizing: border-box;top: 0;bottom: 0;left: 50%;z-index: -1;}#sk-container-id-88 div.sk-parallel-item {display: flex;flex-direction: column;z-index: 1;position: relative;background-color: white;}#sk-container-id-88 div.sk-parallel-item:first-child::after {align-self: flex-end;width: 50%;}#sk-container-id-88 div.sk-parallel-item:last-child::after {align-self: flex-start;width: 50%;}#sk-container-id-88 div.sk-parallel-item:only-child::after {width: 0;}#sk-container-id-88 div.sk-dashed-wrapped {border: 1px dashed gray;margin: 0 0.4em 0.5em 0.4em;box-sizing: border-box;padding-bottom: 0.4em;background-color: white;}#sk-container-id-88 div.sk-label label {font-family: monospace;font-weight: bold;display: inline-block;line-height: 1.2em;}#sk-container-id-88 div.sk-label-container {text-align: center;}#sk-container-id-88 div.sk-container {/* jupyter's `normalize.less` sets `[hidden] { display: none; }` but bootstrap.min.css set `[hidden] { display: none !important; }` so we also need the `!important` here to be able to override the default hidden behavior on the sphinx rendered scikit-learn.org. See: https://github.com/scikit-learn/scikit-learn/issues/21755 */display: inline-block !important;position: relative;}#sk-container-id-88 div.sk-text-repr-fallback {display: none;}</style><div id=\"sk-container-id-88\" class=\"sk-top-container\"><div class=\"sk-text-repr-fallback\"><pre>RandomForestClassifier(n_estimators=30)</pre><b>In a Jupyter environment, please rerun this cell to show the HTML representation or trust the notebook. <br />On GitHub, the HTML representation is unable to render, please try loading this page with nbviewer.org.</b></div><div class=\"sk-container\" hidden><div class=\"sk-item\"><div class=\"sk-estimator sk-toggleable\"><input class=\"sk-toggleable__control sk-hidden--visually\" id=\"sk-estimator-id-88\" type=\"checkbox\" checked><label for=\"sk-estimator-id-88\" class=\"sk-toggleable__label sk-toggleable__label-arrow\">RandomForestClassifier</label><div class=\"sk-toggleable__content\"><pre>RandomForestClassifier(n_estimators=30)</pre></div></div></div></div></div>"
      ],
      "text/plain": [
       "RandomForestClassifier(n_estimators=30)"
      ]
     },
     "execution_count": 1115,
     "metadata": {},
     "output_type": "execute_result"
    }
   ],
   "source": [
    "# This is an advanced model, you'll need to tune `_estimators\n",
    "classifier = RandomForestClassifier(n_estimators = 30)\n",
    "classifier.fit(X_train, y_train)"
   ]
  },
  {
   "cell_type": "markdown",
   "metadata": {},
   "source": [
    "### 2.2 Apply model on train set"
   ]
  },
  {
   "cell_type": "code",
   "execution_count": 1116,
   "metadata": {},
   "outputs": [],
   "source": [
    "y_train_pred = classifier.predict(X_train)"
   ]
  },
  {
   "cell_type": "markdown",
   "metadata": {},
   "source": [
    "### 2.3 Apply model on test set"
   ]
  },
  {
   "cell_type": "code",
   "execution_count": 1117,
   "metadata": {},
   "outputs": [],
   "source": [
    "y_test_pred = classifier.predict(X_test)"
   ]
  },
  {
   "attachments": {},
   "cell_type": "markdown",
   "metadata": {},
   "source": [
    "## Step 3 - Evaluate the model"
   ]
  },
  {
   "cell_type": "code",
   "execution_count": 1118,
   "metadata": {},
   "outputs": [
    {
     "data": {
      "image/png": "[encoded data removed]",
      "text/plain": [
       "<Figure size 640x480 with 1 Axes>"
      ]
     },
     "metadata": {},
     "output_type": "display_data"
    }
   ],
   "source": [
    "# Plot confusion matrix on train set\n",
    "cm = confusion_matrix(y_train, y_train_pred, labels=classifier.classes_)\n",
    "cm_display = ConfusionMatrixDisplay.from_predictions(y_train, y_train_pred, colorbar=False)\n",
    "cm_display.ax_.set_title(\"Confusion matrix on train set \") \n",
    "plt.show() "
   ]
  },
  {
   "cell_type": "code",
   "execution_count": 1119,
   "metadata": {},
   "outputs": [
    {
     "name": "stdout",
     "output_type": "stream",
     "text": [
      "Precision TP/(TP+FP) - Left col                  : 0.991\n",
      "Recall TP/(TP+FN)  - Bottom line                 : 1.000\n",
      "F1 2/(1/Prec + 1/Rec)                            : 0.996\n",
      "Accuracy (TP+TN)/(TP+FN+TN+FP) - Diag over total : 0.997\n",
      "Accuracy on train set                            : 0.997\n"
     ]
    }
   ],
   "source": [
    "# https://vitalflux.com/accuracy-precision-recall-f1-score-python-example/\n",
    "# Precision : Out of all the positive predicted, what percentage is truly positive. Spam\n",
    "# Recall    : Out of the total positive, what percentage are predicted positive.    Medicine, Credit card\n",
    "# F1        : Harmonic average Recall Precision \n",
    "print(f\"Precision TP/(TP+FP) - Left col                  : {precision_score(y_train, y_train_pred):.3f}\" )\n",
    "print(f\"Recall TP/(TP+FN)  - Bottom line                 : {recall_score(y_train, y_train_pred):.3f}\" )\n",
    "print(f\"F1 2/(1/Prec + 1/Rec)                            : {f1_score(y_train, y_train_pred):.3f}\" )\n",
    "print(f\"Accuracy (TP+TN)/(TP+FN+TN+FP) - Diag over total : {accuracy_score(y_train, y_train_pred):.3f}\" )\n",
    "print(f\"Accuracy on train set                            : {classifier.score(X_train, y_train):.3f}\")"
   ]
  },
  {
   "cell_type": "code",
   "execution_count": 1120,
   "metadata": {},
   "outputs": [
    {
     "data": {
      "image/png": "[encoded data removed]",
      "text/plain": [
       "<Figure size 640x480 with 1 Axes>"
      ]
     },
     "metadata": {},
     "output_type": "display_data"
    }
   ],
   "source": [
    "# Plot confusion matrix on test set\n",
    "cm = confusion_matrix(y_test, y_test_pred, labels=classifier.classes_)\n",
    "cm_display = ConfusionMatrixDisplay.from_predictions(y_test, y_test_pred, colorbar=False)\n",
    "cm_display.ax_.set_title(\"Confusion matrix on test set \") \n",
    "plt.show() "
   ]
  },
  {
   "cell_type": "code",
   "execution_count": 1121,
   "metadata": {},
   "outputs": [
    {
     "name": "stdout",
     "output_type": "stream",
     "text": [
      "Precision TP/(TP+FP) - Left col                  : 0.889\n",
      "Recall TP/(TP+FN)  - Bottom line                 : 0.828\n",
      "F1 2/(1/Prec + 1/Rec)                            : 0.857\n",
      "Accuracy (TP+TN)/(TP+FN+TN+FP) - Diag over total : 0.900\n",
      "Accuracy on test set                             : 0.900\n"
     ]
    }
   ],
   "source": [
    "# https://vitalflux.com/accuracy-precision-recall-f1-score-python-example/\n",
    "# Precision : Out of all the positive predicted, what percentage is truly positive. Spam\n",
    "# Recall    : Out of the total positive, what percentage are predicted positive.    Medicine, Credit card\n",
    "# F1        : Harmonic average Recall Precision \n",
    "print(f\"Precision TP/(TP+FP) - Left col                  : {precision_score(y_test, y_test_pred):.3f}\" )\n",
    "print(f\"Recall TP/(TP+FN)  - Bottom line                 : {recall_score(y_test, y_test_pred):.3f}\" )\n",
    "print(f\"F1 2/(1/Prec + 1/Rec)                            : {f1_score(y_test, y_test_pred):.3f}\" )\n",
    "print(f\"Accuracy (TP+TN)/(TP+FN+TN+FP) - Diag over total : {accuracy_score(y_test, y_test_pred):.3f}\" )\n",
    "print(f\"Accuracy on test set                             : {classifier.score(X_test, y_test):.3f}\")"
   ]
  },
  {
   "attachments": {},
   "cell_type": "markdown",
   "metadata": {},
   "source": [
    "## Step 4 - Feature importance"
   ]
  },
  {
   "cell_type": "code",
   "execution_count": 1122,
   "metadata": {},
   "outputs": [
    {
     "data": {
      "text/html": [
       "<div>\n",
       "<style scoped>\n",
       "    .dataframe tbody tr th:only-of-type {\n",
       "        vertical-align: middle;\n",
       "    }\n",
       "\n",
       "    .dataframe tbody tr th {\n",
       "        vertical-align: top;\n",
       "    }\n",
       "\n",
       "    .dataframe thead th {\n",
       "        text-align: right;\n",
       "    }\n",
       "</style>\n",
       "<table border=\"1\" class=\"dataframe\">\n",
       "  <thead>\n",
       "    <tr style=\"text-align: right;\">\n",
       "      <th></th>\n",
       "      <th>feature_names</th>\n",
       "      <th>coefficients</th>\n",
       "    </tr>\n",
       "  </thead>\n",
       "  <tbody>\n",
       "    <tr>\n",
       "      <th>0</th>\n",
       "      <td>Gender</td>\n",
       "      <td>0.011545</td>\n",
       "    </tr>\n",
       "    <tr>\n",
       "      <th>1</th>\n",
       "      <td>Age</td>\n",
       "      <td>0.515785</td>\n",
       "    </tr>\n",
       "    <tr>\n",
       "      <th>2</th>\n",
       "      <td>EstimatedSalary</td>\n",
       "      <td>0.472670</td>\n",
       "    </tr>\n",
       "  </tbody>\n",
       "</table>\n",
       "</div>"
      ],
      "text/plain": [
       "     feature_names  coefficients\n",
       "0           Gender      0.011545\n",
       "1              Age      0.515785\n",
       "2  EstimatedSalary      0.472670"
      ]
     },
     "execution_count": 1122,
     "metadata": {},
     "output_type": "execute_result"
    }
   ],
   "source": [
    "# Feature importance \n",
    "# Feature importance is here determined using Gini coefficient. \n",
    "# It's a little too complex at this point but feel free to check out documentation\n",
    "# https://scikit-learn.org/stable/modules/tree.html#classification-criteria\n",
    "\n",
    "feature_importance = pd.DataFrame({\n",
    "    \"feature_names\": X.columns,\n",
    "    \"coefficients\": classifier.feature_importances_\n",
    "                                        \n",
    "})\n",
    "feature_importance"
   ]
  },
  {
   "cell_type": "code",
   "execution_count": 1123,
   "metadata": {},
   "outputs": [
    {
     "data": {
      "image/png": "[encoded data removed]",
      "text/plain": [
       "<Figure size 640x480 with 1 Axes>"
      ]
     },
     "metadata": {},
     "output_type": "display_data"
    }
   ],
   "source": [
    "_ = feature_importance.sort_values(by=\"coefficients\", ascending=False).plot(kind=\"bar\", x=\"feature_names\")\n",
    "_ = plt.xticks(rotation=0)\n"
   ]
  }
 ],
 "metadata": {
  "interpreter": {
   "hash": "216d08ced86f1f6e0b5764233bcb18334be12ba95b6ee555f60be9cf0be8c147"
  },
  "kernelspec": {
   "display_name": "Python 3.8.3 64-bit ('base': conda)",
   "name": "python3"
  },
  "language_info": {
   "codemirror_mode": {
    "name": "ipython",
    "version": 3
   },
   "file_extension": ".py",
   "mimetype": "text/x-python",
   "name": "python",
   "nbconvert_exporter": "python",
   "pygments_lexer": "ipython3",
   "version": "3.11.5"
  }
 },
 "nbformat": 4,
 "nbformat_minor": 4
}
