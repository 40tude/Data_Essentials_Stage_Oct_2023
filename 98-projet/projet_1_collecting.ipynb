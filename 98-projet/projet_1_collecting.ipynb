{
 "cells": [
  {
   "cell_type": "code",
   "execution_count": 1,
   "metadata": {},
   "outputs": [],
   "source": [
    "from pathlib import Path\n",
    "import pandas as pd\n",
    "import os\n",
    "import matplotlib.pyplot as plt\n",
    "import seaborn as sns\n",
    "import re\n",
    "from sklearn.impute import SimpleImputer\n",
    "import numpy as np \n"
   ]
  },
  {
   "cell_type": "markdown",
   "metadata": {},
   "source": [
    "# 1 - From data lake to data warehouse..."
   ]
  },
  {
   "cell_type": "markdown",
   "metadata": {},
   "source": [
    "## 1.1 - Merge the .csv files into a single file \n",
    "* csv files are in ./data_lake\n",
    "* the result of the merge operation will be dropped in ./data_warehouse/salaries.csv"
   ]
  },
  {
   "cell_type": "code",
   "execution_count": 2,
   "metadata": {},
   "outputs": [],
   "source": [
    "# san-francisco-2011.csv\n",
    "# DONE : use regulare expression instead. The filename format may change later \n",
    "def ExtractYear(filename)->int:\n",
    "  #return int(filename[-8:-4])\n",
    "\n",
    "  MyRegex = r\"20[0-9][0-9]\"\n",
    "  Year = re.search(MyRegex, filename)\n",
    "  if Year:\n",
    "    return (int(Year.group()))\n"
   ]
  },
  {
   "cell_type": "code",
   "execution_count": 3,
   "metadata": {},
   "outputs": [],
   "source": [
    "col_names = [\"EmployeeName\",\n",
    "             \"JobTitle\",\n",
    "             \"BasePay\",\n",
    "             \"OvertimePay\",\n",
    "             \"OtherPay\",\n",
    "             \"Benefits\",\n",
    "             \"TotalPay\",\n",
    "             \"PensionDebt\",\n",
    "             \"TotalPayBenefits\",\n",
    "             \"Year\",\n",
    "             \"Notes\",\n",
    "             \"Agency\",\n",
    "             \"Status\"]\n",
    "\n",
    "col_names_2022 = [\"EmployeeName\",\n",
    "                  \"JobTitle\",\n",
    "                  \"BasePay\",\n",
    "                  \"OvertimePay\",\n",
    "                  \"OtherPay\",\n",
    "                  \"Benefits\",\n",
    "                  \"TotalPay\",\n",
    "                  \"TotalPayBenefits\",\n",
    "                  \"Year\",\n",
    "                  \"Notes\",\n",
    "                  \"Agency\",\n",
    "                  \"Status\"]\n",
    "\n",
    "directory_in = \"./assets/data_lake\"\n",
    "directory_out = \"/assets/data_warehouse/\"\n",
    "name_out = \"salaries.csv\"\n",
    "\n",
    "df = pd.DataFrame()\n",
    "\n",
    "for path in Path(directory_in).iterdir():\n",
    "    if path.is_file() and path.suffix == \".csv\":\n",
    "        # Extraire l'année du nom du fichier\n",
    "        year = ExtractYear(path.name)\n",
    "\n",
    "        # Tous les fichiers qui datend d'avant 2022 ont une colonne Pension Debt\n",
    "        if year == 2022:\n",
    "            # On force le nom des colonnes sans espaces\n",
    "            current_df = pd.read_csv(path, header=None, skiprows=1, names=col_names_2022)\n",
    "            # rajouter une colonne PensionDebt entre TotalPay (6) et TotalPayBenefits(7)\n",
    "            # print(current_df.head())\n",
    "            current_df.insert(loc=7, column=\"PensionDebt\", value=0)\n",
    "            #print(current_df.head())\n",
    "        else:\n",
    "            # On force le nom des colonnes sans espaces\n",
    "            current_df = pd.read_csv(path, header=None, skiprows=1, names=col_names)\n",
    "            \n",
    "        df = pd.concat([df, current_df])\n",
    "\n",
    "# Rajout un index\n",
    "df.insert(0, \"Id\", list(range(1, len(df) + 1)))"
   ]
  },
  {
   "cell_type": "markdown",
   "metadata": {},
   "source": [
    "## 1.2 - Data cleaning of the raw data"
   ]
  },
  {
   "cell_type": "code",
   "execution_count": 4,
   "metadata": {},
   "outputs": [
    {
     "data": {
      "text/html": [
       "<div>\n",
       "<style scoped>\n",
       "    .dataframe tbody tr th:only-of-type {\n",
       "        vertical-align: middle;\n",
       "    }\n",
       "\n",
       "    .dataframe tbody tr th {\n",
       "        vertical-align: top;\n",
       "    }\n",
       "\n",
       "    .dataframe thead th {\n",
       "        text-align: right;\n",
       "    }\n",
       "</style>\n",
       "<table border=\"1\" class=\"dataframe\">\n",
       "  <thead>\n",
       "    <tr style=\"text-align: right;\">\n",
       "      <th></th>\n",
       "      <th>Id</th>\n",
       "      <th>EmployeeName</th>\n",
       "      <th>JobTitle</th>\n",
       "      <th>BasePay</th>\n",
       "      <th>OvertimePay</th>\n",
       "      <th>OtherPay</th>\n",
       "      <th>Benefits</th>\n",
       "      <th>TotalPay</th>\n",
       "      <th>PensionDebt</th>\n",
       "      <th>TotalPayBenefits</th>\n",
       "      <th>Year</th>\n",
       "      <th>Notes</th>\n",
       "      <th>Agency</th>\n",
       "      <th>Status</th>\n",
       "    </tr>\n",
       "  </thead>\n",
       "  <tbody>\n",
       "    <tr>\n",
       "      <th>0</th>\n",
       "      <td>1</td>\n",
       "      <td>NATHANIEL FORD</td>\n",
       "      <td>GENERAL MANAGER-METROPOLITAN TRANSIT AUTHORITY</td>\n",
       "      <td>167411.18</td>\n",
       "      <td>0.00</td>\n",
       "      <td>400184.25</td>\n",
       "      <td>0.0</td>\n",
       "      <td>567595.43</td>\n",
       "      <td>NaN</td>\n",
       "      <td>567595.43</td>\n",
       "      <td>2011</td>\n",
       "      <td>NaN</td>\n",
       "      <td>San Francisco</td>\n",
       "      <td>NaN</td>\n",
       "    </tr>\n",
       "    <tr>\n",
       "      <th>1</th>\n",
       "      <td>2</td>\n",
       "      <td>GARY JIMENEZ</td>\n",
       "      <td>CAPTAIN III (POLICE DEPARTMENT)</td>\n",
       "      <td>155966.02</td>\n",
       "      <td>245131.88</td>\n",
       "      <td>137811.38</td>\n",
       "      <td>0.0</td>\n",
       "      <td>538909.28</td>\n",
       "      <td>NaN</td>\n",
       "      <td>538909.28</td>\n",
       "      <td>2011</td>\n",
       "      <td>NaN</td>\n",
       "      <td>San Francisco</td>\n",
       "      <td>NaN</td>\n",
       "    </tr>\n",
       "    <tr>\n",
       "      <th>2</th>\n",
       "      <td>3</td>\n",
       "      <td>ALBERT PARDINI</td>\n",
       "      <td>CAPTAIN III (POLICE DEPARTMENT)</td>\n",
       "      <td>212739.13</td>\n",
       "      <td>106088.18</td>\n",
       "      <td>16452.60</td>\n",
       "      <td>0.0</td>\n",
       "      <td>335279.91</td>\n",
       "      <td>NaN</td>\n",
       "      <td>335279.91</td>\n",
       "      <td>2011</td>\n",
       "      <td>NaN</td>\n",
       "      <td>San Francisco</td>\n",
       "      <td>NaN</td>\n",
       "    </tr>\n",
       "    <tr>\n",
       "      <th>3</th>\n",
       "      <td>4</td>\n",
       "      <td>CHRISTOPHER CHONG</td>\n",
       "      <td>WIRE ROPE CABLE MAINTENANCE MECHANIC</td>\n",
       "      <td>77916.00</td>\n",
       "      <td>56120.71</td>\n",
       "      <td>198306.90</td>\n",
       "      <td>0.0</td>\n",
       "      <td>332343.61</td>\n",
       "      <td>NaN</td>\n",
       "      <td>332343.61</td>\n",
       "      <td>2011</td>\n",
       "      <td>NaN</td>\n",
       "      <td>San Francisco</td>\n",
       "      <td>NaN</td>\n",
       "    </tr>\n",
       "    <tr>\n",
       "      <th>4</th>\n",
       "      <td>5</td>\n",
       "      <td>PATRICK GARDNER</td>\n",
       "      <td>DEPUTY CHIEF OF DEPARTMENT,(FIRE DEPARTMENT)</td>\n",
       "      <td>134401.60</td>\n",
       "      <td>9737.00</td>\n",
       "      <td>182234.59</td>\n",
       "      <td>0.0</td>\n",
       "      <td>326373.19</td>\n",
       "      <td>NaN</td>\n",
       "      <td>326373.19</td>\n",
       "      <td>2011</td>\n",
       "      <td>NaN</td>\n",
       "      <td>San Francisco</td>\n",
       "      <td>NaN</td>\n",
       "    </tr>\n",
       "  </tbody>\n",
       "</table>\n",
       "</div>"
      ],
      "text/plain": [
       "   Id       EmployeeName                                        JobTitle  \\\n",
       "0   1     NATHANIEL FORD  GENERAL MANAGER-METROPOLITAN TRANSIT AUTHORITY   \n",
       "1   2       GARY JIMENEZ                 CAPTAIN III (POLICE DEPARTMENT)   \n",
       "2   3     ALBERT PARDINI                 CAPTAIN III (POLICE DEPARTMENT)   \n",
       "3   4  CHRISTOPHER CHONG            WIRE ROPE CABLE MAINTENANCE MECHANIC   \n",
       "4   5    PATRICK GARDNER    DEPUTY CHIEF OF DEPARTMENT,(FIRE DEPARTMENT)   \n",
       "\n",
       "     BasePay  OvertimePay   OtherPay  Benefits   TotalPay  PensionDebt  \\\n",
       "0  167411.18         0.00  400184.25       0.0  567595.43          NaN   \n",
       "1  155966.02    245131.88  137811.38       0.0  538909.28          NaN   \n",
       "2  212739.13    106088.18   16452.60       0.0  335279.91          NaN   \n",
       "3   77916.00     56120.71  198306.90       0.0  332343.61          NaN   \n",
       "4  134401.60      9737.00  182234.59       0.0  326373.19          NaN   \n",
       "\n",
       "   TotalPayBenefits  Year  Notes         Agency Status  \n",
       "0         567595.43  2011    NaN  San Francisco    NaN  \n",
       "1         538909.28  2011    NaN  San Francisco    NaN  \n",
       "2         335279.91  2011    NaN  San Francisco    NaN  \n",
       "3         332343.61  2011    NaN  San Francisco    NaN  \n",
       "4         326373.19  2011    NaN  San Francisco    NaN  "
      ]
     },
     "execution_count": 4,
     "metadata": {},
     "output_type": "execute_result"
    }
   ],
   "source": [
    "#df = pd.read_csv(\"./assets/data_warehouse/salaries.csv\")\n",
    "df.head()"
   ]
  },
  {
   "cell_type": "code",
   "execution_count": 5,
   "metadata": {},
   "outputs": [
    {
     "data": {
      "text/html": [
       "<div>\n",
       "<style scoped>\n",
       "    .dataframe tbody tr th:only-of-type {\n",
       "        vertical-align: middle;\n",
       "    }\n",
       "\n",
       "    .dataframe tbody tr th {\n",
       "        vertical-align: top;\n",
       "    }\n",
       "\n",
       "    .dataframe thead th {\n",
       "        text-align: right;\n",
       "    }\n",
       "</style>\n",
       "<table border=\"1\" class=\"dataframe\">\n",
       "  <thead>\n",
       "    <tr style=\"text-align: right;\">\n",
       "      <th></th>\n",
       "      <th>Id</th>\n",
       "      <th>EmployeeName</th>\n",
       "      <th>JobTitle</th>\n",
       "      <th>BasePay</th>\n",
       "      <th>OvertimePay</th>\n",
       "      <th>OtherPay</th>\n",
       "      <th>Benefits</th>\n",
       "      <th>TotalPay</th>\n",
       "      <th>PensionDebt</th>\n",
       "      <th>TotalPayBenefits</th>\n",
       "      <th>Year</th>\n",
       "      <th>Notes</th>\n",
       "      <th>Agency</th>\n",
       "      <th>Status</th>\n",
       "    </tr>\n",
       "  </thead>\n",
       "  <tbody>\n",
       "    <tr>\n",
       "      <th>count</th>\n",
       "      <td>478960.000000</td>\n",
       "      <td>478960</td>\n",
       "      <td>478960</td>\n",
       "      <td>478960.000000</td>\n",
       "      <td>478960.000000</td>\n",
       "      <td>478960.000000</td>\n",
       "      <td>478960.000000</td>\n",
       "      <td>478960.000000</td>\n",
       "      <td>121553.000000</td>\n",
       "      <td>478960.000000</td>\n",
       "      <td>478960.000000</td>\n",
       "      <td>0.0</td>\n",
       "      <td>478960</td>\n",
       "      <td>286515</td>\n",
       "    </tr>\n",
       "    <tr>\n",
       "      <th>unique</th>\n",
       "      <td>NaN</td>\n",
       "      <td>144814</td>\n",
       "      <td>2539</td>\n",
       "      <td>NaN</td>\n",
       "      <td>NaN</td>\n",
       "      <td>NaN</td>\n",
       "      <td>NaN</td>\n",
       "      <td>NaN</td>\n",
       "      <td>NaN</td>\n",
       "      <td>NaN</td>\n",
       "      <td>NaN</td>\n",
       "      <td>NaN</td>\n",
       "      <td>1</td>\n",
       "      <td>2</td>\n",
       "    </tr>\n",
       "    <tr>\n",
       "      <th>top</th>\n",
       "      <td>NaN</td>\n",
       "      <td>Kevin Lee</td>\n",
       "      <td>Transit Operator</td>\n",
       "      <td>NaN</td>\n",
       "      <td>NaN</td>\n",
       "      <td>NaN</td>\n",
       "      <td>NaN</td>\n",
       "      <td>NaN</td>\n",
       "      <td>NaN</td>\n",
       "      <td>NaN</td>\n",
       "      <td>NaN</td>\n",
       "      <td>NaN</td>\n",
       "      <td>San Francisco</td>\n",
       "      <td>FT</td>\n",
       "    </tr>\n",
       "    <tr>\n",
       "      <th>freq</th>\n",
       "      <td>NaN</td>\n",
       "      <td>51</td>\n",
       "      <td>28874</td>\n",
       "      <td>NaN</td>\n",
       "      <td>NaN</td>\n",
       "      <td>NaN</td>\n",
       "      <td>NaN</td>\n",
       "      <td>NaN</td>\n",
       "      <td>NaN</td>\n",
       "      <td>NaN</td>\n",
       "      <td>NaN</td>\n",
       "      <td>NaN</td>\n",
       "      <td>478960</td>\n",
       "      <td>190040</td>\n",
       "    </tr>\n",
       "    <tr>\n",
       "      <th>mean</th>\n",
       "      <td>239480.500000</td>\n",
       "      <td>NaN</td>\n",
       "      <td>NaN</td>\n",
       "      <td>75469.817047</td>\n",
       "      <td>6449.248849</td>\n",
       "      <td>3725.357381</td>\n",
       "      <td>25047.555482</td>\n",
       "      <td>85644.423277</td>\n",
       "      <td>459.950960</td>\n",
       "      <td>110808.707544</td>\n",
       "      <td>2016.649701</td>\n",
       "      <td>NaN</td>\n",
       "      <td>NaN</td>\n",
       "      <td>NaN</td>\n",
       "    </tr>\n",
       "    <tr>\n",
       "      <th>std</th>\n",
       "      <td>138263.986802</td>\n",
       "      <td>NaN</td>\n",
       "      <td>NaN</td>\n",
       "      <td>49744.859572</td>\n",
       "      <td>14962.917669</td>\n",
       "      <td>7673.620109</td>\n",
       "      <td>17586.150048</td>\n",
       "      <td>58617.365928</td>\n",
       "      <td>1617.708215</td>\n",
       "      <td>73828.224499</td>\n",
       "      <td>3.404724</td>\n",
       "      <td>NaN</td>\n",
       "      <td>NaN</td>\n",
       "      <td>NaN</td>\n",
       "    </tr>\n",
       "    <tr>\n",
       "      <th>min</th>\n",
       "      <td>1.000000</td>\n",
       "      <td>NaN</td>\n",
       "      <td>NaN</td>\n",
       "      <td>-9942.330000</td>\n",
       "      <td>-22453.280000</td>\n",
       "      <td>-7058.590000</td>\n",
       "      <td>-13939.420000</td>\n",
       "      <td>-618.130000</td>\n",
       "      <td>-1.140000</td>\n",
       "      <td>-3628.780000</td>\n",
       "      <td>2011.000000</td>\n",
       "      <td>NaN</td>\n",
       "      <td>NaN</td>\n",
       "      <td>NaN</td>\n",
       "    </tr>\n",
       "    <tr>\n",
       "      <th>25%</th>\n",
       "      <td>119740.750000</td>\n",
       "      <td>NaN</td>\n",
       "      <td>NaN</td>\n",
       "      <td>39682.085000</td>\n",
       "      <td>0.000000</td>\n",
       "      <td>0.000000</td>\n",
       "      <td>5883.845000</td>\n",
       "      <td>43499.947500</td>\n",
       "      <td>0.000000</td>\n",
       "      <td>55179.427500</td>\n",
       "      <td>2014.000000</td>\n",
       "      <td>NaN</td>\n",
       "      <td>NaN</td>\n",
       "      <td>NaN</td>\n",
       "    </tr>\n",
       "    <tr>\n",
       "      <th>50%</th>\n",
       "      <td>239480.500000</td>\n",
       "      <td>NaN</td>\n",
       "      <td>NaN</td>\n",
       "      <td>73161.025000</td>\n",
       "      <td>4.000000</td>\n",
       "      <td>776.800000</td>\n",
       "      <td>29050.940000</td>\n",
       "      <td>81116.020000</td>\n",
       "      <td>0.000000</td>\n",
       "      <td>108797.740000</td>\n",
       "      <td>2017.000000</td>\n",
       "      <td>NaN</td>\n",
       "      <td>NaN</td>\n",
       "      <td>NaN</td>\n",
       "    </tr>\n",
       "    <tr>\n",
       "      <th>75%</th>\n",
       "      <td>359220.250000</td>\n",
       "      <td>NaN</td>\n",
       "      <td>NaN</td>\n",
       "      <td>107167.102500</td>\n",
       "      <td>5801.395000</td>\n",
       "      <td>4312.050000</td>\n",
       "      <td>36926.007500</td>\n",
       "      <td>120376.735000</td>\n",
       "      <td>0.000000</td>\n",
       "      <td>155681.512500</td>\n",
       "      <td>2020.000000</td>\n",
       "      <td>NaN</td>\n",
       "      <td>NaN</td>\n",
       "      <td>NaN</td>\n",
       "    </tr>\n",
       "    <tr>\n",
       "      <th>max</th>\n",
       "      <td>478960.000000</td>\n",
       "      <td>NaN</td>\n",
       "      <td>NaN</td>\n",
       "      <td>620352.770000</td>\n",
       "      <td>374502.760000</td>\n",
       "      <td>400184.250000</td>\n",
       "      <td>189815.970000</td>\n",
       "      <td>620352.770000</td>\n",
       "      <td>27012.730000</td>\n",
       "      <td>763320.580000</td>\n",
       "      <td>2022.000000</td>\n",
       "      <td>NaN</td>\n",
       "      <td>NaN</td>\n",
       "      <td>NaN</td>\n",
       "    </tr>\n",
       "  </tbody>\n",
       "</table>\n",
       "</div>"
      ],
      "text/plain": [
       "                   Id EmployeeName          JobTitle        BasePay  \\\n",
       "count   478960.000000       478960            478960  478960.000000   \n",
       "unique            NaN       144814              2539            NaN   \n",
       "top               NaN    Kevin Lee  Transit Operator            NaN   \n",
       "freq              NaN           51             28874            NaN   \n",
       "mean    239480.500000          NaN               NaN   75469.817047   \n",
       "std     138263.986802          NaN               NaN   49744.859572   \n",
       "min          1.000000          NaN               NaN   -9942.330000   \n",
       "25%     119740.750000          NaN               NaN   39682.085000   \n",
       "50%     239480.500000          NaN               NaN   73161.025000   \n",
       "75%     359220.250000          NaN               NaN  107167.102500   \n",
       "max     478960.000000          NaN               NaN  620352.770000   \n",
       "\n",
       "          OvertimePay       OtherPay       Benefits       TotalPay  \\\n",
       "count   478960.000000  478960.000000  478960.000000  478960.000000   \n",
       "unique            NaN            NaN            NaN            NaN   \n",
       "top               NaN            NaN            NaN            NaN   \n",
       "freq              NaN            NaN            NaN            NaN   \n",
       "mean      6449.248849    3725.357381   25047.555482   85644.423277   \n",
       "std      14962.917669    7673.620109   17586.150048   58617.365928   \n",
       "min     -22453.280000   -7058.590000  -13939.420000    -618.130000   \n",
       "25%          0.000000       0.000000    5883.845000   43499.947500   \n",
       "50%          4.000000     776.800000   29050.940000   81116.020000   \n",
       "75%       5801.395000    4312.050000   36926.007500  120376.735000   \n",
       "max     374502.760000  400184.250000  189815.970000  620352.770000   \n",
       "\n",
       "          PensionDebt  TotalPayBenefits           Year  Notes         Agency  \\\n",
       "count   121553.000000     478960.000000  478960.000000    0.0         478960   \n",
       "unique            NaN               NaN            NaN    NaN              1   \n",
       "top               NaN               NaN            NaN    NaN  San Francisco   \n",
       "freq              NaN               NaN            NaN    NaN         478960   \n",
       "mean       459.950960     110808.707544    2016.649701    NaN            NaN   \n",
       "std       1617.708215      73828.224499       3.404724    NaN            NaN   \n",
       "min         -1.140000      -3628.780000    2011.000000    NaN            NaN   \n",
       "25%          0.000000      55179.427500    2014.000000    NaN            NaN   \n",
       "50%          0.000000     108797.740000    2017.000000    NaN            NaN   \n",
       "75%          0.000000     155681.512500    2020.000000    NaN            NaN   \n",
       "max      27012.730000     763320.580000    2022.000000    NaN            NaN   \n",
       "\n",
       "        Status  \n",
       "count   286515  \n",
       "unique       2  \n",
       "top         FT  \n",
       "freq    190040  \n",
       "mean       NaN  \n",
       "std        NaN  \n",
       "min        NaN  \n",
       "25%        NaN  \n",
       "50%        NaN  \n",
       "75%        NaN  \n",
       "max        NaN  "
      ]
     },
     "execution_count": 5,
     "metadata": {},
     "output_type": "execute_result"
    }
   ],
   "source": [
    "df.describe(include=\"all\")"
   ]
  },
  {
   "cell_type": "code",
   "execution_count": 6,
   "metadata": {},
   "outputs": [
    {
     "name": "stdout",
     "output_type": "stream",
     "text": [
      "<class 'pandas.core.frame.DataFrame'>\n",
      "Index: 478960 entries, 0 to 40902\n",
      "Data columns (total 14 columns):\n",
      " #   Column            Non-Null Count   Dtype  \n",
      "---  ------            --------------   -----  \n",
      " 0   Id                478960 non-null  int64  \n",
      " 1   EmployeeName      478960 non-null  object \n",
      " 2   JobTitle          478960 non-null  object \n",
      " 3   BasePay           478960 non-null  float64\n",
      " 4   OvertimePay       478960 non-null  float64\n",
      " 5   OtherPay          478960 non-null  float64\n",
      " 6   Benefits          478960 non-null  float64\n",
      " 7   TotalPay          478960 non-null  float64\n",
      " 8   PensionDebt       121553 non-null  float64\n",
      " 9   TotalPayBenefits  478960 non-null  float64\n",
      " 10  Year              478960 non-null  int64  \n",
      " 11  Notes             0 non-null       float64\n",
      " 12  Agency            478960 non-null  object \n",
      " 13  Status            286515 non-null  object \n",
      "dtypes: float64(8), int64(2), object(4)\n",
      "memory usage: 54.8+ MB\n"
     ]
    }
   ],
   "source": [
    "df.info()"
   ]
  },
  {
   "cell_type": "code",
   "execution_count": 7,
   "metadata": {},
   "outputs": [
    {
     "data": {
      "text/plain": [
       "Id                    0.000000\n",
       "EmployeeName          0.000000\n",
       "JobTitle              0.000000\n",
       "BasePay               0.000000\n",
       "OvertimePay           0.000000\n",
       "OtherPay              0.000000\n",
       "Benefits              0.000000\n",
       "TotalPay              0.000000\n",
       "PensionDebt          74.621472\n",
       "TotalPayBenefits      0.000000\n",
       "Year                  0.000000\n",
       "Notes               100.000000\n",
       "Agency                0.000000\n",
       "Status               40.179764\n",
       "dtype: float64"
      ]
     },
     "execution_count": 7,
     "metadata": {},
     "output_type": "execute_result"
    }
   ],
   "source": [
    "df.isna().sum() / len(df) * 100"
   ]
  },
  {
   "cell_type": "code",
   "execution_count": 8,
   "metadata": {},
   "outputs": [
    {
     "data": {
      "image/png": "[encoded data removed]",
      "text/plain": [
       "<Figure size 1500x927.07 with 1 Axes>"
      ]
     },
     "metadata": {},
     "output_type": "display_data"
    }
   ],
   "source": [
    "plt.figure(figsize=(15, 15/1.618))\n",
    "plt.title(\"White=NAN, Black=Data\")\n",
    "_ = sns.heatmap(df.isna(), cbar=False)"
   ]
  },
  {
   "cell_type": "markdown",
   "metadata": {},
   "source": [
    "### Comments\n",
    "* **Notes** should be removed (what can we do with 100% of missing data?)\n",
    "* Should we remove **Status** ? What can we expect with 40% of missing data?\n",
    "* **PensionDebt** should be removed (what can we do with 74% of missing data?)"
   ]
  },
  {
   "cell_type": "markdown",
   "metadata": {},
   "source": [
    "### 1.2.2 - What is the content of the Status feature ?"
   ]
  },
  {
   "cell_type": "code",
   "execution_count": 9,
   "metadata": {},
   "outputs": [
    {
     "data": {
      "text/plain": [
       "Status\n",
       "NaN    192445\n",
       "FT     190040\n",
       "PT      96475\n",
       "Name: count, dtype: int64"
      ]
     },
     "execution_count": 9,
     "metadata": {},
     "output_type": "execute_result"
    }
   ],
   "source": [
    "df[\"Status\"].value_counts(dropna=False)"
   ]
  },
  {
   "cell_type": "markdown",
   "metadata": {},
   "source": [
    "* Since we don't know how to replace/fill the missing values\n",
    "\n",
    "#### `Decision` \n",
    "We decide to remove **Status**"
   ]
  },
  {
   "cell_type": "markdown",
   "metadata": {},
   "source": [
    "### 1.2.3 - What is the content of PensionDebt ?"
   ]
  },
  {
   "cell_type": "code",
   "execution_count": 10,
   "metadata": {},
   "outputs": [
    {
     "data": {
      "text/plain": [
       "PensionDebt\n",
       " NaN        357407\n",
       " 0.00       109683\n",
       " 5171.67        96\n",
       " 3591.35        94\n",
       " 5180.42        89\n",
       "             ...  \n",
       " 3635.23         1\n",
       " 3585.84         1\n",
       " 3785.22         1\n",
       " 3386.95         1\n",
       "-1.14            1\n",
       "Name: count, Length: 9535, dtype: int64"
      ]
     },
     "execution_count": 10,
     "metadata": {},
     "output_type": "execute_result"
    }
   ],
   "source": [
    "df[\"PensionDebt\"].value_counts(dropna=False)"
   ]
  },
  {
   "cell_type": "markdown",
   "metadata": {},
   "source": [
    "Is PensionDebt important ?\n",
    "\n",
    "* It is available since 2020\n",
    "* Is is used in the evaluation of Total Pay & Benefits\n",
    "\n",
    "```\n",
    "Total Pay = Base Pay + Overtime Pay + Other Pay \n",
    "Total Pay & Benefits = Total Pay + Benefits + Pension Debt \n",
    "```\n",
    "\n",
    "* If we remove PensionDebt we have to recalcultate Total Pay & Benefits on the corresponding line\n",
    "* We would be modifying the data \n",
    "* However the Total Pay & Benefits before 2020 are correct \n",
    "\n",
    "#### `Decision`\n",
    "* Keep the **PensionDebt** feature"
   ]
  },
  {
   "cell_type": "markdown",
   "metadata": {},
   "source": [
    "### 1.2.4 - Removal of Notes & Status"
   ]
  },
  {
   "cell_type": "code",
   "execution_count": 11,
   "metadata": {},
   "outputs": [],
   "source": [
    "df.drop([\"Notes\", \"Status\"], axis=1, inplace=True)           # axis 1 = column"
   ]
  },
  {
   "cell_type": "code",
   "execution_count": 12,
   "metadata": {},
   "outputs": [
    {
     "data": {
      "text/plain": [
       "Id                   0.000000\n",
       "EmployeeName         0.000000\n",
       "JobTitle             0.000000\n",
       "BasePay              0.000000\n",
       "OvertimePay          0.000000\n",
       "OtherPay             0.000000\n",
       "Benefits             0.000000\n",
       "TotalPay             0.000000\n",
       "PensionDebt         74.621472\n",
       "TotalPayBenefits     0.000000\n",
       "Year                 0.000000\n",
       "Agency               0.000000\n",
       "dtype: float64"
      ]
     },
     "execution_count": 12,
     "metadata": {},
     "output_type": "execute_result"
    }
   ],
   "source": [
    "df.isna().sum() / len(df) * 100"
   ]
  },
  {
   "cell_type": "code",
   "execution_count": 13,
   "metadata": {},
   "outputs": [
    {
     "data": {
      "image/png": "[encoded data removed]",
      "text/plain": [
       "<Figure size 1500x927.07 with 1 Axes>"
      ]
     },
     "metadata": {},
     "output_type": "display_data"
    }
   ],
   "source": [
    "plt.figure(figsize=(15, 15/1.618))\n",
    "plt.title(\"White=NAN, Black=Data\")\n",
    "_ = sns.heatmap(df.isna(), cbar=False)"
   ]
  },
  {
   "cell_type": "code",
   "execution_count": 14,
   "metadata": {},
   "outputs": [
    {
     "data": {
      "text/plain": [
       "(478960, 12)"
      ]
     },
     "execution_count": 14,
     "metadata": {},
     "output_type": "execute_result"
    }
   ],
   "source": [
    "df.shape"
   ]
  },
  {
   "cell_type": "code",
   "execution_count": 15,
   "metadata": {},
   "outputs": [
    {
     "name": "stdout",
     "output_type": "stream",
     "text": [
      "<class 'pandas.core.frame.DataFrame'>\n",
      "Index: 478960 entries, 0 to 40902\n",
      "Data columns (total 12 columns):\n",
      " #   Column            Non-Null Count   Dtype  \n",
      "---  ------            --------------   -----  \n",
      " 0   Id                478960 non-null  int64  \n",
      " 1   EmployeeName      478960 non-null  object \n",
      " 2   JobTitle          478960 non-null  object \n",
      " 3   BasePay           478960 non-null  float64\n",
      " 4   OvertimePay       478960 non-null  float64\n",
      " 5   OtherPay          478960 non-null  float64\n",
      " 6   Benefits          478960 non-null  float64\n",
      " 7   TotalPay          478960 non-null  float64\n",
      " 8   PensionDebt       121553 non-null  float64\n",
      " 9   TotalPayBenefits  478960 non-null  float64\n",
      " 10  Year              478960 non-null  int64  \n",
      " 11  Agency            478960 non-null  object \n",
      "dtypes: float64(7), int64(2), object(3)\n",
      "memory usage: 47.5+ MB\n"
     ]
    }
   ],
   "source": [
    "df.info()"
   ]
  },
  {
   "cell_type": "markdown",
   "metadata": {},
   "source": [
    "### 1.2.5 - Is there any TotalPayBenefits equal to 0 ?\n",
    "\n",
    "* If yes should we remove these lines or not ?"
   ]
  },
  {
   "cell_type": "code",
   "execution_count": 16,
   "metadata": {},
   "outputs": [
    {
     "data": {
      "text/plain": [
       "TotalPayBenefits\n",
       "0.00         2447\n",
       "7959.18       263\n",
       "250.00         91\n",
       "1196.00        58\n",
       "123290.70      56\n",
       "             ... \n",
       "128909.91       1\n",
       "128916.15       1\n",
       "128916.80       1\n",
       "128916.88       1\n",
       "2.46            1\n",
       "Name: count, Length: 453533, dtype: int64"
      ]
     },
     "execution_count": 16,
     "metadata": {},
     "output_type": "execute_result"
    }
   ],
   "source": [
    "df[\"TotalPayBenefits\"].value_counts(dropna=False)"
   ]
  },
  {
   "cell_type": "markdown",
   "metadata": {},
   "source": [
    "There are 2 500 samples overs 480 000.\n",
    "\n",
    "#### `Decision`\n",
    "* At this stage we keep the samples with TotalPayBenefits equal to 0\n",
    "* We will let the rest of the team know about it"
   ]
  },
  {
   "cell_type": "markdown",
   "metadata": {},
   "source": [
    "### 1.2.6 Summary\n",
    "* The csv files have been merge into a single file\n",
    "* A minimum of cleaning has been applied\n",
    "* The data frame is ready for saving in the in the Data Warehouse directory"
   ]
  },
  {
   "cell_type": "markdown",
   "metadata": {},
   "source": [
    "## 1.3 - Saving the merged file in the Data Warehouse"
   ]
  },
  {
   "cell_type": "markdown",
   "metadata": {},
   "source": [
    "### 1.3.1 - CSV file format"
   ]
  },
  {
   "cell_type": "code",
   "execution_count": 17,
   "metadata": {},
   "outputs": [],
   "source": [
    "directory_out = \"/assets/data_warehouse/\"\n",
    "name_out = \"salaries.csv\"\n",
    "\n",
    "# __file__ is NOT defined in Jupyter notebook\n",
    "# current_dir = Path(__file__).parent\n",
    "current_dir = os.path.abspath(\"\")\n",
    "filename_out = current_dir + directory_out + name_out\n",
    "\n",
    "filepath = Path(filename_out)\n",
    "df.to_csv(filepath, index=False)"
   ]
  },
  {
   "cell_type": "markdown",
   "metadata": {},
   "source": [
    "### 1.3.2 - Creating a .xslx version of the clean csv file\n",
    "\n",
    "* It does'nt work as expected\n",
    "* Slow, very slow 2 min.\n",
    "* At the end the .xslx file is empty\n",
    "* You are asked to connect to \"**d.docs.live.net**\" to open it (???)\n",
    "\n",
    "![Alt text](assets/images/d_docs_live_net.png)\n",
    "\n",
    "### `Decision`\n",
    "* Without any further and strong request from other departments for such file format we will NOT deliver .xlsx file format in the data warehouse\n"
   ]
  },
  {
   "cell_type": "code",
   "execution_count": 18,
   "metadata": {},
   "outputs": [],
   "source": [
    "# xlsxwriter must be installed otherwise it takes way too much time\n",
    "\n",
    "# Uncomment the lines below\n",
    "# directory_out = \"/assets/data_warehouse/\"\n",
    "# name_out = \"salaries.xlsx\"\n",
    "# \n",
    "# current_dir = os.path.abspath(\"\")\n",
    "# filename_out = current_dir + directory_out + name_out\n",
    "# \n",
    "# filepath = Path(filename_out)\n",
    "# \n",
    "# MyXlsxWriter = pd.ExcelWriter(filepath, engine = 'xlsxwriter')\n",
    "# df.to_excel(MyXlsxWriter, float_format = '%.2f')"
   ]
  },
  {
   "cell_type": "markdown",
   "metadata": {},
   "source": [
    "### 1.3.3 - Creating an sqlite version of the clean csv file\n",
    "\n",
    "#### 1.3.3.1 - Saving the cleaned file without header in the Data Warehouse\n",
    "* The code below generate a csv file wichi will consumed by the ./importer.sql"
   ]
  },
  {
   "cell_type": "code",
   "execution_count": 19,
   "metadata": {},
   "outputs": [],
   "source": [
    "directory_out = \"/assets/data_warehouse/\"\n",
    "name_out = \"salaries_no_header.csv\"\n",
    "\n",
    "# __file__ is NOT defined in Jupyter notebook\n",
    "# current_dir = Path(__file__).parent\n",
    "current_dir = os.path.abspath(\"\")\n",
    "filename_out = current_dir + directory_out + name_out\n",
    "\n",
    "filepath = Path(filename_out)\n",
    "df.to_csv(filepath, index=False, header=False)"
   ]
  },
  {
   "cell_type": "markdown",
   "metadata": {},
   "source": [
    "### 1.3.3.2 - Creating a sqlite version of the csv file\n",
    "\n",
    "In order to do so, simply follow the instructions herebelow :\n",
    "\n",
    "1. Open powershell in the Project/assets/sqlite_converter directory\n",
    "1. sqlite3.exe and importer.sql files should be there\n",
    "1. Enter the folowing commands :\n",
    "```\n",
    "./sqlite3.exe \n",
    "sqlite> .read ./importer.sql\n",
    "sqlite> .quit\n",
    "```\n",
    "\n",
    "The importer.sql is in charge of generating a Salaries.sqlite in the ./data_warehouse subdirectorie.\n",
    "\n",
    "Here is the content of importer.sql\n",
    "\n",
    "```sql\n",
    ".mode csv\n",
    ".separator \",\"\n",
    "\n",
    "CREATE TABLE salaries (\n",
    "    Id INTEGER PRIMARY KEY,\n",
    "    EmployeeName TEXT,\n",
    "    JobTitle TEXT,\n",
    "    BasePay NUMERIC,\n",
    "    OvertimePay NUMERIC,\n",
    "    OtherPay NUMERIC,\n",
    "    Benefits NUMERIC,\n",
    "    TotalPay NUMERIC,\n",
    "    PensionDebt NUMERIC,\n",
    "    TotalPayBenefits NUMERIC,\n",
    "    Year INTEGER,\n",
    "    Agency TEXT);\n",
    "\n",
    ".import \"../data_warehouse/salaries_no_header.csv\" salaries\n",
    ".save \"../data_warehouse/salaries.sqlite\"\n",
    "```\n",
    "\n",
    "\n",
    "At this stage a salaries.sqlite file is available in the Project/assets/data_warehouse directory\n",
    "* It comes with an `Id` which is used as a primary key\n",
    "* Data types are OK\n",
    "\n",
    "![Alt text](assets/images/sqlite_in_vscode.png)\n",
    "\n",
    "The salaries.sqlite file can be easily used in VSCode for example. See below an example : \n",
    "\n",
    "![Alt text](assets/images/select_in_vscode.png)"
   ]
  },
  {
   "cell_type": "markdown",
   "metadata": {},
   "source": [
    "### 1.3.4 Update of the Data Warehouse on Google Cloud\n",
    "\n",
    "* A project has been created on Google Cloud (prj-sf-wages)\n",
    "* It includes a bucket with the ./data_lake and ./data_warehouse\n",
    "* A copy of the files is available there\n",
    "\n",
    "![Alt text](assets/images/bucket.png)\n",
    "\n",
    "A dataset (Big Query) has been created based on the salaries.csv file\n",
    "\n",
    "![Alt text](assets/images/dataset.png)\n",
    "\n",
    "The table is available\n",
    "\n",
    "![Alt text](assets/images/table_on_cloud.png)\n",
    "\n",
    "SQL statement can be used on the dataset\n",
    "\n",
    "![Alt text](assets/images/query_cloud.png)\n",
    "\n"
   ]
  },
  {
   "cell_type": "markdown",
   "metadata": {},
   "source": [
    "### 1.3.5 Summary\n",
    "* The csv file is merged and a minimum of cleaning has been applied to the raw data \n",
    "* It is available in the local data wharehouse directorie\n",
    "* A copy of the csv file exists as a sqlite database\n",
    "    * It can be used directly in VSCode\n",
    "* If needed one can generate a .xlsx version of the csv file in the data warehouse directorie\n",
    "* Both files can be shared with others for further analysis\n",
    "* The respectives directories exist on the Google Cloud project have been updated (manual process so far)"
   ]
  },
  {
   "cell_type": "markdown",
   "metadata": {},
   "source": []
  },
  {
   "cell_type": "markdown",
   "metadata": {},
   "source": [
    "## TO BE DELETED"
   ]
  },
  {
   "cell_type": "code",
   "execution_count": 20,
   "metadata": {},
   "outputs": [
    {
     "name": "stdout",
     "output_type": "stream",
     "text": [
      "san-francisco-2011.csv : 36159 36159\n",
      "san-francisco-2012.csv : 36766 72925\n",
      "san-francisco-2013.csv : 37606 110531\n",
      "san-francisco-2014.csv : 38119 148650\n",
      "san-francisco-2015.csv : 39387 188037\n",
      "san-francisco-2016.csv : 40970 229007\n",
      "san-francisco-2017.csv : 41566 270573\n",
      "san-francisco-2018.csv : 42309 312882\n",
      "san-francisco-2019.csv : 44525 357407\n",
      "san-francisco-2020.csv : 40944 398351\n",
      "san-francisco-2021.csv : 39706 438057\n",
      "san-francisco-2022.csv : 40903 478960\n"
     ]
    }
   ],
   "source": [
    "# Sanity check\n",
    "# Count the number of lines of the final csv file\n",
    "directory_in = \"./assets/data_lake\"\n",
    "total_len=0\n",
    "\n",
    "for path in Path(directory_in).iterdir():\n",
    "    if path.is_file() and path.suffix == \".csv\":\n",
    "      current_df = pd.read_csv(path)\n",
    "      current_len = len(current_df) \n",
    "      total_len += current_len\n",
    "      print (f\"{path.name} : {current_len} {total_len}\") \n"
   ]
  },
  {
   "cell_type": "code",
   "execution_count": 21,
   "metadata": {},
   "outputs": [],
   "source": [
    "# import os\n",
    "# import numpy as np\n",
    "# import pandas as pd\n",
    "\n",
    "# data = pd.DataFrame()\n",
    "\n",
    "# col_names = [\"EmployeeName\",\n",
    "#              \"JobTitle\",\n",
    "#              \"BasePay\",\n",
    "#              \"OvertimePay\",\n",
    "#              \"OtherPay\",\n",
    "#              \"Benefits\",\n",
    "#              \"TotalPay\",\n",
    "#              \"TotalPayBenefits\",\n",
    "#              \"Year\",\n",
    "#              \"Notes\",\n",
    "#              \"Agency\"]\n",
    "\n",
    "\n",
    "# 2011 Employee Name,Job Title,Base Pay,Overtime Pay,Other Pay,Benefits,Total Pay,Pension Debt,Total Pay & Benefits,Year,Notes,Agency,Status\n",
    "# 2012 Employee Name,Job Title,Base Pay,Overtime Pay,Other Pay,Benefits,Total Pay,Pension Debt,Total Pay & Benefits,Year,Notes,Agency,Status\n",
    "# 2013 Employee Name,Job Title,Base Pay,Overtime Pay,Other Pay,Benefits,Total Pay,Pension Debt,Total Pay & Benefits,Year,Notes,Agency,Status\n",
    "# 2014 Employee Name,Job Title,Base Pay,Overtime Pay,Other Pay,Benefits,Total Pay,Pension Debt,Total Pay & Benefits,Year,Notes,Agency,Status\n",
    "# 2014 Employee Name,Job Title,Base Pay,Overtime Pay,Other Pay,Benefits,Total Pay,Pension Debt,Total Pay & Benefits,Year,Notes,Agency,Status\n",
    "# 2015 Employee Name,Job Title,Base Pay,Overtime Pay,Other Pay,Benefits,Total Pay,Pension Debt,Total Pay & Benefits,Year,Notes,Agency,Status\n",
    "# 2016 Employee Name,Job Title,Base Pay,Overtime Pay,Other Pay,Benefits,Total Pay,Pension Debt,Total Pay & Benefits,Year,Notes,Agency,Status\n",
    "# 2017 Employee Name,Job Title,Base Pay,Overtime Pay,Other Pay,Benefits,Total Pay,Pension Debt,Total Pay & Benefits,Year,Notes,Agency,Status\n",
    "# 2018 Employee Name,Job Title,Base Pay,Overtime Pay,Other Pay,Benefits,Total Pay,Pension Debt,Total Pay & Benefits,Year,Notes,Agency,Status\n",
    "# 2019 Employee Name,Job Title,Base Pay,Overtime Pay,Other Pay,Benefits,Total Pay,Pension Debt,Total Pay & Benefits,Year,Notes,Agency,Status\n",
    "# 2020 Employee Name,Job Title,Base Pay,Overtime Pay,Other Pay,Benefits,Total Pay,Pension Debt,Total Pay & Benefits,Year,Notes,Agency,Status\n",
    "# 2021 Employee Name,Job Title,Base Pay,Overtime Pay,Other Pay,Benefits,Total Pay,Pension Debt,Total Pay & Benefits,Year,Notes,Agency,Status\n",
    "# 2022 Employee Name,Job Title,Base Pay,Overtime Pay,Other Pay,Benefits,Total Pay,             Total Pay & Benefits,Year,Notes,Agency,Status\n",
    "\n",
    "\n",
    "# for year in range(2011, 2015):\n",
    "#     if year==2014:\n",
    "#         col_names = col_names + [\"Status\"]\n",
    "#     year_data = pd.read_csv(\"input/san-francisco-%d.csv\" % year,\n",
    "#                             header=None,\n",
    "#                             skiprows=1,\n",
    "#                             names=col_names)\n",
    "#     if year==2011:\n",
    "#         year_data[\"Benefits\"] = np.nan # originally \"Not Provided\"\n",
    "#     if year<2014:\n",
    "#         year_data.insert(year_data.shape[1], \"Status\", np.nan)\n",
    "#     data = pd.concat([data, year_data])\n",
    "\n",
    "# data.insert(0, \"Id\", list(range(1, len(data)+1)))\n",
    "# data.to_csv(\"output/Salaries.csv\", index=False)"
   ]
  },
  {
   "cell_type": "code",
   "execution_count": 22,
   "metadata": {},
   "outputs": [],
   "source": [
    "# import re\n",
    "# data = \"san-francisco-2012.csv\"\n",
    "# #MyRegex = r\"^.*20[0-9].*.csv\"\n",
    "# MyRegex = r\"20[0-9][0-9]\"\n",
    "\n",
    "# #Voir : https://www.w3schools.com/python/python_regex.asp\n",
    "# MyList = re.findall(MyRegex, data) \n",
    "# print(MyList)\n",
    "\n",
    "# Year = re.search(MyRegex, data)\n",
    "# if Year:\n",
    "#   print(int(Year.group()))\n",
    "# # print (bool(re.match(MyRegex,data))"
   ]
  },
  {
   "cell_type": "markdown",
   "metadata": {},
   "source": [
    "### TO DO\n",
    "* est ce qu'on peut importer dans sqlite en oubliant directement la première ligne du csv ?\n",
    "    * eviterait de générer un fichier csv sans en-tête\n",
    "    * risque de désynchronisation entre sql import et ce notebook \n",
    "* est ce qu'on peut appeler sqlite3.exe depuis un notebook ?\n",
    "    * pour convertir le fichier en .sqlite\n",
    "* ~~Déposer le csv sur Google Cloud~~\n",
    "    * ~~En faire un dataset interrogeable en SQL~~\n",
    "* ~~génération xlsx très très lente ? A vérifier~~\n",
    "* faudrait voir ces histoires de mise à jour automatique de Google Cloud \n",
    "~~Ré écrire ExtractYear avec une expression régulière~~\n",
    "* ~~Générer une version sqlite dans le data_warehouse~~\n",
    "* ~~Virer les colonnes qui servent à rien~~ \n",
    "* ~~Expliquer les choix~~\n",
    "* ~~Verifier qu'on a bien des nombres à virgule~~\n",
    "* ~~Comprendre~~\n",
    "```\n",
    "Total Pay = Base Pay + Overtime Pay + Other Pay \n",
    "Total Pay & Benefits = Total Pay + Benefits + Pension Debt \n",
    "```\n",
    "* ~~Sortir Pension Deb comme % de la ligne ?~~\n",
    "    * ~~Pas la peine car on le garde~~\n",
    "* ~~Si on supprime Pension_Debt faut il modifier Total pay et/ou Total Pay & benefit ?~~\n",
    "    * ~~Oui~~    \n",
    "* ~~Faire un mini test dans VSCode avec salaries.sqlite~~"
   ]
  }
 ],
 "metadata": {
  "kernelspec": {
   "display_name": "base",
   "language": "python",
   "name": "python3"
  },
  "language_info": {
   "codemirror_mode": {
    "name": "ipython",
    "version": 3
   },
   "file_extension": ".py",
   "mimetype": "text/x-python",
   "name": "python",
   "nbconvert_exporter": "python",
   "pygments_lexer": "ipython3",
   "version": "3.10.12"
  },
  "orig_nbformat": 4
 },
 "nbformat": 4,
 "nbformat_minor": 2
}
