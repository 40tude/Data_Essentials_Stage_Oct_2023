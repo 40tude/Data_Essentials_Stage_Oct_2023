{
 "cells": [
  {
   "cell_type": "code",
   "execution_count": 4,
   "metadata": {},
   "outputs": [],
   "source": [
    "import pandas as pd\n",
    "from sklearn.model_selection import train_test_split\n",
    "from sklearn.preprocessing import StandardScaler, OneHotEncoder\n",
    "from sklearn.compose import ColumnTransformer\n",
    "from sklearn.linear_model import LinearRegression\n",
    "import seaborn as sns\n",
    "import numpy as np \n",
    "import matplotlib.pyplot as plt"
   ]
  },
  {
   "cell_type": "markdown",
   "metadata": {},
   "source": [
    "## Step 1 - Preprocessing"
   ]
  },
  {
   "cell_type": "code",
   "execution_count": 5,
   "metadata": {},
   "outputs": [
    {
     "data": {
      "text/plain": [
       "JobTitle             object\n",
       "BasePay             float64\n",
       "OvertimePay         float64\n",
       "OtherPay            float64\n",
       "Benefits            float64\n",
       "TotalPay            float64\n",
       "PensionDebt         float64\n",
       "TotalPayBenefits    float64\n",
       "Year                  int64\n",
       "dtype: object"
      ]
     },
     "execution_count": 5,
     "metadata": {},
     "output_type": "execute_result"
    }
   ],
   "source": [
    "# Import & visualize dataset\n",
    "df = pd.read_csv(\"./assets/data_warehouse/salaries_4_model.csv\", delimiter=\";\", decimal=\",\")\n",
    "df.head() \n",
    "df.dtypes"
   ]
  },
  {
   "cell_type": "code",
   "execution_count": 6,
   "metadata": {},
   "outputs": [],
   "source": [
    "df1 = df[df[\"TotalPayBenefits\"] < 42500]\n",
    "df2 = df[df[\"TotalPayBenefits\"] >= 42500]"
   ]
  },
  {
   "cell_type": "markdown",
   "metadata": {},
   "source": [
    "### Comment about the code below \n",
    "* Rather than creating a function that would manage both the `df1` and `df2` subsets we simply duplicated the code (see `projet_3_modeling.ipynb`)\n",
    "* We know, this is error prone and not a best practice\n",
    "* Refactoring this part of the code is on the TO DO list however."
   ]
  },
  {
   "cell_type": "code",
   "execution_count": 7,
   "metadata": {},
   "outputs": [
    {
     "name": "stdout",
     "output_type": "stream",
     "text": [
      "                                  JobTitle   BasePay  OvertimePay  OtherPay  \\\n",
      "26377                            CUSTODIAN  39385.00         0.00   3113.52   \n",
      "26378                      GENERAL LABORER  42467.95         0.00      0.00   \n",
      "26379  MENTAL HEALTH REHABILITATION WORKER  41735.20       478.80    250.00   \n",
      "26380               PUBLIC SERVICE TRAINEE  42463.65         0.00      0.00   \n",
      "26381                  PHARMACY TECHNICIAN  39944.31      2483.91     28.19   \n",
      "\n",
      "       Benefits  TotalPay  PensionDebt  TotalPayBenefits  Year  \n",
      "26377       0.0  42498.52          0.0          42498.52  2011  \n",
      "26378       0.0  42467.95          0.0          42467.95  2011  \n",
      "26379       0.0  42464.00          0.0          42464.00  2011  \n",
      "26380       0.0  42463.65          0.0          42463.65  2011  \n",
      "26381       0.0  42456.41          0.0          42456.41  2011  \n",
      "                                         JobTitle    BasePay  OvertimePay  \\\n",
      "0  GENERAL MANAGER-METROPOLITAN TRANSIT AUTHORITY  167411.18         0.00   \n",
      "1                 CAPTAIN III (POLICE DEPARTMENT)  155966.02    245131.88   \n",
      "2                 CAPTAIN III (POLICE DEPARTMENT)  212739.13    106088.18   \n",
      "3            WIRE ROPE CABLE MAINTENANCE MECHANIC   77916.00     56120.71   \n",
      "4    DEPUTY CHIEF OF DEPARTMENT,(FIRE DEPARTMENT)  134401.60      9737.00   \n",
      "\n",
      "    OtherPay  Benefits   TotalPay  PensionDebt  TotalPayBenefits  Year  \n",
      "0  400184.25       0.0  567595.43          0.0         567595.43  2011  \n",
      "1  137811.38       0.0  538909.28          0.0         538909.28  2011  \n",
      "2   16452.60       0.0  335279.91          0.0         335279.91  2011  \n",
      "3  198306.90       0.0  332343.61          0.0         332343.61  2011  \n",
      "4  182234.59       0.0  326373.19          0.0         326373.19  2011  \n"
     ]
    }
   ],
   "source": [
    "print(df1.head())\n",
    "print(df2.head())"
   ]
  },
  {
   "cell_type": "code",
   "execution_count": 8,
   "metadata": {},
   "outputs": [
    {
     "name": "stdout",
     "output_type": "stream",
     "text": [
      "(101311, 9)\n",
      "(375202, 9)\n"
     ]
    }
   ],
   "source": [
    "print(df1.shape)\n",
    "print(df2.shape)"
   ]
  },
  {
   "cell_type": "code",
   "execution_count": 9,
   "metadata": {},
   "outputs": [
    {
     "name": "stdout",
     "output_type": "stream",
     "text": [
      "             JobTitle        BasePay    OvertimePay       OtherPay  \\\n",
      "count          101311  101311.000000  101311.000000  101311.000000   \n",
      "unique           1255            NaN            NaN            NaN   \n",
      "top     SPECIAL NURSE            NaN            NaN            NaN   \n",
      "freq            10202            NaN            NaN            NaN   \n",
      "mean              NaN   10712.641433     258.202960     752.660122   \n",
      "std               NaN    9477.626021     948.989481    2514.620091   \n",
      "min               NaN    -474.400000    -292.800000    -618.130000   \n",
      "25%               NaN    2529.280000       0.000000       0.000000   \n",
      "50%               NaN    8416.740000       0.000000      15.430000   \n",
      "75%               NaN   17121.650000       0.000000     384.435000   \n",
      "max               NaN   42467.950000   33176.650000   41766.140000   \n",
      "\n",
      "             Benefits       TotalPay    PensionDebt  TotalPayBenefits  \\\n",
      "count   101311.000000  101311.000000  101311.000000     101311.000000   \n",
      "unique            NaN            NaN            NaN               NaN   \n",
      "top               NaN            NaN            NaN               NaN   \n",
      "freq              NaN            NaN            NaN               NaN   \n",
      "mean      2318.289641   11723.504515       0.967218      14042.761374   \n",
      "std       3723.130627   10025.755097      23.289160      12082.426923   \n",
      "min      -3628.780000    -618.130000      -1.140000      -3628.780000   \n",
      "25%          2.365000    2993.545000       0.000000       3563.945000   \n",
      "50%        211.010000    9278.750000       0.000000      10677.080000   \n",
      "75%       3373.540000   18582.745000       0.000000      22290.645000   \n",
      "max      36735.770000   42498.520000    1487.590000      42499.860000   \n",
      "\n",
      "                 Year  \n",
      "count   101311.000000  \n",
      "unique            NaN  \n",
      "top               NaN  \n",
      "freq              NaN  \n",
      "mean      2016.118141  \n",
      "std          3.311333  \n",
      "min       2011.000000  \n",
      "25%       2013.000000  \n",
      "50%       2016.000000  \n",
      "75%       2019.000000  \n",
      "max       2022.000000  \n",
      "                JobTitle        BasePay    OvertimePay       OtherPay  \\\n",
      "count             375202  375202.000000  375202.000000  375202.000000   \n",
      "unique              1760            NaN            NaN            NaN   \n",
      "top     TRANSIT OPERATOR            NaN            NaN            NaN   \n",
      "freq               25714            NaN            NaN            NaN   \n",
      "mean                 NaN   93447.569993    8162.998675    4552.332934   \n",
      "std                  NaN   40520.905270   16492.488692    8384.534205   \n",
      "min                  NaN   -9942.330000  -22453.280000   -7058.590000   \n",
      "25%                  NaN   64525.620000       0.000000       0.000000   \n",
      "50%                  NaN   85784.545000     962.130000    1480.000000   \n",
      "75%                  NaN  116275.622500    9065.757500    5646.542500   \n",
      "max                  NaN  620352.770000  374502.760000  400184.250000   \n",
      "\n",
      "             Benefits       TotalPay    PensionDebt  TotalPayBenefits  \\\n",
      "count   375202.000000  375202.000000  375202.000000     375202.000000   \n",
      "unique            NaN            NaN            NaN               NaN   \n",
      "top               NaN            NaN            NaN               NaN   \n",
      "freq              NaN            NaN            NaN               NaN   \n",
      "mean     31348.204252  106162.901601     148.747686     137659.853540   \n",
      "std      14414.212007   49139.984600     945.554995      59908.933323   \n",
      "min     -13939.420000   12454.090000       0.000000      42501.330000   \n",
      "25%      25875.765000   70442.967500       0.000000      95297.440000   \n",
      "50%      32372.455000   95614.475000       0.000000     126421.245000   \n",
      "75%      39043.037500  132553.927500       0.000000     170368.315000   \n",
      "max     189815.970000  620352.770000   27012.730000     763320.580000   \n",
      "\n",
      "                 Year  \n",
      "count   375202.000000  \n",
      "unique            NaN  \n",
      "top               NaN  \n",
      "freq              NaN  \n",
      "mean      2016.762611  \n",
      "std          3.405423  \n",
      "min       2011.000000  \n",
      "25%       2014.000000  \n",
      "50%       2017.000000  \n",
      "75%       2020.000000  \n",
      "max       2022.000000  \n"
     ]
    }
   ],
   "source": [
    "# Describe dataset's main statistics\n",
    "print(df1.describe(include=\"all\"))\n",
    "print(df2.describe(include=\"all\"))"
   ]
  },
  {
   "cell_type": "code",
   "execution_count": 10,
   "metadata": {},
   "outputs": [
    {
     "name": "stdout",
     "output_type": "stream",
     "text": [
      "Separating target variable from features...\n",
      "...Done.\n"
     ]
    }
   ],
   "source": [
    "# Separate target variable y from features X\n",
    "print(\"Separating target variable from features...\")\n",
    "\n",
    "## Choose the columns you want to have as your features\n",
    "features_list = [\"BasePay\", \"OvertimePay\", \"OtherPay\", \"Benefits\", \"TotalPay\", \"PensionDebt\", \"Year\" ]\n",
    "\n",
    "X1 = df1.loc[:,features_list] # We add feature_list into our loc \n",
    "y1 = df1.loc[:,\"TotalPayBenefits\"] # We set \"TotalPayBenefits\" as the target variable\n",
    "\n",
    "X2 = df2.loc[:,features_list] \n",
    "y2 = df2.loc[:,\"TotalPayBenefits\"] \n",
    "\n",
    "print(\"...Done.\")"
   ]
  },
  {
   "cell_type": "code",
   "execution_count": 11,
   "metadata": {},
   "outputs": [
    {
     "name": "stdout",
     "output_type": "stream",
     "text": [
      "Splitting dataset into train set and test set...\n",
      "...Done.\n"
     ]
    }
   ],
   "source": [
    "# Divide dataset Train set & Test set \n",
    "print(\"Splitting dataset into train set and test set...\")\n",
    "X1_train, X1_test, y1_train, y1_test = train_test_split(X1, y1, \n",
    "                                                    test_size=0.2, \n",
    "                                                    random_state=0)\n",
    "\n",
    "X2_train, X2_test, y2_train, y2_test = train_test_split(X2, y2, \n",
    "                                                    test_size=0.2, \n",
    "                                                    random_state=0)\n",
    "print(\"...Done.\")                                                                "
   ]
  },
  {
   "cell_type": "code",
   "execution_count": 12,
   "metadata": {},
   "outputs": [
    {
     "name": "stdout",
     "output_type": "stream",
     "text": [
      "X1_train before preprocessing\n",
      "         BasePay  OvertimePay  OtherPay  Benefits  TotalPay  PensionDebt  Year\n",
      "67011   13223.52          0.0    727.21   5535.68  13950.73          0.0  2012\n",
      "67101   15752.81          0.0    314.80   2881.09  16067.61          0.0  2012\n",
      "107247   7054.54          0.0      0.00     70.55   7054.54          0.0  2013\n",
      "396870   1892.73          0.0    148.46      0.00   2041.19          0.0  2020\n",
      "103953  19918.02          0.0    334.73      0.00  20252.75          0.0  2013\n",
      "\n",
      "Encoding categorical features and standardizing numerical features...\n",
      "...Done.\n",
      "X1_train after preprocessing\n",
      "[[ 0.          1.          0.          0.          0.          0.\n",
      "   0.          0.          0.          0.          0.          0.\n",
      "   0.26693089 -0.26954326 -0.00864855  0.86550596  0.22475688 -0.04169174]\n",
      " [ 0.          1.          0.          0.          0.          0.\n",
      "   0.          0.          0.          0.          0.          0.\n",
      "   0.53412163 -0.26954326 -0.17296287  0.15227231  0.43618602 -0.04169174]\n",
      " [ 0.          0.          1.          0.          0.          0.\n",
      "   0.          0.          0.          0.          0.          0.\n",
      "  -0.38475174 -0.26954326 -0.29838695 -0.60286189 -0.46401884 -0.04169174]\n",
      " [ 0.          0.          0.          0.          0.          0.\n",
      "   0.          0.          0.          1.          0.          0.\n",
      "  -0.93003829 -0.26954326 -0.23923683 -0.62181722 -0.96474079 -0.04169174]\n",
      " [ 0.          0.          1.          0.          0.          0.\n",
      "   0.          0.          0.          0.          0.          0.\n",
      "   0.97412872 -0.26954326 -0.16502226 -0.62181722  0.85418825 -0.04169174]]\n"
     ]
    }
   ],
   "source": [
    "### Training pipeline ###\n",
    "print(\"X1_train before preprocessing\")\n",
    "print(X1_train.head())\n",
    "print()\n",
    "\n",
    "print(\"Encoding categorical features and standardizing numerical features...\")\n",
    "\n",
    "numeric_features1 = [0,1,2,3,4,5]           # Indexes of the colums to be scaled\n",
    "numeric_transformer1 = StandardScaler()\n",
    "\n",
    "categorical_features1 = [6] \n",
    "categorical_transformer1 = OneHotEncoder()\n",
    "\n",
    "# Create a pipeline \n",
    "feature_encoder1 = ColumnTransformer(\n",
    "    transformers =[\n",
    "        ('cat', categorical_transformer1, categorical_features1),    \n",
    "        ('num', numeric_transformer1, numeric_features1)\n",
    "        ]\n",
    "    )\n",
    "\n",
    "X1_train = feature_encoder1.fit_transform(X1_train)\n",
    "print(\"...Done.\")\n",
    "print(\"X1_train after preprocessing\")\n",
    "print(X1_train[0:5,:]) # print first 5 rows (not using iloc since now X_train became a numpy array)"
   ]
  },
  {
   "cell_type": "code",
   "execution_count": 13,
   "metadata": {},
   "outputs": [
    {
     "name": "stdout",
     "output_type": "stream",
     "text": [
      "X2_train before preprocessing\n",
      "          BasePay  OvertimePay  OtherPay  Benefits   TotalPay  PensionDebt  \\\n",
      "218489   32780.21        63.15   4431.75  17191.93   37275.11         0.00   \n",
      "398608  165973.06    102549.19  35007.96  60572.25  303530.21      7505.33   \n",
      "284812  103985.61         0.00      0.00  35901.73  103985.61         0.00   \n",
      "76702   112328.00     30021.90  10423.88  35358.10  152773.78         0.00   \n",
      "297487   65754.06       141.13      0.00  27335.76   65895.19         0.00   \n",
      "\n",
      "        Year  \n",
      "218489  2016  \n",
      "398608  2021  \n",
      "284812  2018  \n",
      "76702   2013  \n",
      "297487  2018  \n",
      "...Done.\n",
      "X2_train after preprocessing\n",
      "[[ 0.          0.          0.          0.          0.          1.\n",
      "   0.          0.          0.          0.          0.          0.\n",
      "  -1.49484044 -0.49104366 -0.01514034 -0.98171642 -1.3999604  -0.15778072]\n",
      " [ 0.          0.          0.          0.          0.          0.\n",
      "   0.          0.          0.          0.          1.          0.\n",
      "   1.78399009  5.71453925  3.62952272  2.02482593  4.00528456  7.78056606]\n",
      " [ 0.          0.          0.          0.          0.          0.\n",
      "   0.          1.          0.          0.          0.          0.\n",
      "   0.25803473 -0.49486742 -0.54340188  0.31499615 -0.04567049 -0.15778072]\n",
      " [ 0.          0.          1.          0.          0.          0.\n",
      "   0.          0.          0.          0.          0.          0.\n",
      "   0.46340073  1.3229742   0.6991174   0.277319    0.94477818 -0.15778072]\n",
      " [ 0.          0.          0.          0.          0.          0.\n",
      "   0.          1.          0.          0.          0.          0.\n",
      "  -0.68311769 -0.48632193 -0.54340188 -0.27868208 -0.81894414 -0.15778072]]\n"
     ]
    }
   ],
   "source": [
    "### Training pipeline ###\n",
    "print(\"X2_train before preprocessing\")\n",
    "print(X2_train.head())\n",
    "\n",
    "numeric_features2 = [0,1,2,3,4,5]           # Indexes of the colums to be scaled\n",
    "numeric_transformer2 = StandardScaler()\n",
    "\n",
    "categorical_features2 = [6] \n",
    "categorical_transformer2 = OneHotEncoder()\n",
    "\n",
    "feature_encoder2 = ColumnTransformer(\n",
    "    transformers=[\n",
    "        ('cat', categorical_transformer2, categorical_features2),    \n",
    "        ('num', numeric_transformer2, numeric_features2)\n",
    "        ]\n",
    "    )\n",
    "\n",
    "X2_train = feature_encoder2.fit_transform(X2_train)\n",
    "print(\"...Done.\")\n",
    "print(\"X2_train after preprocessing\")\n",
    "print(X2_train[0:5,:]) "
   ]
  },
  {
   "attachments": {},
   "cell_type": "markdown",
   "metadata": {},
   "source": [
    "## Step 2 - Build the model\n"
   ]
  },
  {
   "cell_type": "code",
   "execution_count": 14,
   "metadata": {},
   "outputs": [
    {
     "name": "stdout",
     "output_type": "stream",
     "text": [
      "Train model...\n",
      "...Done.\n"
     ]
    }
   ],
   "source": [
    "# Train model\n",
    "print(\"Train model...\")\n",
    "regressor1 = LinearRegression()\n",
    "regressor1.fit(X1_train, y1_train) \n",
    "print(\"...Done.\")"
   ]
  },
  {
   "cell_type": "code",
   "execution_count": 15,
   "metadata": {},
   "outputs": [
    {
     "name": "stdout",
     "output_type": "stream",
     "text": [
      "Train model...\n",
      "...Done.\n"
     ]
    }
   ],
   "source": [
    "# Train model\n",
    "print(\"Train model...\")\n",
    "regressor2 = LinearRegression()\n",
    "regressor2.fit(X2_train, y2_train) \n",
    "print(\"...Done.\")"
   ]
  },
  {
   "attachments": {},
   "cell_type": "markdown",
   "metadata": {},
   "source": [
    "Test our model and see its predictions "
   ]
  },
  {
   "cell_type": "code",
   "execution_count": 16,
   "metadata": {},
   "outputs": [
    {
     "name": "stdout",
     "output_type": "stream",
     "text": [
      "Predictions on training set...\n",
      "...Done.\n",
      "[19486.41 18948.7   7125.09  2041.19 20252.75]\n",
      "\n"
     ]
    }
   ],
   "source": [
    "# Predictions on training set\n",
    "print(\"Predictions on training set...\")\n",
    "y1_train_pred = regressor1.predict(X1_train)\n",
    "print(\"...Done.\")\n",
    "print(y1_train_pred[:5]) # print first 5 rows (not using iloc since now y_train became a numpy array)\n",
    "print()"
   ]
  },
  {
   "cell_type": "code",
   "execution_count": 17,
   "metadata": {},
   "outputs": [
    {
     "name": "stdout",
     "output_type": "stream",
     "text": [
      "Predictions on training set...\n",
      "...Done.\n",
      "[ 54467.04 371607.79 139887.34 188131.88  93230.95]\n",
      "\n"
     ]
    }
   ],
   "source": [
    "# Predictions on training set\n",
    "print(\"Predictions on training set...\")\n",
    "y2_train_pred = regressor2.predict(X2_train)\n",
    "print(\"...Done.\")\n",
    "print(y2_train_pred[:5]) # print first 5 rows (not using iloc since now y_train became a numpy array)\n",
    "print()"
   ]
  },
  {
   "attachments": {},
   "cell_type": "markdown",
   "metadata": {},
   "source": [
    "Apply the exact same process on the test set and compare performances. "
   ]
  },
  {
   "cell_type": "code",
   "execution_count": 18,
   "metadata": {},
   "outputs": [
    {
     "name": "stdout",
     "output_type": "stream",
     "text": [
      "--- Testing pipeline ---\n",
      "Standardizing numerical features...\n",
      "         BasePay  OvertimePay  OtherPay  Benefits  TotalPay  PensionDebt  Year\n",
      "473359  12427.99         0.00      0.00      0.00  12427.99          0.0  2022\n",
      "391969  22834.62         0.00      0.00  12395.45  22834.62          0.0  2020\n",
      "141807  13550.08        80.44     12.69   6527.35  13643.21          0.0  2014\n",
      "470978  20977.41         0.00   3418.26   8007.39  24395.67          0.0  2022\n",
      "434355   8608.20         0.00    730.00      0.00   9338.20          0.0  2021\n",
      "...          ...          ...       ...       ...       ...          ...   ...\n",
      "146937   2597.20         0.00      0.00     25.97   2597.20          0.0  2014\n",
      "185203   5269.23         0.00      0.00     52.69   5269.23          0.0  2015\n",
      "31389   10623.70         0.00     52.43      0.00  10676.13          0.0  2011\n",
      "395695   4059.36         0.00    190.25    856.58   4249.61          0.0  2020\n",
      "305865  16659.35         0.00    240.00   7703.21  16899.35          0.0  2018\n",
      "\n",
      "[20263 rows x 7 columns]\n",
      "\n",
      "...Done.\n",
      "[[ 0.          0.          0.          0.          0.          0.\n",
      "   0.          0.          0.          0.          0.          1.\n",
      "   0.18289218 -0.26954326 -0.29838695 -0.62181722  0.07266908 -0.04169174]\n",
      " [ 0.          0.          0.          0.          0.          0.\n",
      "   0.          0.          0.          1.          0.          0.\n",
      "   1.28223436 -0.26954326 -0.29838695  2.70858486  1.11205954 -0.04169174]\n",
      " [ 0.          0.          0.          1.          0.          0.\n",
      "   0.          0.          0.          0.          0.          0.\n",
      "   0.30142824 -0.18444975 -0.29333094  1.13194727  0.19404248 -0.04169174]\n",
      " [ 0.          0.          0.          0.          0.          0.\n",
      "   0.          0.          0.          0.          0.          1.\n",
      "   1.08604124 -0.26954326  1.06353215  1.52960353  1.26797365 -0.04169174]\n",
      " [ 0.          0.          0.          0.          0.          0.\n",
      "   0.          0.          0.          0.          1.          0.\n",
      "  -0.22062522 -0.26954326 -0.00753695 -0.62181722 -0.23593209 -0.04169174]]\n",
      "\n"
     ]
    }
   ],
   "source": [
    "### Testing pipeline ###\n",
    "print(\"--- Testing pipeline ---\")\n",
    "\n",
    "# Standardizing numeric features\n",
    "print(\"Standardizing numerical features...\")\n",
    "print(X1_test)\n",
    "print()\n",
    "\n",
    "X1_test = feature_encoder1.transform(X1_test)\n",
    "\n",
    "print(\"...Done.\")\n",
    "print(X1_test[:5]) # print first 5 rows (not using iloc since now X_test became a numpy array)\n",
    "print()"
   ]
  },
  {
   "cell_type": "code",
   "execution_count": 19,
   "metadata": {},
   "outputs": [
    {
     "name": "stdout",
     "output_type": "stream",
     "text": [
      "--- Testing pipeline ---\n",
      "Standardizing numerical features...\n",
      "          BasePay  OvertimePay  OtherPay  Benefits   TotalPay  PensionDebt  \\\n",
      "293896   74236.73         0.00   1338.60  29190.56   75575.33          0.0   \n",
      "292790   76087.48       224.05   2655.96  30007.97   78967.49          0.0   \n",
      "196075  122281.90        86.94   3244.90  35621.41  125613.74          0.0   \n",
      "127636   67948.00      4112.39   5702.08  29901.07   77762.47          0.0   \n",
      "389625   65264.75         0.00      0.00      0.00   65264.75          0.0   \n",
      "...           ...          ...       ...       ...        ...          ...   \n",
      "251605   72704.08       899.36      0.00  28197.38   73603.44          0.0   \n",
      "218661   37705.75         0.00   3015.52  12065.36   40721.27          0.0   \n",
      "57979    59835.35         0.00    681.85  28089.01   60517.20          0.0   \n",
      "89189    80133.01       553.88      0.00  29589.38   80686.89          0.0   \n",
      "58834    56237.06         0.00   1020.00  28528.12   57257.06          0.0   \n",
      "\n",
      "        Year  \n",
      "293896  2018  \n",
      "292790  2018  \n",
      "196075  2016  \n",
      "127636  2014  \n",
      "389625  2020  \n",
      "...      ...  \n",
      "251605  2017  \n",
      "218661  2016  \n",
      "57979   2012  \n",
      "89189   2013  \n",
      "58834   2012  \n",
      "\n",
      "[75041 rows x 7 columns]\n",
      "\n",
      "...Done.\n",
      "[[ 0.          0.          0.          0.          0.          0.\n",
      "   0.          1.          0.          0.          0.          0.\n",
      "  -0.4742984  -0.49486742 -0.38384168 -0.1501322  -0.62242761 -0.15778072]\n",
      " [ 0.          0.          0.          0.          0.          0.\n",
      "   0.          1.          0.          0.          0.          0.\n",
      "  -0.42873817 -0.48130108 -0.22681328 -0.0934803  -0.55356337 -0.15778072]\n",
      " [ 0.          0.          0.          0.          0.          1.\n",
      "   0.          0.          0.          0.          0.          0.\n",
      "   0.70843754 -0.48960316 -0.15661204  0.29556812  0.39340219 -0.15778072]\n",
      " [ 0.          0.          0.          1.          0.          0.\n",
      "   0.          0.          0.          0.          0.          0.\n",
      "  -0.62910911 -0.24586008  0.13628211 -0.10088917 -0.57802648 -0.15778072]\n",
      " [ 0.          0.          0.          0.          0.          0.\n",
      "   0.          0.          0.          1.          0.          0.\n",
      "  -0.69516312 -0.49486742 -0.54340188 -2.17323058 -0.8317427  -0.15778072]]\n",
      "\n"
     ]
    }
   ],
   "source": [
    "### Testing pipeline ###\n",
    "print(\"--- Testing pipeline ---\")\n",
    "\n",
    "# Standardizing numeric features\n",
    "print(\"Standardizing numerical features...\")\n",
    "print(X2_test)\n",
    "print()\n",
    "\n",
    "X2_test = feature_encoder2.transform(X2_test)\n",
    "\n",
    "print(\"...Done.\")\n",
    "print(X2_test[:5]) # print first 5 rows (not using iloc since now X_test became a numpy array)\n",
    "print()"
   ]
  },
  {
   "cell_type": "code",
   "execution_count": 20,
   "metadata": {},
   "outputs": [
    {
     "name": "stdout",
     "output_type": "stream",
     "text": [
      "Predictions on test set...\n",
      "...Done.\n",
      "[12427.99 35230.07 20170.56 32403.06  9338.2 ]\n",
      "\n"
     ]
    }
   ],
   "source": [
    "# Predictions on test set\n",
    "print(\"Predictions on test set...\")\n",
    "y1_test_pred = regressor1.predict(X1_test)\n",
    "print(\"...Done.\")\n",
    "print(y1_test_pred[:5])\n",
    "print()"
   ]
  },
  {
   "cell_type": "code",
   "execution_count": 21,
   "metadata": {},
   "outputs": [
    {
     "name": "stdout",
     "output_type": "stream",
     "text": [
      "Predictions on test set...\n",
      "...Done.\n",
      "[104765.89 108975.46 161235.15 107663.54  65264.75]\n",
      "\n"
     ]
    }
   ],
   "source": [
    "# Predictions on test set\n",
    "print(\"Predictions on test set...\")\n",
    "y2_test_pred = regressor2.predict(X2_test)\n",
    "print(\"...Done.\")\n",
    "print(y2_test_pred[:5])\n",
    "print()"
   ]
  },
  {
   "attachments": {},
   "cell_type": "markdown",
   "metadata": {},
   "source": [
    "## Step 3 - Evaluate the model"
   ]
  },
  {
   "cell_type": "code",
   "execution_count": 22,
   "metadata": {},
   "outputs": [
    {
     "name": "stdout",
     "output_type": "stream",
     "text": [
      "--- Assessing the performances of the model ---\n",
      "R2 score on training set :  1.0\n",
      "R2 score on test set     :  1.0\n"
     ]
    }
   ],
   "source": [
    "# Performance assessment\n",
    "print(\"--- Assessing the performances of the model ---\")\n",
    "\n",
    "# Print R^2 scores\n",
    "print(\"R2 score on training set : \", regressor1.score(X1_train, y1_train))\n",
    "print(\"R2 score on test set     : \", regressor1.score(X1_test, y1_test))"
   ]
  },
  {
   "cell_type": "code",
   "execution_count": 23,
   "metadata": {},
   "outputs": [
    {
     "name": "stdout",
     "output_type": "stream",
     "text": [
      "--- Assessing the performances of the model ---\n",
      "R2 score on training set :  1.0\n",
      "R2 score on test set     :  1.0\n"
     ]
    }
   ],
   "source": [
    "# Performance assessment\n",
    "print(\"--- Assessing the performances of the model ---\")\n",
    "\n",
    "# Print R^2 scores\n",
    "print(\"R2 score on training set : \", regressor2.score(X2_train, y2_train))\n",
    "print(\"R2 score on test set     : \", regressor2.score(X2_test, y2_test))"
   ]
  },
  {
   "attachments": {},
   "cell_type": "markdown",
   "metadata": {},
   "source": [
    "## Step 4 - Feature importance\n",
    "\n",
    "* Check which features are important\n",
    "* Check out model's coefficients! \n"
   ]
  },
  {
   "cell_type": "code",
   "execution_count": 24,
   "metadata": {},
   "outputs": [
    {
     "name": "stdout",
     "output_type": "stream",
     "text": [
      "coefficients are:  [ -165.13674372  -165.13674372  -165.13674372  -165.13674372\n",
      "  -165.13674372  -165.13674372  -165.13674372  -165.13674372\n",
      "  -165.13674372  -165.13674372  -165.13674372  -165.13674372\n",
      " 10297.3841578   1028.31297996  2730.25665524  3721.90794868\n",
      "  -879.09095716    23.41283242]\n",
      "Constant is:  14180.868806570988\n"
     ]
    }
   ],
   "source": [
    "print(\"coefficients are: \", regressor1.coef_) \n",
    "print(\"Constant is: \", regressor1.intercept_)"
   ]
  },
  {
   "cell_type": "code",
   "execution_count": 25,
   "metadata": {},
   "outputs": [
    {
     "name": "stdout",
     "output_type": "stream",
     "text": [
      "coefficients are:  [ 4450.77619656  4450.77619656  4450.77619656  4450.77619656\n",
      "  4450.77619656  4450.77619656  4450.77619656  4450.77619656\n",
      "  4450.77619656  4450.77619656  4450.77619656  4450.77619656\n",
      " 39819.69844175 16188.93041135  8223.60595723 14428.64094698\n",
      "   972.95020833   945.4525238 ]\n",
      "Constant is:  133290.43883867122\n"
     ]
    }
   ],
   "source": [
    "print(\"coefficients are: \", regressor2.coef_) \n",
    "print(\"Constant is: \", regressor2.intercept_)"
   ]
  },
  {
   "attachments": {},
   "cell_type": "markdown",
   "metadata": {},
   "source": [
    "Now that we have the coefficients, we need to know which columns are associated with each one. If you look at `X_train` (or `X_test`), here is what you have:"
   ]
  },
  {
   "cell_type": "code",
   "execution_count": 26,
   "metadata": {},
   "outputs": [
    {
     "data": {
      "text/plain": [
       "array([[ 0.        ,  1.        ,  0.        ,  0.        ,  0.        ,\n",
       "         0.        ,  0.        ,  0.        ,  0.        ,  0.        ,\n",
       "         0.        ,  0.        ,  0.26693089, -0.26954326, -0.00864855,\n",
       "         0.86550596,  0.22475688, -0.04169174],\n",
       "       [ 0.        ,  1.        ,  0.        ,  0.        ,  0.        ,\n",
       "         0.        ,  0.        ,  0.        ,  0.        ,  0.        ,\n",
       "         0.        ,  0.        ,  0.53412163, -0.26954326, -0.17296287,\n",
       "         0.15227231,  0.43618602, -0.04169174],\n",
       "       [ 0.        ,  0.        ,  1.        ,  0.        ,  0.        ,\n",
       "         0.        ,  0.        ,  0.        ,  0.        ,  0.        ,\n",
       "         0.        ,  0.        , -0.38475174, -0.26954326, -0.29838695,\n",
       "        -0.60286189, -0.46401884, -0.04169174],\n",
       "       [ 0.        ,  0.        ,  0.        ,  0.        ,  0.        ,\n",
       "         0.        ,  0.        ,  0.        ,  0.        ,  1.        ,\n",
       "         0.        ,  0.        , -0.93003829, -0.26954326, -0.23923683,\n",
       "        -0.62181722, -0.96474079, -0.04169174],\n",
       "       [ 0.        ,  0.        ,  1.        ,  0.        ,  0.        ,\n",
       "         0.        ,  0.        ,  0.        ,  0.        ,  0.        ,\n",
       "         0.        ,  0.        ,  0.97412872, -0.26954326, -0.16502226,\n",
       "        -0.62181722,  0.85418825, -0.04169174]])"
      ]
     },
     "execution_count": 26,
     "metadata": {},
     "output_type": "execute_result"
    }
   ],
   "source": [
    "X1_train[:5] # Visualize the first 5 rows of your X_train"
   ]
  },
  {
   "cell_type": "code",
   "execution_count": 27,
   "metadata": {},
   "outputs": [
    {
     "data": {
      "text/plain": [
       "array([[ 0.        ,  0.        ,  0.        ,  0.        ,  0.        ,\n",
       "         1.        ,  0.        ,  0.        ,  0.        ,  0.        ,\n",
       "         0.        ,  0.        , -1.49484044, -0.49104366, -0.01514034,\n",
       "        -0.98171642, -1.3999604 , -0.15778072],\n",
       "       [ 0.        ,  0.        ,  0.        ,  0.        ,  0.        ,\n",
       "         0.        ,  0.        ,  0.        ,  0.        ,  0.        ,\n",
       "         1.        ,  0.        ,  1.78399009,  5.71453925,  3.62952272,\n",
       "         2.02482593,  4.00528456,  7.78056606],\n",
       "       [ 0.        ,  0.        ,  0.        ,  0.        ,  0.        ,\n",
       "         0.        ,  0.        ,  1.        ,  0.        ,  0.        ,\n",
       "         0.        ,  0.        ,  0.25803473, -0.49486742, -0.54340188,\n",
       "         0.31499615, -0.04567049, -0.15778072],\n",
       "       [ 0.        ,  0.        ,  1.        ,  0.        ,  0.        ,\n",
       "         0.        ,  0.        ,  0.        ,  0.        ,  0.        ,\n",
       "         0.        ,  0.        ,  0.46340073,  1.3229742 ,  0.6991174 ,\n",
       "         0.277319  ,  0.94477818, -0.15778072],\n",
       "       [ 0.        ,  0.        ,  0.        ,  0.        ,  0.        ,\n",
       "         0.        ,  0.        ,  1.        ,  0.        ,  0.        ,\n",
       "         0.        ,  0.        , -0.68311769, -0.48632193, -0.54340188,\n",
       "        -0.27868208, -0.81894414, -0.15778072]])"
      ]
     },
     "execution_count": 27,
     "metadata": {},
     "output_type": "execute_result"
    }
   ],
   "source": [
    "X2_train[:5] # Visualize the first 5 rows of your X_train"
   ]
  },
  {
   "attachments": {},
   "cell_type": "markdown",
   "metadata": {},
   "source": [
    "* Can we show it in a DataFrame? \n",
    "* We need to use the `.categories_` attribute from `OneHotEncoder` \n",
    "* Since we use `ColumnTransformer`, we need to access `OneHotEncoder` using `.transformers_` "
   ]
  },
  {
   "cell_type": "code",
   "execution_count": 28,
   "metadata": {},
   "outputs": [
    {
     "name": "stdout",
     "output_type": "stream",
     "text": [
      "All transformers are:  [('cat', OneHotEncoder(), [6]), ('num', StandardScaler(), [0, 1, 2, 3, 4, 5])]\n",
      "One Hot Encoder transformer is:  OneHotEncoder()\n"
     ]
    }
   ],
   "source": [
    "# Access transformers from feature_encoder\n",
    "print(\"All transformers are: \", feature_encoder1.transformers_)\n",
    "\n",
    "# Access one specific transformer\n",
    "print(\"One Hot Encoder transformer is: \", feature_encoder1.transformers_[0][1])"
   ]
  },
  {
   "cell_type": "code",
   "execution_count": 29,
   "metadata": {},
   "outputs": [
    {
     "name": "stdout",
     "output_type": "stream",
     "text": [
      "All transformers are:  [('cat', OneHotEncoder(), [6]), ('num', StandardScaler(), [0, 1, 2, 3, 4, 5])]\n",
      "One Hot Encoder transformer is:  OneHotEncoder()\n"
     ]
    }
   ],
   "source": [
    "# Access transformers from feature_encoder\n",
    "print(\"All transformers are: \", feature_encoder2.transformers_)\n",
    "\n",
    "# Access one specific transformer\n",
    "print(\"One Hot Encoder transformer is: \", feature_encoder2.transformers_[0][1])"
   ]
  },
  {
   "attachments": {},
   "cell_type": "markdown",
   "metadata": {},
   "source": [
    "Now we can check the categories"
   ]
  },
  {
   "cell_type": "code",
   "execution_count": 30,
   "metadata": {},
   "outputs": [
    {
     "name": "stdout",
     "output_type": "stream",
     "text": [
      "Categorical columns are:  [array([2011, 2012, 2013, 2014, 2015, 2016, 2017, 2018, 2019, 2020, 2021,\n",
      "       2022], dtype=int64)]\n"
     ]
    }
   ],
   "source": [
    "# Print categories\n",
    "categorical_column_names = feature_encoder1.transformers_[0][1].categories_\n",
    "print(\"Categorical columns are: \", categorical_column_names)"
   ]
  },
  {
   "cell_type": "code",
   "execution_count": 31,
   "metadata": {},
   "outputs": [
    {
     "name": "stdout",
     "output_type": "stream",
     "text": [
      "Categorical columns are:  [array([2011, 2012, 2013, 2014, 2015, 2016, 2017, 2018, 2019, 2020, 2021,\n",
      "       2022], dtype=int64)]\n"
     ]
    }
   ],
   "source": [
    "# Print categories\n",
    "categorical_column_names = feature_encoder2.transformers_[0][1].categories_\n",
    "print(\"Categorical columns are: \", categorical_column_names)"
   ]
  },
  {
   "attachments": {},
   "cell_type": "markdown",
   "metadata": {},
   "source": [
    "Now we can concatenate them with the numerical column names. We will use `numeric_features` variable to determine the name of our columns"
   ]
  },
  {
   "cell_type": "code",
   "execution_count": 32,
   "metadata": {},
   "outputs": [
    {
     "name": "stdout",
     "output_type": "stream",
     "text": [
      "numerical columns are:  Index(['BasePay', 'OvertimePay', 'OtherPay', 'Benefits', 'TotalPay',\n",
      "       'PensionDebt'],\n",
      "      dtype='object')\n"
     ]
    }
   ],
   "source": [
    "numerical_column_names = X1.iloc[:, numeric_features1].columns # using the .columns attribute gives us the name of the column \n",
    "print(\"numerical columns are: \", numerical_column_names)"
   ]
  },
  {
   "cell_type": "code",
   "execution_count": 33,
   "metadata": {},
   "outputs": [
    {
     "name": "stdout",
     "output_type": "stream",
     "text": [
      "numerical columns are:  Index(['BasePay', 'OvertimePay', 'OtherPay', 'Benefits', 'TotalPay',\n",
      "       'PensionDebt'],\n",
      "      dtype='object')\n"
     ]
    }
   ],
   "source": [
    "numerical_column_names = X2.iloc[:, numeric_features2].columns # using the .columns attribute gives us the name of the column \n",
    "print(\"numerical columns are: \", numerical_column_names)"
   ]
  },
  {
   "attachments": {},
   "cell_type": "markdown",
   "metadata": {},
   "source": [
    "Finally, we need to concatenate our `numerical_column_names` and our `categorical_column_names`. The easiest way to do it is by using [np.append](https://numpy.org/doc/stable/reference/generated/numpy.append.html)"
   ]
  },
  {
   "cell_type": "code",
   "execution_count": 34,
   "metadata": {},
   "outputs": [
    {
     "data": {
      "text/plain": [
       "array([2011, 2012, 2013, 2014, 2015, 2016, 2017, 2018, 2019, 2020, 2021,\n",
       "       2022, 'BasePay', 'OvertimePay', 'OtherPay', 'Benefits', 'TotalPay',\n",
       "       'PensionDebt'], dtype=object)"
      ]
     },
     "execution_count": 34,
     "metadata": {},
     "output_type": "execute_result"
    }
   ],
   "source": [
    "# Append the columns \n",
    "all_column_names1 = np.append(categorical_column_names, numerical_column_names)\n",
    "all_column_names1"
   ]
  },
  {
   "cell_type": "code",
   "execution_count": 35,
   "metadata": {},
   "outputs": [
    {
     "data": {
      "text/plain": [
       "array([2011, 2012, 2013, 2014, 2015, 2016, 2017, 2018, 2019, 2020, 2021,\n",
       "       2022, 'BasePay', 'OvertimePay', 'OtherPay', 'Benefits', 'TotalPay',\n",
       "       'PensionDebt'], dtype=object)"
      ]
     },
     "execution_count": 35,
     "metadata": {},
     "output_type": "execute_result"
    }
   ],
   "source": [
    "# Append the columns \n",
    "all_column_names2 = np.append(categorical_column_names, numerical_column_names)\n",
    "all_column_names2"
   ]
  },
  {
   "attachments": {},
   "cell_type": "markdown",
   "metadata": {},
   "source": [
    "Rank columns by importance using coefficients"
   ]
  },
  {
   "cell_type": "code",
   "execution_count": 36,
   "metadata": {},
   "outputs": [
    {
     "data": {
      "text/html": [
       "<div>\n",
       "<style scoped>\n",
       "    .dataframe tbody tr th:only-of-type {\n",
       "        vertical-align: middle;\n",
       "    }\n",
       "\n",
       "    .dataframe tbody tr th {\n",
       "        vertical-align: top;\n",
       "    }\n",
       "\n",
       "    .dataframe thead th {\n",
       "        text-align: right;\n",
       "    }\n",
       "</style>\n",
       "<table border=\"1\" class=\"dataframe\">\n",
       "  <thead>\n",
       "    <tr style=\"text-align: right;\">\n",
       "      <th></th>\n",
       "      <th>feature_names</th>\n",
       "      <th>coefficients</th>\n",
       "    </tr>\n",
       "  </thead>\n",
       "  <tbody>\n",
       "    <tr>\n",
       "      <th>0</th>\n",
       "      <td>2011</td>\n",
       "      <td>-165.136744</td>\n",
       "    </tr>\n",
       "    <tr>\n",
       "      <th>1</th>\n",
       "      <td>2012</td>\n",
       "      <td>-165.136744</td>\n",
       "    </tr>\n",
       "    <tr>\n",
       "      <th>2</th>\n",
       "      <td>2013</td>\n",
       "      <td>-165.136744</td>\n",
       "    </tr>\n",
       "    <tr>\n",
       "      <th>3</th>\n",
       "      <td>2014</td>\n",
       "      <td>-165.136744</td>\n",
       "    </tr>\n",
       "    <tr>\n",
       "      <th>4</th>\n",
       "      <td>2015</td>\n",
       "      <td>-165.136744</td>\n",
       "    </tr>\n",
       "    <tr>\n",
       "      <th>5</th>\n",
       "      <td>2016</td>\n",
       "      <td>-165.136744</td>\n",
       "    </tr>\n",
       "    <tr>\n",
       "      <th>6</th>\n",
       "      <td>2017</td>\n",
       "      <td>-165.136744</td>\n",
       "    </tr>\n",
       "    <tr>\n",
       "      <th>7</th>\n",
       "      <td>2018</td>\n",
       "      <td>-165.136744</td>\n",
       "    </tr>\n",
       "    <tr>\n",
       "      <th>8</th>\n",
       "      <td>2019</td>\n",
       "      <td>-165.136744</td>\n",
       "    </tr>\n",
       "    <tr>\n",
       "      <th>9</th>\n",
       "      <td>2020</td>\n",
       "      <td>-165.136744</td>\n",
       "    </tr>\n",
       "    <tr>\n",
       "      <th>10</th>\n",
       "      <td>2021</td>\n",
       "      <td>-165.136744</td>\n",
       "    </tr>\n",
       "    <tr>\n",
       "      <th>11</th>\n",
       "      <td>2022</td>\n",
       "      <td>-165.136744</td>\n",
       "    </tr>\n",
       "    <tr>\n",
       "      <th>12</th>\n",
       "      <td>BasePay</td>\n",
       "      <td>10297.384158</td>\n",
       "    </tr>\n",
       "    <tr>\n",
       "      <th>13</th>\n",
       "      <td>OvertimePay</td>\n",
       "      <td>1028.312980</td>\n",
       "    </tr>\n",
       "    <tr>\n",
       "      <th>14</th>\n",
       "      <td>OtherPay</td>\n",
       "      <td>2730.256655</td>\n",
       "    </tr>\n",
       "    <tr>\n",
       "      <th>15</th>\n",
       "      <td>Benefits</td>\n",
       "      <td>3721.907949</td>\n",
       "    </tr>\n",
       "    <tr>\n",
       "      <th>16</th>\n",
       "      <td>TotalPay</td>\n",
       "      <td>-879.090957</td>\n",
       "    </tr>\n",
       "    <tr>\n",
       "      <th>17</th>\n",
       "      <td>PensionDebt</td>\n",
       "      <td>23.412832</td>\n",
       "    </tr>\n",
       "  </tbody>\n",
       "</table>\n",
       "</div>"
      ],
      "text/plain": [
       "   feature_names  coefficients\n",
       "0           2011   -165.136744\n",
       "1           2012   -165.136744\n",
       "2           2013   -165.136744\n",
       "3           2014   -165.136744\n",
       "4           2015   -165.136744\n",
       "5           2016   -165.136744\n",
       "6           2017   -165.136744\n",
       "7           2018   -165.136744\n",
       "8           2019   -165.136744\n",
       "9           2020   -165.136744\n",
       "10          2021   -165.136744\n",
       "11          2022   -165.136744\n",
       "12       BasePay  10297.384158\n",
       "13   OvertimePay   1028.312980\n",
       "14      OtherPay   2730.256655\n",
       "15      Benefits   3721.907949\n",
       "16      TotalPay   -879.090957\n",
       "17   PensionDebt     23.412832"
      ]
     },
     "execution_count": 36,
     "metadata": {},
     "output_type": "execute_result"
    }
   ],
   "source": [
    "# Feature importance \n",
    "feature_importance1 = pd.DataFrame({\n",
    "    \"feature_names\": all_column_names1,\n",
    "    \"coefficients\":regressor1.coef_\n",
    "})\n",
    "feature_importance1"
   ]
  },
  {
   "cell_type": "code",
   "execution_count": 37,
   "metadata": {},
   "outputs": [
    {
     "data": {
      "text/html": [
       "<div>\n",
       "<style scoped>\n",
       "    .dataframe tbody tr th:only-of-type {\n",
       "        vertical-align: middle;\n",
       "    }\n",
       "\n",
       "    .dataframe tbody tr th {\n",
       "        vertical-align: top;\n",
       "    }\n",
       "\n",
       "    .dataframe thead th {\n",
       "        text-align: right;\n",
       "    }\n",
       "</style>\n",
       "<table border=\"1\" class=\"dataframe\">\n",
       "  <thead>\n",
       "    <tr style=\"text-align: right;\">\n",
       "      <th></th>\n",
       "      <th>feature_names</th>\n",
       "      <th>coefficients</th>\n",
       "    </tr>\n",
       "  </thead>\n",
       "  <tbody>\n",
       "    <tr>\n",
       "      <th>0</th>\n",
       "      <td>2011</td>\n",
       "      <td>4450.776197</td>\n",
       "    </tr>\n",
       "    <tr>\n",
       "      <th>1</th>\n",
       "      <td>2012</td>\n",
       "      <td>4450.776197</td>\n",
       "    </tr>\n",
       "    <tr>\n",
       "      <th>2</th>\n",
       "      <td>2013</td>\n",
       "      <td>4450.776197</td>\n",
       "    </tr>\n",
       "    <tr>\n",
       "      <th>3</th>\n",
       "      <td>2014</td>\n",
       "      <td>4450.776197</td>\n",
       "    </tr>\n",
       "    <tr>\n",
       "      <th>4</th>\n",
       "      <td>2015</td>\n",
       "      <td>4450.776197</td>\n",
       "    </tr>\n",
       "    <tr>\n",
       "      <th>5</th>\n",
       "      <td>2016</td>\n",
       "      <td>4450.776197</td>\n",
       "    </tr>\n",
       "    <tr>\n",
       "      <th>6</th>\n",
       "      <td>2017</td>\n",
       "      <td>4450.776197</td>\n",
       "    </tr>\n",
       "    <tr>\n",
       "      <th>7</th>\n",
       "      <td>2018</td>\n",
       "      <td>4450.776197</td>\n",
       "    </tr>\n",
       "    <tr>\n",
       "      <th>8</th>\n",
       "      <td>2019</td>\n",
       "      <td>4450.776197</td>\n",
       "    </tr>\n",
       "    <tr>\n",
       "      <th>9</th>\n",
       "      <td>2020</td>\n",
       "      <td>4450.776197</td>\n",
       "    </tr>\n",
       "    <tr>\n",
       "      <th>10</th>\n",
       "      <td>2021</td>\n",
       "      <td>4450.776197</td>\n",
       "    </tr>\n",
       "    <tr>\n",
       "      <th>11</th>\n",
       "      <td>2022</td>\n",
       "      <td>4450.776197</td>\n",
       "    </tr>\n",
       "    <tr>\n",
       "      <th>12</th>\n",
       "      <td>BasePay</td>\n",
       "      <td>39819.698442</td>\n",
       "    </tr>\n",
       "    <tr>\n",
       "      <th>13</th>\n",
       "      <td>OvertimePay</td>\n",
       "      <td>16188.930411</td>\n",
       "    </tr>\n",
       "    <tr>\n",
       "      <th>14</th>\n",
       "      <td>OtherPay</td>\n",
       "      <td>8223.605957</td>\n",
       "    </tr>\n",
       "    <tr>\n",
       "      <th>15</th>\n",
       "      <td>Benefits</td>\n",
       "      <td>14428.640947</td>\n",
       "    </tr>\n",
       "    <tr>\n",
       "      <th>16</th>\n",
       "      <td>TotalPay</td>\n",
       "      <td>972.950208</td>\n",
       "    </tr>\n",
       "    <tr>\n",
       "      <th>17</th>\n",
       "      <td>PensionDebt</td>\n",
       "      <td>945.452524</td>\n",
       "    </tr>\n",
       "  </tbody>\n",
       "</table>\n",
       "</div>"
      ],
      "text/plain": [
       "   feature_names  coefficients\n",
       "0           2011   4450.776197\n",
       "1           2012   4450.776197\n",
       "2           2013   4450.776197\n",
       "3           2014   4450.776197\n",
       "4           2015   4450.776197\n",
       "5           2016   4450.776197\n",
       "6           2017   4450.776197\n",
       "7           2018   4450.776197\n",
       "8           2019   4450.776197\n",
       "9           2020   4450.776197\n",
       "10          2021   4450.776197\n",
       "11          2022   4450.776197\n",
       "12       BasePay  39819.698442\n",
       "13   OvertimePay  16188.930411\n",
       "14      OtherPay   8223.605957\n",
       "15      Benefits  14428.640947\n",
       "16      TotalPay    972.950208\n",
       "17   PensionDebt    945.452524"
      ]
     },
     "execution_count": 37,
     "metadata": {},
     "output_type": "execute_result"
    }
   ],
   "source": [
    "# Feature importance \n",
    "feature_importance2 = pd.DataFrame({\n",
    "    \"feature_names\": all_column_names2,\n",
    "    \"coefficients\":regressor2.coef_\n",
    "})\n",
    "feature_importance2"
   ]
  },
  {
   "attachments": {},
   "cell_type": "markdown",
   "metadata": {},
   "source": [
    "<!-- Now you know that you model is: \n",
    "\n",
    "$y=23904\\times YearsExperience + 2472 \\times UK - 2182 \\times Germany  -290\\times France + 73498$\n",
    "\n",
    "You can be very fancy and try to use `seaborn` to visualize feature importance 🌟 -->"
   ]
  },
  {
   "cell_type": "code",
   "execution_count": 38,
   "metadata": {},
   "outputs": [
    {
     "name": "stderr",
     "output_type": "stream",
     "text": [
      "c:\\Users\\phili\\anaconda3\\lib\\site-packages\\seaborn\\axisgrid.py:118: UserWarning: The figure layout has changed to tight\n",
      "  self._figure.tight_layout(*args, **kwargs)\n"
     ]
    },
    {
     "data": {
      "image/png": "[encoded data removed]",
      "text/plain": [
       "<Figure size 888.889x500 with 1 Axes>"
      ]
     },
     "metadata": {},
     "output_type": "display_data"
    }
   ],
   "source": [
    "# Set coefficient to absolute values to rank features\n",
    "feature_importance1[\"coefficients\"] = feature_importance1[\"coefficients\"].abs()\n",
    "\n",
    "# Visualize ranked features using seaborn\n",
    "_ = sns.catplot(x=\"feature_names\", \n",
    "            y=\"coefficients\", \n",
    "            data=feature_importance1.sort_values(by=\"coefficients\", ascending=False), \n",
    "            kind=\"bar\",\n",
    "            aspect=16/9,\n",
    "            ) # Resize graph\n",
    "_ = plt.xticks(rotation=45)\n",
    "_ = plt.ylim(0, 40000)"
   ]
  },
  {
   "cell_type": "code",
   "execution_count": 40,
   "metadata": {},
   "outputs": [
    {
     "name": "stderr",
     "output_type": "stream",
     "text": [
      "c:\\Users\\phili\\anaconda3\\lib\\site-packages\\seaborn\\axisgrid.py:118: UserWarning: The figure layout has changed to tight\n",
      "  self._figure.tight_layout(*args, **kwargs)\n"
     ]
    },
    {
     "data": {
      "image/png": "[encoded data removed]",
      "text/plain": [
       "<Figure size 888.889x500 with 1 Axes>"
      ]
     },
     "metadata": {},
     "output_type": "display_data"
    }
   ],
   "source": [
    "# Set coefficient to absolute values to rank features\n",
    "feature_importance2[\"coefficients\"] = feature_importance2[\"coefficients\"].abs()\n",
    "\n",
    "# Visualize ranked features using seaborn\n",
    "\n",
    "_ = sns.catplot(x=\"feature_names\", \n",
    "            y=\"coefficients\", \n",
    "            data=feature_importance2.sort_values(by=\"coefficients\", ascending=False), \n",
    "            kind=\"bar\",\n",
    "            aspect=16/9) # Resize graph\n",
    "_ = plt.xticks(rotation=45)\n",
    "_ = plt.ylim(0, 40000)"
   ]
  },
  {
   "cell_type": "code",
   "execution_count": 43,
   "metadata": {},
   "outputs": [
    {
     "data": {
      "text/html": [
       "<div>\n",
       "<style scoped>\n",
       "    .dataframe tbody tr th:only-of-type {\n",
       "        vertical-align: middle;\n",
       "    }\n",
       "\n",
       "    .dataframe tbody tr th {\n",
       "        vertical-align: top;\n",
       "    }\n",
       "\n",
       "    .dataframe thead th {\n",
       "        text-align: right;\n",
       "    }\n",
       "</style>\n",
       "<table border=\"1\" class=\"dataframe\">\n",
       "  <thead>\n",
       "    <tr style=\"text-align: right;\">\n",
       "      <th></th>\n",
       "      <th>feature_names</th>\n",
       "      <th>coefficients</th>\n",
       "    </tr>\n",
       "  </thead>\n",
       "  <tbody>\n",
       "    <tr>\n",
       "      <th>12</th>\n",
       "      <td>BasePay</td>\n",
       "      <td>10297.384158</td>\n",
       "    </tr>\n",
       "    <tr>\n",
       "      <th>15</th>\n",
       "      <td>Benefits</td>\n",
       "      <td>3721.907949</td>\n",
       "    </tr>\n",
       "    <tr>\n",
       "      <th>14</th>\n",
       "      <td>OtherPay</td>\n",
       "      <td>2730.256655</td>\n",
       "    </tr>\n",
       "    <tr>\n",
       "      <th>13</th>\n",
       "      <td>OvertimePay</td>\n",
       "      <td>1028.312980</td>\n",
       "    </tr>\n",
       "    <tr>\n",
       "      <th>16</th>\n",
       "      <td>TotalPay</td>\n",
       "      <td>879.090957</td>\n",
       "    </tr>\n",
       "    <tr>\n",
       "      <th>0</th>\n",
       "      <td>2011</td>\n",
       "      <td>165.136744</td>\n",
       "    </tr>\n",
       "    <tr>\n",
       "      <th>8</th>\n",
       "      <td>2019</td>\n",
       "      <td>165.136744</td>\n",
       "    </tr>\n",
       "    <tr>\n",
       "      <th>10</th>\n",
       "      <td>2021</td>\n",
       "      <td>165.136744</td>\n",
       "    </tr>\n",
       "    <tr>\n",
       "      <th>4</th>\n",
       "      <td>2015</td>\n",
       "      <td>165.136744</td>\n",
       "    </tr>\n",
       "    <tr>\n",
       "      <th>3</th>\n",
       "      <td>2014</td>\n",
       "      <td>165.136744</td>\n",
       "    </tr>\n",
       "    <tr>\n",
       "      <th>7</th>\n",
       "      <td>2018</td>\n",
       "      <td>165.136744</td>\n",
       "    </tr>\n",
       "    <tr>\n",
       "      <th>5</th>\n",
       "      <td>2016</td>\n",
       "      <td>165.136744</td>\n",
       "    </tr>\n",
       "    <tr>\n",
       "      <th>6</th>\n",
       "      <td>2017</td>\n",
       "      <td>165.136744</td>\n",
       "    </tr>\n",
       "    <tr>\n",
       "      <th>1</th>\n",
       "      <td>2012</td>\n",
       "      <td>165.136744</td>\n",
       "    </tr>\n",
       "    <tr>\n",
       "      <th>9</th>\n",
       "      <td>2020</td>\n",
       "      <td>165.136744</td>\n",
       "    </tr>\n",
       "    <tr>\n",
       "      <th>2</th>\n",
       "      <td>2013</td>\n",
       "      <td>165.136744</td>\n",
       "    </tr>\n",
       "    <tr>\n",
       "      <th>11</th>\n",
       "      <td>2022</td>\n",
       "      <td>165.136744</td>\n",
       "    </tr>\n",
       "    <tr>\n",
       "      <th>17</th>\n",
       "      <td>PensionDebt</td>\n",
       "      <td>23.412832</td>\n",
       "    </tr>\n",
       "  </tbody>\n",
       "</table>\n",
       "</div>"
      ],
      "text/plain": [
       "   feature_names  coefficients\n",
       "12       BasePay  10297.384158\n",
       "15      Benefits   3721.907949\n",
       "14      OtherPay   2730.256655\n",
       "13   OvertimePay   1028.312980\n",
       "16      TotalPay    879.090957\n",
       "0           2011    165.136744\n",
       "8           2019    165.136744\n",
       "10          2021    165.136744\n",
       "4           2015    165.136744\n",
       "3           2014    165.136744\n",
       "7           2018    165.136744\n",
       "5           2016    165.136744\n",
       "6           2017    165.136744\n",
       "1           2012    165.136744\n",
       "9           2020    165.136744\n",
       "2           2013    165.136744\n",
       "11          2022    165.136744\n",
       "17   PensionDebt     23.412832"
      ]
     },
     "execution_count": 43,
     "metadata": {},
     "output_type": "execute_result"
    }
   ],
   "source": [
    "feature_importance1 = feature_importance1.sort_values(by=\"coefficients\", ascending=False)\n",
    "feature_importance1"
   ]
  },
  {
   "cell_type": "code",
   "execution_count": 44,
   "metadata": {},
   "outputs": [
    {
     "data": {
      "text/html": [
       "<div>\n",
       "<style scoped>\n",
       "    .dataframe tbody tr th:only-of-type {\n",
       "        vertical-align: middle;\n",
       "    }\n",
       "\n",
       "    .dataframe tbody tr th {\n",
       "        vertical-align: top;\n",
       "    }\n",
       "\n",
       "    .dataframe thead th {\n",
       "        text-align: right;\n",
       "    }\n",
       "</style>\n",
       "<table border=\"1\" class=\"dataframe\">\n",
       "  <thead>\n",
       "    <tr style=\"text-align: right;\">\n",
       "      <th></th>\n",
       "      <th>feature_names</th>\n",
       "      <th>coefficients</th>\n",
       "    </tr>\n",
       "  </thead>\n",
       "  <tbody>\n",
       "    <tr>\n",
       "      <th>12</th>\n",
       "      <td>BasePay</td>\n",
       "      <td>39819.698442</td>\n",
       "    </tr>\n",
       "    <tr>\n",
       "      <th>13</th>\n",
       "      <td>OvertimePay</td>\n",
       "      <td>16188.930411</td>\n",
       "    </tr>\n",
       "    <tr>\n",
       "      <th>15</th>\n",
       "      <td>Benefits</td>\n",
       "      <td>14428.640947</td>\n",
       "    </tr>\n",
       "    <tr>\n",
       "      <th>14</th>\n",
       "      <td>OtherPay</td>\n",
       "      <td>8223.605957</td>\n",
       "    </tr>\n",
       "    <tr>\n",
       "      <th>0</th>\n",
       "      <td>2011</td>\n",
       "      <td>4450.776197</td>\n",
       "    </tr>\n",
       "    <tr>\n",
       "      <th>4</th>\n",
       "      <td>2015</td>\n",
       "      <td>4450.776197</td>\n",
       "    </tr>\n",
       "    <tr>\n",
       "      <th>1</th>\n",
       "      <td>2012</td>\n",
       "      <td>4450.776197</td>\n",
       "    </tr>\n",
       "    <tr>\n",
       "      <th>8</th>\n",
       "      <td>2019</td>\n",
       "      <td>4450.776197</td>\n",
       "    </tr>\n",
       "    <tr>\n",
       "      <th>3</th>\n",
       "      <td>2014</td>\n",
       "      <td>4450.776197</td>\n",
       "    </tr>\n",
       "    <tr>\n",
       "      <th>11</th>\n",
       "      <td>2022</td>\n",
       "      <td>4450.776197</td>\n",
       "    </tr>\n",
       "    <tr>\n",
       "      <th>5</th>\n",
       "      <td>2016</td>\n",
       "      <td>4450.776197</td>\n",
       "    </tr>\n",
       "    <tr>\n",
       "      <th>10</th>\n",
       "      <td>2021</td>\n",
       "      <td>4450.776197</td>\n",
       "    </tr>\n",
       "    <tr>\n",
       "      <th>9</th>\n",
       "      <td>2020</td>\n",
       "      <td>4450.776197</td>\n",
       "    </tr>\n",
       "    <tr>\n",
       "      <th>2</th>\n",
       "      <td>2013</td>\n",
       "      <td>4450.776197</td>\n",
       "    </tr>\n",
       "    <tr>\n",
       "      <th>7</th>\n",
       "      <td>2018</td>\n",
       "      <td>4450.776197</td>\n",
       "    </tr>\n",
       "    <tr>\n",
       "      <th>6</th>\n",
       "      <td>2017</td>\n",
       "      <td>4450.776197</td>\n",
       "    </tr>\n",
       "    <tr>\n",
       "      <th>16</th>\n",
       "      <td>TotalPay</td>\n",
       "      <td>972.950208</td>\n",
       "    </tr>\n",
       "    <tr>\n",
       "      <th>17</th>\n",
       "      <td>PensionDebt</td>\n",
       "      <td>945.452524</td>\n",
       "    </tr>\n",
       "  </tbody>\n",
       "</table>\n",
       "</div>"
      ],
      "text/plain": [
       "   feature_names  coefficients\n",
       "12       BasePay  39819.698442\n",
       "13   OvertimePay  16188.930411\n",
       "15      Benefits  14428.640947\n",
       "14      OtherPay   8223.605957\n",
       "0           2011   4450.776197\n",
       "4           2015   4450.776197\n",
       "1           2012   4450.776197\n",
       "8           2019   4450.776197\n",
       "3           2014   4450.776197\n",
       "11          2022   4450.776197\n",
       "5           2016   4450.776197\n",
       "10          2021   4450.776197\n",
       "9           2020   4450.776197\n",
       "2           2013   4450.776197\n",
       "7           2018   4450.776197\n",
       "6           2017   4450.776197\n",
       "16      TotalPay    972.950208\n",
       "17   PensionDebt    945.452524"
      ]
     },
     "execution_count": 44,
     "metadata": {},
     "output_type": "execute_result"
    }
   ],
   "source": [
    "feature_importance2 = feature_importance2.sort_values(by=\"coefficients\", ascending=False)\n",
    "feature_importance2"
   ]
  },
  {
   "cell_type": "markdown",
   "metadata": {},
   "source": [
    "## Step 5 - What does it means ?"
   ]
  },
  {
   "cell_type": "markdown",
   "metadata": {},
   "source": [
    "### 5.1 Equations\n",
    "\n",
    "#### Group 1\n",
    "\n",
    "$$ y = 10294 \\times BasePay + 3721 \\times Benefits + 2730 \\times OtherPay ...$$\n",
    "\n",
    "#### Group 2\n",
    "\n",
    "$$y = 39819 \\times BasePay + 16188 \\times OvertimePay + 14428 \\times Benefits ...$$"
   ]
  },
  {
   "cell_type": "markdown",
   "metadata": {},
   "source": [
    "### 5.2 - CAGR (compound annual growth rate) for both Group"
   ]
  },
  {
   "cell_type": "code",
   "execution_count": 117,
   "metadata": {},
   "outputs": [
    {
     "name": "stdout",
     "output_type": "stream",
     "text": [
      "Group 1, CAGR = 0.28%\n",
      "Group 2, CAGR = 5.45%\n"
     ]
    }
   ],
   "source": [
    "def GetCAGR_2011_2022(Group)->float:\n",
    "  my_df = pd.DataFrame()\n",
    "  for yr in range (2011, 2022+1):\n",
    "    current_df = Group[Group[\"Year\"] == yr]\n",
    "    current_mean = current_df[\"TotalPayBenefits\"].mean()\n",
    "    my_df.insert(0, yr, [current_mean])\n",
    "  \n",
    "  my_cagr = (my_df[2022].iloc[0]/my_df[2011].iloc[0])**(1.0/11)-1\n",
    "  return my_cagr\n",
    "\n",
    "cagr = GetCAGR_2011_2022(df1)\n",
    "print(f\"Group 1, CAGR = {cagr*100:.2f}%\", )\n",
    "\n",
    "cagr = GetCAGR_2011_2022(df2)\n",
    "print(f\"Group 2, CAGR = {cagr*100:.2f}%\", )\n"
   ]
  },
  {
   "cell_type": "markdown",
   "metadata": {},
   "source": [
    "This means that \n",
    "* Every year, from 2011 to 2022\n",
    "* The raise in Group 1 was 0.28% per year\n",
    "* While the raise in Group 2 was 5.45% per year\n"
   ]
  },
  {
   "cell_type": "markdown",
   "metadata": {},
   "source": [
    "### 5.2 - List of the JobTitle per group"
   ]
  },
  {
   "cell_type": "code",
   "execution_count": 47,
   "metadata": {},
   "outputs": [],
   "source": [
    "df1.insert(0, \"Id\", list(range(1, len(df1) + 1)))"
   ]
  },
  {
   "cell_type": "code",
   "execution_count": 75,
   "metadata": {},
   "outputs": [
    {
     "name": "stdout",
     "output_type": "stream",
     "text": [
      "Group 1 : \n",
      "JobTitle\n",
      "ACCOUNT CLERK               171\n",
      "ACCOUNTANT                    1\n",
      "ACCOUNTANT I                  5\n",
      "ACCOUNTANT II                42\n",
      "ACCOUNTANT III               89\n",
      "ACCOUNTANT INTERN           143\n",
      "ACCOUNTANT IV                43\n",
      "ADM, SFGH MEDICAL CENTER      1\n",
      "ADMIN ANALYST 3               3\n",
      "ADMIN HEARING EXAMINER       40\n",
      "Name: Id, dtype: int64\n",
      "\n",
      "Number of uniques job title :  1255\n"
     ]
    },
    {
     "name": "stderr",
     "output_type": "stream",
     "text": [
      "C:\\Users\\phili\\AppData\\Local\\Temp\\ipykernel_16408\\2842789977.py:1: SettingWithCopyWarning: \n",
      "A value is trying to be set on a copy of a slice from a DataFrame.\n",
      "Try using .loc[row_indexer,col_indexer] = value instead\n",
      "\n",
      "See the caveats in the documentation: https://pandas.pydata.org/pandas-docs/stable/user_guide/indexing.html#returning-a-view-versus-a-copy\n",
      "  df1[\"JobTitle\"] = df1[\"JobTitle\"].str.upper()\n"
     ]
    }
   ],
   "source": [
    "df1[\"JobTitle\"] = df1[\"JobTitle\"].str.upper()\n",
    "list_of_names1 = df1.groupby(\"JobTitle\")[\"Id\"].nunique()\n",
    "\n",
    "print(\"Group 1 : \")\n",
    "print(list_of_names1.head(10))\n",
    "print(\"\\nNumber of uniques job title : \", len(list_of_names1))"
   ]
  },
  {
   "cell_type": "code",
   "execution_count": 49,
   "metadata": {},
   "outputs": [],
   "source": [
    "df2.insert(0, \"Id\", list(range(1, len(df2) + 1)))"
   ]
  },
  {
   "cell_type": "code",
   "execution_count": 53,
   "metadata": {},
   "outputs": [
    {
     "name": "stdout",
     "output_type": "stream",
     "text": [
      "Group 2 : \n",
      "JobTitle\n",
      "ACCOUNT CLERK                    635\n",
      "ACCOUNTANT                         4\n",
      "ACCOUNTANT I                      14\n",
      "ACCOUNTANT II                    632\n",
      "ACCOUNTANT II (OCII)               3\n",
      "ACCOUNTANT III                  1268\n",
      "ACCOUNTANT III (OCII)              2\n",
      "ACCOUNTANT INTERN                189\n",
      "ACCOUNTANT IV                    692\n",
      "ACCOUNTING SUPERVISOR (OCII)       3\n",
      "Name: Id, dtype: int64\n",
      "\n",
      "Number of uniques job title :  1760\n"
     ]
    },
    {
     "name": "stderr",
     "output_type": "stream",
     "text": [
      "C:\\Users\\phili\\AppData\\Local\\Temp\\ipykernel_16408\\283204350.py:1: SettingWithCopyWarning: \n",
      "A value is trying to be set on a copy of a slice from a DataFrame.\n",
      "Try using .loc[row_indexer,col_indexer] = value instead\n",
      "\n",
      "See the caveats in the documentation: https://pandas.pydata.org/pandas-docs/stable/user_guide/indexing.html#returning-a-view-versus-a-copy\n",
      "  df2[\"JobTitle\"] = df2[\"JobTitle\"].str.upper()\n"
     ]
    }
   ],
   "source": [
    "df2[\"JobTitle\"] = df2[\"JobTitle\"].str.upper()\n",
    "list_of_names2 = df2.groupby(\"JobTitle\")[\"Id\"].nunique()\n",
    "\n",
    "print(\"Group 2 : \")\n",
    "print(list_of_names2.head(10))\n",
    "print(\"\\nNumber of uniques job title : \", len(list_of_names2))"
   ]
  },
  {
   "cell_type": "markdown",
   "metadata": {},
   "source": [
    "### 5.3 - JobTitle per group per year"
   ]
  },
  {
   "cell_type": "code",
   "execution_count": 58,
   "metadata": {},
   "outputs": [
    {
     "name": "stdout",
     "output_type": "stream",
     "text": [
      "Group 1 : \n",
      "                                 2022   2021   2020    2019   2018   2017  \\\n",
      "PUBLIC SERVICE TRAINEE          587.0  439.0  521.0   783.0  808.0  940.0   \n",
      "TRANSIT OPERATOR                517.0  398.0  310.0   762.0  402.0  360.0   \n",
      "RECREATION LEADER               436.0  322.0  555.0   746.0  758.0  677.0   \n",
      "JUNIOR CLERK                    243.0  278.0  394.0   216.0  269.0   16.0   \n",
      "SCHOOL CROSSING GUARD           206.0  205.0  200.0   219.0  217.0  241.0   \n",
      "PUBLIC SVC AIDE-PUBLIC WORKS    159.0  166.0  208.0   379.0  482.0  511.0   \n",
      "SPECIAL NURSE                   148.0  166.0  937.0  1028.0  944.0  985.0   \n",
      "CLERK                           146.0  175.0  327.0   205.0  138.0   59.0   \n",
      "STDNTDSGNTRAIN1, ARCH/ENG/PLNG  119.0   71.0   59.0   182.0  189.0  195.0   \n",
      "CAMP ASSISTANT                  111.0    NaN    NaN   132.0  108.0  107.0   \n",
      "CUSTODIAN                        95.0  101.0  105.0   179.0  120.0  149.0   \n",
      "POOL LIFEGUARD                   86.0   82.0   97.0   133.0  136.0  134.0   \n",
      "POLICE OFFICER 3                 85.0   54.0   57.0    32.0   66.0   31.0   \n",
      "REGISTERED NURSE                 83.0   51.0  107.0    67.0   78.0   64.0   \n",
      "STDNTDSGN TRAIN2/ARCH/ENG/PLNG   70.0   51.0   37.0   123.0  103.0   78.0   \n",
      "PATIENT CARE ASSISTANT           65.0   46.0   50.0   109.0   37.0   50.0   \n",
      "BDCOMM MBR, GRP5,M$100/MO        59.0   58.0   64.0    61.0   62.0   56.0   \n",
      "PARKING CONTROL OFFICER          57.0   44.0   50.0    58.0   34.0   39.0   \n",
      "GENERAL LABORER                  56.0   38.0   44.0    66.0   53.0   58.0   \n",
      "SUPERIOR COURT JUDGE             53.0    NaN   54.0    53.0    NaN    NaN   \n",
      "\n",
      "                                  2016   2015    2014   2013   2012    2011  \n",
      "PUBLIC SERVICE TRAINEE           865.0  784.0   463.0  411.0  363.0   315.0  \n",
      "TRANSIT OPERATOR                 428.0  539.0   551.0  337.0  303.0   640.0  \n",
      "RECREATION LEADER                672.0  690.0   688.0  651.0  627.0   692.0  \n",
      "JUNIOR CLERK                     291.0  137.0   210.0  117.0  231.0   156.0  \n",
      "SCHOOL CROSSING GUARD            220.0  219.0   198.0  201.0  159.0   154.0  \n",
      "PUBLIC SVC AIDE-PUBLIC WORKS     536.0  696.0   896.0  837.0  731.0     NaN  \n",
      "SPECIAL NURSE                   1036.0  980.0  1008.0  986.0  966.0  1018.0  \n",
      "CLERK                            104.0   71.0    94.0   80.0  103.0   135.0  \n",
      "STDNTDSGNTRAIN1, ARCH/ENG/PLNG   176.0  191.0   155.0  127.0  114.0     NaN  \n",
      "CAMP ASSISTANT                    94.0   72.0    58.0   46.0   45.0    59.0  \n",
      "CUSTODIAN                        126.0  121.0   140.0  133.0  186.0   292.0  \n",
      "POOL LIFEGUARD                   135.0  160.0   149.0  129.0   96.0     NaN  \n",
      "POLICE OFFICER 3                  25.0   28.0    35.0   22.0   54.0     NaN  \n",
      "REGISTERED NURSE                 109.0   63.0    77.0   51.0   84.0    79.0  \n",
      "STDNTDSGN TRAIN2/ARCH/ENG/PLNG    62.0   73.0    58.0   61.0   52.0     NaN  \n",
      "PATIENT CARE ASSISTANT            76.0   99.0   187.0  276.0  193.0     NaN  \n",
      "BDCOMM MBR, GRP5,M$100/MO         53.0   53.0    54.0   55.0   57.0     NaN  \n",
      "PARKING CONTROL OFFICER           40.0   21.0    47.0   31.0   23.0    46.0  \n",
      "GENERAL LABORER                   38.0   70.0    44.0   58.0   50.0   101.0  \n",
      "SUPERIOR COURT JUDGE               NaN    NaN     NaN   51.0   51.0    53.0  \n"
     ]
    }
   ],
   "source": [
    "# Build a dataframe with, per year, the numbers of JobTitle\n",
    "my_df1 = pd.DataFrame()\n",
    "for yr in range (2022, 2011-1, -1):\n",
    "  current_df = df1[df1[\"Year\"] == yr]\n",
    "  current_series = current_df.groupby(\"JobTitle\")[\"Id\"].nunique()\n",
    "  current_series = current_series.sort_values(ascending=False)\n",
    "  current_series = current_series.rename(yr)\n",
    "  my_df1 = pd.concat([my_df1, current_series], axis=1)\n",
    "\n",
    "my_df1.sort_values(by=[2022], ascending=False, inplace=True)\n",
    "\n",
    "print(\"Group 1 : \")\n",
    "print(my_df1.head(20))\n"
   ]
  },
  {
   "cell_type": "code",
   "execution_count": 57,
   "metadata": {},
   "outputs": [
    {
     "name": "stdout",
     "output_type": "stream",
     "text": [
      "Group 2 : \n",
      "                                 2022    2021    2020    2019    2018    2017  \\\n",
      "TRANSIT OPERATOR               2117.0  2116.0  2298.0  2361.0  2339.0  2360.0   \n",
      "REGISTERED NURSE               1442.0  1463.0  1461.0  1404.0  1367.0  1340.0   \n",
      "POLICE OFFICER 3                911.0   887.0   811.0   789.0   745.0   693.0   \n",
      "FIREFIGHTER                     794.0   816.0   832.0   843.0   880.0   860.0   \n",
      "CUSTODIAN                       743.0   746.0   751.0   738.0   734.0   702.0   \n",
      "PATIENT CARE ASSISTANT          511.0   512.0   519.0   491.0   492.0   497.0   \n",
      "EMT/PARAMEDIC/FIREFIGHTER       488.0   412.0   405.0   400.0   400.0   378.0   \n",
      "SERGEANT 3                      463.0   493.0   497.0   498.0   452.0   438.0   \n",
      "HSA SR ELIGIBILITY WORKER       448.0   492.0   495.0   512.0   499.0   509.0   \n",
      "ATTORNEY (CIVIL/CRIMINAL)       405.0   394.0   400.0   408.0   398.0   384.0   \n",
      "SPECIAL NURSE                   386.0   338.0   621.0   641.0   683.0   685.0   \n",
      "SENIOR ADMINISTRATIVE ANALYST   357.0   332.0   313.0   309.0   299.0   272.0   \n",
      "POLICE OFFICER 2                337.0   438.0   424.0   447.0   441.0   415.0   \n",
      "PORTER                          333.0   348.0   347.0   319.0   308.0   320.0   \n",
      "DEPUTY SHERIFF                  323.0   368.0   393.0   425.0   456.0   497.0   \n",
      "GENERAL LABORER                 304.0   311.0   328.0   343.0   322.0   315.0   \n",
      "SENIOR CLERK                    286.0   284.0   284.0   284.0   309.0   292.0   \n",
      "DEPUTY SHERIFF (SFERS)          280.0   283.0   281.0   201.0   144.0    86.0   \n",
      "PARKING CONTROL OFFICER         279.0   289.0   282.0   298.0   288.0   289.0   \n",
      "GARDENER                        270.0   263.0   263.0   280.0   267.0   263.0   \n",
      "\n",
      "                                 2016    2015    2014    2013    2012    2011  \n",
      "TRANSIT OPERATOR               2333.0  2198.0  1928.0  1958.0  1959.0  1747.0  \n",
      "REGISTERED NURSE               1251.0  1241.0  1157.0  1180.0  1187.0  1140.0  \n",
      "POLICE OFFICER 3                739.0   684.0   748.0   752.0   810.0     NaN  \n",
      "FIREFIGHTER                     837.0   749.0   759.0   735.0   709.0   781.0  \n",
      "CUSTODIAN                       705.0   684.0   661.0   656.0   639.0   504.0  \n",
      "PATIENT CARE ASSISTANT          483.0   475.0   465.0   400.0   424.0     NaN  \n",
      "EMT/PARAMEDIC/FIREFIGHTER       366.0   339.0   304.0   287.0   306.0     NaN  \n",
      "SERGEANT 3                      412.0   392.0   367.0   359.0   306.0     NaN  \n",
      "HSA SR ELIGIBILITY WORKER       502.0   484.0   424.0     NaN     NaN     NaN  \n",
      "ATTORNEY (CIVIL/CRIMINAL)       370.0   362.0   359.0   352.0   351.0   352.0  \n",
      "SPECIAL NURSE                   607.0   542.0   470.0   459.0   500.0   384.0  \n",
      "SENIOR ADMINISTRATIVE ANALYST   249.0   227.0   191.0   189.0   183.0   163.0  \n",
      "POLICE OFFICER 2                412.0   342.0   333.0   379.0   412.0     NaN  \n",
      "PORTER                          308.0   282.0   269.0   245.0   260.0   236.0  \n",
      "DEPUTY SHERIFF                  539.0   576.0   601.0   622.0   643.0   662.0  \n",
      "GENERAL LABORER                 320.0   287.0   297.0   285.0   295.0   276.0  \n",
      "SENIOR CLERK                    275.0   261.0   243.0   232.0   198.0   143.0  \n",
      "DEPUTY SHERIFF (SFERS)           48.0    37.0    16.0     NaN     NaN     NaN  \n",
      "PARKING CONTROL OFFICER         269.0   278.0   269.0   253.0   243.0   226.0  \n",
      "GARDENER                        252.0   262.0   261.0   266.0   249.0   253.0  \n"
     ]
    }
   ],
   "source": [
    "# Build a dataframe with, per year, the numbers of JobTitle\n",
    "my_df2 = pd.DataFrame()\n",
    "for yr in range (2022, 2011-1, -1):\n",
    "  current_df = df2[df2[\"Year\"] == yr]\n",
    "  current_series = current_df.groupby(\"JobTitle\")[\"Id\"].nunique()\n",
    "  current_series = current_series.sort_values(ascending=False)\n",
    "  current_series = current_series.rename(yr)\n",
    "  my_df2 = pd.concat([my_df2, current_series], axis=1)\n",
    "\n",
    "my_df2.sort_values(by=[2022], ascending=False, inplace=True)\n",
    "\n",
    "print(\"Group 2 : \")\n",
    "print(my_df2.head(20))\n"
   ]
  },
  {
   "cell_type": "code",
   "execution_count": null,
   "metadata": {},
   "outputs": [
    {
     "data": {
      "text/html": [
       "<div>\n",
       "<style scoped>\n",
       "    .dataframe tbody tr th:only-of-type {\n",
       "        vertical-align: middle;\n",
       "    }\n",
       "\n",
       "    .dataframe tbody tr th {\n",
       "        vertical-align: top;\n",
       "    }\n",
       "\n",
       "    .dataframe thead th {\n",
       "        text-align: right;\n",
       "    }\n",
       "</style>\n",
       "<table border=\"1\" class=\"dataframe\">\n",
       "  <thead>\n",
       "    <tr style=\"text-align: right;\">\n",
       "      <th></th>\n",
       "      <th>Id</th>\n",
       "      <th>JobTitle</th>\n",
       "      <th>BasePay</th>\n",
       "      <th>OvertimePay</th>\n",
       "      <th>OtherPay</th>\n",
       "      <th>Benefits</th>\n",
       "      <th>TotalPay</th>\n",
       "      <th>PensionDebt</th>\n",
       "      <th>TotalPayBenefits</th>\n",
       "      <th>Year</th>\n",
       "    </tr>\n",
       "  </thead>\n",
       "  <tbody>\n",
       "    <tr>\n",
       "      <th>14327</th>\n",
       "      <td>14328</td>\n",
       "      <td>PUBLIC SERVICE TRAINEE</td>\n",
       "      <td>58920.48</td>\n",
       "      <td>20848.54</td>\n",
       "      <td>624.00</td>\n",
       "      <td>0.00</td>\n",
       "      <td>80393.02</td>\n",
       "      <td>0.0</td>\n",
       "      <td>80393.02</td>\n",
       "      <td>2011</td>\n",
       "    </tr>\n",
       "    <tr>\n",
       "      <th>19731</th>\n",
       "      <td>19732</td>\n",
       "      <td>PUBLIC SERVICE TRAINEE</td>\n",
       "      <td>64057.00</td>\n",
       "      <td>0.00</td>\n",
       "      <td>0.00</td>\n",
       "      <td>0.00</td>\n",
       "      <td>64057.00</td>\n",
       "      <td>0.0</td>\n",
       "      <td>64057.00</td>\n",
       "      <td>2011</td>\n",
       "    </tr>\n",
       "    <tr>\n",
       "      <th>20839</th>\n",
       "      <td>20840</td>\n",
       "      <td>PUBLIC SERVICE TRAINEE</td>\n",
       "      <td>58708.58</td>\n",
       "      <td>0.00</td>\n",
       "      <td>1915.90</td>\n",
       "      <td>0.00</td>\n",
       "      <td>60624.48</td>\n",
       "      <td>0.0</td>\n",
       "      <td>60624.48</td>\n",
       "      <td>2011</td>\n",
       "    </tr>\n",
       "    <tr>\n",
       "      <th>21485</th>\n",
       "      <td>21486</td>\n",
       "      <td>PUBLIC SERVICE TRAINEE</td>\n",
       "      <td>58708.63</td>\n",
       "      <td>0.00</td>\n",
       "      <td>211.88</td>\n",
       "      <td>0.00</td>\n",
       "      <td>58920.51</td>\n",
       "      <td>0.0</td>\n",
       "      <td>58920.51</td>\n",
       "      <td>2011</td>\n",
       "    </tr>\n",
       "    <tr>\n",
       "      <th>21486</th>\n",
       "      <td>21487</td>\n",
       "      <td>PUBLIC SERVICE TRAINEE</td>\n",
       "      <td>58920.47</td>\n",
       "      <td>0.00</td>\n",
       "      <td>0.00</td>\n",
       "      <td>0.00</td>\n",
       "      <td>58920.47</td>\n",
       "      <td>0.0</td>\n",
       "      <td>58920.47</td>\n",
       "      <td>2011</td>\n",
       "    </tr>\n",
       "    <tr>\n",
       "      <th>...</th>\n",
       "      <td>...</td>\n",
       "      <td>...</td>\n",
       "      <td>...</td>\n",
       "      <td>...</td>\n",
       "      <td>...</td>\n",
       "      <td>...</td>\n",
       "      <td>...</td>\n",
       "      <td>...</td>\n",
       "      <td>...</td>\n",
       "      <td>...</td>\n",
       "    </tr>\n",
       "    <tr>\n",
       "      <th>470038</th>\n",
       "      <td>375044</td>\n",
       "      <td>PUBLIC SERVICE TRAINEE</td>\n",
       "      <td>31773.52</td>\n",
       "      <td>5116.98</td>\n",
       "      <td>285.37</td>\n",
       "      <td>7190.76</td>\n",
       "      <td>37175.87</td>\n",
       "      <td>0.0</td>\n",
       "      <td>44366.63</td>\n",
       "      <td>2022</td>\n",
       "    </tr>\n",
       "    <tr>\n",
       "      <th>470106</th>\n",
       "      <td>375112</td>\n",
       "      <td>PUBLIC SERVICE TRAINEE</td>\n",
       "      <td>30290.00</td>\n",
       "      <td>0.00</td>\n",
       "      <td>0.00</td>\n",
       "      <td>13253.47</td>\n",
       "      <td>30290.00</td>\n",
       "      <td>0.0</td>\n",
       "      <td>43543.47</td>\n",
       "      <td>2022</td>\n",
       "    </tr>\n",
       "    <tr>\n",
       "      <th>470134</th>\n",
       "      <td>375140</td>\n",
       "      <td>PUBLIC SERVICE TRAINEE</td>\n",
       "      <td>23643.29</td>\n",
       "      <td>4559.45</td>\n",
       "      <td>170.70</td>\n",
       "      <td>14884.90</td>\n",
       "      <td>28373.44</td>\n",
       "      <td>0.0</td>\n",
       "      <td>43258.34</td>\n",
       "      <td>2022</td>\n",
       "    </tr>\n",
       "    <tr>\n",
       "      <th>470151</th>\n",
       "      <td>375157</td>\n",
       "      <td>PUBLIC SERVICE TRAINEE</td>\n",
       "      <td>28995.82</td>\n",
       "      <td>0.00</td>\n",
       "      <td>0.00</td>\n",
       "      <td>14043.02</td>\n",
       "      <td>28995.82</td>\n",
       "      <td>0.0</td>\n",
       "      <td>43038.84</td>\n",
       "      <td>2022</td>\n",
       "    </tr>\n",
       "    <tr>\n",
       "      <th>470189</th>\n",
       "      <td>375195</td>\n",
       "      <td>PUBLIC SERVICE TRAINEE</td>\n",
       "      <td>24254.86</td>\n",
       "      <td>3452.51</td>\n",
       "      <td>189.55</td>\n",
       "      <td>14743.36</td>\n",
       "      <td>27896.92</td>\n",
       "      <td>0.0</td>\n",
       "      <td>42640.28</td>\n",
       "      <td>2022</td>\n",
       "    </tr>\n",
       "  </tbody>\n",
       "</table>\n",
       "<p>531 rows × 10 columns</p>\n",
       "</div>"
      ],
      "text/plain": [
       "            Id                JobTitle   BasePay  OvertimePay  OtherPay  \\\n",
       "14327    14328  PUBLIC SERVICE TRAINEE  58920.48     20848.54    624.00   \n",
       "19731    19732  PUBLIC SERVICE TRAINEE  64057.00         0.00      0.00   \n",
       "20839    20840  PUBLIC SERVICE TRAINEE  58708.58         0.00   1915.90   \n",
       "21485    21486  PUBLIC SERVICE TRAINEE  58708.63         0.00    211.88   \n",
       "21486    21487  PUBLIC SERVICE TRAINEE  58920.47         0.00      0.00   \n",
       "...        ...                     ...       ...          ...       ...   \n",
       "470038  375044  PUBLIC SERVICE TRAINEE  31773.52      5116.98    285.37   \n",
       "470106  375112  PUBLIC SERVICE TRAINEE  30290.00         0.00      0.00   \n",
       "470134  375140  PUBLIC SERVICE TRAINEE  23643.29      4559.45    170.70   \n",
       "470151  375157  PUBLIC SERVICE TRAINEE  28995.82         0.00      0.00   \n",
       "470189  375195  PUBLIC SERVICE TRAINEE  24254.86      3452.51    189.55   \n",
       "\n",
       "        Benefits  TotalPay  PensionDebt  TotalPayBenefits  Year  \n",
       "14327       0.00  80393.02          0.0          80393.02  2011  \n",
       "19731       0.00  64057.00          0.0          64057.00  2011  \n",
       "20839       0.00  60624.48          0.0          60624.48  2011  \n",
       "21485       0.00  58920.51          0.0          58920.51  2011  \n",
       "21486       0.00  58920.47          0.0          58920.47  2011  \n",
       "...          ...       ...          ...               ...   ...  \n",
       "470038   7190.76  37175.87          0.0          44366.63  2022  \n",
       "470106  13253.47  30290.00          0.0          43543.47  2022  \n",
       "470134  14884.90  28373.44          0.0          43258.34  2022  \n",
       "470151  14043.02  28995.82          0.0          43038.84  2022  \n",
       "470189  14743.36  27896.92          0.0          42640.28  2022  \n",
       "\n",
       "[531 rows x 10 columns]"
      ]
     },
     "execution_count": 61,
     "metadata": {},
     "output_type": "execute_result"
    }
   ],
   "source": []
  },
  {
   "cell_type": "code",
   "execution_count": 64,
   "metadata": {},
   "outputs": [
    {
     "name": "stdout",
     "output_type": "stream",
     "text": [
      "From Group 1\n",
      "Year\n",
      "2011     6123.892921\n",
      "2012     6836.657906\n",
      "2013     6423.596375\n",
      "2014     6452.560389\n",
      "2015     8326.013635\n",
      "2016     9784.335861\n",
      "2017     7730.571904\n",
      "2018     9381.720631\n",
      "2019     9656.710051\n",
      "2020    10421.764357\n",
      "2021     8302.860934\n",
      "2022     8651.239284\n",
      "Name: TotalPayBenefits, dtype: float64\n"
     ]
    },
    {
     "data": {
      "text/plain": [
       "0.03190799196402416"
      ]
     },
     "execution_count": 64,
     "metadata": {},
     "output_type": "execute_result"
    },
    {
     "data": {
      "image/png": "[encoded data removed]",
      "text/plain": [
       "<Figure size 640x480 with 1 Axes>"
      ]
     },
     "metadata": {},
     "output_type": "display_data"
    }
   ],
   "source": [
    "print(\"From Group 1\")\n",
    "serie_tmp = df1[df1[\"JobTitle\"]==\"PUBLIC SERVICE TRAINEE\"].groupby(\"Year\")[\"TotalPayBenefits\"].mean()\n",
    "print(serie_tmp)\n",
    "serie_tmp.plot()\n",
    "\n",
    "CAGR = (serie_tmp[2022]/serie_tmp[2011])**(1.0/11)-1\n",
    "CAGR\n"
   ]
  },
  {
   "cell_type": "code",
   "execution_count": 73,
   "metadata": {},
   "outputs": [
    {
     "name": "stdout",
     "output_type": "stream",
     "text": [
      "From Group 1\n",
      "Year\n",
      "2012    6589.675521\n",
      "2013    5270.199147\n",
      "2014    5892.909463\n",
      "2015    6730.177625\n",
      "2016    8681.318889\n",
      "2017    6634.407985\n",
      "2018    7111.683162\n",
      "2019    7596.445714\n",
      "2020    2369.561649\n",
      "2021    4471.870976\n",
      "2022    9354.963953\n",
      "Name: TotalPayBenefits, dtype: float64\n"
     ]
    },
    {
     "data": {
      "text/plain": [
       "0.03566144484025213"
      ]
     },
     "execution_count": 73,
     "metadata": {},
     "output_type": "execute_result"
    },
    {
     "data": {
      "image/png": "[encoded data removed]",
      "text/plain": [
       "<Figure size 640x480 with 1 Axes>"
      ]
     },
     "metadata": {},
     "output_type": "display_data"
    }
   ],
   "source": [
    "print(\"From Group 1\")\n",
    "serie_tmp = df1[df1[\"JobTitle\"]==\"POOL LIFEGUARD\"].groupby(\"Year\")[\"TotalPayBenefits\"].mean()\n",
    "print(serie_tmp)\n",
    "serie_tmp.plot()\n",
    "\n",
    "serie_tmp[2022]\n",
    "\n",
    "CAGR = (serie_tmp[2022]/serie_tmp[2012])**(1.0/10)-1\n",
    "CAGR\n",
    "\n",
    "\n",
    "\n"
   ]
  },
  {
   "cell_type": "code",
   "execution_count": 74,
   "metadata": {},
   "outputs": [
    {
     "name": "stdout",
     "output_type": "stream",
     "text": [
      "From Group 2\n",
      "Year\n",
      "2011    141363.611665\n",
      "2012    193148.952454\n",
      "2013    200393.859415\n",
      "2014    188812.103821\n",
      "2015    186193.051375\n",
      "2016    177960.764277\n",
      "2017    175059.082686\n",
      "2018    174897.070455\n",
      "2019    185803.794769\n",
      "2020    200747.526587\n",
      "2021    221594.415588\n",
      "2022    222185.978111\n",
      "Name: TotalPayBenefits, dtype: float64\n"
     ]
    },
    {
     "data": {
      "text/plain": [
       "0.04196381638870994"
      ]
     },
     "execution_count": 74,
     "metadata": {},
     "output_type": "execute_result"
    },
    {
     "data": {
      "image/png": "[encoded data removed]",
      "text/plain": [
       "<Figure size 640x480 with 1 Axes>"
      ]
     },
     "metadata": {},
     "output_type": "display_data"
    }
   ],
   "source": [
    "print(\"From Group 2\")\n",
    "serie_tmp = df2[df2[\"JobTitle\"]==\"FIREFIGHTER\"].groupby(\"Year\")[\"TotalPayBenefits\"].mean()\n",
    "print(serie_tmp)\n",
    "serie_tmp.plot()\n",
    "\n",
    "CAGR = (serie_tmp[2022]/serie_tmp[2011])**(1.0/11)-1\n",
    "CAGR"
   ]
  },
  {
   "cell_type": "markdown",
   "metadata": {},
   "source": [
    "## SCRAP BOOK"
   ]
  },
  {
   "cell_type": "code",
   "execution_count": null,
   "metadata": {},
   "outputs": [],
   "source": [
    "df_trainee = df1[df1[\"JobTitle\"] == \"PUBLIC SERVICE TRAINEE\"]\n",
    "df_trainee\n",
    "\n",
    "df_firefighter = df2[df2[\"JobTitle\"] == \"FIREFIGHTER\"]\n",
    "df_firefighter"
   ]
  },
  {
   "cell_type": "code",
   "execution_count": 81,
   "metadata": {},
   "outputs": [
    {
     "data": {
      "text/plain": [
       "JobTitle\n",
       "ACCOUNT CLERK                      5\n",
       "ACCOUNTANT II                      1\n",
       "ACCOUNTANT III                    11\n",
       "ACCOUNTANT INTERN                 12\n",
       "ACCOUNTANT IV                      1\n",
       "                                  ..\n",
       "WATER QUALITY TECHNICIAN           2\n",
       "WATER SERVICE INSPECTOR            1\n",
       "WATERSHED KEEPER                   6\n",
       "WATERSHED WORKER (SEASONAL)       24\n",
       "WORKER'S COMPENSATION ADJUSTER     4\n",
       "Name: Id, Length: 513, dtype: int64"
      ]
     },
     "execution_count": 81,
     "metadata": {},
     "output_type": "execute_result"
    }
   ],
   "source": [
    "current_df = df1[df1[\"Year\"] == 2022]\n",
    "#current_series = current_df.groupby(\"JobTitle\")[\"Id\"].nunique()\n",
    "current_series = current_df.groupby(\"JobTitle\")[\"Id\"].nunique()\n",
    "current_series"
   ]
  },
  {
   "cell_type": "code",
   "execution_count": 116,
   "metadata": {},
   "outputs": [
    {
     "name": "stdout",
     "output_type": "stream",
     "text": [
      "Group 1, CAGR = 0.28%\n",
      "Group 2, CAGR = 5.45%\n"
     ]
    }
   ],
   "source": []
  }
 ],
 "metadata": {
  "interpreter": {
   "hash": "216d08ced86f1f6e0b5764233bcb18334be12ba95b6ee555f60be9cf0be8c147"
  },
  "kernelspec": {
   "display_name": "Python 3",
   "language": "python",
   "name": "python3"
  },
  "language_info": {
   "codemirror_mode": {
    "name": "ipython",
    "version": 3
   },
   "file_extension": ".py",
   "mimetype": "text/x-python",
   "name": "python",
   "nbconvert_exporter": "python",
   "pygments_lexer": "ipython3",
   "version": "3.10.12"
  }
 },
 "nbformat": 4,
 "nbformat_minor": 4
}
