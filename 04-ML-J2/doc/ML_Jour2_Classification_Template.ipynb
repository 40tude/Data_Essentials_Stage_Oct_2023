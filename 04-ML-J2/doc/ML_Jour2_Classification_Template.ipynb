{
 "cells": [
  {
   "attachments": {},
   "cell_type": "markdown",
   "metadata": {},
   "source": [
    "# Classification\n",
    "\n",
    "Let's now build our first classification models. This is a template you can reuse when you'll be building your own models. \n",
    "\n",
    "## What you will learn in this course 🧐🧐\n",
    "\n",
    "* Create logistic regressions using `sklearn`\n",
    "* Create decision trees and random forests using `sklearn`\n",
    "* Visualize your results with confusion matrix \n",
    "* Check feature importance "
   ]
  },
  {
   "attachments": {},
   "cell_type": "markdown",
   "metadata": {},
   "source": [
    "## Step 1 - Preprocessing 🍳\n",
    "\n",
    "As you already know, there is always a preprocessing step that includes: \n",
    "\n",
    "* Importing libraries \n",
    "* Importing data \n",
    "* EDA\n",
    "* Seperate target & feature variable \n",
    "* Split data into training and testing set\n",
    "* Standardize data \n",
    "\n",
    "\n",
    "Let's do that here: "
   ]
  },
  {
   "attachments": {},
   "cell_type": "markdown",
   "metadata": {},
   "source": [
    ":::warning Check your `sklearn` version \n",
    "\n",
    "For this template, we'll be using `sklearn` version **1.0.2**. You need to make sure you have the same one otherwise this template won't work for every python command. \n",
    "\n",
    "To check your sklearn version, run:\n",
    "\n",
    "```python \n",
    "\n",
    "import sklearn \n",
    "sklearn.__version__\n",
    "```\n",
    "\n",
    "If you don't have version **1.0.0+ or above** you will need to run:\n",
    "\n",
    "* `!pip install --upgrade scikit-learn`\n",
    "* Then restart your kernel \n",
    "\n",
    ":::"
   ]
  },
  {
   "cell_type": "code",
   "execution_count": 329,
   "metadata": {},
   "outputs": [
    {
     "data": {
      "text/plain": [
       "'1.3.0'"
      ]
     },
     "execution_count": 329,
     "metadata": {},
     "output_type": "execute_result"
    }
   ],
   "source": [
    "import sklearn\n",
    "sklearn.__version__"
   ]
  },
  {
   "cell_type": "code",
   "execution_count": 330,
   "metadata": {},
   "outputs": [],
   "source": [
    "# Imports\n",
    "import pandas as pd\n",
    "import numpy as np # Not always necessary\n",
    "import matplotlib.pyplot as plt # Not always necessary\n",
    "import seaborn as sns # Not always necessary\n",
    "from sklearn.model_selection import train_test_split\n",
    "from sklearn.preprocessing import StandardScaler, OneHotEncoder\n",
    "from sklearn.compose import ColumnTransformer\n",
    "from sklearn.linear_model import LogisticRegression\n",
    "from sklearn.tree import DecisionTreeClassifier\n",
    "from sklearn.ensemble import RandomForestClassifier\n",
    "from sklearn.metrics import confusion_matrix, ConfusionMatrixDisplay"
   ]
  },
  {
   "cell_type": "code",
   "execution_count": 331,
   "metadata": {},
   "outputs": [
    {
     "data": {
      "text/html": [
       "<div>\n",
       "<style scoped>\n",
       "    .dataframe tbody tr th:only-of-type {\n",
       "        vertical-align: middle;\n",
       "    }\n",
       "\n",
       "    .dataframe tbody tr th {\n",
       "        vertical-align: top;\n",
       "    }\n",
       "\n",
       "    .dataframe thead th {\n",
       "        text-align: right;\n",
       "    }\n",
       "</style>\n",
       "<table border=\"1\" class=\"dataframe\">\n",
       "  <thead>\n",
       "    <tr style=\"text-align: right;\">\n",
       "      <th></th>\n",
       "      <th>User ID</th>\n",
       "      <th>Gender</th>\n",
       "      <th>Age</th>\n",
       "      <th>EstimatedSalary</th>\n",
       "      <th>Purchased</th>\n",
       "    </tr>\n",
       "  </thead>\n",
       "  <tbody>\n",
       "    <tr>\n",
       "      <th>0</th>\n",
       "      <td>15624510</td>\n",
       "      <td>Male</td>\n",
       "      <td>19</td>\n",
       "      <td>19000</td>\n",
       "      <td>0</td>\n",
       "    </tr>\n",
       "    <tr>\n",
       "      <th>1</th>\n",
       "      <td>15810944</td>\n",
       "      <td>Male</td>\n",
       "      <td>35</td>\n",
       "      <td>20000</td>\n",
       "      <td>0</td>\n",
       "    </tr>\n",
       "    <tr>\n",
       "      <th>2</th>\n",
       "      <td>15668575</td>\n",
       "      <td>Female</td>\n",
       "      <td>26</td>\n",
       "      <td>43000</td>\n",
       "      <td>0</td>\n",
       "    </tr>\n",
       "    <tr>\n",
       "      <th>3</th>\n",
       "      <td>15603246</td>\n",
       "      <td>Female</td>\n",
       "      <td>27</td>\n",
       "      <td>57000</td>\n",
       "      <td>0</td>\n",
       "    </tr>\n",
       "    <tr>\n",
       "      <th>4</th>\n",
       "      <td>15804002</td>\n",
       "      <td>Male</td>\n",
       "      <td>19</td>\n",
       "      <td>76000</td>\n",
       "      <td>0</td>\n",
       "    </tr>\n",
       "  </tbody>\n",
       "</table>\n",
       "</div>"
      ],
      "text/plain": [
       "    User ID  Gender  Age  EstimatedSalary  Purchased\n",
       "0  15624510    Male   19            19000          0\n",
       "1  15810944    Male   35            20000          0\n",
       "2  15668575  Female   26            43000          0\n",
       "3  15603246  Female   27            57000          0\n",
       "4  15804002    Male   19            76000          0"
      ]
     },
     "execution_count": 331,
     "metadata": {},
     "output_type": "execute_result"
    }
   ],
   "source": [
    "# Import & visualize dataset\n",
    "df = pd.read_csv(\"./assets/ML/Social_Network_Ads.csv\")\n",
    "df.head()\n",
    "\n",
    "\n",
    "# TO DO : faudra normaliser Age et EstimatedSalary"
   ]
  },
  {
   "cell_type": "code",
   "execution_count": 332,
   "metadata": {},
   "outputs": [
    {
     "name": "stdout",
     "output_type": "stream",
     "text": [
      "(400, 5)\n",
      "             User ID  Gender         Age  EstimatedSalary   Purchased\n",
      "count   4.000000e+02     400  400.000000       400.000000  400.000000\n",
      "unique           NaN       2         NaN              NaN         NaN\n",
      "top              NaN  Female         NaN              NaN         NaN\n",
      "freq             NaN     204         NaN              NaN         NaN\n",
      "mean    1.569154e+07     NaN   37.655000     69742.500000    0.357500\n",
      "std     7.165832e+04     NaN   10.482877     34096.960282    0.479864\n",
      "min     1.556669e+07     NaN   18.000000     15000.000000    0.000000\n",
      "25%     1.562676e+07     NaN   29.750000     43000.000000    0.000000\n",
      "50%     1.569434e+07     NaN   37.000000     70000.000000    0.000000\n",
      "75%     1.575036e+07     NaN   46.000000     88000.000000    1.000000\n",
      "max     1.581524e+07     NaN   60.000000    150000.000000    1.000000\n"
     ]
    }
   ],
   "source": [
    "# Print the shape of dataset in the form of (#rows, #columns)\n",
    "print(df.shape)\n",
    "\n",
    "# Describe dataset's main statistics\n",
    "print(df.describe(include=\"all\"))\n",
    "\n",
    "# Vérifier que le count est identique pour toutes les colonnes\n",
    "# Attention on peut avoir le même nb de valeurs qui manquent partout\n",
    "# Faut correler avec df.shape"
   ]
  },
  {
   "cell_type": "code",
   "execution_count": 333,
   "metadata": {},
   "outputs": [
    {
     "name": "stdout",
     "output_type": "stream",
     "text": [
      "Splitting dataset into X and y...\n",
      "Type de X : <class 'pandas.core.frame.DataFrame'> (400, 3)\n",
      "Type de y : <class 'pandas.core.series.Series'> (400,)\n",
      "...Done.\n"
     ]
    }
   ],
   "source": [
    "# Separate target variable y from features X\n",
    "## Choose the columns you want to have as your features\n",
    "features_list = ['Gender', 'Age', 'EstimatedSalary']           # on va pas garder \"User Id\"\n",
    "\n",
    "print(\"Splitting dataset into X and y...\")\n",
    "X = df.loc[:,features_list]                                    # We add feature_list into our loc \n",
    "print(\"Type de X :\", type(X), X.shape)\n",
    "\n",
    "y = df.loc[:,\"Purchased\"]                                      # We set \"Purchased\" as the target variable\n",
    "print(\"Type de y :\", type(y), y.shape)                         # Si serie il retourne que le nb de ligne d'ou le (300,)\n",
    "                                                               # Un Dataframe c'est une collection de Series\n",
    "                                                               # Si on veut une seule colonne, on veut une Serie\n",
    "print(\"...Done.\")\n",
    "\n",
    "# TO DO : revenir de manière définitive sur ces histoires de shape de vecteur, matrice, serie, dataframe...\n",
    "# Voir StandardScaler()"
   ]
  },
  {
   "attachments": {},
   "cell_type": "markdown",
   "metadata": {},
   "source": [
    "👋 You could have used `iloc` as well. Whatever is handy for you. "
   ]
  },
  {
   "cell_type": "code",
   "execution_count": 334,
   "metadata": {},
   "outputs": [],
   "source": [
    "# X_prime = df.iloc[:,[1, 2, 3]]\n",
    "# y_prime = df.iloc[:,[4]]\n",
    "# \n",
    "# print(X_prime.head())\n",
    "# print(y_prime.head())"
   ]
  },
  {
   "cell_type": "markdown",
   "metadata": {},
   "source": [
    "### Note : \n",
    "* Bien voir que dans `stratify = y` c'est le vecteur `y` et pas un flag boolean de type \"Yes\" ou \"y\". \n",
    "\n"
   ]
  },
  {
   "cell_type": "code",
   "execution_count": 335,
   "metadata": {},
   "outputs": [
    {
     "name": "stdout",
     "output_type": "stream",
     "text": [
      "Splitting dataset into train set and test set...\n",
      "...Done.\n"
     ]
    }
   ],
   "source": [
    "# Divide dataset Train set & Test set \n",
    "## First we import train_test_split\n",
    "\n",
    "\n",
    "print(\"Splitting dataset into train set and test set...\")\n",
    "## Then we use train_test_split\n",
    "X_train, X_test, y_train, y_test = train_test_split(X, y, \n",
    "                                                    test_size=0.2, \n",
    "                                                    random_state=0, \n",
    "                                                    stratify = y) # Allows you to stratify your sample. \n",
    "                                                                  # Meaning, you will have the same proportion of categories in test \n",
    "                                                                  # and train set\n",
    "\n",
    "print(\"...Done.\")  "
   ]
  },
  {
   "attachments": {},
   "cell_type": "markdown",
   "metadata": {},
   "source": [
    "* `test_size=0.2` is arbitrary "
   ]
  },
  {
   "cell_type": "code",
   "execution_count": 336,
   "metadata": {},
   "outputs": [
    {
     "name": "stdout",
     "output_type": "stream",
     "text": [
      "--- Training pipeline ---\n",
      "\n",
      "#### X_train BEFORE preprocessing ####\n",
      "     Gender  Age  EstimatedSalary\n",
      "213    Male   35            58000\n",
      "192    Male   29            43000\n",
      "26     Male   49            28000\n",
      "195    Male   34            43000\n",
      "252  Female   48           134000\n",
      "Type de X : <class 'pandas.core.frame.DataFrame'> (320, 3)\n",
      "\n",
      "Encoding categorical features and standardizing numerical features...\n",
      "...Done.\n",
      "#### X_train AFTER preprocessing ####\n",
      "[[ 1.         -0.25808475 -0.33624928]\n",
      " [ 1.         -0.82439644 -0.77364672]\n",
      " [ 1.          1.06330919 -1.21104417]\n",
      " [ 1.         -0.35247004 -0.77364672]\n",
      " [ 0.          0.9689239   1.87989775]]\n",
      "Type de X : <class 'numpy.ndarray'> (320, 3)\n",
      "\n"
     ]
    }
   ],
   "source": [
    "### Training pipeline ###\n",
    "print(\"--- Training pipeline ---\")\n",
    "print()  \n",
    "\n",
    "# Encoding categorical features and standardizing numeric features\n",
    "\n",
    "print(\"#### X_train BEFORE preprocessing ####\")\n",
    "print(X_train.head())\n",
    "print(\"Type de X :\", type(X_train), X_train.shape)\n",
    "print()\n",
    "\n",
    "print(\"Encoding categorical features and standardizing numerical features...\")\n",
    "\n",
    "numeric_features = [1, 2] # Choose which column index we are going to scale\n",
    "numeric_transformer = StandardScaler()\n",
    "\n",
    "categorical_features = [0] # Choose which column index we are going to encode\n",
    "categorical_transformer = OneHotEncoder(drop=\"first\")                           # ! Faut garder drop first car sinon on a 2 colonnes 100%\n",
    "                                                                                # ! corrélées est c'est pas bon pour le modèle\n",
    "\n",
    "# Apply ColumnTransformer to create a pipeline that will apply the above preprocessing\n",
    "feature_encoder = ColumnTransformer(\n",
    "    transformers=[\n",
    "        ('cat', categorical_transformer, categorical_features),    \n",
    "        ('num', numeric_transformer, numeric_features)\n",
    "        ]\n",
    "    )\n",
    "\n",
    "X_train = feature_encoder.fit_transform(X_train)\n",
    "\n",
    "print(\"...Done.\")\n",
    "print(\"#### X_train AFTER preprocessing ####\")\n",
    "print(X_train[0:5,:])                                      # ! print first 5 rows (not using iloc since now X_train became a numpy array)\n",
    "print(\"Type de X :\", type(X_train), X_train.shape)\n",
    "print()\n",
    "\n"
   ]
  },
  {
   "attachments": {},
   "cell_type": "markdown",
   "metadata": {},
   "source": [
    "## Step 2 - Build a Logistic Regression 🏋️‍♂️\n",
    "\n",
    "Let's now create your model. With `sklearn`, you'll see that it's not that long! "
   ]
  },
  {
   "cell_type": "code",
   "execution_count": 337,
   "metadata": {},
   "outputs": [
    {
     "name": "stdout",
     "output_type": "stream",
     "text": [
      "Type de X : <class 'numpy.ndarray'> (320, 3)\n",
      "Type de y : <class 'pandas.core.series.Series'> (320,)\n",
      "Training model...\n",
      "Type de X : <class 'numpy.ndarray'> (320, 3)\n",
      "Type de y : <class 'pandas.core.series.Series'> (320,)\n",
      "...Done.\n"
     ]
    }
   ],
   "source": [
    "print(\"Type de X :\", type(X_train), X_train.shape)\n",
    "print(\"Type de y :\", type(y_train), y_train.shape)\n",
    "\n",
    "# Training model \n",
    "print(\"Training model...\")\n",
    "classifier = LogisticRegression(random_state = 0) # Instanciate model \n",
    "classifier.fit(X_train, y_train)                  # On ajuste le modèle (objet nommé classifier de classe LogisticRegression) \n",
    "\n",
    "\n",
    "print(\"Type de X :\", type(X_train), X_train.shape)\n",
    "print(\"Type de y :\", type(y_train), y_train.shape)\n",
    "\n",
    "print(\"...Done.\")"
   ]
  },
  {
   "cell_type": "code",
   "execution_count": 338,
   "metadata": {},
   "outputs": [
    {
     "name": "stdout",
     "output_type": "stream",
     "text": [
      "Predictions on train set...\n",
      "...Done.\n",
      "\n",
      "#### First five predictions on TRAIN set ####\n",
      "[0 0 1 0 1]\n"
     ]
    }
   ],
   "source": [
    "# Predictions on training set\n",
    "print(\"Predictions on train set...\")\n",
    "y_train_pred = classifier.predict(X_train)\n",
    "print(\"...Done.\")\n",
    "print()\n",
    "\n",
    "print(\"#### First five predictions on TRAIN set ####\")\n",
    "print(y_train_pred[0:5])"
   ]
  },
  {
   "cell_type": "code",
   "execution_count": 339,
   "metadata": {},
   "outputs": [
    {
     "name": "stdout",
     "output_type": "stream",
     "text": [
      "--- Test pipeline ---\n",
      "Encoding categorical features and standardizing numerical features...\n",
      "\n",
      "...Done.\n",
      "#### X_test AFTER preprocessing ####\n",
      "[[ 0.          1.44085031 -1.03608519]\n",
      " [ 0.          1.25207975  2.22981571]\n",
      " [ 0.          1.06330919  2.08401656]\n",
      " [ 0.         -0.25808475 -0.36540911]\n",
      " [ 0.          0.78015334  0.13030799]]\n",
      "\n"
     ]
    }
   ],
   "source": [
    "### Test pipeline ###\n",
    "print(\"--- Test pipeline ---\") \n",
    "\n",
    "# Encoding categorical features and standardizing numeric features\n",
    "print(\"Encoding categorical features and standardizing numerical features...\")\n",
    "print()\n",
    "\n",
    "X_test = feature_encoder.transform(X_test)\n",
    "print(\"...Done.\")\n",
    "\n",
    "print(\"#### X_test AFTER preprocessing ####\")\n",
    "print(X_test[0:5,:])\n",
    "print()"
   ]
  },
  {
   "cell_type": "code",
   "execution_count": 340,
   "metadata": {},
   "outputs": [
    {
     "name": "stdout",
     "output_type": "stream",
     "text": [
      "Predictions on test set...\n",
      "...Done.\n",
      "\n",
      "#### First five predictions on TEST set ####\n",
      "[0 0 1 0 1]\n"
     ]
    }
   ],
   "source": [
    "# Predictions on training set\n",
    "print(\"Predictions on test set...\")\n",
    "y_test_pred = classifier.predict(X_test)\n",
    "print(\"...Done.\")\n",
    "print()\n",
    "\n",
    "print(\"#### First five predictions on TEST set ####\")\n",
    "print(y_train_pred[0:5])"
   ]
  },
  {
   "attachments": {},
   "cell_type": "markdown",
   "metadata": {},
   "source": [
    "## Step 3 - Evaluate your model 🌡️\n",
    "\n",
    "Now, we can visualize our results and evaluate our model. Visualizing in graph is optional because depending on your model, it will be harder to build a 2D graph. However, we can always evaluate performance using a metric. \n",
    "\n",
    "For classifications, we often use the accuracy score along with a [*confusion matrix*](https://en.wikipedia.org/wiki/Confusion_matrix). Let's do that using `sklearn` again. To evaluate our model, we will try to compare on the train set and on the test set. "
   ]
  },
  {
   "cell_type": "code",
   "execution_count": 341,
   "metadata": {},
   "outputs": [
    {
     "name": "stdout",
     "output_type": "stream",
     "text": [
      "--- Assessment of performances ---\n"
     ]
    },
    {
     "data": {
      "image/png": "[encoded data removed]",
      "text/plain": [
       "<Figure size 640x480 with 2 Axes>"
      ]
     },
     "metadata": {},
     "output_type": "display_data"
    },
    {
     "name": "stdout",
     "output_type": "stream",
     "text": [
      "accuracy-score on train set :  0.859375\n"
     ]
    },
    {
     "data": {
      "image/png": "[encoded data removed]",
      "text/plain": [
       "<Figure size 640x480 with 2 Axes>"
      ]
     },
     "metadata": {},
     "output_type": "display_data"
    },
    {
     "name": "stdout",
     "output_type": "stream",
     "text": [
      "accuracy-score on test set :  0.8375\n"
     ]
    }
   ],
   "source": [
    "### Assessment of performances ###\n",
    "print(\"--- Assessment of performances ---\")\n",
    "\n",
    "# Plot confusion matrix\n",
    "cm = confusion_matrix(y_train, y_train_pred, labels=classifier.classes_)\n",
    "cm_display = ConfusionMatrixDisplay.from_predictions(y_train, y_train_pred)\n",
    "cm_display.ax_.set_title(\"Confusion matrix on train set \") # Simply to set a title\n",
    "plt.show() # Show graph\n",
    "print(\"accuracy-score on train set : \", classifier.score(X_train, y_train))\n",
    "\n",
    "\n",
    "cm = confusion_matrix(y_test, y_test_pred, labels=classifier.classes_)\n",
    "cm_display = ConfusionMatrixDisplay.from_predictions(y_test, y_test_pred)\n",
    "cm_display.ax_.set_title(\"Confusion matrix on train set \") # Simply to set a title\n",
    "plt.show() # Show graph\n",
    "print(\"accuracy-score on test set : \", classifier.score(X_test, y_test))\n"
   ]
  },
  {
   "cell_type": "code",
   "execution_count": 342,
   "metadata": {},
   "outputs": [
    {
     "name": "stdout",
     "output_type": "stream",
     "text": [
      "Coefficients are               :  [[0.35932859 2.22108897 1.08620362]]\n",
      "Constant is                    :  [-1.27921518]\n",
      "All transformers are           :  [('cat', OneHotEncoder(drop='first'), [0]), ('num', StandardScaler(), [1, 2])]\n",
      "One Hot Encoder transformer is :  OneHotEncoder(drop='first')\n",
      "Categorical columns are        :  [array(['Female', 'Male'], dtype=object)]\n",
      "Numerical columns are          :  Index(['Age', 'EstimatedSalary'], dtype='object')\n",
      "All column names are           :  Index(['Gender', 'Age', 'EstimatedSalary'], dtype='object')\n"
     ]
    },
    {
     "data": {
      "text/html": [
       "<div>\n",
       "<style scoped>\n",
       "    .dataframe tbody tr th:only-of-type {\n",
       "        vertical-align: middle;\n",
       "    }\n",
       "\n",
       "    .dataframe tbody tr th {\n",
       "        vertical-align: top;\n",
       "    }\n",
       "\n",
       "    .dataframe thead th {\n",
       "        text-align: right;\n",
       "    }\n",
       "</style>\n",
       "<table border=\"1\" class=\"dataframe\">\n",
       "  <thead>\n",
       "    <tr style=\"text-align: right;\">\n",
       "      <th></th>\n",
       "      <th>feature_names</th>\n",
       "      <th>coefficients</th>\n",
       "    </tr>\n",
       "  </thead>\n",
       "  <tbody>\n",
       "    <tr>\n",
       "      <th>0</th>\n",
       "      <td>Gender</td>\n",
       "      <td>0.359329</td>\n",
       "    </tr>\n",
       "    <tr>\n",
       "      <th>1</th>\n",
       "      <td>Age</td>\n",
       "      <td>2.221089</td>\n",
       "    </tr>\n",
       "    <tr>\n",
       "      <th>2</th>\n",
       "      <td>EstimatedSalary</td>\n",
       "      <td>1.086204</td>\n",
       "    </tr>\n",
       "  </tbody>\n",
       "</table>\n",
       "</div>"
      ],
      "text/plain": [
       "     feature_names  coefficients\n",
       "0           Gender      0.359329\n",
       "1              Age      2.221089\n",
       "2  EstimatedSalary      1.086204"
      ]
     },
     "execution_count": 342,
     "metadata": {},
     "output_type": "execute_result"
    }
   ],
   "source": [
    "# Check coefficients \n",
    "\n",
    "print(\"Coefficients are               : \", classifier.coef_) \n",
    "print(\"Constant is                    : \", classifier.intercept_)\n",
    "\n",
    "# Access transformers from feature_encoder\n",
    "print(\"All transformers are           : \", feature_encoder.transformers_)\n",
    "\n",
    "# Access one specific transformer\n",
    "print(\"One Hot Encoder transformer is : \", feature_encoder.transformers_[0][1])\n",
    "\n",
    "# Print categories\n",
    "categorical_column_names = feature_encoder.transformers_[0][1].categories_\n",
    "print(\"Categorical columns are        : \", categorical_column_names)\n",
    "\n",
    "# Print numerical columns\n",
    "numerical_column_names = X.iloc[:, numeric_features].columns # using the .columns attribute gives us the name of the column \n",
    "print(\"Numerical columns are          : \", numerical_column_names)\n",
    "\n",
    "# Append all columns \n",
    "# all_column_names = np.append(categorical_column_names, numerical_column_names)\n",
    "all_column_names = X.columns\n",
    "print(\"All column names are           : \", all_column_names)\n",
    "\n",
    "# Feature importance \n",
    "feature_importance = pd.DataFrame({\n",
    "    \"feature_names\": all_column_names,\n",
    "    \"coefficients\" : classifier.coef_.squeeze() # CAREFUL HERE. We need to access first index of our list because \n",
    "                                                # Data needs to be 1 dimensional\n",
    "                                                # That's what .squeeze() is for\n",
    "})\n",
    "\n",
    "feature_importance"
   ]
  },
  {
   "attachments": {},
   "cell_type": "markdown",
   "metadata": {},
   "source": [
    "👋 Here we can interpret your coefficient this way: \n",
    "\n",
    "$$ \n",
    "y = \\frac{1}{1+e^{0.35 \\times Gender + 2.2 \\times Age + 1.08 \\times EstimatedSalary - 1.27}}\n",
    "$$\n",
    "\n",
    "Now we can visualize it using `seaborn`"
   ]
  },
  {
   "cell_type": "code",
   "execution_count": 343,
   "metadata": {},
   "outputs": [
    {
     "name": "stderr",
     "output_type": "stream",
     "text": [
      "c:\\Users\\phili\\anaconda3\\envs\\jedha\\Lib\\site-packages\\seaborn\\_oldcore.py:1498: FutureWarning: is_categorical_dtype is deprecated and will be removed in a future version. Use isinstance(dtype, CategoricalDtype) instead\n",
      "  if pd.api.types.is_categorical_dtype(vector):\n",
      "c:\\Users\\phili\\anaconda3\\envs\\jedha\\Lib\\site-packages\\seaborn\\_oldcore.py:1498: FutureWarning: is_categorical_dtype is deprecated and will be removed in a future version. Use isinstance(dtype, CategoricalDtype) instead\n",
      "  if pd.api.types.is_categorical_dtype(vector):\n",
      "c:\\Users\\phili\\anaconda3\\envs\\jedha\\Lib\\site-packages\\seaborn\\_oldcore.py:1498: FutureWarning: is_categorical_dtype is deprecated and will be removed in a future version. Use isinstance(dtype, CategoricalDtype) instead\n",
      "  if pd.api.types.is_categorical_dtype(vector):\n",
      "c:\\Users\\phili\\anaconda3\\envs\\jedha\\Lib\\site-packages\\seaborn\\_oldcore.py:1498: FutureWarning: is_categorical_dtype is deprecated and will be removed in a future version. Use isinstance(dtype, CategoricalDtype) instead\n",
      "  if pd.api.types.is_categorical_dtype(vector):\n",
      "c:\\Users\\phili\\anaconda3\\envs\\jedha\\Lib\\site-packages\\seaborn\\_oldcore.py:1498: FutureWarning: is_categorical_dtype is deprecated and will be removed in a future version. Use isinstance(dtype, CategoricalDtype) instead\n",
      "  if pd.api.types.is_categorical_dtype(vector):\n"
     ]
    },
    {
     "data": {
      "text/plain": [
       "<seaborn.axisgrid.FacetGrid at 0x2af8bb64690>"
      ]
     },
     "execution_count": 343,
     "metadata": {},
     "output_type": "execute_result"
    },
    {
     "data": {
      "image/png": "[encoded data removed]",
      "text/plain": [
       "<Figure size 888.889x500 with 1 Axes>"
      ]
     },
     "metadata": {},
     "output_type": "display_data"
    }
   ],
   "source": [
    "# Set coefficient to absolute values to rank features\n",
    "feature_importance[\"coefficients\"] = feature_importance[\"coefficients\"].abs()\n",
    "\n",
    "# Visualize ranked features using seaborn\n",
    "sns.catplot(x=\"feature_names\", \n",
    "            y=\"coefficients\", \n",
    "            data=feature_importance.sort_values(by=\"coefficients\", ascending=False), \n",
    "            kind=\"bar\",\n",
    "            aspect=16/9) # Resize graph"
   ]
  },
  {
   "attachments": {},
   "cell_type": "markdown",
   "metadata": {},
   "source": [
    "## Step 2 - Build a Decision Tree 🌳\n",
    "\n",
    "Let's now create your model. With `sklearn`, you'll see that it's not that long! "
   ]
  },
  {
   "cell_type": "code",
   "execution_count": 344,
   "metadata": {},
   "outputs": [
    {
     "name": "stdout",
     "output_type": "stream",
     "text": [
      "Training model...\n",
      "...Done.\n"
     ]
    }
   ],
   "source": [
    "# Training model\n",
    "print(\"Training model...\")\n",
    "classifier = DecisionTreeClassifier()\n",
    "classifier.fit(X_train, y_train)\n",
    "print(\"...Done.\")"
   ]
  },
  {
   "cell_type": "code",
   "execution_count": 345,
   "metadata": {},
   "outputs": [
    {
     "name": "stdout",
     "output_type": "stream",
     "text": [
      "Predictions on train set...\n",
      "...Done.\n",
      "\n"
     ]
    }
   ],
   "source": [
    "# Predictions on training set\n",
    "print(\"Predictions on train set...\")\n",
    "y_train_pred = classifier.predict(X_train)\n",
    "print(\"...Done.\")\n",
    "print()"
   ]
  },
  {
   "cell_type": "code",
   "execution_count": 346,
   "metadata": {},
   "outputs": [
    {
     "name": "stdout",
     "output_type": "stream",
     "text": [
      "Predictions on test set...\n",
      "...Done.\n",
      "\n"
     ]
    }
   ],
   "source": [
    "# Predictions on test set\n",
    "print(\"Predictions on test set...\")\n",
    "y_test_pred = classifier.predict(X_test)\n",
    "print(\"...Done.\")\n",
    "print()"
   ]
  },
  {
   "attachments": {},
   "cell_type": "markdown",
   "metadata": {},
   "source": [
    "## Step 3 - Evaluate your model 🌡️\n",
    "\n",
    "Now, we can visualize our results and evaluate our model. Visualizing in graph is optional because depending on your model, it will be harder to build a 2D graph. However, we can always evaluate performance using a metric. \n",
    "\n",
    "For classifications, we often use the accuracy score along with a [*confusion matrix*](https://en.wikipedia.org/wiki/Confusion_matrix). Let's do that using `sklearn` again. To evaluate our model, we will try to compare on the train set and on the test set. "
   ]
  },
  {
   "cell_type": "code",
   "execution_count": 347,
   "metadata": {},
   "outputs": [
    {
     "name": "stdout",
     "output_type": "stream",
     "text": [
      "--- Assessment of performances ---\n"
     ]
    },
    {
     "data": {
      "image/png": "[encoded data removed]",
      "text/plain": [
       "<Figure size 640x480 with 2 Axes>"
      ]
     },
     "metadata": {},
     "output_type": "display_data"
    },
    {
     "name": "stdout",
     "output_type": "stream",
     "text": [
      "accuracy-score on train set :  1.0\n"
     ]
    },
    {
     "data": {
      "image/png": "[encoded data removed]",
      "text/plain": [
       "<Figure size 640x480 with 2 Axes>"
      ]
     },
     "metadata": {},
     "output_type": "display_data"
    },
    {
     "name": "stdout",
     "output_type": "stream",
     "text": [
      "accuracy-score on test set :  0.875\n"
     ]
    }
   ],
   "source": [
    "### Assessment of performances ###\n",
    "print(\"--- Assessment of performances ---\")\n",
    "\n",
    "# Plot confusion matrix\n",
    "cm = confusion_matrix(y_train, y_train_pred, labels=classifier.classes_)\n",
    "cm_display = ConfusionMatrixDisplay.from_predictions(y_train, y_train_pred)\n",
    "cm_display.ax_.set_title(\"Confusion matrix on train set \") # Simply to set a title\n",
    "plt.show() # Show graph\n",
    "print(\"accuracy-score on train set : \", classifier.score(X_train, y_train))\n",
    "\n",
    "\n",
    "cm = confusion_matrix(y_test, y_test_pred, labels=classifier.classes_)\n",
    "cm_display = ConfusionMatrixDisplay.from_predictions(y_test, y_test_pred)\n",
    "cm_display.ax_.set_title(\"Confusion matrix on train set \") # Simply to set a title\n",
    "plt.show() # Show graph\n",
    "print(\"accuracy-score on test set : \", classifier.score(X_test, y_test))"
   ]
  },
  {
   "attachments": {},
   "cell_type": "markdown",
   "metadata": {},
   "source": [
    "## Step 4 - Feature importance 🥕\n",
    "\n",
    "Finally, what is interesting would be to see which features are important in your model. With Decision Trees and Random Forest, it is going to be extremely simple:"
   ]
  },
  {
   "cell_type": "code",
   "execution_count": 348,
   "metadata": {},
   "outputs": [
    {
     "data": {
      "text/html": [
       "<div>\n",
       "<style scoped>\n",
       "    .dataframe tbody tr th:only-of-type {\n",
       "        vertical-align: middle;\n",
       "    }\n",
       "\n",
       "    .dataframe tbody tr th {\n",
       "        vertical-align: top;\n",
       "    }\n",
       "\n",
       "    .dataframe thead th {\n",
       "        text-align: right;\n",
       "    }\n",
       "</style>\n",
       "<table border=\"1\" class=\"dataframe\">\n",
       "  <thead>\n",
       "    <tr style=\"text-align: right;\">\n",
       "      <th></th>\n",
       "      <th>feature_names</th>\n",
       "      <th>coefficients</th>\n",
       "    </tr>\n",
       "  </thead>\n",
       "  <tbody>\n",
       "    <tr>\n",
       "      <th>0</th>\n",
       "      <td>Gender</td>\n",
       "      <td>0.019985</td>\n",
       "    </tr>\n",
       "    <tr>\n",
       "      <th>1</th>\n",
       "      <td>Age</td>\n",
       "      <td>0.510136</td>\n",
       "    </tr>\n",
       "    <tr>\n",
       "      <th>2</th>\n",
       "      <td>EstimatedSalary</td>\n",
       "      <td>0.469878</td>\n",
       "    </tr>\n",
       "  </tbody>\n",
       "</table>\n",
       "</div>"
      ],
      "text/plain": [
       "     feature_names  coefficients\n",
       "0           Gender      0.019985\n",
       "1              Age      0.510136\n",
       "2  EstimatedSalary      0.469878"
      ]
     },
     "execution_count": 348,
     "metadata": {},
     "output_type": "execute_result"
    }
   ],
   "source": [
    "# Feature importance \n",
    "feature_importance = pd.DataFrame({\n",
    "    \"feature_names\": all_column_names,\n",
    "    \"coefficients\": classifier.feature_importances_\n",
    "                                        \n",
    "})\n",
    "\n",
    "feature_importance"
   ]
  },
  {
   "attachments": {},
   "cell_type": "markdown",
   "metadata": {},
   "source": [
    "Feature importance is here determined using Gini coefficient. It's a little too complex at this point but feel free to [check out documentation](https://scikit-learn.org/stable/modules/tree.html#classification-criteria) if you are curious."
   ]
  },
  {
   "cell_type": "code",
   "execution_count": 349,
   "metadata": {},
   "outputs": [
    {
     "name": "stderr",
     "output_type": "stream",
     "text": [
      "c:\\Users\\phili\\anaconda3\\envs\\jedha\\Lib\\site-packages\\seaborn\\_oldcore.py:1498: FutureWarning: is_categorical_dtype is deprecated and will be removed in a future version. Use isinstance(dtype, CategoricalDtype) instead\n",
      "  if pd.api.types.is_categorical_dtype(vector):\n",
      "c:\\Users\\phili\\anaconda3\\envs\\jedha\\Lib\\site-packages\\seaborn\\_oldcore.py:1498: FutureWarning: is_categorical_dtype is deprecated and will be removed in a future version. Use isinstance(dtype, CategoricalDtype) instead\n",
      "  if pd.api.types.is_categorical_dtype(vector):\n",
      "c:\\Users\\phili\\anaconda3\\envs\\jedha\\Lib\\site-packages\\seaborn\\_oldcore.py:1498: FutureWarning: is_categorical_dtype is deprecated and will be removed in a future version. Use isinstance(dtype, CategoricalDtype) instead\n",
      "  if pd.api.types.is_categorical_dtype(vector):\n",
      "c:\\Users\\phili\\anaconda3\\envs\\jedha\\Lib\\site-packages\\seaborn\\_oldcore.py:1498: FutureWarning: is_categorical_dtype is deprecated and will be removed in a future version. Use isinstance(dtype, CategoricalDtype) instead\n",
      "  if pd.api.types.is_categorical_dtype(vector):\n",
      "c:\\Users\\phili\\anaconda3\\envs\\jedha\\Lib\\site-packages\\seaborn\\_oldcore.py:1498: FutureWarning: is_categorical_dtype is deprecated and will be removed in a future version. Use isinstance(dtype, CategoricalDtype) instead\n",
      "  if pd.api.types.is_categorical_dtype(vector):\n"
     ]
    },
    {
     "data": {
      "text/plain": [
       "<seaborn.axisgrid.FacetGrid at 0x2af90c57490>"
      ]
     },
     "execution_count": 349,
     "metadata": {},
     "output_type": "execute_result"
    },
    {
     "data": {
      "image/png": "[encoded data removed]",
      "text/plain": [
       "<Figure size 888.889x500 with 1 Axes>"
      ]
     },
     "metadata": {},
     "output_type": "display_data"
    }
   ],
   "source": [
    "# Visualize ranked features using seaborn\n",
    "sns.catplot(x=\"feature_names\", \n",
    "            y=\"coefficients\", \n",
    "            data=feature_importance.sort_values(by=\"coefficients\", ascending=False), \n",
    "            kind=\"bar\",\n",
    "            aspect=16/9) # Resize graph"
   ]
  },
  {
   "attachments": {},
   "cell_type": "markdown",
   "metadata": {},
   "source": [
    "## Step 2 - Random forests 🌳🌳🌳🌳\n",
    "\n",
    "This is a more complex model: you'll probably need to tune `n_estimators`"
   ]
  },
  {
   "cell_type": "code",
   "execution_count": 350,
   "metadata": {},
   "outputs": [
    {
     "name": "stdout",
     "output_type": "stream",
     "text": [
      "Training model...\n",
      "...Done.\n"
     ]
    }
   ],
   "source": [
    "# Training model\n",
    "print(\"Training model...\")\n",
    "classifier = RandomForestClassifier(n_estimators = 30)\n",
    "classifier.fit(X_train, y_train)\n",
    "print(\"...Done.\")"
   ]
  },
  {
   "cell_type": "code",
   "execution_count": 351,
   "metadata": {},
   "outputs": [
    {
     "name": "stdout",
     "output_type": "stream",
     "text": [
      "Predictions on train set...\n",
      "...Done.\n",
      "\n"
     ]
    }
   ],
   "source": [
    "# Predictions on training set\n",
    "print(\"Predictions on train set...\")\n",
    "y_train_pred = classifier.predict(X_train)\n",
    "print(\"...Done.\")\n",
    "print()"
   ]
  },
  {
   "cell_type": "code",
   "execution_count": 352,
   "metadata": {},
   "outputs": [
    {
     "name": "stdout",
     "output_type": "stream",
     "text": [
      "Predictions on test set...\n",
      "...Done.\n",
      "\n"
     ]
    }
   ],
   "source": [
    "# Predictions on training set\n",
    "print(\"Predictions on test set...\")\n",
    "y_test_pred = classifier.predict(X_test)\n",
    "print(\"...Done.\")\n",
    "print()"
   ]
  },
  {
   "attachments": {},
   "cell_type": "markdown",
   "metadata": {},
   "source": [
    "## Step 3 - Evaluate your model 🌡️\n",
    "\n",
    "Now, we can visualize our results and evaluate our model. Visualizing in graph is optional because depending on your model, it will be harder to build a 2D graph. However, we can always evaluate performance using a metric. \n",
    "\n",
    "For classifications, we often use the accuracy score along with a [*confusion matrix*](https://en.wikipedia.org/wiki/Confusion_matrix). Let's do that using `sklearn` again. To evaluate our model, we will try to compare on the train set and on the test set. "
   ]
  },
  {
   "cell_type": "code",
   "execution_count": 353,
   "metadata": {},
   "outputs": [
    {
     "name": "stdout",
     "output_type": "stream",
     "text": [
      "--- Assessment of performances ---\n"
     ]
    },
    {
     "data": {
      "image/png": "[encoded data removed]",
      "text/plain": [
       "<Figure size 640x480 with 2 Axes>"
      ]
     },
     "metadata": {},
     "output_type": "display_data"
    },
    {
     "name": "stdout",
     "output_type": "stream",
     "text": [
      "accuracy-score on train set :  1.0\n"
     ]
    },
    {
     "data": {
      "image/png": "[encoded data removed]",
      "text/plain": [
       "<Figure size 640x480 with 2 Axes>"
      ]
     },
     "metadata": {},
     "output_type": "display_data"
    },
    {
     "name": "stdout",
     "output_type": "stream",
     "text": [
      "accuracy-score on test set :  0.8875\n"
     ]
    }
   ],
   "source": [
    "### Assessment of performances ###\n",
    "print(\"--- Assessment of performances ---\")\n",
    "\n",
    "# Plot confusion matrix\n",
    "cm = confusion_matrix(y_train, y_train_pred, labels=classifier.classes_)\n",
    "cm_display = ConfusionMatrixDisplay.from_predictions(y_train, y_train_pred)\n",
    "cm_display.ax_.set_title(\"Confusion matrix on train set \") # Simply to set a title\n",
    "plt.show() # Show graph\n",
    "print(\"accuracy-score on train set : \", classifier.score(X_train, y_train))\n",
    "\n",
    "\n",
    "cm = confusion_matrix(y_test, y_test_pred, labels=classifier.classes_)\n",
    "cm_display = ConfusionMatrixDisplay.from_predictions(y_test, y_test_pred)\n",
    "cm_display.ax_.set_title(\"Confusion matrix on test set \") # Simply to set a title\n",
    "plt.show() # Show graph\n",
    "print(\"accuracy-score on test set : \", classifier.score(X_test, y_test))"
   ]
  },
  {
   "attachments": {},
   "cell_type": "markdown",
   "metadata": {},
   "source": [
    "## Step 4 - Feature importance 🥕\n",
    "\n",
    "Finally, what is interesting would be to see which features are important in your model. With Decision Trees and Random Forest, it is going to be extremely simple:"
   ]
  },
  {
   "cell_type": "code",
   "execution_count": 354,
   "metadata": {},
   "outputs": [
    {
     "data": {
      "text/html": [
       "<div>\n",
       "<style scoped>\n",
       "    .dataframe tbody tr th:only-of-type {\n",
       "        vertical-align: middle;\n",
       "    }\n",
       "\n",
       "    .dataframe tbody tr th {\n",
       "        vertical-align: top;\n",
       "    }\n",
       "\n",
       "    .dataframe thead th {\n",
       "        text-align: right;\n",
       "    }\n",
       "</style>\n",
       "<table border=\"1\" class=\"dataframe\">\n",
       "  <thead>\n",
       "    <tr style=\"text-align: right;\">\n",
       "      <th></th>\n",
       "      <th>feature_names</th>\n",
       "      <th>coefficients</th>\n",
       "    </tr>\n",
       "  </thead>\n",
       "  <tbody>\n",
       "    <tr>\n",
       "      <th>0</th>\n",
       "      <td>Gender</td>\n",
       "      <td>0.009822</td>\n",
       "    </tr>\n",
       "    <tr>\n",
       "      <th>1</th>\n",
       "      <td>Age</td>\n",
       "      <td>0.508183</td>\n",
       "    </tr>\n",
       "    <tr>\n",
       "      <th>2</th>\n",
       "      <td>EstimatedSalary</td>\n",
       "      <td>0.481995</td>\n",
       "    </tr>\n",
       "  </tbody>\n",
       "</table>\n",
       "</div>"
      ],
      "text/plain": [
       "     feature_names  coefficients\n",
       "0           Gender      0.009822\n",
       "1              Age      0.508183\n",
       "2  EstimatedSalary      0.481995"
      ]
     },
     "execution_count": 354,
     "metadata": {},
     "output_type": "execute_result"
    }
   ],
   "source": [
    "# Feature importance \n",
    "feature_importance = pd.DataFrame({\n",
    "    \"feature_names\": all_column_names,\n",
    "    \"coefficients\": classifier.feature_importances_\n",
    "                                        \n",
    "})\n",
    "\n",
    "feature_importance"
   ]
  },
  {
   "attachments": {},
   "cell_type": "markdown",
   "metadata": {},
   "source": [
    "Feature importance is here determined using Gini coefficient. It's a little too complex at this point but feel free to [check out documentation](https://scikit-learn.org/stable/modules/tree.html#classification-criteria) if you are curious."
   ]
  },
  {
   "cell_type": "code",
   "execution_count": 355,
   "metadata": {},
   "outputs": [
    {
     "name": "stderr",
     "output_type": "stream",
     "text": [
      "c:\\Users\\phili\\anaconda3\\envs\\jedha\\Lib\\site-packages\\seaborn\\_oldcore.py:1498: FutureWarning: is_categorical_dtype is deprecated and will be removed in a future version. Use isinstance(dtype, CategoricalDtype) instead\n",
      "  if pd.api.types.is_categorical_dtype(vector):\n",
      "c:\\Users\\phili\\anaconda3\\envs\\jedha\\Lib\\site-packages\\seaborn\\_oldcore.py:1498: FutureWarning: is_categorical_dtype is deprecated and will be removed in a future version. Use isinstance(dtype, CategoricalDtype) instead\n",
      "  if pd.api.types.is_categorical_dtype(vector):\n",
      "c:\\Users\\phili\\anaconda3\\envs\\jedha\\Lib\\site-packages\\seaborn\\_oldcore.py:1498: FutureWarning: is_categorical_dtype is deprecated and will be removed in a future version. Use isinstance(dtype, CategoricalDtype) instead\n",
      "  if pd.api.types.is_categorical_dtype(vector):\n",
      "c:\\Users\\phili\\anaconda3\\envs\\jedha\\Lib\\site-packages\\seaborn\\_oldcore.py:1498: FutureWarning: is_categorical_dtype is deprecated and will be removed in a future version. Use isinstance(dtype, CategoricalDtype) instead\n",
      "  if pd.api.types.is_categorical_dtype(vector):\n",
      "c:\\Users\\phili\\anaconda3\\envs\\jedha\\Lib\\site-packages\\seaborn\\_oldcore.py:1498: FutureWarning: is_categorical_dtype is deprecated and will be removed in a future version. Use isinstance(dtype, CategoricalDtype) instead\n",
      "  if pd.api.types.is_categorical_dtype(vector):\n"
     ]
    },
    {
     "data": {
      "text/plain": [
       "<seaborn.axisgrid.FacetGrid at 0x2af91188950>"
      ]
     },
     "execution_count": 355,
     "metadata": {},
     "output_type": "execute_result"
    },
    {
     "data": {
      "image/png": "[encoded data removed]",
      "text/plain": [
       "<Figure size 888.889x500 with 1 Axes>"
      ]
     },
     "metadata": {},
     "output_type": "display_data"
    }
   ],
   "source": [
    "# Visualize ranked features using seaborn\n",
    "sns.catplot(x=\"feature_names\", \n",
    "            y=\"coefficients\", \n",
    "            data=feature_importance.sort_values(by=\"coefficients\", ascending=False), \n",
    "            kind=\"bar\",\n",
    "            aspect=16/9) # Resize graph"
   ]
  }
 ],
 "metadata": {
  "interpreter": {
   "hash": "216d08ced86f1f6e0b5764233bcb18334be12ba95b6ee555f60be9cf0be8c147"
  },
  "kernelspec": {
   "display_name": "Python 3.8.3 64-bit ('base': conda)",
   "name": "python3"
  },
  "language_info": {
   "codemirror_mode": {
    "name": "ipython",
    "version": 3
   },
   "file_extension": ".py",
   "mimetype": "text/x-python",
   "name": "python",
   "nbconvert_exporter": "python",
   "pygments_lexer": "ipython3",
   "version": "3.11.5"
  }
 },
 "nbformat": 4,
 "nbformat_minor": 4
}
