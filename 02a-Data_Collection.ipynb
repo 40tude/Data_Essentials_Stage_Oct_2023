{
 "cells": [
  {
   "cell_type": "markdown",
   "source": [
    "# Collecting Data\n",
    "\n",
    "We have three different problems.\n",
    "\n",
    "* [Google](https://www.google.com/) hired you because they are developing their new [self-driving cars](https://en.wikipedia.org/wiki/Waymo) 🏎️. However, they would like to know if there is a real business opportunity and if their customers are willing to be driven by a robot. To help you, Google has launched an unbiased online survey. In order to optimize costs, Google did not send its form to all its customers but to all customers in 10 different cities taken at random.\n",
    "\n",
    "    1. What type of study are we dealing with? (Observational / Experimental / Transversal / Longitudinal)\n",
    "    2. What type of sampling did Google use? (Stratified Sampling / Convenience Sampling / Cluster Sampling / Simple Random Sampling)\n",
    "\n",
    "\n",
    "* [Grammarly](https://www.grammarly.com/) has just launched a new product to help people stop making spelling mistakes when they write an email. They would like to see if theire product actually help their customers being better at writing English. The team would like to do this experiment on non-native english speakers living in San Francisco. After further research, Grammarly discovered that the foreign population of SF is 10% French 🇫🇷, 10% Italian 🇮🇹, 5% German 🇩🇪, 20% Indian 🇮🇳, 15% Chinese 🇨🇳, 5% Japanese 🇯🇵, 5% Taiwanese 🇹🇼, 5% South African 🇿🇦, 5% Moroccan 🇲🇦, 15% Mexican 🇲🇽, 5% Brazilian 🇧🇷. They have created a sample of people who meet exactly these criteria. The experiment will last 6 months.\n",
    "\n",
    "    1. What type of study are we dealing with? (Observational / Experimental / Transversal / Longitudinal)\n",
    "    2. What type of sampling did Grammarly use? (Stratified Sampling / Convenience Sampling / Cluster Sampling / Simple Random Sampling)\n",
    "\n",
    "\n",
    "* [Société Générale](https://particuliers.societegenerale.fr/) 🏦 would like to have more customers opening bank accounts. They have thought of sending a blast email campaign to potential customers. However, they would first like to test their email on a sub-group of individuals. The bank is in a rush though, the email campaign is planning to be sent 2 months from now. Therefore the data team chose to simply select the people that are likely to respond to these email quickly.\n",
    "\n",
    "    1. What type of study are we dealing with? (Observational / Experimental / Transversal / Longitudinal)\n",
    "    2. What type of sampling did Société Générale use? (Stratified sampling / Convenience Sampling / Cluster Sampling / Simple Random Sampling)"
   ],
   "metadata": {}
  }
 ],
 "metadata": {
  "kernelspec": {
   "display_name": "Python 3",
   "language": "python",
   "name": "python3"
  },
  "language_info": {
   "codemirror_mode": {
    "name": "ipython",
    "version": 3
   },
   "file_extension": ".py",
   "mimetype": "text/x-python",
   "name": "python",
   "nbconvert_exporter": "python",
   "pygments_lexer": "ipython3",
   "version": "3.8.5"
  }
 },
 "nbformat": 4,
 "nbformat_minor": 4
}