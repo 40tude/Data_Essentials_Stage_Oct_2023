{
 "cells": [
  {
   "attachments": {},
   "cell_type": "markdown",
   "metadata": {},
   "source": [
    "# Linear Regression Template\n",
    "\n",
    "Let's build our first Machine Learning model: *Linear Regression*. This is a template you can reuse when you'll be building your own models. \n",
    "\n",
    "## What you will learn in this course 🧐🧐\n",
    "\n",
    "* Create linear regressions using `sklearn` \n",
    "* Visualize your model's performance with `matplotlib`"
   ]
  },
  {
   "attachments": {},
   "cell_type": "markdown",
   "metadata": {},
   "source": [
    "## Step 1 - Preprocessing 🍳\n",
    "\n",
    "As you already know, there is always a preprocessing step that includes: \n",
    "\n",
    "* Importing libraries \n",
    "* Importing data \n",
    "* Seperate target & feature variable \n",
    "* Split data into training and testing set\n",
    "* Standardize data \n",
    "\n",
    "\n",
    "Let's do that here: \n",
    "\n",
    "### Jusqu'à Step 2, on reprend les étapes 1 à 5 du `template preprocessing`"
   ]
  },
  {
   "cell_type": "markdown",
   "metadata": {},
   "source": [
    "### Step 1.1 - Import libraries"
   ]
  },
  {
   "cell_type": "code",
   "execution_count": 30,
   "metadata": {},
   "outputs": [],
   "source": [
    "# Import\n",
    "import pandas as pd\n",
    "import numpy as np \n",
    "from sklearn.model_selection import train_test_split\n",
    "from sklearn.preprocessing import StandardScaler, OneHotEncoder\n",
    "from sklearn.compose import ColumnTransformer\n",
    "from sklearn.linear_model import LinearRegression\n",
    "import seaborn as sns\n",
    "import matplotlib.pyplot as plt"
   ]
  },
  {
   "cell_type": "markdown",
   "metadata": {},
   "source": [
    "### Step 1.2 - Import dataset"
   ]
  },
  {
   "cell_type": "code",
   "execution_count": 31,
   "metadata": {},
   "outputs": [
    {
     "data": {
      "text/html": [
       "<div>\n",
       "<style scoped>\n",
       "    .dataframe tbody tr th:only-of-type {\n",
       "        vertical-align: middle;\n",
       "    }\n",
       "\n",
       "    .dataframe tbody tr th {\n",
       "        vertical-align: top;\n",
       "    }\n",
       "\n",
       "    .dataframe thead th {\n",
       "        text-align: right;\n",
       "    }\n",
       "</style>\n",
       "<table border=\"1\" class=\"dataframe\">\n",
       "  <thead>\n",
       "    <tr style=\"text-align: right;\">\n",
       "      <th></th>\n",
       "      <th>Country</th>\n",
       "      <th>YearsExperience</th>\n",
       "      <th>Salary</th>\n",
       "    </tr>\n",
       "  </thead>\n",
       "  <tbody>\n",
       "    <tr>\n",
       "      <th>0</th>\n",
       "      <td>France</td>\n",
       "      <td>1.1</td>\n",
       "      <td>39343.0</td>\n",
       "    </tr>\n",
       "    <tr>\n",
       "      <th>1</th>\n",
       "      <td>United-Kingdom</td>\n",
       "      <td>1.3</td>\n",
       "      <td>46205.0</td>\n",
       "    </tr>\n",
       "    <tr>\n",
       "      <th>2</th>\n",
       "      <td>France</td>\n",
       "      <td>1.5</td>\n",
       "      <td>37731.0</td>\n",
       "    </tr>\n",
       "    <tr>\n",
       "      <th>3</th>\n",
       "      <td>France</td>\n",
       "      <td>2.0</td>\n",
       "      <td>43525.0</td>\n",
       "    </tr>\n",
       "    <tr>\n",
       "      <th>4</th>\n",
       "      <td>Germany</td>\n",
       "      <td>2.2</td>\n",
       "      <td>39891.0</td>\n",
       "    </tr>\n",
       "  </tbody>\n",
       "</table>\n",
       "</div>"
      ],
      "text/plain": [
       "          Country  YearsExperience   Salary\n",
       "0          France              1.1  39343.0\n",
       "1  United-Kingdom              1.3  46205.0\n",
       "2          France              1.5  37731.0\n",
       "3          France              2.0  43525.0\n",
       "4         Germany              2.2  39891.0"
      ]
     },
     "execution_count": 31,
     "metadata": {},
     "output_type": "execute_result"
    }
   ],
   "source": [
    "# Import & visualize dataset\n",
    "df = pd.read_csv(\"assets/ML/salary_data.csv\")\n",
    "df.head() "
   ]
  },
  {
   "cell_type": "code",
   "execution_count": 32,
   "metadata": {},
   "outputs": [
    {
     "name": "stdout",
     "output_type": "stream",
     "text": [
      "(30, 3)\n",
      "       Country  YearsExperience         Salary\n",
      "count       30        30.000000      30.000000\n",
      "unique       3              NaN            NaN\n",
      "top     France              NaN            NaN\n",
      "freq        12              NaN            NaN\n",
      "mean       NaN         5.313333   76003.000000\n",
      "std        NaN         2.837888   27414.429785\n",
      "min        NaN         1.100000   37731.000000\n",
      "25%        NaN         3.200000   56720.750000\n",
      "50%        NaN         4.700000   65237.000000\n",
      "75%        NaN         7.700000  100544.750000\n",
      "max        NaN        10.500000  122391.000000\n"
     ]
    }
   ],
   "source": [
    "# Print the shape of dataset in the form of (#rows, #columns)\n",
    "print(df.shape)\n",
    "\n",
    "# Describe dataset's main statistics\n",
    "print(df.describe(include=\"all\"))"
   ]
  },
  {
   "cell_type": "markdown",
   "metadata": {},
   "source": [
    "### Step 1.3 - Separate Target from feature variables\n"
   ]
  },
  {
   "cell_type": "code",
   "execution_count": 33,
   "metadata": {},
   "outputs": [
    {
     "name": "stdout",
     "output_type": "stream",
     "text": [
      "Separating target variable from features...\n",
      "...Done.\n",
      "\n"
     ]
    }
   ],
   "source": [
    "# Separate target variable Y from features X\n",
    "print(\"Separating target variable from features...\")\n",
    "\n",
    "## Choose the columns you want to have as your features\n",
    "features_list = [\"Country\", \"YearsExperience\"]\n",
    "\n",
    "X = df.loc[:,features_list] # We add feature_list into our loc \n",
    "y = df.loc[:,\"Salary\"]      # We set \"Salary\" as the target variable\n",
    "\n",
    "# print(X.head())\n",
    "# print(y.head())\n",
    "print(\"...Done.\")\n",
    "print()"
   ]
  },
  {
   "attachments": {},
   "cell_type": "markdown",
   "metadata": {},
   "source": [
    "👋 You could have used `iloc` as well. Whatever is handy for you. "
   ]
  },
  {
   "cell_type": "code",
   "execution_count": 34,
   "metadata": {},
   "outputs": [],
   "source": [
    "# X_prime = df.iloc[:,[0,1]]\n",
    "# y_prime = df.iloc[:,[2]]\n",
    "# \n",
    "# print(X_prime.head())\n",
    "# print(y_prime.head())"
   ]
  },
  {
   "cell_type": "markdown",
   "metadata": {},
   "source": [
    "### Step 1.4 - Train / Test split "
   ]
  },
  {
   "cell_type": "code",
   "execution_count": 122,
   "metadata": {},
   "outputs": [
    {
     "name": "stdout",
     "output_type": "stream",
     "text": [
      "Splitting dataset into train set and test set...\n",
      "...Done.\n"
     ]
    }
   ],
   "source": [
    "# Divide dataset Train set & Test set \n",
    "## First we import train_test_split\n",
    "\n",
    "\n",
    "print(\"Splitting dataset into train set and test set...\")\n",
    "\n",
    "## Then we use train_test_split\n",
    "# pas de stratify \n",
    "# stratify = y          # Allows you to stratify your sample. \n",
    "                        # Meaning, you will have the same\n",
    "                        # proportion of categories in test \n",
    "                        # and train set\n",
    "\n",
    "\n",
    "X_train, X_test, y_train, y_test = train_test_split(X, y, \n",
    "                                                    test_size=0.2, \n",
    "                                                    random_state=0)  \n",
    "                                                    # No stratify\n",
    "\n",
    "print(\"...Done.\")                                                                "
   ]
  },
  {
   "attachments": {},
   "cell_type": "markdown",
   "metadata": {},
   "source": [
    "👋 `test_size=0.2` is completely arbitrary. You choose whaveter proportion suits you. "
   ]
  },
  {
   "cell_type": "markdown",
   "metadata": {},
   "source": [
    "### Step 1.5 - Cleaning "
   ]
  },
  {
   "cell_type": "code",
   "execution_count": 36,
   "metadata": {},
   "outputs": [
    {
     "name": "stdout",
     "output_type": "stream",
     "text": [
      "--- Training pipeline ---\n",
      "\n",
      "#### X_train BEFORE preprocessing ####\n",
      "           Country  YearsExperience\n",
      "27  United-Kingdom              9.6\n",
      "11  United-Kingdom              4.0\n",
      "17  United-Kingdom              5.3\n",
      "22          France              7.9\n",
      "5   United-Kingdom              2.9\n",
      "\n",
      "Encoding categorical features and standardizing numerical features...\n",
      "...Done.\n",
      "#### X_train AFTER preprocessing ####\n",
      "[[ 0.          0.          1.          1.75832984]\n",
      " [ 0.          0.          1.         -0.40973925]\n",
      " [ 0.          0.          1.          0.09356251]\n",
      " [ 1.          0.          0.          1.10016601]\n",
      " [ 0.          0.          1.         -0.83560996]]\n",
      "\n"
     ]
    }
   ],
   "source": [
    "### Training pipeline ###\n",
    "print(\"--- Training pipeline ---\")\n",
    "print()  \n",
    "\n",
    "# Encoding categorical features and standardizing numeric features\n",
    "\n",
    "print(\"#### X_train BEFORE preprocessing ####\")\n",
    "print(X_train.head())\n",
    "print()\n",
    "\n",
    "print(\"Encoding categorical features and standardizing numerical features...\")\n",
    "## First let's import libraries\n",
    "## StandardScaler to scale data (i.e apply Z-score)\n",
    "## OneHotEncoder to encode categorical variables\n",
    "\n",
    "\n",
    "numeric_features = [1] # Choose which column index we are going to scale\n",
    "numeric_transformer = StandardScaler()\n",
    "\n",
    "categorical_features = [0] \n",
    "categorical_transformer = OneHotEncoder()\n",
    "\n",
    "\n",
    "# Apply ColumnTransformer to create a pipeline that will apply the above preprocessing\n",
    "feature_encoder = ColumnTransformer(\n",
    "    transformers=[\n",
    "        ('cat', categorical_transformer, categorical_features),    \n",
    "        ('num', numeric_transformer, numeric_features)\n",
    "        ]\n",
    "    )\n",
    "\n",
    "X_train = feature_encoder.fit_transform(X_train)\n",
    "print(\"...Done.\")\n",
    "print(\"#### X_train AFTER preprocessing ####\")\n",
    "print(X_train[0:5,:]) # print first 5 rows (not using iloc since now X_train became a numpy array)\n",
    "print()"
   ]
  },
  {
   "attachments": {},
   "cell_type": "markdown",
   "metadata": {},
   "source": [
    "## Step 2 - Build the model 🏋️‍♂️\n",
    "\n",
    "Let's now create your model. With `sklearn`, you'll see that it's not that long! "
   ]
  },
  {
   "cell_type": "code",
   "execution_count": 37,
   "metadata": {},
   "outputs": [
    {
     "name": "stdout",
     "output_type": "stream",
     "text": [
      "Train model...\n",
      "...Done.\n"
     ]
    }
   ],
   "source": [
    "# Train model\n",
    "print(\"Train model...\")\n",
    "regressor = LinearRegression()\n",
    "regressor.fit(X_train, y_train) # This steps is the actual training !\n",
    "print(\"...Done.\")"
   ]
  },
  {
   "attachments": {},
   "cell_type": "markdown",
   "metadata": {},
   "source": [
    "### 2.1 Apply model on train set\n",
    "\n",
    "Let's now test our model and see its predictions "
   ]
  },
  {
   "cell_type": "code",
   "execution_count": 38,
   "metadata": {},
   "outputs": [
    {
     "name": "stdout",
     "output_type": "stream",
     "text": [
      "Predictions on training set...\n",
      "...Done.\n",
      "[118002.7170578   66176.7536895   78207.7809      99506.0692039\n",
      "  55996.65374215]\n",
      "\n"
     ]
    }
   ],
   "source": [
    "# Predictions on training set\n",
    "print(\"Predictions on training set...\")\n",
    "y_train_pred = regressor.predict(X_train)\n",
    "print(\"...Done.\")\n",
    "print(y_train_pred[:5]) # print first 5 rows (not using iloc since now y_train became a numpy array)\n",
    "print()"
   ]
  },
  {
   "cell_type": "markdown",
   "metadata": {},
   "source": [
    "Affiche y_train et y_train_pred en fonction de X_train\n",
    "\n",
    "#### Attention aux types \n",
    "* X_train est un ndarray PLUS un dataframe. Voir fit_transform->ndarray\n",
    "* y_train est une Series\n",
    " * y_train_pred est un ndarray\n",
    "\n",
    "En python on écrit :\n",
    "```python\n",
    "fig, ax = plt.subplots()\n",
    "_ = ax.scatter(X_train[:,3], y_train)\n",
    "_ = ax.scatter(X_train[:,3], y_train_pred, c=\"red\")\n",
    "```"
   ]
  },
  {
   "cell_type": "code",
   "execution_count": 39,
   "metadata": {},
   "outputs": [
    {
     "data": {
      "image/png": "[encoded data removed]",
      "text/plain": [
       "<Figure size 640x480 with 1 Axes>"
      ]
     },
     "metadata": {},
     "output_type": "display_data"
    }
   ],
   "source": [
    "# print(len(X_train))\n",
    "# print(y_train_pred.size)\n",
    "# print(X_train[\"YearsExperience\"].values())\n",
    "\n",
    "# print(type(X_train))\n",
    "# print(type(y_train))\n",
    "# print(type(y_train_pred))\n",
    "\n",
    "# print(X_train[:,3])\n",
    "# print(y_train)\n",
    "# print(y_train_pred)\n",
    "\n",
    "fig, ax = plt.subplots()\n",
    "ax.set_title(\"y_train & y_train_pred vs X_train\")\n",
    "ax.set_xlabel(\"Xtrain\")\n",
    "ax.set_ylabel(\"y_train, y_test_pred\")\n",
    "\n",
    "\n",
    "_ = ax.scatter(X_train[:,3], y_train)\n",
    "_ = ax.scatter(X_train[:,3], y_train_pred, c=\"red\")\n",
    "\n",
    "_ = ax.legend(('y_train', 'y_train_pred'))\n"
   ]
  },
  {
   "attachments": {},
   "cell_type": "markdown",
   "metadata": {},
   "source": [
    "### 2.2 Apply model on test set\n",
    "\n",
    "Let's now reproduce the same process on the test set and compare performance. "
   ]
  },
  {
   "cell_type": "code",
   "execution_count": 40,
   "metadata": {},
   "outputs": [
    {
     "name": "stdout",
     "output_type": "stream",
     "text": [
      "--- Testing pipeline ---\n",
      "Standardizing numerical features...\n",
      "           Country  YearsExperience\n",
      "2           France              1.5\n",
      "28          France             10.3\n",
      "13          France              4.1\n",
      "10  United-Kingdom              3.9\n",
      "26  United-Kingdom              9.5\n",
      "24          France              8.7\n",
      "\n",
      "...Done.\n",
      "[[ 1.          0.          0.         -1.37762723]\n",
      " [ 1.          0.          0.          2.02933848]\n",
      " [ 1.          0.          0.         -0.37102373]\n",
      " [ 0.          0.          1.         -0.44845477]\n",
      " [ 0.          0.          1.          1.71961432]]\n",
      "\n"
     ]
    }
   ],
   "source": [
    "### Testing pipeline ###\n",
    "print(\"--- Testing pipeline ---\")\n",
    "\n",
    "# Standardizing numeric features\n",
    "print(\"Standardizing numerical features...\")\n",
    "print(X_test)\n",
    "print()\n",
    "\n",
    "X_test = feature_encoder.transform(X_test)\n",
    "\n",
    "print(\"...Done.\")\n",
    "print(X_test[:5]) # print first 5 rows (not using iloc since now X_test became a numpy array)\n",
    "print()"
   ]
  },
  {
   "cell_type": "code",
   "execution_count": 41,
   "metadata": {},
   "outputs": [
    {
     "name": "stdout",
     "output_type": "stream",
     "text": [
      "Predictions on test set...\n",
      "...Done.\n",
      "[ 40276.39678298 121717.19636174  64338.45120398  65251.29005792\n",
      " 117077.25342622]\n",
      "\n"
     ]
    }
   ],
   "source": [
    "# Predictions on test set\n",
    "print(\"Predictions on test set...\")\n",
    "y_test_pred = regressor.predict(X_test)\n",
    "print(\"...Done.\")\n",
    "print(y_test_pred[:5])\n",
    "print()"
   ]
  },
  {
   "cell_type": "code",
   "execution_count": 42,
   "metadata": {},
   "outputs": [
    {
     "data": {
      "text/plain": [
       "array([ 37731., 122391.,  57081.,  63218., 116969., 109431.])"
      ]
     },
     "execution_count": 42,
     "metadata": {},
     "output_type": "execute_result"
    }
   ],
   "source": [
    "type (y_test)\n",
    "y_test.values"
   ]
  },
  {
   "cell_type": "code",
   "execution_count": 43,
   "metadata": {},
   "outputs": [
    {
     "data": {
      "image/png": "[encoded data removed]",
      "text/plain": [
       "<Figure size 640x480 with 1 Axes>"
      ]
     },
     "metadata": {},
     "output_type": "display_data"
    }
   ],
   "source": [
    "fig, ax = plt.subplots()\n",
    "ax.set_title(\"y_test & y_test_pred vs X_test\")\n",
    "ax.set_xlabel(\"Xtest\")\n",
    "ax.set_ylabel(\"y_test, y_test_pred\")\n",
    "ax.scatter(X_test[:,3], y_test)\n",
    "ax.scatter(X_test[:,3], y_test_pred, c=\"red\")\n",
    "_ = ax.legend(('y_train', 'y_train_pred'))"
   ]
  },
  {
   "attachments": {},
   "cell_type": "markdown",
   "metadata": {},
   "source": [
    "## Step 3 - Evaluate your model 🌡️"
   ]
  },
  {
   "attachments": {},
   "cell_type": "markdown",
   "metadata": {},
   "source": [
    "Now, we can visualize our results and evaluate our model. Visualizing in graph is optional because depending on your model, it will be harder to build a 2D graph. However, we can always evaluate performance using a metric. \n",
    "\n",
    "For regression, we often use $R^2$. Let's do that using `sklearn` again. To evaluate our model, we will try to compare $R^2$ on the train set and on the test set. "
   ]
  },
  {
   "cell_type": "code",
   "execution_count": 53,
   "metadata": {},
   "outputs": [
    {
     "name": "stdout",
     "output_type": "stream",
     "text": [
      "--- Assessing the performances of the model ---\n",
      "R2 score on training set : 0.947\n",
      "R2 score on test set     : 0.989\n"
     ]
    }
   ],
   "source": [
    "# Performance assessment\n",
    "print(\"--- Assessing the performances of the model ---\")\n",
    "\n",
    "# Print R^2 scores\n",
    "print(f\"R2 score on training set : {regressor.score(X_train, y_train):.3f}\")\n",
    "print(f\"R2 score on test set     : {regressor.score(X_test, y_test):.3f}\")\n",
    "\n",
    "\n",
    "\n",
    "\n"
   ]
  },
  {
   "attachments": {},
   "cell_type": "markdown",
   "metadata": {},
   "source": [
    "Depending on the results, we will be able to tell if the model is performing well and whether it is overfitting or not. \n",
    "\n",
    "* $R^2$ close to 1 means good performance \n",
    "* $R^2_{train}$ > $R^2_{test}$ means overfitting \n",
    "* $R^2_{train}$ < $R^2_{test}$ means underfitting \n",
    "\n",
    "If you want to read more on overfitting in our blog: 👉 [What is overfitting?](https://www.jedha.co/blog/quest-ce-que-loverfitting) 👈"
   ]
  },
  {
   "cell_type": "markdown",
   "metadata": {},
   "source": [
    "### 3.1 Optional\n",
    "Mean squared error and R²"
   ]
  },
  {
   "cell_type": "code",
   "execution_count": 67,
   "metadata": {},
   "outputs": [
    {
     "name": "stdout",
     "output_type": "stream",
     "text": [
      "Mean squared error                       : 11684366.741\n",
      "Coefficient of determination on test set : 0.989\n"
     ]
    }
   ],
   "source": [
    "# Read : https://scikit-learn.org/stable/auto_examples/linear_model/plot_ols.html\n",
    "from sklearn.metrics import mean_squared_error, r2_score\n",
    "\n",
    "# Make predictions using the testing set\n",
    "y_pred = regressor.predict(X_test)\n",
    "\n",
    "# The mean squared error\n",
    "print(\"Mean squared error                       : %.3f\" % mean_squared_error(y_test, y_pred))\n",
    "# The coefficient of determination: 1 is perfect prediction\n",
    "print(\"Coefficient of determination on test set : %.3f\" % r2_score(y_test, y_pred))\n"
   ]
  },
  {
   "cell_type": "markdown",
   "metadata": {},
   "source": [
    "### 3.2 Optional\n",
    "\n",
    "Adjusted R²"
   ]
  },
  {
   "cell_type": "code",
   "execution_count": 66,
   "metadata": {},
   "outputs": [
    {
     "name": "stdout",
     "output_type": "stream",
     "text": [
      "Adjusted R2 score on test set     : 0.982\n"
     ]
    }
   ],
   "source": [
    "# Adj_R2 = 1-(1-R2)*(n-1)/(n-p-1)\n",
    "R2 = regressor.score(X_test, y_test)\n",
    "n = len(X_test)\n",
    "p = 2                                     # Country, Years of experience\n",
    "Adj_R2 = 1-(1-R2)*(n-1)/(n-p-1)\n",
    "print(f\"Adjusted R2 score on test set     : {Adj_R2:.3f}\")"
   ]
  },
  {
   "attachments": {},
   "cell_type": "markdown",
   "metadata": {},
   "source": [
    "## Step 4 - Feature importance 🥕\n",
    "\n",
    "Finally, what is interesting would be to see which features are important in your model. To do so, you can check out your model's coefficients! \n",
    "\n",
    "🚨 If you want to interpret coefficients, make sure you NORMALIZED your data in the preprocessing part 🚨"
   ]
  },
  {
   "attachments": {},
   "cell_type": "markdown",
   "metadata": {},
   "source": [
    "First, let's see how we can see how we can check out our coefficients: "
   ]
  },
  {
   "cell_type": "code",
   "execution_count": 69,
   "metadata": {},
   "outputs": [
    {
     "name": "stdout",
     "output_type": "stream",
     "text": [
      "coefficients are :  [ -290.80396519 -2182.15818671  2472.9621519  23904.2028923 ]\n",
      "Constant is      :  73498.28163844894\n"
     ]
    }
   ],
   "source": [
    "print(\"coefficients are : \", regressor.coef_) \n",
    "print(\"Constant is      : \", regressor.intercept_)"
   ]
  },
  {
   "attachments": {},
   "cell_type": "markdown",
   "metadata": {},
   "source": [
    "Now that we have the coefficients, we need to know which columns are associated with each one. If you look at `X_train` (or `X_test`), here is what you have:"
   ]
  },
  {
   "cell_type": "code",
   "execution_count": 70,
   "metadata": {},
   "outputs": [
    {
     "data": {
      "text/plain": [
       "array([[ 0.        ,  0.        ,  1.        ,  1.75832984],\n",
       "       [ 0.        ,  0.        ,  1.        , -0.40973925],\n",
       "       [ 0.        ,  0.        ,  1.        ,  0.09356251],\n",
       "       [ 1.        ,  0.        ,  0.        ,  1.10016601],\n",
       "       [ 0.        ,  0.        ,  1.        , -0.83560996]])"
      ]
     },
     "execution_count": 70,
     "metadata": {},
     "output_type": "execute_result"
    }
   ],
   "source": [
    "X_train[:5] # Visualize the first 5 rows of your X_train"
   ]
  },
  {
   "attachments": {},
   "cell_type": "markdown",
   "metadata": {},
   "source": [
    "If you look at your data, you can deduce that the columns are in the following order:\n",
    "\n",
    "1. France\n",
    "2. Germany \n",
    "3. United Kingdom \n",
    "4. Years of Experience (Normalized)\n",
    "\n",
    "But how can we show it in a DataFrame? Well first, we need to use the [`.categories_`](https://scikit-learn.org/stable/modules/generated/sklearn.preprocessing.OneHotEncoder.html?highlight=one%20hot%20encoder#sklearn.preprocessing.OneHotEncoder) attribute from [`OneHotEncoder`](https://scikit-learn.org/stable/modules/generated/sklearn.preprocessing.OneHotEncoder.html?highlight=one%20hot%20encoder#sklearn.preprocessing.OneHotEncoder). \n",
    "\n",
    "Since we use `ColumnTransformer`, we need to access `OneHotEncoder` using `.transformers_` "
   ]
  },
  {
   "cell_type": "code",
   "execution_count": 71,
   "metadata": {},
   "outputs": [
    {
     "name": "stdout",
     "output_type": "stream",
     "text": [
      "All transformers are           :  [('cat', OneHotEncoder(), [0]), ('num', StandardScaler(), [1])]\n",
      "One Hot Encoder transformer is :  OneHotEncoder()\n"
     ]
    }
   ],
   "source": [
    "# Access transformers from feature_encoder\n",
    "print(\"All transformers are           : \", feature_encoder.transformers_)\n",
    "\n",
    "# Access one specific transformer\n",
    "print(\"One Hot Encoder transformer is : \", feature_encoder.transformers_[0][1])"
   ]
  },
  {
   "attachments": {},
   "cell_type": "markdown",
   "metadata": {},
   "source": [
    "Now we can simply check the categories"
   ]
  },
  {
   "cell_type": "code",
   "execution_count": 72,
   "metadata": {},
   "outputs": [
    {
     "name": "stdout",
     "output_type": "stream",
     "text": [
      "Categorical columns are:  [array(['France', 'Germany', 'United-Kingdom'], dtype=object)]\n"
     ]
    }
   ],
   "source": [
    "# Print categories\n",
    "categorical_column_names = feature_encoder.transformers_[0][1].categories_\n",
    "print(\"Categorical columns are: \", categorical_column_names)"
   ]
  },
  {
   "attachments": {},
   "cell_type": "markdown",
   "metadata": {},
   "source": [
    "Now we can concatenate them with the numerical column names. We will use `numeric_features` variable to determine the name of our columns"
   ]
  },
  {
   "cell_type": "code",
   "execution_count": 73,
   "metadata": {},
   "outputs": [
    {
     "name": "stdout",
     "output_type": "stream",
     "text": [
      "numerical columns are:  Index(['YearsExperience'], dtype='object')\n"
     ]
    }
   ],
   "source": [
    "numerical_column_names = X.iloc[:, numeric_features].columns # using the .columns attribute gives us the name of the column \n",
    "print(\"numerical columns are: \", numerical_column_names)"
   ]
  },
  {
   "attachments": {},
   "cell_type": "markdown",
   "metadata": {},
   "source": [
    "Finally, we need to concatenate our `numerical_column_names` and our `categorical_column_names`. The easiest way to do it is by using [np.append](https://numpy.org/doc/stable/reference/generated/numpy.append.html)"
   ]
  },
  {
   "cell_type": "code",
   "execution_count": 74,
   "metadata": {},
   "outputs": [
    {
     "data": {
      "text/plain": [
       "array(['France', 'Germany', 'United-Kingdom', 'YearsExperience'],\n",
       "      dtype=object)"
      ]
     },
     "execution_count": 74,
     "metadata": {},
     "output_type": "execute_result"
    }
   ],
   "source": [
    "# Append all columns \n",
    "all_column_names = np.append(categorical_column_names, numerical_column_names)\n",
    "all_column_names"
   ]
  },
  {
   "attachments": {},
   "cell_type": "markdown",
   "metadata": {},
   "source": [
    "Now we can finally rank all columns by importance using coefficients 🥰"
   ]
  },
  {
   "cell_type": "code",
   "execution_count": 75,
   "metadata": {},
   "outputs": [
    {
     "data": {
      "text/html": [
       "<div>\n",
       "<style scoped>\n",
       "    .dataframe tbody tr th:only-of-type {\n",
       "        vertical-align: middle;\n",
       "    }\n",
       "\n",
       "    .dataframe tbody tr th {\n",
       "        vertical-align: top;\n",
       "    }\n",
       "\n",
       "    .dataframe thead th {\n",
       "        text-align: right;\n",
       "    }\n",
       "</style>\n",
       "<table border=\"1\" class=\"dataframe\">\n",
       "  <thead>\n",
       "    <tr style=\"text-align: right;\">\n",
       "      <th></th>\n",
       "      <th>feature_names</th>\n",
       "      <th>coefficients</th>\n",
       "    </tr>\n",
       "  </thead>\n",
       "  <tbody>\n",
       "    <tr>\n",
       "      <th>0</th>\n",
       "      <td>France</td>\n",
       "      <td>-290.803965</td>\n",
       "    </tr>\n",
       "    <tr>\n",
       "      <th>1</th>\n",
       "      <td>Germany</td>\n",
       "      <td>-2182.158187</td>\n",
       "    </tr>\n",
       "    <tr>\n",
       "      <th>2</th>\n",
       "      <td>United-Kingdom</td>\n",
       "      <td>2472.962152</td>\n",
       "    </tr>\n",
       "    <tr>\n",
       "      <th>3</th>\n",
       "      <td>YearsExperience</td>\n",
       "      <td>23904.202892</td>\n",
       "    </tr>\n",
       "  </tbody>\n",
       "</table>\n",
       "</div>"
      ],
      "text/plain": [
       "     feature_names  coefficients\n",
       "0           France   -290.803965\n",
       "1          Germany  -2182.158187\n",
       "2   United-Kingdom   2472.962152\n",
       "3  YearsExperience  23904.202892"
      ]
     },
     "execution_count": 75,
     "metadata": {},
     "output_type": "execute_result"
    }
   ],
   "source": [
    "# Feature importance \n",
    "feature_importance = pd.DataFrame({\n",
    "    \"feature_names\": all_column_names,\n",
    "    \"coefficients\":regressor.coef_\n",
    "})\n",
    "\n",
    "feature_importance"
   ]
  },
  {
   "attachments": {},
   "cell_type": "markdown",
   "metadata": {},
   "source": [
    "Now you know that you model is: \n",
    "\n",
    "$y=23904\\times YearsExperience + 2472 \\times UK - 2182 \\times Germany  -290\\times France + 73498$\n",
    "\n",
    "You can be very fancy and try to use `seaborn` to visualize feature importance 🌟"
   ]
  },
  {
   "cell_type": "code",
   "execution_count": 121,
   "metadata": {},
   "outputs": [],
   "source": [
    "# # Set coefficient to absolute values to rank features\n",
    "# feature_importance[\"coefficients\"] = feature_importance[\"coefficients\"].abs()\n",
    "\n",
    "# # Visualize ranked features using seaborn\n",
    "# sns.catplot(x=\"feature_names\", \n",
    "#             y=\"coefficients\", \n",
    "#             data=feature_importance.sort_values(by=\"coefficients\", ascending=False), \n",
    "#             kind=\"bar\",\n",
    "#             aspect=16/9) # Resize graph"
   ]
  },
  {
   "cell_type": "code",
   "execution_count": 120,
   "metadata": {},
   "outputs": [
    {
     "data": {
      "image/png": "[encoded data removed]",
      "text/plain": [
       "<Figure size 1040x585 with 1 Axes>"
      ]
     },
     "metadata": {},
     "output_type": "display_data"
    }
   ],
   "source": [
    "_ = feature_importance.sort_values(by=\"coefficients\", ascending=False).plot(kind=\"bar\", x=\"feature_names\", figsize=(16*.65, 9*.65))\n",
    "_ = plt.xticks(rotation=0)\n"
   ]
  },
  {
   "attachments": {},
   "cell_type": "markdown",
   "metadata": {},
   "source": [
    "## Resources 📚📚\n",
    "\n",
    "* Linear and Quadratic Discriminant Analysis - [https://bit.ly/20Csax](https://scikit-learn.org/stable/modules/lda_qda.html)\n",
    "\n",
    "* What is overfitting - [https://bit.ly/30Cssas](https://www.jedha.co/blog/quest-ce-que-loverfitting)"
   ]
  }
 ],
 "metadata": {
  "interpreter": {
   "hash": "216d08ced86f1f6e0b5764233bcb18334be12ba95b6ee555f60be9cf0be8c147"
  },
  "kernelspec": {
   "display_name": "Python 3",
   "language": "python",
   "name": "python3"
  },
  "language_info": {
   "codemirror_mode": {
    "name": "ipython",
    "version": 3
   },
   "file_extension": ".py",
   "mimetype": "text/x-python",
   "name": "python",
   "nbconvert_exporter": "python",
   "pygments_lexer": "ipython3",
   "version": "3.11.5"
  }
 },
 "nbformat": 4,
 "nbformat_minor": 4
}
