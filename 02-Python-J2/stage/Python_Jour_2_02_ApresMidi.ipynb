{
 "cells": [
  {
   "cell_type": "markdown",
   "metadata": {},
   "source": [
    "# QUONTO\n",
    "\n",
    "* To make sure the company stays profitable, they need to have an average default rate below **8.5%**\n",
    "* We've gathered data on different loans\n",
    "* Your goal is to test whether the algorithm respects the maximum default loan rate."
   ]
  },
  {
   "cell_type": "markdown",
   "metadata": {},
   "source": [
    "## Step 1 - Import libraries"
   ]
  },
  {
   "cell_type": "code",
   "execution_count": 2,
   "metadata": {},
   "outputs": [],
   "source": [
    "import pandas as pd\n",
    "import numpy as np\n",
    "import matplotlib.pyplot as plt\n",
    "import seaborn as sns"
   ]
  },
  {
   "cell_type": "markdown",
   "metadata": {},
   "source": [
    "## Step 2 - Import Dataset"
   ]
  },
  {
   "cell_type": "code",
   "execution_count": 3,
   "metadata": {},
   "outputs": [
    {
     "data": {
      "text/html": [
       "<div>\n",
       "<style scoped>\n",
       "    .dataframe tbody tr th:only-of-type {\n",
       "        vertical-align: middle;\n",
       "    }\n",
       "\n",
       "    .dataframe tbody tr th {\n",
       "        vertical-align: top;\n",
       "    }\n",
       "\n",
       "    .dataframe thead th {\n",
       "        text-align: right;\n",
       "    }\n",
       "</style>\n",
       "<table border=\"1\" class=\"dataframe\">\n",
       "  <thead>\n",
       "    <tr style=\"text-align: right;\">\n",
       "      <th></th>\n",
       "      <th>SK_ID_CURR</th>\n",
       "      <th>TARGET</th>\n",
       "      <th>NAME_CONTRACT_TYPE</th>\n",
       "      <th>CODE_GENDER</th>\n",
       "      <th>FLAG_OWN_CAR</th>\n",
       "      <th>FLAG_OWN_REALTY</th>\n",
       "      <th>CNT_CHILDREN</th>\n",
       "      <th>AMT_INCOME_TOTAL</th>\n",
       "      <th>AMT_CREDIT</th>\n",
       "      <th>AMT_ANNUITY</th>\n",
       "      <th>AMT_GOODS_PRICE</th>\n",
       "      <th>NAME_TYPE_SUITE</th>\n",
       "      <th>NAME_INCOME_TYPE</th>\n",
       "      <th>NAME_EDUCATION_TYPE</th>\n",
       "      <th>NAME_FAMILY_STATUS</th>\n",
       "      <th>NAME_HOUSING_TYPE</th>\n",
       "      <th>REGION_POPULATION_RELATIVE</th>\n",
       "    </tr>\n",
       "  </thead>\n",
       "  <tbody>\n",
       "    <tr>\n",
       "      <th>0</th>\n",
       "      <td>182940</td>\n",
       "      <td>0</td>\n",
       "      <td>Cash loans</td>\n",
       "      <td>F</td>\n",
       "      <td>N</td>\n",
       "      <td>N</td>\n",
       "      <td>0</td>\n",
       "      <td>90000.0</td>\n",
       "      <td>835380.0</td>\n",
       "      <td>23571.0</td>\n",
       "      <td>675000.0</td>\n",
       "      <td>Unaccompanied</td>\n",
       "      <td>Pensioner</td>\n",
       "      <td>Secondary / secondary special</td>\n",
       "      <td>Married</td>\n",
       "      <td>House / apartment</td>\n",
       "      <td>0.019689</td>\n",
       "    </tr>\n",
       "    <tr>\n",
       "      <th>1</th>\n",
       "      <td>397049</td>\n",
       "      <td>1</td>\n",
       "      <td>Cash loans</td>\n",
       "      <td>M</td>\n",
       "      <td>Y</td>\n",
       "      <td>Y</td>\n",
       "      <td>0</td>\n",
       "      <td>225000.0</td>\n",
       "      <td>254700.0</td>\n",
       "      <td>20250.0</td>\n",
       "      <td>225000.0</td>\n",
       "      <td>Unaccompanied</td>\n",
       "      <td>Working</td>\n",
       "      <td>Secondary / secondary special</td>\n",
       "      <td>Married</td>\n",
       "      <td>House / apartment</td>\n",
       "      <td>0.018029</td>\n",
       "    </tr>\n",
       "    <tr>\n",
       "      <th>2</th>\n",
       "      <td>120845</td>\n",
       "      <td>1</td>\n",
       "      <td>Cash loans</td>\n",
       "      <td>M</td>\n",
       "      <td>Y</td>\n",
       "      <td>Y</td>\n",
       "      <td>3</td>\n",
       "      <td>135000.0</td>\n",
       "      <td>755190.0</td>\n",
       "      <td>38686.5</td>\n",
       "      <td>675000.0</td>\n",
       "      <td>Unaccompanied</td>\n",
       "      <td>Working</td>\n",
       "      <td>Secondary / secondary special</td>\n",
       "      <td>Married</td>\n",
       "      <td>House / apartment</td>\n",
       "      <td>0.025164</td>\n",
       "    </tr>\n",
       "    <tr>\n",
       "      <th>3</th>\n",
       "      <td>155211</td>\n",
       "      <td>0</td>\n",
       "      <td>Revolving loans</td>\n",
       "      <td>M</td>\n",
       "      <td>N</td>\n",
       "      <td>N</td>\n",
       "      <td>2</td>\n",
       "      <td>180000.0</td>\n",
       "      <td>180000.0</td>\n",
       "      <td>9000.0</td>\n",
       "      <td>180000.0</td>\n",
       "      <td>Unaccompanied</td>\n",
       "      <td>Working</td>\n",
       "      <td>Secondary / secondary special</td>\n",
       "      <td>Married</td>\n",
       "      <td>House / apartment</td>\n",
       "      <td>0.007305</td>\n",
       "    </tr>\n",
       "    <tr>\n",
       "      <th>4</th>\n",
       "      <td>172542</td>\n",
       "      <td>0</td>\n",
       "      <td>Cash loans</td>\n",
       "      <td>M</td>\n",
       "      <td>N</td>\n",
       "      <td>Y</td>\n",
       "      <td>0</td>\n",
       "      <td>270000.0</td>\n",
       "      <td>781920.0</td>\n",
       "      <td>33129.0</td>\n",
       "      <td>675000.0</td>\n",
       "      <td>Unaccompanied</td>\n",
       "      <td>Working</td>\n",
       "      <td>Secondary / secondary special</td>\n",
       "      <td>Married</td>\n",
       "      <td>House / apartment</td>\n",
       "      <td>0.007330</td>\n",
       "    </tr>\n",
       "  </tbody>\n",
       "</table>\n",
       "</div>"
      ],
      "text/plain": [
       "   SK_ID_CURR  TARGET NAME_CONTRACT_TYPE CODE_GENDER FLAG_OWN_CAR  \\\n",
       "0      182940       0         Cash loans           F            N   \n",
       "1      397049       1         Cash loans           M            Y   \n",
       "2      120845       1         Cash loans           M            Y   \n",
       "3      155211       0    Revolving loans           M            N   \n",
       "4      172542       0         Cash loans           M            N   \n",
       "\n",
       "  FLAG_OWN_REALTY  CNT_CHILDREN  AMT_INCOME_TOTAL  AMT_CREDIT  AMT_ANNUITY  \\\n",
       "0               N             0           90000.0    835380.0      23571.0   \n",
       "1               Y             0          225000.0    254700.0      20250.0   \n",
       "2               Y             3          135000.0    755190.0      38686.5   \n",
       "3               N             2          180000.0    180000.0       9000.0   \n",
       "4               Y             0          270000.0    781920.0      33129.0   \n",
       "\n",
       "   AMT_GOODS_PRICE NAME_TYPE_SUITE NAME_INCOME_TYPE  \\\n",
       "0         675000.0   Unaccompanied        Pensioner   \n",
       "1         225000.0   Unaccompanied          Working   \n",
       "2         675000.0   Unaccompanied          Working   \n",
       "3         180000.0   Unaccompanied          Working   \n",
       "4         675000.0   Unaccompanied          Working   \n",
       "\n",
       "             NAME_EDUCATION_TYPE NAME_FAMILY_STATUS  NAME_HOUSING_TYPE  \\\n",
       "0  Secondary / secondary special            Married  House / apartment   \n",
       "1  Secondary / secondary special            Married  House / apartment   \n",
       "2  Secondary / secondary special            Married  House / apartment   \n",
       "3  Secondary / secondary special            Married  House / apartment   \n",
       "4  Secondary / secondary special            Married  House / apartment   \n",
       "\n",
       "   REGION_POPULATION_RELATIVE  \n",
       "0                    0.019689  \n",
       "1                    0.018029  \n",
       "2                    0.025164  \n",
       "3                    0.007305  \n",
       "4                    0.007330  "
      ]
     },
     "execution_count": 3,
     "metadata": {},
     "output_type": "execute_result"
    }
   ],
   "source": [
    "df = pd.read_csv(\"./assets/Python/qonto_loans.csv\")\n",
    "df.head()"
   ]
  },
  {
   "cell_type": "markdown",
   "metadata": {},
   "source": [
    "## Step 3 - EDA (Exploratory Data Analysis)"
   ]
  },
  {
   "cell_type": "code",
   "execution_count": 4,
   "metadata": {},
   "outputs": [
    {
     "data": {
      "text/html": [
       "<div>\n",
       "<style scoped>\n",
       "    .dataframe tbody tr th:only-of-type {\n",
       "        vertical-align: middle;\n",
       "    }\n",
       "\n",
       "    .dataframe tbody tr th {\n",
       "        vertical-align: top;\n",
       "    }\n",
       "\n",
       "    .dataframe thead th {\n",
       "        text-align: right;\n",
       "    }\n",
       "</style>\n",
       "<table border=\"1\" class=\"dataframe\">\n",
       "  <thead>\n",
       "    <tr style=\"text-align: right;\">\n",
       "      <th></th>\n",
       "      <th>SK_ID_CURR</th>\n",
       "      <th>TARGET</th>\n",
       "      <th>NAME_CONTRACT_TYPE</th>\n",
       "      <th>CODE_GENDER</th>\n",
       "      <th>FLAG_OWN_CAR</th>\n",
       "      <th>FLAG_OWN_REALTY</th>\n",
       "      <th>CNT_CHILDREN</th>\n",
       "      <th>AMT_INCOME_TOTAL</th>\n",
       "      <th>AMT_CREDIT</th>\n",
       "      <th>AMT_ANNUITY</th>\n",
       "      <th>AMT_GOODS_PRICE</th>\n",
       "      <th>NAME_TYPE_SUITE</th>\n",
       "      <th>NAME_INCOME_TYPE</th>\n",
       "      <th>NAME_EDUCATION_TYPE</th>\n",
       "      <th>NAME_FAMILY_STATUS</th>\n",
       "      <th>NAME_HOUSING_TYPE</th>\n",
       "      <th>REGION_POPULATION_RELATIVE</th>\n",
       "    </tr>\n",
       "  </thead>\n",
       "  <tbody>\n",
       "    <tr>\n",
       "      <th>count</th>\n",
       "      <td>10000.000000</td>\n",
       "      <td>10000.000000</td>\n",
       "      <td>10000</td>\n",
       "      <td>10000</td>\n",
       "      <td>10000</td>\n",
       "      <td>10000</td>\n",
       "      <td>10000.000000</td>\n",
       "      <td>1.000000e+04</td>\n",
       "      <td>1.000000e+04</td>\n",
       "      <td>9999.000000</td>\n",
       "      <td>9.997000e+03</td>\n",
       "      <td>9965</td>\n",
       "      <td>10000</td>\n",
       "      <td>10000</td>\n",
       "      <td>10000</td>\n",
       "      <td>10000</td>\n",
       "      <td>10000.000000</td>\n",
       "    </tr>\n",
       "    <tr>\n",
       "      <th>unique</th>\n",
       "      <td>NaN</td>\n",
       "      <td>NaN</td>\n",
       "      <td>2</td>\n",
       "      <td>2</td>\n",
       "      <td>2</td>\n",
       "      <td>2</td>\n",
       "      <td>NaN</td>\n",
       "      <td>NaN</td>\n",
       "      <td>NaN</td>\n",
       "      <td>NaN</td>\n",
       "      <td>NaN</td>\n",
       "      <td>7</td>\n",
       "      <td>6</td>\n",
       "      <td>5</td>\n",
       "      <td>5</td>\n",
       "      <td>6</td>\n",
       "      <td>NaN</td>\n",
       "    </tr>\n",
       "    <tr>\n",
       "      <th>top</th>\n",
       "      <td>NaN</td>\n",
       "      <td>NaN</td>\n",
       "      <td>Cash loans</td>\n",
       "      <td>F</td>\n",
       "      <td>N</td>\n",
       "      <td>Y</td>\n",
       "      <td>NaN</td>\n",
       "      <td>NaN</td>\n",
       "      <td>NaN</td>\n",
       "      <td>NaN</td>\n",
       "      <td>NaN</td>\n",
       "      <td>Unaccompanied</td>\n",
       "      <td>Working</td>\n",
       "      <td>Secondary / secondary special</td>\n",
       "      <td>Married</td>\n",
       "      <td>House / apartment</td>\n",
       "      <td>NaN</td>\n",
       "    </tr>\n",
       "    <tr>\n",
       "      <th>freq</th>\n",
       "      <td>NaN</td>\n",
       "      <td>NaN</td>\n",
       "      <td>9073</td>\n",
       "      <td>6642</td>\n",
       "      <td>6610</td>\n",
       "      <td>6884</td>\n",
       "      <td>NaN</td>\n",
       "      <td>NaN</td>\n",
       "      <td>NaN</td>\n",
       "      <td>NaN</td>\n",
       "      <td>NaN</td>\n",
       "      <td>8158</td>\n",
       "      <td>5129</td>\n",
       "      <td>6968</td>\n",
       "      <td>6327</td>\n",
       "      <td>8847</td>\n",
       "      <td>NaN</td>\n",
       "    </tr>\n",
       "    <tr>\n",
       "      <th>mean</th>\n",
       "      <td>278434.555600</td>\n",
       "      <td>0.077500</td>\n",
       "      <td>NaN</td>\n",
       "      <td>NaN</td>\n",
       "      <td>NaN</td>\n",
       "      <td>NaN</td>\n",
       "      <td>0.419200</td>\n",
       "      <td>1.677800e+05</td>\n",
       "      <td>6.034761e+05</td>\n",
       "      <td>26909.101710</td>\n",
       "      <td>5.414610e+05</td>\n",
       "      <td>NaN</td>\n",
       "      <td>NaN</td>\n",
       "      <td>NaN</td>\n",
       "      <td>NaN</td>\n",
       "      <td>NaN</td>\n",
       "      <td>0.021051</td>\n",
       "    </tr>\n",
       "    <tr>\n",
       "      <th>std</th>\n",
       "      <td>103005.459546</td>\n",
       "      <td>0.267397</td>\n",
       "      <td>NaN</td>\n",
       "      <td>NaN</td>\n",
       "      <td>NaN</td>\n",
       "      <td>NaN</td>\n",
       "      <td>0.747213</td>\n",
       "      <td>9.376608e+04</td>\n",
       "      <td>4.015770e+05</td>\n",
       "      <td>14132.620434</td>\n",
       "      <td>3.679354e+05</td>\n",
       "      <td>NaN</td>\n",
       "      <td>NaN</td>\n",
       "      <td>NaN</td>\n",
       "      <td>NaN</td>\n",
       "      <td>NaN</td>\n",
       "      <td>0.014012</td>\n",
       "    </tr>\n",
       "    <tr>\n",
       "      <th>min</th>\n",
       "      <td>100077.000000</td>\n",
       "      <td>0.000000</td>\n",
       "      <td>NaN</td>\n",
       "      <td>NaN</td>\n",
       "      <td>NaN</td>\n",
       "      <td>NaN</td>\n",
       "      <td>0.000000</td>\n",
       "      <td>2.655000e+04</td>\n",
       "      <td>4.500000e+04</td>\n",
       "      <td>1980.000000</td>\n",
       "      <td>4.500000e+04</td>\n",
       "      <td>NaN</td>\n",
       "      <td>NaN</td>\n",
       "      <td>NaN</td>\n",
       "      <td>NaN</td>\n",
       "      <td>NaN</td>\n",
       "      <td>0.000533</td>\n",
       "    </tr>\n",
       "    <tr>\n",
       "      <th>25%</th>\n",
       "      <td>187556.750000</td>\n",
       "      <td>0.000000</td>\n",
       "      <td>NaN</td>\n",
       "      <td>NaN</td>\n",
       "      <td>NaN</td>\n",
       "      <td>NaN</td>\n",
       "      <td>0.000000</td>\n",
       "      <td>1.125000e+05</td>\n",
       "      <td>2.762775e+05</td>\n",
       "      <td>16551.000000</td>\n",
       "      <td>2.385000e+05</td>\n",
       "      <td>NaN</td>\n",
       "      <td>NaN</td>\n",
       "      <td>NaN</td>\n",
       "      <td>NaN</td>\n",
       "      <td>NaN</td>\n",
       "      <td>0.010032</td>\n",
       "    </tr>\n",
       "    <tr>\n",
       "      <th>50%</th>\n",
       "      <td>279763.000000</td>\n",
       "      <td>0.000000</td>\n",
       "      <td>NaN</td>\n",
       "      <td>NaN</td>\n",
       "      <td>NaN</td>\n",
       "      <td>NaN</td>\n",
       "      <td>0.000000</td>\n",
       "      <td>1.485000e+05</td>\n",
       "      <td>5.212800e+05</td>\n",
       "      <td>24822.000000</td>\n",
       "      <td>4.500000e+05</td>\n",
       "      <td>NaN</td>\n",
       "      <td>NaN</td>\n",
       "      <td>NaN</td>\n",
       "      <td>NaN</td>\n",
       "      <td>NaN</td>\n",
       "      <td>0.018850</td>\n",
       "    </tr>\n",
       "    <tr>\n",
       "      <th>75%</th>\n",
       "      <td>367411.750000</td>\n",
       "      <td>0.000000</td>\n",
       "      <td>NaN</td>\n",
       "      <td>NaN</td>\n",
       "      <td>NaN</td>\n",
       "      <td>NaN</td>\n",
       "      <td>1.000000</td>\n",
       "      <td>2.025000e+05</td>\n",
       "      <td>8.100000e+05</td>\n",
       "      <td>34049.250000</td>\n",
       "      <td>6.795000e+05</td>\n",
       "      <td>NaN</td>\n",
       "      <td>NaN</td>\n",
       "      <td>NaN</td>\n",
       "      <td>NaN</td>\n",
       "      <td>NaN</td>\n",
       "      <td>0.028663</td>\n",
       "    </tr>\n",
       "    <tr>\n",
       "      <th>max</th>\n",
       "      <td>456251.000000</td>\n",
       "      <td>1.000000</td>\n",
       "      <td>NaN</td>\n",
       "      <td>NaN</td>\n",
       "      <td>NaN</td>\n",
       "      <td>NaN</td>\n",
       "      <td>14.000000</td>\n",
       "      <td>1.890000e+06</td>\n",
       "      <td>3.150000e+06</td>\n",
       "      <td>225000.000000</td>\n",
       "      <td>3.150000e+06</td>\n",
       "      <td>NaN</td>\n",
       "      <td>NaN</td>\n",
       "      <td>NaN</td>\n",
       "      <td>NaN</td>\n",
       "      <td>NaN</td>\n",
       "      <td>0.072508</td>\n",
       "    </tr>\n",
       "  </tbody>\n",
       "</table>\n",
       "</div>"
      ],
      "text/plain": [
       "           SK_ID_CURR        TARGET NAME_CONTRACT_TYPE CODE_GENDER  \\\n",
       "count    10000.000000  10000.000000              10000       10000   \n",
       "unique            NaN           NaN                  2           2   \n",
       "top               NaN           NaN         Cash loans           F   \n",
       "freq              NaN           NaN               9073        6642   \n",
       "mean    278434.555600      0.077500                NaN         NaN   \n",
       "std     103005.459546      0.267397                NaN         NaN   \n",
       "min     100077.000000      0.000000                NaN         NaN   \n",
       "25%     187556.750000      0.000000                NaN         NaN   \n",
       "50%     279763.000000      0.000000                NaN         NaN   \n",
       "75%     367411.750000      0.000000                NaN         NaN   \n",
       "max     456251.000000      1.000000                NaN         NaN   \n",
       "\n",
       "       FLAG_OWN_CAR FLAG_OWN_REALTY  CNT_CHILDREN  AMT_INCOME_TOTAL  \\\n",
       "count         10000           10000  10000.000000      1.000000e+04   \n",
       "unique            2               2           NaN               NaN   \n",
       "top               N               Y           NaN               NaN   \n",
       "freq           6610            6884           NaN               NaN   \n",
       "mean            NaN             NaN      0.419200      1.677800e+05   \n",
       "std             NaN             NaN      0.747213      9.376608e+04   \n",
       "min             NaN             NaN      0.000000      2.655000e+04   \n",
       "25%             NaN             NaN      0.000000      1.125000e+05   \n",
       "50%             NaN             NaN      0.000000      1.485000e+05   \n",
       "75%             NaN             NaN      1.000000      2.025000e+05   \n",
       "max             NaN             NaN     14.000000      1.890000e+06   \n",
       "\n",
       "          AMT_CREDIT    AMT_ANNUITY  AMT_GOODS_PRICE NAME_TYPE_SUITE  \\\n",
       "count   1.000000e+04    9999.000000     9.997000e+03            9965   \n",
       "unique           NaN            NaN              NaN               7   \n",
       "top              NaN            NaN              NaN   Unaccompanied   \n",
       "freq             NaN            NaN              NaN            8158   \n",
       "mean    6.034761e+05   26909.101710     5.414610e+05             NaN   \n",
       "std     4.015770e+05   14132.620434     3.679354e+05             NaN   \n",
       "min     4.500000e+04    1980.000000     4.500000e+04             NaN   \n",
       "25%     2.762775e+05   16551.000000     2.385000e+05             NaN   \n",
       "50%     5.212800e+05   24822.000000     4.500000e+05             NaN   \n",
       "75%     8.100000e+05   34049.250000     6.795000e+05             NaN   \n",
       "max     3.150000e+06  225000.000000     3.150000e+06             NaN   \n",
       "\n",
       "       NAME_INCOME_TYPE            NAME_EDUCATION_TYPE NAME_FAMILY_STATUS  \\\n",
       "count             10000                          10000              10000   \n",
       "unique                6                              5                  5   \n",
       "top             Working  Secondary / secondary special            Married   \n",
       "freq               5129                           6968               6327   \n",
       "mean                NaN                            NaN                NaN   \n",
       "std                 NaN                            NaN                NaN   \n",
       "min                 NaN                            NaN                NaN   \n",
       "25%                 NaN                            NaN                NaN   \n",
       "50%                 NaN                            NaN                NaN   \n",
       "75%                 NaN                            NaN                NaN   \n",
       "max                 NaN                            NaN                NaN   \n",
       "\n",
       "        NAME_HOUSING_TYPE  REGION_POPULATION_RELATIVE  \n",
       "count               10000                10000.000000  \n",
       "unique                  6                         NaN  \n",
       "top     House / apartment                         NaN  \n",
       "freq                 8847                         NaN  \n",
       "mean                  NaN                    0.021051  \n",
       "std                   NaN                    0.014012  \n",
       "min                   NaN                    0.000533  \n",
       "25%                   NaN                    0.010032  \n",
       "50%                   NaN                    0.018850  \n",
       "75%                   NaN                    0.028663  \n",
       "max                   NaN                    0.072508  "
      ]
     },
     "execution_count": 4,
     "metadata": {},
     "output_type": "execute_result"
    }
   ],
   "source": [
    "df.describe(include=\"all\")                    # Voir le include=\"all\""
   ]
  },
  {
   "cell_type": "markdown",
   "metadata": {},
   "source": [
    "## Step 4 - Define hypothesises"
   ]
  },
  {
   "cell_type": "code",
   "execution_count": 5,
   "metadata": {},
   "outputs": [],
   "source": [
    "H1 = \"Le taux de défaut est <  8.5%\"\n",
    "H0 = \"Le taux de défaut est >= 8.5 %\""
   ]
  },
  {
   "cell_type": "markdown",
   "metadata": {},
   "source": [
    "## Step 5 - Calculate Z-score"
   ]
  },
  {
   "attachments": {
    "quonto-explain.png": {
     "image/png": "[encoded data removed]"
    }
   },
   "cell_type": "markdown",
   "metadata": {},
   "source": [
    "In `assets\\Python\\qonto_loans_columns_description.xlsx` we learn that TARGET is the column containing the feature of interrest \n",
    "\n",
    "![quonto-explain.png](attachment:quonto-explain.png)\n",
    "\n",
    "The formula to use is :\n",
    "\n",
    "<img src=\"./assets/Python/Z-score.png\">\n"
   ]
  },
  {
   "cell_type": "code",
   "execution_count": 6,
   "metadata": {},
   "outputs": [
    {
     "name": "stdout",
     "output_type": "stream",
     "text": [
      "La valeur du z score est : -2.805\n"
     ]
    }
   ],
   "source": [
    "X_bar = df.TARGET.mean()                                # Voir la notation df.TARGET.mean() au lieu de df[\"TARGET\"].mean()\n",
    "mu = 8.5 / 100.0                                        \n",
    "sigma = df.TARGET.std()\n",
    "n = len(df) \n",
    "Z = (X_bar - mu) / (sigma / n**.5)\n",
    "\n",
    "# Z\n",
    "# print(Z)\n",
    "print(f\"La valeur du z score est : {Z:.3f}\")                  # Identique aux lignes précédentes mais plus clean"
   ]
  },
  {
   "cell_type": "markdown",
   "metadata": {},
   "source": [
    "## Step 6 - Set $\\alpha$"
   ]
  },
  {
   "cell_type": "code",
   "execution_count": 7,
   "metadata": {},
   "outputs": [],
   "source": [
    "alpha = 0.05"
   ]
  },
  {
   "cell_type": "markdown",
   "metadata": {},
   "source": [
    "## Step 7 - Compare p-value to $\\alpha$ puis conclure (ou pas)"
   ]
  },
  {
   "cell_type": "markdown",
   "metadata": {},
   "source": [
    "### À propos de la fonction `ztest()` du module `statsmodels.stats.weightstats`\n",
    "#### Lire : \n",
    "* https://www.statology.org/z-test-python/ \n",
    "* https://www.statsmodels.org/dev/generated/statsmodels.stats.weightstats.ztest.html\n",
    "\n",
    "#### Notes\n",
    "* x1 = values for the first sample\n",
    "* x2 = values for the second sample (if performing a two sample z-test)\n",
    "* value = mean of x1 under the null hypothesis H0 (in one sample case) or the difference of the means (in two sample case)\n",
    "* alternative = \n",
    "  * H1, the alternative hypothesis, has to be one of the following : \n",
    "    * larger    : difference in means larger than value \n",
    "    * smaller   : difference in means smaller than value\n",
    "    * two-sided : difference in means not equal to value (default value)\n"
   ]
  },
  {
   "cell_type": "code",
   "execution_count": 8,
   "metadata": {},
   "outputs": [
    {
     "name": "stdout",
     "output_type": "stream",
     "text": [
      "La p-value calculée avec ztest() est : 0.0025\n",
      "La p-value calculée avec cdf() est   : 0.0025\n",
      "\n",
      "HO est rejetée donc H1 est acceptée\n",
      "Pour rappel H1 = Le taux de défaut est <  8.5%\n"
     ]
    }
   ],
   "source": [
    "from statsmodels.stats.weightstats import ztest                                   # on fait l'importation ici juste pour l'exemple\n",
    "\n",
    "# Ici on a 1 seul jeu \n",
    "# value = la moyenne de la population de référence avec qui on se compare => 8.5\n",
    "# alternative = Au step 4, sous H1, on dit que le taux est inférieur à 8.5% => smaller  \n",
    "\n",
    "z_score, p_value = ztest(df.TARGET, value=mu, alternative=\"smaller\")\n",
    "print(f\"La p-value calculée avec ztest() est : {p_value:.4f}\") \n",
    "\n",
    "\n",
    "from scipy.stats import norm                                                      # pour montrer d'où provient la fonction norm\n",
    "X = norm(mu, (df.TARGET.std() / len(df) ** 0.5))\n",
    "p_value2 = X.cdf(df.TARGET.mean())                                                # Cumulative Distribution Function (CDF)\n",
    "print(f\"La p-value calculée avec cdf() est   : {p_value:.4f}\") \n",
    "print(\"\")\n",
    "# Compare p-value to confidence level\n",
    "# Conclude (ou pas)\n",
    "if p_value < alpha:\n",
    "  print(\"HO est rejetée donc H1 est acceptée\")\n",
    "  print(f\"Pour rappel H1 = {H1}\")\n",
    "else:\n",
    "  print(\"H0 ne peut pas être rejetée. On ne peut pas conclure\")\n",
    "  print(f\"Pour rappel H0 = {H0}\")"
   ]
  },
  {
   "cell_type": "markdown",
   "metadata": {},
   "source": [
    "## Step 8 (Optional) - Visualize probability"
   ]
  },
  {
   "cell_type": "code",
   "execution_count": 9,
   "metadata": {},
   "outputs": [
    {
     "data": {
      "image/png": "[encoded data removed]",
      "text/plain": [
       "<Figure size 640x480 with 1 Axes>"
      ]
     },
     "metadata": {},
     "output_type": "display_data"
    }
   ],
   "source": [
    "# Génère des valeurs entre -4 et 4 espacées de .01\n",
    "x_values = np.arange(-4, 4, 0.01)\n",
    "\n",
    "# Génère les valeurs d'une gaussienne dont la moyenne est à 0 et l'écart type vaut 1 \n",
    "# pour l'ensemble des x_values\n",
    "mean_target = 0\n",
    "std_target = 1\n",
    "y_values = norm.pdf(x_values, mean_target, std_target)        # pdf = Probability density function \n",
    "\n",
    "# Crée une figure et un jeu d'axes\n",
    "fig, ax = plt.subplots()\n",
    "# Affiche y en fonction de x\n",
    "ax.plot(x_values, y_values, color=\"blue\", alpha=1.00)\n",
    "# Rempli sous la courbe\n",
    "ax.fill_between(x_values, y_values, 0, color=\"blue\", alpha=0.1)\n",
    "\n",
    "# En fonction du z_score\n",
    "if z_score < 0:\n",
    "    # Crée un jeu de x entre -4 et z\n",
    "    x_values2 = np.arange(-4, z_score, 0.01)\n",
    "else:\n",
    "    # ou entre z et 4\n",
    "    x_values2 = np.arange(z_score, 4, 0.01)\n",
    "\n",
    "# Génère les valeurs d'une gaussienne dont la moyenne est à 0 et l'écart type vaut 1 \n",
    "# pour l'ensemble des x_values2\n",
    "y_values2 = norm.pdf(x_values2, mean_target, std_target)\n",
    "# Affiche y_values2 en fonction de x_values2\n",
    "ax.plot(x_values2, y_values2, color=\"red\", alpha=1.00)\n",
    "# Rempli sous la courbe \n",
    "_ = ax.fill_between(x_values2, y_values2, 0, color=\"red\", alpha=0.1)"
   ]
  },
  {
   "cell_type": "markdown",
   "metadata": {},
   "source": [
    "# SWILE\n",
    "\n",
    "* Swile provided you with some data about sales before the marketing campaign. \n",
    "* Our goal will be to check whether this marketing campaign was a genius idea or a huge failure so that the company could replicate it abroad.\n",
    "* This dataset describes the number of calls on the same day in France and abroad. \n",
    "* **The only difference** between these two samples is the impact of Marketing campaign.\n",
    "* Test whether **the average number of calls in France is actually higher** than the ones abroad."
   ]
  },
  {
   "cell_type": "markdown",
   "metadata": {},
   "source": [
    "## Step 1 - Import libraries"
   ]
  },
  {
   "cell_type": "code",
   "execution_count": 10,
   "metadata": {},
   "outputs": [],
   "source": [
    "import pandas as pd\n",
    "import numpy as np\n",
    "import matplotlib.pyplot as plt\n",
    "import seaborn as sns\n",
    "from statsmodels.stats.weightstats import ztest\n",
    "from scipy.stats import norm"
   ]
  },
  {
   "cell_type": "markdown",
   "metadata": {},
   "source": [
    "## Step 2 - Import Dataset"
   ]
  },
  {
   "cell_type": "code",
   "execution_count": 11,
   "metadata": {},
   "outputs": [
    {
     "data": {
      "text/html": [
       "<div>\n",
       "<style scoped>\n",
       "    .dataframe tbody tr th:only-of-type {\n",
       "        vertical-align: middle;\n",
       "    }\n",
       "\n",
       "    .dataframe tbody tr th {\n",
       "        vertical-align: top;\n",
       "    }\n",
       "\n",
       "    .dataframe thead th {\n",
       "        text-align: right;\n",
       "    }\n",
       "</style>\n",
       "<table border=\"1\" class=\"dataframe\">\n",
       "  <thead>\n",
       "    <tr style=\"text-align: right;\">\n",
       "      <th></th>\n",
       "      <th>calls_abroad</th>\n",
       "      <th>calls_in_France</th>\n",
       "    </tr>\n",
       "  </thead>\n",
       "  <tbody>\n",
       "    <tr>\n",
       "      <th>0</th>\n",
       "      <td>4</td>\n",
       "      <td>6</td>\n",
       "    </tr>\n",
       "    <tr>\n",
       "      <th>1</th>\n",
       "      <td>4</td>\n",
       "      <td>2</td>\n",
       "    </tr>\n",
       "    <tr>\n",
       "      <th>2</th>\n",
       "      <td>4</td>\n",
       "      <td>9</td>\n",
       "    </tr>\n",
       "    <tr>\n",
       "      <th>3</th>\n",
       "      <td>9</td>\n",
       "      <td>9</td>\n",
       "    </tr>\n",
       "    <tr>\n",
       "      <th>4</th>\n",
       "      <td>2</td>\n",
       "      <td>9</td>\n",
       "    </tr>\n",
       "  </tbody>\n",
       "</table>\n",
       "</div>"
      ],
      "text/plain": [
       "   calls_abroad  calls_in_France\n",
       "0             4                6\n",
       "1             4                2\n",
       "2             4                9\n",
       "3             9                9\n",
       "4             2                9"
      ]
     },
     "execution_count": 11,
     "metadata": {},
     "output_type": "execute_result"
    }
   ],
   "source": [
    "df = pd.read_csv(\"./assets/Python/swile_sales_calls.csv\")\n",
    "df.head()"
   ]
  },
  {
   "cell_type": "markdown",
   "metadata": {},
   "source": [
    "## Step 3 - EDA (Exploratory Data Analysis)"
   ]
  },
  {
   "cell_type": "code",
   "execution_count": 12,
   "metadata": {},
   "outputs": [
    {
     "name": "stdout",
     "output_type": "stream",
     "text": [
      "Appels           : 5.500\n",
      "Appels en France : 5.786\n"
     ]
    },
    {
     "data": {
      "image/png": "[encoded data removed]",
      "text/plain": [
       "<Figure size 640x480 with 1 Axes>"
      ]
     },
     "metadata": {},
     "output_type": "display_data"
    }
   ],
   "source": [
    "print(f\"Appels           : {df.calls_abroad.mean():.3f}\")\n",
    "print(f\"Appels en France : {df.calls_in_France.mean():.3f}\")\n",
    "\n",
    "Means = df.mean()\n",
    "_ = Means.plot(kind=\"bar\")"
   ]
  },
  {
   "cell_type": "markdown",
   "metadata": {},
   "source": [
    "## Step 4 - Define hypothesises"
   ]
  },
  {
   "cell_type": "code",
   "execution_count": 13,
   "metadata": {},
   "outputs": [],
   "source": [
    "H1 = \"La moyenne du nb d'appels en France est supérieure à celle des autres pays (5.5)\"\n",
    "H0 = \"La moyenne du nb d'appels en France est inférieure ou égale à celle des autres pays\""
   ]
  },
  {
   "cell_type": "markdown",
   "metadata": {},
   "source": [
    "## Step 5 - Calculate Z-score\n",
    "\n",
    "L'énoncé nous dit d'utiliser cette formule:\n",
    "\n",
    "\n",
    "<img src=\"./assets/Python/Z-score4swile.png\" width=10%>\n"
   ]
  },
  {
   "cell_type": "code",
   "execution_count": 14,
   "metadata": {},
   "outputs": [
    {
     "name": "stdout",
     "output_type": "stream",
     "text": [
      "Méthode 1 : z_score  =  1.1664524375772458\n",
      "\n",
      "Méthode 2 : z_score  =  1.1664524375772458\n",
      "\n"
     ]
    }
   ],
   "source": [
    "# Méthode 1\n",
    "X_bar = df.mean()[\"calls_in_France\"]\n",
    "mu = df.mean()[\"calls_abroad\"]\n",
    "s = df.std()[\"calls_in_France\"]\n",
    "n = len(df)\n",
    "z_score = (X_bar - mu) / (s / np.sqrt(n))\n",
    "print(\"Méthode 1 : z_score  = \", z_score)\n",
    "print(\"\")\n",
    "\n",
    "# Méthode 2\n",
    "X_bar = df.calls_in_France.mean()                             # Voir la notation df.calls_in_France au lieu de df[\"calls_in_France\"]\n",
    "mu = df.calls_abroad.mean()       \n",
    "s = df.calls_in_France.std()\n",
    "n = len(df)\n",
    "z_score = (X_bar - mu) / (s / (n**0.5))\n",
    "print(\"Méthode 2 : z_score  = \", z_score)\n",
    "print(\"\")"
   ]
  },
  {
   "cell_type": "markdown",
   "metadata": {},
   "source": [
    "## Step 6 - Set $\\alpha$"
   ]
  },
  {
   "cell_type": "code",
   "execution_count": 15,
   "metadata": {},
   "outputs": [],
   "source": [
    "alpha = 0.1"
   ]
  },
  {
   "cell_type": "markdown",
   "metadata": {},
   "source": [
    "## Step 7 - Compare p-value to $\\alpha$ puis conclure (ou pas)"
   ]
  },
  {
   "cell_type": "markdown",
   "metadata": {},
   "source": [
    "### À propos de la fonction `ztest()` du module statsmodels.stats.weightstats\n",
    "#### Lire : \n",
    "* https://www.statology.org/z-test-python/ \n",
    "* https://www.statsmodels.org/dev/generated/statsmodels.stats.weightstats.ztest.html\n",
    "\n",
    "#### Notes\n",
    "* x1 = values for the first sample\n",
    "* x2 = values for the second sample (if performing a two sample z-test)\n",
    "* value = mean of x1 under the null hypothesis H0 (in one sample case) or the difference of the means (in two sample case)\n",
    "* alternative = \n",
    "  * H1, the alternative hypothesis, has to be one of the following : \n",
    "    * larger    : difference in means larger than value \n",
    "    * smaller   : difference in means smaller than value\n",
    "    * two-sided : difference in means not equal to value (default value)\n"
   ]
  },
  {
   "cell_type": "code",
   "execution_count": 16,
   "metadata": {},
   "outputs": [
    {
     "name": "stdout",
     "output_type": "stream",
     "text": [
      "Méthode 1 : z_score  = 1.1665\n",
      "Méthode 1 : p_value  = 0.1217\n",
      "\n",
      "Méthode 2 : p_value  = 0.1217\n"
     ]
    }
   ],
   "source": [
    "# Méthode 1\n",
    "# Ici on a 1 seul jeu \n",
    "# value = la moyenne de la population de référence avec qui on se compare => MoyAbroad\n",
    "# alternative = sous H1 on dit que \"La moyenne du nb d'appels en France est supérieure...\" => larger  \n",
    "z_score, p_value = ztest(df[\"calls_in_France\"], value=mu, alternative=\"larger\")\n",
    "print(f\"Méthode 1 : z_score  = {z_score:.4f}\")\n",
    "print(f\"Méthode 1 : p_value  = {p_value:.4f}\")\n",
    "print(\"\")\n",
    "\n",
    "# Méthode 2\n",
    "n = len(df)\n",
    "X = norm(df.calls_in_France.mean(), (df.calls_in_France.std() / (n ** 0.5)))\n",
    "p_value = X.cdf(df[\"calls_abroad\"].mean()) # cdf => Cumulative Distribution Function\n",
    "print(f\"Méthode 2 : p_value  = {p_value:.4f}\")\n"
   ]
  },
  {
   "cell_type": "code",
   "execution_count": 17,
   "metadata": {},
   "outputs": [
    {
     "name": "stdout",
     "output_type": "stream",
     "text": [
      "H0 ne peut pas être rejetée. On ne peut pas conclure\n",
      "Pour rappel H0 = La moyenne du nb d'appels en France est inférieure ou égale à celle des autres pays\n"
     ]
    }
   ],
   "source": [
    "if p_value < alpha:\n",
    "    print(\"HO est rejetée donc H1 est acceptée\")\n",
    "    print(f\"Pour rappel H1 = {H1}\")\n",
    "else:\n",
    "    print(\"H0 ne peut pas être rejetée. On ne peut pas conclure\")\n",
    "    print(f\"Pour rappel H0 = {H0}\")"
   ]
  },
  {
   "cell_type": "markdown",
   "metadata": {},
   "source": [
    "## Step 8 (Optional) - Visualize probability"
   ]
  },
  {
   "cell_type": "code",
   "execution_count": 18,
   "metadata": {},
   "outputs": [
    {
     "data": {
      "image/png": "[encoded data removed]",
      "text/plain": [
       "<Figure size 640x480 with 1 Axes>"
      ]
     },
     "metadata": {},
     "output_type": "display_data"
    }
   ],
   "source": [
    "x_values = np.arange(-4, 4, 0.01)\n",
    "\n",
    "mean_target = 0\n",
    "std_target = 1\n",
    "# Probability density function \n",
    "y_values = norm.pdf(x_values, mean_target, std_target)\n",
    "\n",
    "\n",
    "fig, ax = plt.subplots()\n",
    "ax.plot(x_values, y_values, color=\"blue\", alpha=1.00)\n",
    "ax.fill_between(x_values, y_values, 0, color=\"blue\", alpha=0.1)\n",
    "\n",
    "if z_score < 0:\n",
    "    x_values2 = np.arange(-4, z_score, 0.01)\n",
    "else:\n",
    "    x_values2 = np.arange(z_score, 4, 0.01)\n",
    "\n",
    "y_values2 = norm.pdf(x_values2, mean_target, std_target)\n",
    "ax.plot(x_values2, y_values2, color=\"red\", alpha=1.00)\n",
    "_ = ax.fill_between(x_values2, y_values2, 0, color=\"red\", alpha=0.1)"
   ]
  },
  {
   "cell_type": "code",
   "execution_count": 19,
   "metadata": {},
   "outputs": [
    {
     "data": {
      "image/png": "[encoded data removed]",
      "text/plain": [
       "<Figure size 640x480 with 1 Axes>"
      ]
     },
     "metadata": {},
     "output_type": "display_data"
    }
   ],
   "source": [
    "# Le code proposé en solution sur Julie\n",
    "# En 2023 il génère pas mal de warnings\n",
    "\n",
    "ax = sns.distplot(np.random.normal(0, 1, size=1000000), hist=None) \n",
    "\n",
    "# This is a mask that will let us filter only the values beyond z-score\n",
    "mask = ax.lines[0].get_xydata()[:, 0] > z_score ## Only modify the operator sign (<, >) depending on your problem\n",
    "\n",
    "# This will get the coordinates of all the data points beyon z-score\n",
    "x_area_under_curve = ax.lines[0].get_xydata()[:, 0][mask]\n",
    "y_area_under_curve = ax.lines[0].get_xydata()[:, 1][mask]\n",
    "\n",
    "# We finally fill the area with red\n",
    "ax.fill_between(x_area_under_curve, y_area_under_curve, color=\"red\")\n",
    "plt.show()"
   ]
  },
  {
   "cell_type": "markdown",
   "metadata": {},
   "source": [
    "### Updating code that uses seaborn.distplot\n",
    "\n",
    "lire : https://gist.github.com/mwaskom/de44147ed2974457ad6372750bbe5751"
   ]
  },
  {
   "cell_type": "code",
   "execution_count": 20,
   "metadata": {},
   "outputs": [
    {
     "data": {
      "text/plain": [
       "<matplotlib.collections.PolyCollection at 0x29ceabac950>"
      ]
     },
     "execution_count": 20,
     "metadata": {},
     "output_type": "execute_result"
    },
    {
     "data": {
      "image/png": "[encoded data removed]",
      "text/plain": [
       "<Figure size 640x480 with 1 Axes>"
      ]
     },
     "metadata": {},
     "output_type": "display_data"
    }
   ],
   "source": [
    "import seaborn as sns\n",
    "sns.set_theme()\n",
    "df = sns.load_dataset(\"penguins\")\n",
    "\n",
    "ax = sns.histplot(np.random.normal(0, 1, size=1000000), kde=True, stat=\"density\", kde_kws=dict(cut=3), alpha=.4, edgecolor=(1, 1, 1, .4)) \n",
    "# This is a mask that will let us filter only the values beyond z-score\n",
    "mask = ax.lines[0].get_xydata()[:, 0] > z_score ## Only modify the operator sign (<, >) depending on your problem\n",
    "\n",
    "# This will get the coordinates of all the data points beyon z-score\n",
    "x_area_under_curve = ax.lines[0].get_xydata()[:, 0][mask]\n",
    "y_area_under_curve = ax.lines[0].get_xydata()[:, 1][mask]\n",
    "\n",
    "# We finally fill the area with red\n",
    "ax.fill_between(x_area_under_curve, y_area_under_curve, color=\"red\")\n",
    "\n",
    "\n"
   ]
  },
  {
   "cell_type": "markdown",
   "metadata": {},
   "source": [
    "# Spendesk \n",
    "* Spendesk really would like to prove is that their platform save at least **26 days** of work to their customers"
   ]
  },
  {
   "cell_type": "markdown",
   "metadata": {},
   "source": [
    "## Step 1 - Import libraries"
   ]
  },
  {
   "cell_type": "code",
   "execution_count": 21,
   "metadata": {},
   "outputs": [],
   "source": [
    "import numpy as np\n",
    "import pandas as pd\n",
    "import matplotlib.pyplot as plt\n",
    "import seaborn as sns\n",
    "from statsmodels.stats.weightstats import ztest\n",
    "from scipy.stats import norm"
   ]
  },
  {
   "cell_type": "markdown",
   "metadata": {},
   "source": [
    "## Step 2 - Import Dataset"
   ]
  },
  {
   "cell_type": "code",
   "execution_count": 22,
   "metadata": {},
   "outputs": [
    {
     "data": {
      "text/html": [
       "<div>\n",
       "<style scoped>\n",
       "    .dataframe tbody tr th:only-of-type {\n",
       "        vertical-align: middle;\n",
       "    }\n",
       "\n",
       "    .dataframe tbody tr th {\n",
       "        vertical-align: top;\n",
       "    }\n",
       "\n",
       "    .dataframe thead th {\n",
       "        text-align: right;\n",
       "    }\n",
       "</style>\n",
       "<table border=\"1\" class=\"dataframe\">\n",
       "  <thead>\n",
       "    <tr style=\"text-align: right;\">\n",
       "      <th></th>\n",
       "      <th>Time_for_producing_income_statement_before</th>\n",
       "      <th>Time_for_producing_income_statement_after</th>\n",
       "    </tr>\n",
       "  </thead>\n",
       "  <tbody>\n",
       "    <tr>\n",
       "      <th>0</th>\n",
       "      <td>11</td>\n",
       "      <td>75</td>\n",
       "    </tr>\n",
       "    <tr>\n",
       "      <th>1</th>\n",
       "      <td>13</td>\n",
       "      <td>72</td>\n",
       "    </tr>\n",
       "    <tr>\n",
       "      <th>2</th>\n",
       "      <td>38</td>\n",
       "      <td>15</td>\n",
       "    </tr>\n",
       "    <tr>\n",
       "      <th>3</th>\n",
       "      <td>28</td>\n",
       "      <td>34</td>\n",
       "    </tr>\n",
       "    <tr>\n",
       "      <th>4</th>\n",
       "      <td>39</td>\n",
       "      <td>17</td>\n",
       "    </tr>\n",
       "  </tbody>\n",
       "</table>\n",
       "</div>"
      ],
      "text/plain": [
       "   Time_for_producing_income_statement_before  \\\n",
       "0                                          11   \n",
       "1                                          13   \n",
       "2                                          38   \n",
       "3                                          28   \n",
       "4                                          39   \n",
       "\n",
       "   Time_for_producing_income_statement_after  \n",
       "0                                         75  \n",
       "1                                         72  \n",
       "2                                         15  \n",
       "3                                         34  \n",
       "4                                         17  "
      ]
     },
     "execution_count": 22,
     "metadata": {},
     "output_type": "execute_result"
    }
   ],
   "source": [
    "df = pd.read_csv(\"./assets/Python/spendesk_survey.csv\")\n",
    "df.head()"
   ]
  },
  {
   "cell_type": "markdown",
   "metadata": {},
   "source": [
    "## Step 3 - EDA (Exploratory Data Analysis)"
   ]
  },
  {
   "cell_type": "code",
   "execution_count": 23,
   "metadata": {},
   "outputs": [
    {
     "name": "stdout",
     "output_type": "stream",
     "text": [
      "Mean before        : 65.73\n",
      "Mean after         : 41.03\n",
      "Difference des moy : 24.70\n"
     ]
    },
    {
     "data": {
      "image/png": "[encoded data removed]",
      "text/plain": [
       "<Figure size 640x480 with 1 Axes>"
      ]
     },
     "metadata": {},
     "output_type": "display_data"
    }
   ],
   "source": [
    "MeanBefore = df.Time_for_producing_income_statement_before.mean()\n",
    "MeanAfter  = df.Time_for_producing_income_statement_after.mean()\n",
    "\n",
    "print(f\"Mean before        : {MeanBefore:.2f}\")\n",
    "print(f\"Mean after         : {MeanAfter:.2f}\")\n",
    "print(f\"Difference des moy : {MeanBefore-MeanAfter:.2f}\")\n",
    "\n",
    "Means = df.mean()\n",
    "_ = Means.plot(kind=\"bar\")"
   ]
  },
  {
   "cell_type": "code",
   "execution_count": 24,
   "metadata": {},
   "outputs": [
    {
     "name": "stdout",
     "output_type": "stream",
     "text": [
      "Réduction moyenne : 37.58%\n"
     ]
    }
   ],
   "source": [
    "boost = (MeanBefore - MeanAfter) / MeanBefore\n",
    "print(f\"Réduction moyenne : {boost*100:.2f}%\")"
   ]
  },
  {
   "cell_type": "code",
   "execution_count": 25,
   "metadata": {},
   "outputs": [
    {
     "data": {
      "text/html": [
       "<div>\n",
       "<style scoped>\n",
       "    .dataframe tbody tr th:only-of-type {\n",
       "        vertical-align: middle;\n",
       "    }\n",
       "\n",
       "    .dataframe tbody tr th {\n",
       "        vertical-align: top;\n",
       "    }\n",
       "\n",
       "    .dataframe thead th {\n",
       "        text-align: right;\n",
       "    }\n",
       "</style>\n",
       "<table border=\"1\" class=\"dataframe\">\n",
       "  <thead>\n",
       "    <tr style=\"text-align: right;\">\n",
       "      <th></th>\n",
       "      <th>Time_for_producing_income_statement_before</th>\n",
       "      <th>Time_for_producing_income_statement_after</th>\n",
       "      <th>time_diff</th>\n",
       "    </tr>\n",
       "  </thead>\n",
       "  <tbody>\n",
       "    <tr>\n",
       "      <th>0</th>\n",
       "      <td>11</td>\n",
       "      <td>75</td>\n",
       "      <td>-64</td>\n",
       "    </tr>\n",
       "    <tr>\n",
       "      <th>1</th>\n",
       "      <td>13</td>\n",
       "      <td>72</td>\n",
       "      <td>-59</td>\n",
       "    </tr>\n",
       "    <tr>\n",
       "      <th>2</th>\n",
       "      <td>38</td>\n",
       "      <td>15</td>\n",
       "      <td>23</td>\n",
       "    </tr>\n",
       "    <tr>\n",
       "      <th>3</th>\n",
       "      <td>28</td>\n",
       "      <td>34</td>\n",
       "      <td>-6</td>\n",
       "    </tr>\n",
       "    <tr>\n",
       "      <th>4</th>\n",
       "      <td>39</td>\n",
       "      <td>17</td>\n",
       "      <td>22</td>\n",
       "    </tr>\n",
       "  </tbody>\n",
       "</table>\n",
       "</div>"
      ],
      "text/plain": [
       "   Time_for_producing_income_statement_before  \\\n",
       "0                                          11   \n",
       "1                                          13   \n",
       "2                                          38   \n",
       "3                                          28   \n",
       "4                                          39   \n",
       "\n",
       "   Time_for_producing_income_statement_after  time_diff  \n",
       "0                                         75        -64  \n",
       "1                                         72        -59  \n",
       "2                                         15         23  \n",
       "3                                         34         -6  \n",
       "4                                         17         22  "
      ]
     },
     "execution_count": 25,
     "metadata": {},
     "output_type": "execute_result"
    }
   ],
   "source": [
    "# On crée une nouvelle colonne \"time_diff\" dans le data frame \n",
    "# La colonne contient les différences entre after et before\n",
    "df[\"time_diff\"] = ( df[\"Time_for_producing_income_statement_before\"] - df[\"Time_for_producing_income_statement_after\"])\n",
    "df.head()\n",
    "\n"
   ]
  },
  {
   "cell_type": "code",
   "execution_count": 26,
   "metadata": {},
   "outputs": [
    {
     "data": {
      "image/png": "[encoded data removed]",
      "text/plain": [
       "<Figure size 640x480 with 1 Axes>"
      ]
     },
     "metadata": {},
     "output_type": "display_data"
    }
   ],
   "source": [
    "Means = df.mean()\n",
    "_ = Means.plot(kind=\"bar\")"
   ]
  },
  {
   "cell_type": "markdown",
   "metadata": {},
   "source": [
    "## Step 4 - Define hypothesises\n",
    "\n",
    "* One thing that Spendesk really would like to prove is that their platform save at least 26 days of work to their customers. \n",
    "* This would be a great for sales to be able to showcase a number saying something like:\n",
    "  * Our customers take 26 days less on average to produce financial statements when using Spendesk"
   ]
  },
  {
   "cell_type": "code",
   "execution_count": 27,
   "metadata": {},
   "outputs": [],
   "source": [
    "H1 = \"the platform saves 26 or more of days of work\"\n",
    "H0 = \"the platform save less than 26 days of work\""
   ]
  },
  {
   "cell_type": "markdown",
   "metadata": {},
   "source": [
    "## Step 5 - Calculate Z-score\n",
    "\n",
    "<img src=\"./assets/Python/Z-score4swile.png\" width=10%>\n"
   ]
  },
  {
   "cell_type": "code",
   "execution_count": 28,
   "metadata": {},
   "outputs": [
    {
     "data": {
      "text/plain": [
       "-1.321211217800986"
      ]
     },
     "execution_count": 28,
     "metadata": {},
     "output_type": "execute_result"
    }
   ],
   "source": [
    "X_bar = df.time_diff.mean()\n",
    "mu = 26\n",
    "s = df.time_diff.std()\n",
    "n = len(df)\n",
    "z_score = (X_bar - mu) / (s / n**0.5)\n",
    "z_score"
   ]
  },
  {
   "cell_type": "markdown",
   "metadata": {},
   "source": [
    "## Step 6 - Set $\\alpha$"
   ]
  },
  {
   "cell_type": "code",
   "execution_count": 29,
   "metadata": {},
   "outputs": [],
   "source": [
    "alpha = 10 / 100"
   ]
  },
  {
   "cell_type": "markdown",
   "metadata": {},
   "source": [
    "## Step 7 - Calculate p_value"
   ]
  },
  {
   "cell_type": "markdown",
   "metadata": {},
   "source": [
    "### À propos de la fonction `ztest()` du module statsmodels.stats.weightstats\n",
    "#### Lire : \n",
    "* https://www.statology.org/z-test-python/ \n",
    "* https://www.statsmodels.org/dev/generated/statsmodels.stats.weightstats.ztest.html\n",
    "\n",
    "#### Notes\n",
    "* x1 = values for the first sample\n",
    "* x2 = values for the second sample (if performing a two sample z-test)\n",
    "* value = mean of x1 under the null hypothesis H0 (in one sample case) or the difference of the means (in two sample case)\n",
    "* alternative = \n",
    "  * H1, the alternative hypothesis, has to be one of the following : \n",
    "    * larger    : difference in means larger than value \n",
    "    * smaller   : difference in means smaller than value\n",
    "    * two-sided : difference in means not equal to value (default value)\n"
   ]
  },
  {
   "cell_type": "code",
   "execution_count": 30,
   "metadata": {},
   "outputs": [
    {
     "name": "stdout",
     "output_type": "stream",
     "text": [
      "z_score  = -1.32\n",
      "p_value  =  0.91\n",
      "\n",
      "p_value  =  0.09\n",
      "\n",
      "H0 ne peut pas être rejetée. On ne peut pas conclure\n",
      "Pour rappel H0 = the platform save less than 26 days of work\n"
     ]
    }
   ],
   "source": [
    "# Ici on a 1 seul jeu. La colonne time_diff\n",
    "# value = la moyenne de la population de référence avec qui on se compare => 26\n",
    "# alternative = sous H1 on dit que \"the platform saves 26 or more of days of work\" => larger  \n",
    "z_score, p_value = ztest(df.time_diff, value=26, alternative=\"larger\")\n",
    "print(f\"z_score  = {z_score:.02f}\")\n",
    "print(f\"p_value  =  {p_value:.02f}\")\n",
    "print()\n",
    "\n",
    "# X est une distribution normale de moyenne = 26 et sigma = s/sqrt(n)\n",
    "X = norm(26, (df.time_diff.std() / len(df) ** 0.5))\n",
    "p_value2 = X.cdf(df.time_diff.mean())                               # cdf => Cumulative Distribution Function   \n",
    "print(f\"p_value  =  {p_value2:.02f}\")\n",
    "print()\n",
    "\n",
    "if p_value < alpha:\n",
    "    print(\"HO est rejetée donc H1 est acceptée\")\n",
    "    print(f\"Pour rappel H1 = {H1}\")\n",
    "else:\n",
    "    print(\"H0 ne peut pas être rejetée. On ne peut pas conclure\")\n",
    "    print(f\"Pour rappel H0 = {H0}\")"
   ]
  },
  {
   "cell_type": "code",
   "execution_count": 31,
   "metadata": {},
   "outputs": [
    {
     "data": {
      "image/png": "[encoded data removed]",
      "text/plain": [
       "<Figure size 640x480 with 1 Axes>"
      ]
     },
     "metadata": {},
     "output_type": "display_data"
    }
   ],
   "source": [
    "x_values = np.arange(-4, 4, 0.01)\n",
    "\n",
    "mean_target = 0\n",
    "std_target = 1\n",
    "y_values = norm.pdf(x_values, mean_target, std_target)\n",
    "\n",
    "\n",
    "fig, ax = plt.subplots()\n",
    "ax.plot(x_values, y_values, color=\"blue\", alpha=1.00)\n",
    "ax.fill_between(x_values, y_values, 0, color=\"blue\", alpha=0.1)\n",
    "\n",
    "if z_score < 0:\n",
    "    x_values2 = np.arange(-4, z_score, 0.01)\n",
    "else:\n",
    "    x_values2 = np.arange(z_score, 4, 0.01)\n",
    "\n",
    "y_values2 = norm.pdf(x_values2, mean_target, std_target)\n",
    "ax.plot(x_values2, y_values2, color=\"red\", alpha=1.00)\n",
    "_ = ax.fill_between(x_values2, y_values2, 0, color=\"red\", alpha=0.1)"
   ]
  },
  {
   "cell_type": "markdown",
   "metadata": {},
   "source": [
    "# Vinted\n",
    "They asked you to run an A/B test to determine which version would provide **more conversions**."
   ]
  },
  {
   "cell_type": "markdown",
   "metadata": {},
   "source": [
    "## Step 1 - Import Libraries"
   ]
  },
  {
   "cell_type": "code",
   "execution_count": 32,
   "metadata": {},
   "outputs": [],
   "source": [
    "import pandas as pd\n",
    "import numpy as np\n",
    "import seaborn as sns\n",
    "import matplotlib.pyplot as plt\n",
    "from statsmodels.stats.weightstats import ztest"
   ]
  },
  {
   "cell_type": "markdown",
   "metadata": {},
   "source": [
    "## Step 2 - Import dataset"
   ]
  },
  {
   "cell_type": "code",
   "execution_count": 33,
   "metadata": {},
   "outputs": [
    {
     "data": {
      "text/html": [
       "<div>\n",
       "<style scoped>\n",
       "    .dataframe tbody tr th:only-of-type {\n",
       "        vertical-align: middle;\n",
       "    }\n",
       "\n",
       "    .dataframe tbody tr th {\n",
       "        vertical-align: top;\n",
       "    }\n",
       "\n",
       "    .dataframe thead th {\n",
       "        text-align: right;\n",
       "    }\n",
       "</style>\n",
       "<table border=\"1\" class=\"dataframe\">\n",
       "  <thead>\n",
       "    <tr style=\"text-align: right;\">\n",
       "      <th></th>\n",
       "      <th>Feature_A</th>\n",
       "      <th>Feature_B</th>\n",
       "    </tr>\n",
       "  </thead>\n",
       "  <tbody>\n",
       "    <tr>\n",
       "      <th>0</th>\n",
       "      <td>0</td>\n",
       "      <td>0</td>\n",
       "    </tr>\n",
       "    <tr>\n",
       "      <th>1</th>\n",
       "      <td>0</td>\n",
       "      <td>0</td>\n",
       "    </tr>\n",
       "    <tr>\n",
       "      <th>2</th>\n",
       "      <td>0</td>\n",
       "      <td>0</td>\n",
       "    </tr>\n",
       "    <tr>\n",
       "      <th>3</th>\n",
       "      <td>0</td>\n",
       "      <td>0</td>\n",
       "    </tr>\n",
       "    <tr>\n",
       "      <th>4</th>\n",
       "      <td>1</td>\n",
       "      <td>0</td>\n",
       "    </tr>\n",
       "  </tbody>\n",
       "</table>\n",
       "</div>"
      ],
      "text/plain": [
       "   Feature_A  Feature_B\n",
       "0          0          0\n",
       "1          0          0\n",
       "2          0          0\n",
       "3          0          0\n",
       "4          1          0"
      ]
     },
     "execution_count": 33,
     "metadata": {},
     "output_type": "execute_result"
    }
   ],
   "source": [
    "df = pd.read_csv(\"./assets/Python/vinted_website_optimization.csv\")\n",
    "df.head()"
   ]
  },
  {
   "cell_type": "markdown",
   "metadata": {},
   "source": [
    "## Step 3 - EDA (Exploratory Data Analysis)\n",
    "Let's first see the proportion of conversion for Feature A as well as Feature B\n"
   ]
  },
  {
   "cell_type": "code",
   "execution_count": 34,
   "metadata": {},
   "outputs": [
    {
     "name": "stdout",
     "output_type": "stream",
     "text": [
      "Taux de conversion A : 0.086\n",
      "Taux de conversion A : 0.086\n",
      "\n",
      "Taux de conversion B : 0.126\n"
     ]
    }
   ],
   "source": [
    "convert_A = df.Feature_A.sum()\n",
    "convert_A = convert_A/len(df)\n",
    "print(f\"Taux de conversion A : {convert_A}\")\n",
    "\n",
    "print(f\"Taux de conversion A : {df.Feature_A.mean()}\\n\")        # voir que cette ligne est équivalente aux 3 lignes précédentes\n",
    "\n",
    "print(f\"Taux de conversion B : {df.Feature_B.mean()}\")       "
   ]
  },
  {
   "cell_type": "code",
   "execution_count": 35,
   "metadata": {},
   "outputs": [
    {
     "data": {
      "image/png": "[encoded data removed]",
      "text/plain": [
       "<Figure size 640x480 with 1 Axes>"
      ]
     },
     "metadata": {},
     "output_type": "display_data"
    }
   ],
   "source": [
    "# Construction de l'intervale de confiance\n",
    "# ©️ Asma 😊\n",
    "# Le cahier des charges dit intervalle de confiance 95%, donc t = 1.96\n",
    "t = 1.96\n",
    "n = len(df)\n",
    "err = t * df.std() / n**0.5\n",
    "\n",
    "# Pour yerr voir https://pandas.pydata.org/pandas-docs/version/0.23/visualization.html#visualization-errorbars\n",
    "_ = df.mean().plot(kind=\"bar\", yerr=err)"
   ]
  },
  {
   "cell_type": "markdown",
   "metadata": {},
   "source": [
    "## Step 4 - Define hypothesis\n",
    "\n",
    "Dans le cours on a dit :\n",
    "\n",
    "<img src=\"./assets/Python/H0H1-ABTesting.png\">\n",
    "\n",
    "* The average conversion for A minus the average conversion for B is equal to 0\n",
    "  * which would mean that your variation has no significative impact compared to your control variable.\n",
    "* The average conversion for A minus the average conversion for B is either greater or less than 0\n",
    "  * which would mean that your variation has significative impact compared to your control variable."
   ]
  },
  {
   "cell_type": "code",
   "execution_count": 36,
   "metadata": {},
   "outputs": [],
   "source": [
    "# Les hypothèses sous forme de chaines pour les utiliser en fin de programme\n",
    "H1 = \"The conversions rate are differents\"\n",
    "H0 = \"The conversions rate are equal\""
   ]
  },
  {
   "cell_type": "markdown",
   "metadata": {},
   "source": [
    "## Step 5 - Calculate Z-score\n",
    "\n",
    "<img src=\"./assets/Python/Z-score4vinted.png\" width=20%>"
   ]
  },
  {
   "cell_type": "code",
   "execution_count": 37,
   "metadata": {},
   "outputs": [
    {
     "name": "stdout",
     "output_type": "stream",
     "text": [
      "0.086\n",
      "0.126\n",
      "z_score  = 2.057\n",
      "\n"
     ]
    }
   ],
   "source": [
    "muA = df.Feature_A.mean()\n",
    "muB = df.Feature_B.mean()\n",
    "print(f\"{muA:.3f}\")\n",
    "print(f\"{muB:.3f}\")\n",
    "\n",
    "sigmaA = df.Feature_A.std()\n",
    "sigmaB = df.Feature_B.std()\n",
    "\n",
    "n = len(df)\n",
    "\n",
    "denom = sigmaB**2/n + sigmaA**2/n\n",
    "denom = denom**.5\n",
    "z_score = (muB - muA)/denom\n",
    "print(f\"z_score  = {z_score:.03f}\\n\")"
   ]
  },
  {
   "cell_type": "markdown",
   "metadata": {},
   "source": [
    "## Step 6 - Set $\\alpha$\n",
    "\n",
    "Confidence level = 95%"
   ]
  },
  {
   "cell_type": "code",
   "execution_count": 38,
   "metadata": {},
   "outputs": [],
   "source": [
    "alpha = .05"
   ]
  },
  {
   "cell_type": "markdown",
   "metadata": {},
   "source": [
    "## Step 7 - Compare p-value to $\\alpha$ puis conclure (ou pas)"
   ]
  },
  {
   "cell_type": "markdown",
   "metadata": {},
   "source": [
    "### À propos de la fonction `ztest()` du module statsmodels.stats.weightstats\n",
    "#### Lire : \n",
    "* https://www.statology.org/z-test-python/ \n",
    "* https://www.statsmodels.org/dev/generated/statsmodels.stats.weightstats.ztest.html\n",
    "\n",
    "#### Notes\n",
    "* x1 = values for the first sample\n",
    "* x2 = values for the second sample (if performing a two sample z-test)\n",
    "* value = mean of x1 under the null hypothesis H0 (in one sample case) or the difference of the means (in two sample case)\n",
    "* alternative = \n",
    "  * H1, the alternative hypothesis, has to be one of the following : \n",
    "    * larger    : difference in means larger than value \n",
    "    * smaller   : difference in means smaller than value\n",
    "    * two-sided : difference in means not equal to value (default value)\n"
   ]
  },
  {
   "cell_type": "code",
   "execution_count": 39,
   "metadata": {},
   "outputs": [
    {
     "name": "stdout",
     "output_type": "stream",
     "text": [
      "z_score  = -2.0568\n",
      "p_value  = 0.0199\n",
      "\n",
      "z_score  = 2.0568\n",
      "p_value  = 0.0199\n",
      "\n",
      "HO est rejetée donc H1 est acceptée\n",
      "Pour rappel H1 = The conversions rate are differents\n"
     ]
    }
   ],
   "source": [
    "# On veut tester si A est significativement plus petit que B\n",
    "# Il ne faut pas s'étonner que z-score soit négatif ci-dessous car dans le calcul précédent (Step 5) on faisait µB - µA\n",
    "# Ici on passe Feature_A en premier puis Freature_B en second\n",
    "z_score, p_value = ztest(df.Feature_A, df.Feature_B, value = 0, alternative=\"smaller\")  \n",
    "print(f\"z_score  = {z_score:.04f}\")\n",
    "print(f\"p_value  = {p_value:.04f}\\n\")\n",
    "\n",
    "# La bonne façon d'appeler ztest\n",
    "# Ici z_score aura le bon signe car on passe Feature_B en premier et ztest calculra donc bien µB - µA\n",
    "# Vérifier que A est significativement plus petit que B  revient à tester si B est significativement plus grand que A => Larger\n",
    "z_score, p_value = ztest(df.Feature_B, df.Feature_A, value = 0, alternative=\"larger\")  \n",
    "print(f\"z_score  = {z_score:.04f}\")\n",
    "print(f\"p_value  = {p_value:.04f}\\n\")\n",
    "\n",
    "if p_value < alpha:\n",
    "    print(\"HO est rejetée donc H1 est acceptée\")\n",
    "    print(f\"Pour rappel H1 = {H1}\")\n",
    "else:\n",
    "    print(\"H0 ne peut pas être rejetée. On ne peut pas conclure\")\n",
    "    print(f\"Pour rappel H0 = {H0}\")\n"
   ]
  },
  {
   "cell_type": "code",
   "execution_count": 40,
   "metadata": {},
   "outputs": [
    {
     "data": {
      "image/png": "[encoded data removed]",
      "text/plain": [
       "<Figure size 640x480 with 1 Axes>"
      ]
     },
     "metadata": {},
     "output_type": "display_data"
    }
   ],
   "source": [
    "x_values = np.arange(-4, 4, 0.01)\n",
    "\n",
    "mean_target = 0\n",
    "std_target = 1\n",
    "y_values = norm.pdf(x_values, mean_target, std_target)\n",
    "\n",
    "\n",
    "fig, ax = plt.subplots()\n",
    "ax.plot(x_values, y_values, color=\"blue\", alpha=1.00)\n",
    "ax.fill_between(x_values, y_values, 0, color=\"blue\", alpha=0.1)\n",
    "\n",
    "if z_score < 0:\n",
    "    x_values2 = np.arange(-4, z_score, 0.01)\n",
    "else:\n",
    "    x_values2 = np.arange(z_score, 4, 0.01)\n",
    "\n",
    "y_values2 = norm.pdf(x_values2, mean_target, std_target)\n",
    "ax.plot(x_values2, y_values2, color=\"red\", alpha=1.00)\n",
    "_ = ax.fill_between(x_values2, y_values2, 0, color=\"red\", alpha=0.1)"
   ]
  },
  {
   "cell_type": "markdown",
   "metadata": {},
   "source": [
    "# airbnb\n",
    "During the olympics, the Data and Design team were hesitating between two background images for the website that you can see below\n",
    "\n",
    "* Now Airbnb performed an A/B test\n",
    "* A random sample of their users got to see the website with feature A and another part got to see feature B.\n",
    "* The results are listed in airbnb_cover_test.xlsx. \n",
    "* Perform an hypothesis test proving that one feature is really better than the other one."
   ]
  },
  {
   "cell_type": "markdown",
   "metadata": {},
   "source": [
    "## Step 1 - Import Libraries"
   ]
  },
  {
   "cell_type": "code",
   "execution_count": 41,
   "metadata": {},
   "outputs": [],
   "source": [
    "import pandas as pd\n",
    "import numpy as np\n",
    "import seaborn as sns\n",
    "import matplotlib.pyplot as plt\n",
    "from statsmodels.stats.weightstats import ztest"
   ]
  },
  {
   "cell_type": "markdown",
   "metadata": {},
   "source": [
    "## Step 2 - Import dataset"
   ]
  },
  {
   "cell_type": "code",
   "execution_count": 42,
   "metadata": {},
   "outputs": [
    {
     "data": {
      "text/html": [
       "<div>\n",
       "<style scoped>\n",
       "    .dataframe tbody tr th:only-of-type {\n",
       "        vertical-align: middle;\n",
       "    }\n",
       "\n",
       "    .dataframe tbody tr th {\n",
       "        vertical-align: top;\n",
       "    }\n",
       "\n",
       "    .dataframe thead th {\n",
       "        text-align: right;\n",
       "    }\n",
       "</style>\n",
       "<table border=\"1\" class=\"dataframe\">\n",
       "  <thead>\n",
       "    <tr style=\"text-align: right;\">\n",
       "      <th></th>\n",
       "      <th>Feature</th>\n",
       "      <th>Converted</th>\n",
       "    </tr>\n",
       "  </thead>\n",
       "  <tbody>\n",
       "    <tr>\n",
       "      <th>0</th>\n",
       "      <td>B</td>\n",
       "      <td>0</td>\n",
       "    </tr>\n",
       "    <tr>\n",
       "      <th>1</th>\n",
       "      <td>B</td>\n",
       "      <td>0</td>\n",
       "    </tr>\n",
       "    <tr>\n",
       "      <th>2</th>\n",
       "      <td>B</td>\n",
       "      <td>0</td>\n",
       "    </tr>\n",
       "    <tr>\n",
       "      <th>3</th>\n",
       "      <td>B</td>\n",
       "      <td>0</td>\n",
       "    </tr>\n",
       "    <tr>\n",
       "      <th>4</th>\n",
       "      <td>B</td>\n",
       "      <td>0</td>\n",
       "    </tr>\n",
       "  </tbody>\n",
       "</table>\n",
       "</div>"
      ],
      "text/plain": [
       "  Feature  Converted\n",
       "0       B          0\n",
       "1       B          0\n",
       "2       B          0\n",
       "3       B          0\n",
       "4       B          0"
      ]
     },
     "execution_count": 42,
     "metadata": {},
     "output_type": "execute_result"
    }
   ],
   "source": [
    "df = pd.read_excel(\"./assets/Python/airbnb_cover_test.xlsx\")\n",
    "df.head()"
   ]
  },
  {
   "cell_type": "markdown",
   "metadata": {},
   "source": [
    "## Step 3 - EDA (Exploratory Data Analysis)\n",
    " Proportion of conversion for Feature A & B\n"
   ]
  },
  {
   "cell_type": "code",
   "execution_count": 43,
   "metadata": {},
   "outputs": [
    {
     "data": {
      "text/html": [
       "<div>\n",
       "<style scoped>\n",
       "    .dataframe tbody tr th:only-of-type {\n",
       "        vertical-align: middle;\n",
       "    }\n",
       "\n",
       "    .dataframe tbody tr th {\n",
       "        vertical-align: top;\n",
       "    }\n",
       "\n",
       "    .dataframe thead th {\n",
       "        text-align: right;\n",
       "    }\n",
       "</style>\n",
       "<table border=\"1\" class=\"dataframe\">\n",
       "  <thead>\n",
       "    <tr style=\"text-align: right;\">\n",
       "      <th></th>\n",
       "      <th>Converted</th>\n",
       "    </tr>\n",
       "    <tr>\n",
       "      <th>Feature</th>\n",
       "      <th></th>\n",
       "    </tr>\n",
       "  </thead>\n",
       "  <tbody>\n",
       "    <tr>\n",
       "      <th>A</th>\n",
       "      <td>0.088604</td>\n",
       "    </tr>\n",
       "    <tr>\n",
       "      <th>B</th>\n",
       "      <td>0.096856</td>\n",
       "    </tr>\n",
       "  </tbody>\n",
       "</table>\n",
       "</div>"
      ],
      "text/plain": [
       "         Converted\n",
       "Feature           \n",
       "A         0.088604\n",
       "B         0.096856"
      ]
     },
     "execution_count": 43,
     "metadata": {},
     "output_type": "execute_result"
    }
   ],
   "source": [
    "# Méthode 1\n",
    "df.groupby(\"Feature\").mean()\n",
    "\n"
   ]
  },
  {
   "cell_type": "code",
   "execution_count": 44,
   "metadata": {},
   "outputs": [],
   "source": [
    "# C'est la proposition de la solution\n",
    "# En 2023 elle emet beaucoup de warning\n",
    "# DONE : à refaire sans les warnings\n",
    "\n",
    "# sns.catplot(x=\"Feature\", y=\"Converted\", data=df, kind=\"bar\", errorbar=('ci', 95))\n"
   ]
  },
  {
   "cell_type": "code",
   "execution_count": 45,
   "metadata": {},
   "outputs": [
    {
     "data": {
      "text/plain": [
       "<Axes: xlabel='Feature'>"
      ]
     },
     "execution_count": 45,
     "metadata": {},
     "output_type": "execute_result"
    },
    {
     "data": {
      "image/png": "[encoded data removed]",
      "text/plain": [
       "<Figure size 640x480 with 1 Axes>"
      ]
     },
     "metadata": {},
     "output_type": "display_data"
    }
   ],
   "source": [
    "# Construction de l'intervale de confiance\n",
    "t = 1.96                                                 # Le cahier des charges dit intervalle de confiance 95%, donc t = 1.96\n",
    "n = len(df)\n",
    "err = t * df.groupby(\"Feature\").std() / n**0.5\n",
    "\n",
    "# Pour yerr voir https://pandas.pydata.org/pandas-docs/version/0.23/visualization.html#visualization-errorbars\n",
    "df.groupby(\"Feature\").mean().plot(kind=\"bar\", yerr=err)"
   ]
  },
  {
   "cell_type": "markdown",
   "metadata": {},
   "source": [
    "## Step 4 - Define hypothesis"
   ]
  },
  {
   "cell_type": "code",
   "execution_count": 46,
   "metadata": {},
   "outputs": [],
   "source": [
    "# Les hypothèses sous forme de chaines pour les utiliser en fin de programme\n",
    "H1 = \"One feature is really better than the other\"\n",
    "H0 = \"Both feateures are equivalent\""
   ]
  },
  {
   "cell_type": "markdown",
   "metadata": {},
   "source": [
    "## Step 5 - Calculate Z-score\n",
    "\n",
    "<img src=\"./assets/Python/Z-score4vinted.png\">"
   ]
  },
  {
   "cell_type": "code",
   "execution_count": 47,
   "metadata": {},
   "outputs": [
    {
     "name": "stdout",
     "output_type": "stream",
     "text": [
      "   Feature  Converted\n",
      "7        A          0\n",
      "11       A          0\n",
      "13       A          0\n",
      "16       A          0\n",
      "18       A          0\n",
      "23       A          0\n",
      "26       A          1\n",
      "29       A          0\n",
      "32       A          0\n",
      "34       A          0\n",
      "\n",
      "   Feature  Converted\n",
      "0        B          0\n",
      "1        B          0\n",
      "2        B          0\n",
      "3        B          0\n",
      "4        B          0\n",
      "5        B          1\n",
      "6        B          0\n",
      "8        B          0\n",
      "9        B          0\n",
      "10       B          0\n",
      "\n",
      "muA = 0.089\n",
      "muB = 0.097\n",
      "\n",
      "z_score  = 1.742\n",
      "\n"
     ]
    }
   ],
   "source": [
    "# On fait une copie du dataframe en neretenant QUE les lignes où Feature==A\n",
    "Feature_A = df[df[\"Feature\"]==\"A\"]\n",
    "print(Feature_A.head(10))\n",
    "print()\n",
    "\n",
    "# On fait une copie du dataframe en ne retenant QUE les lignes où Feature==B\n",
    "Feature_B = df[df[\"Feature\"]==\"B\"]\n",
    "print(Feature_B.head(10))\n",
    "print(\"\")\n",
    "\n",
    "muA = Feature_A.Converted.mean()\n",
    "print(f\"muA = {muA:.3f}\")\n",
    "muB = Feature_B.Converted.mean()\n",
    "print(f\"muB = {muB:.3f}\\n\")\n",
    "\n",
    "sigmaA = Feature_A.Converted.std()\n",
    "sigmaB = Feature_B.Converted.std()\n",
    "\n",
    "nA = len(Feature_A)\n",
    "nB = len(Feature_B)\n",
    "\n",
    "denom = sigmaB**2/nB + sigmaA**2/nA\n",
    "denom = denom**.5\n",
    "z_score = (muB - muA)/denom\n",
    "print(f\"z_score  = {z_score:.03f}\\n\")"
   ]
  },
  {
   "cell_type": "markdown",
   "metadata": {},
   "source": [
    "## Step 6 - Set $\\alpha$\n",
    "\n",
    "Confidence level = 95%"
   ]
  },
  {
   "cell_type": "code",
   "execution_count": 48,
   "metadata": {},
   "outputs": [],
   "source": [
    "alpha = .05"
   ]
  },
  {
   "cell_type": "markdown",
   "metadata": {},
   "source": [
    "## Step 7 - Compare p-value to $\\alpha$ puis conclure (ou pas)"
   ]
  },
  {
   "cell_type": "markdown",
   "metadata": {},
   "source": [
    "### À propos de la fonction `ztest()` du module statsmodels.stats.weightstats\n",
    "#### Lire : \n",
    "* https://www.statology.org/z-test-python/ \n",
    "* https://www.statsmodels.org/dev/generated/statsmodels.stats.weightstats.ztest.html\n",
    "\n",
    "#### Notes\n",
    "* x1 = values for the first sample\n",
    "* x2 = values for the second sample (if performing a two sample z-test)\n",
    "* value = mean of x1 under the null hypothesis H0 (in one sample case) or the difference of the means (in two sample case)\n",
    "* alternative = \n",
    "  * H1, the alternative hypothesis, has to be one of the following : \n",
    "    * larger    : difference in means larger than value \n",
    "    * smaller   : difference in means smaller than value\n",
    "    * two-sided : difference in means not equal to value (default value)\n"
   ]
  },
  {
   "cell_type": "code",
   "execution_count": 49,
   "metadata": {},
   "outputs": [
    {
     "name": "stdout",
     "output_type": "stream",
     "text": [
      "z_score  = 1.7421\n",
      "p_value  = 0.0407\n",
      "\n",
      "HO est rejetée donc H1 est acceptée\n",
      "Pour rappel H1 = One feature is really better than the other\n"
     ]
    }
   ],
   "source": [
    "# Sous l'hypothèse nulle les moyennes sont identiques donc value = 0\n",
    "# Revoir les valeurs de muA et muB\n",
    "# On veut tester si B est significativement plus grande que A\n",
    "# On passe bien les données de B en premier dans la fonction ztest\n",
    "z_score, p_value = ztest(Feature_B.Converted, Feature_A.Converted, value = 0, alternative=\"larger\")  \n",
    "print(f\"z_score  = {z_score:.04f}\")\n",
    "print(f\"p_value  = {p_value:.04f}\\n\")\n",
    "\n",
    "if p_value < alpha:\n",
    "    print(\"HO est rejetée donc H1 est acceptée\")\n",
    "    print(f\"Pour rappel H1 = {H1}\")\n",
    "else:\n",
    "    print(\"H0 ne peut pas être rejetée. On ne peut pas conclure\")\n",
    "    print(f\"Pour rappel H0 = {H0}\")\n"
   ]
  },
  {
   "cell_type": "code",
   "execution_count": 50,
   "metadata": {},
   "outputs": [
    {
     "data": {
      "image/png": "[encoded data removed]",
      "text/plain": [
       "<Figure size 640x480 with 1 Axes>"
      ]
     },
     "metadata": {},
     "output_type": "display_data"
    }
   ],
   "source": [
    "x_values = np.arange(-4, 4, 0.01)\n",
    "\n",
    "mean_target = 0\n",
    "std_target = 1\n",
    "y_values = norm.pdf(x_values, mean_target, std_target)\n",
    "\n",
    "\n",
    "fig, ax = plt.subplots()\n",
    "ax.plot(x_values, y_values, color=\"blue\", alpha=1.00)\n",
    "ax.fill_between(x_values, y_values, 0, color=\"blue\", alpha=0.1)\n",
    "\n",
    "if z_score < 0:\n",
    "    x_values2 = np.arange(-4, z_score, 0.01)\n",
    "else:\n",
    "    x_values2 = np.arange(z_score, 4, 0.01)\n",
    "\n",
    "y_values2 = norm.pdf(x_values2, mean_target, std_target)\n",
    "ax.plot(x_values2, y_values2, color=\"red\", alpha=1.00)\n",
    "_ = ax.fill_between(x_values2, y_values2, 0, color=\"red\", alpha=0.1)\n",
    "\n"
   ]
  },
  {
   "cell_type": "markdown",
   "metadata": {},
   "source": [
    "# The family\n",
    "* They would like to know if their new design actually improved their conversion rate.\n"
   ]
  },
  {
   "cell_type": "markdown",
   "metadata": {},
   "source": [
    "## Step 1 - Import Libraries"
   ]
  },
  {
   "cell_type": "code",
   "execution_count": 51,
   "metadata": {},
   "outputs": [],
   "source": [
    "import pandas as pd\n",
    "import numpy as np\n",
    "import seaborn as sns\n",
    "import matplotlib.pyplot as plt\n",
    "from statsmodels.stats.weightstats import ztest"
   ]
  },
  {
   "cell_type": "markdown",
   "metadata": {},
   "source": [
    "## Step 2 - Import dataset"
   ]
  },
  {
   "cell_type": "code",
   "execution_count": 52,
   "metadata": {},
   "outputs": [
    {
     "data": {
      "text/html": [
       "<div>\n",
       "<style scoped>\n",
       "    .dataframe tbody tr th:only-of-type {\n",
       "        vertical-align: middle;\n",
       "    }\n",
       "\n",
       "    .dataframe tbody tr th {\n",
       "        vertical-align: top;\n",
       "    }\n",
       "\n",
       "    .dataframe thead th {\n",
       "        text-align: right;\n",
       "    }\n",
       "</style>\n",
       "<table border=\"1\" class=\"dataframe\">\n",
       "  <thead>\n",
       "    <tr style=\"text-align: right;\">\n",
       "      <th></th>\n",
       "      <th>Unnamed: 0</th>\n",
       "      <th>Design</th>\n",
       "      <th>Conversion</th>\n",
       "    </tr>\n",
       "  </thead>\n",
       "  <tbody>\n",
       "    <tr>\n",
       "      <th>0</th>\n",
       "      <td>0</td>\n",
       "      <td>B</td>\n",
       "      <td>0</td>\n",
       "    </tr>\n",
       "    <tr>\n",
       "      <th>1</th>\n",
       "      <td>1</td>\n",
       "      <td>B</td>\n",
       "      <td>0</td>\n",
       "    </tr>\n",
       "    <tr>\n",
       "      <th>2</th>\n",
       "      <td>2</td>\n",
       "      <td>A</td>\n",
       "      <td>1</td>\n",
       "    </tr>\n",
       "    <tr>\n",
       "      <th>3</th>\n",
       "      <td>3</td>\n",
       "      <td>A</td>\n",
       "      <td>0</td>\n",
       "    </tr>\n",
       "    <tr>\n",
       "      <th>4</th>\n",
       "      <td>4</td>\n",
       "      <td>B</td>\n",
       "      <td>0</td>\n",
       "    </tr>\n",
       "  </tbody>\n",
       "</table>\n",
       "</div>"
      ],
      "text/plain": [
       "   Unnamed: 0 Design  Conversion\n",
       "0           0      B           0\n",
       "1           1      B           0\n",
       "2           2      A           1\n",
       "3           3      A           0\n",
       "4           4      B           0"
      ]
     },
     "execution_count": 52,
     "metadata": {},
     "output_type": "execute_result"
    }
   ],
   "source": [
    "df = pd.read_csv(\"./assets/Python/The_Family_test_conversions.csv\")\n",
    "df.head()"
   ]
  },
  {
   "cell_type": "markdown",
   "metadata": {},
   "source": [
    "On supprime la première colonne qui ne sert à rien."
   ]
  },
  {
   "cell_type": "code",
   "execution_count": 53,
   "metadata": {},
   "outputs": [
    {
     "data": {
      "text/html": [
       "<div>\n",
       "<style scoped>\n",
       "    .dataframe tbody tr th:only-of-type {\n",
       "        vertical-align: middle;\n",
       "    }\n",
       "\n",
       "    .dataframe tbody tr th {\n",
       "        vertical-align: top;\n",
       "    }\n",
       "\n",
       "    .dataframe thead th {\n",
       "        text-align: right;\n",
       "    }\n",
       "</style>\n",
       "<table border=\"1\" class=\"dataframe\">\n",
       "  <thead>\n",
       "    <tr style=\"text-align: right;\">\n",
       "      <th></th>\n",
       "      <th>Design</th>\n",
       "      <th>Conversion</th>\n",
       "    </tr>\n",
       "  </thead>\n",
       "  <tbody>\n",
       "    <tr>\n",
       "      <th>0</th>\n",
       "      <td>B</td>\n",
       "      <td>0</td>\n",
       "    </tr>\n",
       "    <tr>\n",
       "      <th>1</th>\n",
       "      <td>B</td>\n",
       "      <td>0</td>\n",
       "    </tr>\n",
       "    <tr>\n",
       "      <th>2</th>\n",
       "      <td>A</td>\n",
       "      <td>1</td>\n",
       "    </tr>\n",
       "    <tr>\n",
       "      <th>3</th>\n",
       "      <td>A</td>\n",
       "      <td>0</td>\n",
       "    </tr>\n",
       "    <tr>\n",
       "      <th>4</th>\n",
       "      <td>B</td>\n",
       "      <td>0</td>\n",
       "    </tr>\n",
       "  </tbody>\n",
       "</table>\n",
       "</div>"
      ],
      "text/plain": [
       "  Design  Conversion\n",
       "0      B           0\n",
       "1      B           0\n",
       "2      A           1\n",
       "3      A           0\n",
       "4      B           0"
      ]
     },
     "execution_count": 53,
     "metadata": {},
     "output_type": "execute_result"
    }
   ],
   "source": [
    "df = df.drop(df.columns[[0]], axis=1) \n",
    "df.head()"
   ]
  },
  {
   "cell_type": "markdown",
   "metadata": {},
   "source": [
    "## Step 3 - EDA (Exploratory Data Analysis)\n",
    " Proportion of conversion for Feature A & B\n"
   ]
  },
  {
   "cell_type": "code",
   "execution_count": 54,
   "metadata": {},
   "outputs": [
    {
     "data": {
      "text/html": [
       "<div>\n",
       "<style scoped>\n",
       "    .dataframe tbody tr th:only-of-type {\n",
       "        vertical-align: middle;\n",
       "    }\n",
       "\n",
       "    .dataframe tbody tr th {\n",
       "        vertical-align: top;\n",
       "    }\n",
       "\n",
       "    .dataframe thead th {\n",
       "        text-align: right;\n",
       "    }\n",
       "</style>\n",
       "<table border=\"1\" class=\"dataframe\">\n",
       "  <thead>\n",
       "    <tr style=\"text-align: right;\">\n",
       "      <th></th>\n",
       "      <th>Conversion</th>\n",
       "    </tr>\n",
       "    <tr>\n",
       "      <th>Design</th>\n",
       "      <th></th>\n",
       "    </tr>\n",
       "  </thead>\n",
       "  <tbody>\n",
       "    <tr>\n",
       "      <th>A</th>\n",
       "      <td>0.106061</td>\n",
       "    </tr>\n",
       "    <tr>\n",
       "      <th>B</th>\n",
       "      <td>0.088235</td>\n",
       "    </tr>\n",
       "  </tbody>\n",
       "</table>\n",
       "</div>"
      ],
      "text/plain": [
       "        Conversion\n",
       "Design            \n",
       "A         0.106061\n",
       "B         0.088235"
      ]
     },
     "execution_count": 54,
     "metadata": {},
     "output_type": "execute_result"
    }
   ],
   "source": [
    "df.groupby(\"Design\").mean()\n",
    "\n"
   ]
  },
  {
   "cell_type": "code",
   "execution_count": 55,
   "metadata": {},
   "outputs": [
    {
     "data": {
      "image/png": "[encoded data removed]",
      "text/plain": [
       "<Figure size 500x500 with 1 Axes>"
      ]
     },
     "metadata": {},
     "output_type": "display_data"
    }
   ],
   "source": [
    "\n",
    "# TODO : à refaire sans les warnings\n",
    "\n",
    "import warnings\n",
    "warnings.filterwarnings('ignore')\n",
    "sns.catplot(x=\"Design\", y=\"Conversion\", data=df, kind=\"bar\", errorbar=('ci', 95))\n",
    "warnings.filterwarnings('default')\n",
    "\n",
    "\n",
    "\n",
    "\n",
    "\n"
   ]
  },
  {
   "cell_type": "markdown",
   "metadata": {},
   "source": [
    "## Step 4 - Define hypothesis"
   ]
  },
  {
   "cell_type": "code",
   "execution_count": 56,
   "metadata": {},
   "outputs": [],
   "source": [
    "# Les hypothèses sous forme de chaines pour les utiliser en fin de programme\n",
    "H1 = \"The new design improved the conversion rate\"\n",
    "H0 = \"Tne new design did not improved the conversion rate\""
   ]
  },
  {
   "cell_type": "markdown",
   "metadata": {},
   "source": [
    "## Step 5 - Calculate Z-score\n",
    "\n",
    "<img src=\"./assets/Python/Z-score4vinted.png\">\n"
   ]
  },
  {
   "cell_type": "code",
   "execution_count": 57,
   "metadata": {},
   "outputs": [
    {
     "name": "stdout",
     "output_type": "stream",
     "text": [
      "muA = 0.106\n",
      "muB = 0.088\n",
      "z_score  = -0.2856\n",
      "\n"
     ]
    }
   ],
   "source": [
    "Feature_A = df[df[\"Design\"]==\"A\"]\n",
    "Feature_B = df[df[\"Design\"]==\"B\"]\n",
    "\n",
    "muA = Feature_A.Conversion.mean()\n",
    "print(f\"muA = {muA:.3f}\")\n",
    "muB = Feature_B.Conversion.mean()\n",
    "print(f\"muB = {muB:.3f}\")\n",
    "\n",
    "sigmaA = Feature_A.Conversion.std()\n",
    "sigmaB = Feature_B.Conversion.std()\n",
    "\n",
    "nA = len(Feature_A)\n",
    "nB = len(Feature_B)\n",
    "\n",
    "denom = sigmaB**2/nB + sigmaA**2/nA\n",
    "denom = denom**.5\n",
    "z_score = (muB - muA)/denom\n",
    "print(f\"z_score  = {z_score:.04f}\\n\")"
   ]
  },
  {
   "cell_type": "markdown",
   "metadata": {},
   "source": [
    "## Step 6 - Set $\\alpha$\n",
    "\n",
    "Confidence level = 90%"
   ]
  },
  {
   "cell_type": "code",
   "execution_count": 58,
   "metadata": {},
   "outputs": [],
   "source": [
    "alpha = .10"
   ]
  },
  {
   "cell_type": "markdown",
   "metadata": {},
   "source": [
    "## Step 7 - Compare p-value to $\\alpha$ puis conclure (ou pas)"
   ]
  },
  {
   "cell_type": "markdown",
   "metadata": {},
   "source": [
    "### À propos de la fonction `ztest()` du module statsmodels.stats.weightstats\n",
    "#### Lire : \n",
    "* https://www.statology.org/z-test-python/ \n",
    "* https://www.statsmodels.org/dev/generated/statsmodels.stats.weightstats.ztest.html\n",
    "\n",
    "#### Notes\n",
    "* x1 = values for the first sample\n",
    "* x2 = values for the second sample (if performing a two sample z-test)\n",
    "* value = mean of x1 under the null hypothesis H0 (in one sample case) or the difference of the means (in two sample case)\n",
    "* alternative = \n",
    "  * H1, the alternative hypothesis, has to be one of the following : \n",
    "    * larger    : difference in means larger than value \n",
    "    * smaller   : difference in means smaller than value\n",
    "    * two-sided : difference in means not equal to value (default value)\n"
   ]
  },
  {
   "cell_type": "code",
   "execution_count": 59,
   "metadata": {},
   "outputs": [
    {
     "name": "stdout",
     "output_type": "stream",
     "text": [
      "z_score  = -0.2787\n",
      "p_value  = 0.3902\n",
      "\n",
      "H0 ne peut pas être rejetée. On ne peut pas conclure\n",
      "Pour rappel H0 = Tne new design did not improved the conversion rate\n"
     ]
    }
   ],
   "source": [
    "# Sous l'hypothèse nulle les moyennes sont identiques donc value = 0\n",
    "# Revoir les valeurs de muA et muB\n",
    "# On veut tester si B est significativement plus petit que A\n",
    "# On passe bien les données de B en premier dans la fonction ztest\n",
    "z_score, p_value = ztest(Feature_B.Conversion, Feature_A.Conversion, value = 0, alternative=\"smaller\")  \n",
    "print(f\"z_score  = {z_score:.04f}\")\n",
    "print(f\"p_value  = {p_value:.04f}\\n\")\n",
    "\n",
    "if p_value < alpha:\n",
    "    print(\"HO est rejetée donc H1 est acceptée\")\n",
    "    print(f\"Pour rappel H1 = {H1}\")\n",
    "else:\n",
    "    print(\"H0 ne peut pas être rejetée. On ne peut pas conclure\")\n",
    "    print(f\"Pour rappel H0 = {H0}\")\n"
   ]
  },
  {
   "cell_type": "code",
   "execution_count": 60,
   "metadata": {},
   "outputs": [
    {
     "data": {
      "image/png": "[encoded data removed]",
      "text/plain": [
       "<Figure size 640x480 with 1 Axes>"
      ]
     },
     "metadata": {},
     "output_type": "display_data"
    }
   ],
   "source": [
    "x_values = np.arange(-4, 4, 0.01)\n",
    "\n",
    "mean_target = 0\n",
    "std_target = 1\n",
    "y_values = norm.pdf(x_values, mean_target, std_target)\n",
    "\n",
    "\n",
    "fig, ax = plt.subplots()\n",
    "ax.plot(x_values, y_values, color=\"blue\", alpha=1.00)\n",
    "ax.fill_between(x_values, y_values, 0, color=\"blue\", alpha=0.1)\n",
    "\n",
    "if z_score < 0:\n",
    "    x_values2 = np.arange(-4, z_score, 0.01)\n",
    "else:\n",
    "    x_values2 = np.arange(z_score, 4, 0.01)\n",
    "\n",
    "y_values2 = norm.pdf(x_values2, mean_target, std_target)\n",
    "ax.plot(x_values2, y_values2, color=\"red\", alpha=1.00)\n",
    "_ = ax.fill_between(x_values2, y_values2, 0, color=\"red\", alpha=0.1)\n",
    "\n"
   ]
  },
  {
   "cell_type": "markdown",
   "metadata": {},
   "source": [
    "## Step 9 - Recos\n",
    "\n",
    "* Increase sample size"
   ]
  }
 ],
 "metadata": {
  "kernelspec": {
   "display_name": "base",
   "language": "python",
   "name": "python3"
  },
  "language_info": {
   "codemirror_mode": {
    "name": "ipython",
    "version": 3
   },
   "file_extension": ".py",
   "mimetype": "text/x-python",
   "name": "python",
   "nbconvert_exporter": "python",
   "pygments_lexer": "ipython3",
   "version": "3.11.5"
  },
  "orig_nbformat": 4
 },
 "nbformat": 4,
 "nbformat_minor": 2
}
