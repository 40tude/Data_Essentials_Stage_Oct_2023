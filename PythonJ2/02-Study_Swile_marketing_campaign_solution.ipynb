{
 "cells": [
  {
   "cell_type": "markdown",
   "source": [
    "![](https://upload.wikimedia.org/wikipedia/commons/thumb/8/87/Logo_Swile.svg/2560px-Logo_Swile.svg.png)"
   ],
   "metadata": {}
  },
  {
   "cell_type": "markdown",
   "source": [
    "## *\"The most useless card of the moment\"*\n",
    "\n",
    "[Swile](https://www.swile.co/en-FR) is a french company whose goal is to offer employee benefits via a payment card. The company was founded in 2017 and raised $70M Series C in 2020."
   ],
   "metadata": {}
  },
  {
   "cell_type": "code",
   "execution_count": null,
   "source": [
    "from IPython.display import Video\n",
    "Video(\n",
    "    \"https://essentials-assets.s3.eu-west-3.amazonaws.com/M03-Python_programming_and_statistics/D02-A_B_testing_and_web_analytics/Swile_presentation.mp4\",\n",
    "    width=700,\n",
    "    height=500\n",
    "    )"
   ],
   "outputs": [],
   "metadata": {}
  },
  {
   "cell_type": "markdown",
   "source": [
    "After raising this much money, COVID hit western world really hard and almost all countries were on lock-down putting Swile in a really hard position since no restaurants were opened. \n",
    "\n",
    "Instead of waiting for COVID to pass, they decided to launch a large marketing campaign called: *La carte la plus inutile du moment* (The most useless card of the moment). The goal was to get to sign new clients despite the tough situation. \n",
    "\n",
    "In almost every big city in France, we could see this kind of advertisement: \n",
    "\n",
    "![](https://essentials-assets.s3.eu-west-3.amazonaws.com/M03-Python_programming_and_statistics/D02-A_B_testing_and_web_analytics/swile_car.webp)"
   ],
   "metadata": {}
  },
  {
   "cell_type": "markdown",
   "source": [
    "Now that the marketing campaign is done, Swile would like to know whether this marketing campaign add an impact on sales! \n",
    "\n",
    "Swile provided you with some data about sales before the marketing campaign. Our goal will be to check whether this marketing campaign was a genius idea or a huge failure so that the company could replicate it abroad. \n",
    "\n",
    "This dataset describes the number of calls on the same day in France and abroad. The only difference between these two samples is the impact of Marketing campaign. \n",
    "\n",
    "Test whether the average number of calls in France is actually higher than the ones abroad. "
   ],
   "metadata": {}
  },
  {
   "cell_type": "markdown",
   "source": [
    "## Step 1 - Import libraries"
   ],
   "metadata": {}
  },
  {
   "cell_type": "code",
   "execution_count": 1,
   "source": [
    "import pandas as pd \n",
    "import numpy as np \n",
    "import matplotlib.pyplot as plt\n",
    "import seaborn as sns "
   ],
   "outputs": [],
   "metadata": {}
  },
  {
   "cell_type": "markdown",
   "source": [
    "## Step 2 - Import Dataset \n",
    "\n",
    "Now you need to import your dataset. Download `swile_calls.csv` and load it in your notebook using `pandas`"
   ],
   "metadata": {}
  },
  {
   "cell_type": "code",
   "execution_count": 2,
   "source": [
    "df = pd.read_csv(\"swile_sales_calls.csv\")\n",
    "df.head()"
   ],
   "outputs": [
    {
     "output_type": "execute_result",
     "data": {
      "text/html": [
       "<div>\n",
       "<style scoped>\n",
       "    .dataframe tbody tr th:only-of-type {\n",
       "        vertical-align: middle;\n",
       "    }\n",
       "\n",
       "    .dataframe tbody tr th {\n",
       "        vertical-align: top;\n",
       "    }\n",
       "\n",
       "    .dataframe thead th {\n",
       "        text-align: right;\n",
       "    }\n",
       "</style>\n",
       "<table border=\"1\" class=\"dataframe\">\n",
       "  <thead>\n",
       "    <tr style=\"text-align: right;\">\n",
       "      <th></th>\n",
       "      <th>calls_abroad</th>\n",
       "      <th>calls_in_France</th>\n",
       "    </tr>\n",
       "  </thead>\n",
       "  <tbody>\n",
       "    <tr>\n",
       "      <th>0</th>\n",
       "      <td>4</td>\n",
       "      <td>6</td>\n",
       "    </tr>\n",
       "    <tr>\n",
       "      <th>1</th>\n",
       "      <td>4</td>\n",
       "      <td>2</td>\n",
       "    </tr>\n",
       "    <tr>\n",
       "      <th>2</th>\n",
       "      <td>4</td>\n",
       "      <td>9</td>\n",
       "    </tr>\n",
       "    <tr>\n",
       "      <th>3</th>\n",
       "      <td>9</td>\n",
       "      <td>9</td>\n",
       "    </tr>\n",
       "    <tr>\n",
       "      <th>4</th>\n",
       "      <td>2</td>\n",
       "      <td>9</td>\n",
       "    </tr>\n",
       "  </tbody>\n",
       "</table>\n",
       "</div>"
      ],
      "text/plain": [
       "   calls_abroad  calls_in_France\n",
       "0             4                6\n",
       "1             4                2\n",
       "2             4                9\n",
       "3             9                9\n",
       "4             2                9"
      ]
     },
     "metadata": {},
     "execution_count": 2
    }
   ],
   "metadata": {}
  },
  {
   "cell_type": "markdown",
   "source": [
    "## Step 3 - EDA \n",
    "\n",
    "For our EDA, we will simply calculate the `mean` for both our columns and then try to visualize it using `.plot()` function in `pandas`"
   ],
   "metadata": {}
  },
  {
   "cell_type": "code",
   "execution_count": 3,
   "source": [
    "df.mean()"
   ],
   "outputs": [
    {
     "output_type": "execute_result",
     "data": {
      "text/plain": [
       "calls_abroad       5.500000\n",
       "calls_in_France    5.785714\n",
       "dtype: float64"
      ]
     },
     "metadata": {},
     "execution_count": 3
    }
   ],
   "metadata": {}
  },
  {
   "cell_type": "code",
   "execution_count": 4,
   "source": [
    "df.mean().plot(kind=\"bar\")"
   ],
   "outputs": [
    {
     "output_type": "execute_result",
     "data": {
      "text/plain": [
       "<AxesSubplot:>"
      ]
     },
     "metadata": {},
     "execution_count": 4
    },
    {
     "output_type": "display_data",
     "data": {
      "image/png": "[encoded data removed]",
      "text/plain": [
       "<Figure size 432x288 with 1 Axes>"
      ]
     },
     "metadata": {
      "needs_background": "light"
     }
    }
   ],
   "metadata": {}
  },
  {
   "cell_type": "markdown",
   "source": [
    "## Step 4 - Define hypothesises"
   ],
   "metadata": {}
  },
  {
   "cell_type": "markdown",
   "source": [
    "Now what we need to do is to define our $H_0$ and $H_1$: \n",
    "\n",
    "* $H_0$ - Number of calls in France <= 5.5\n",
    "* $H_1$ - Number of calls in France > 5.5"
   ],
   "metadata": {}
  },
  {
   "cell_type": "markdown",
   "source": [
    "## Step 5 - Calculate Z-score \n",
    "\n",
    "Let's calculate our $Z-score$ so that we will be able to run our test. To do so, you will need to:\n",
    "\n",
    "* Calculate the average `calls_in_France` \n",
    "* Calculate the std of `calls_in_France` \n",
    "* Find sample size `n`\n",
    "* Apply $Z = \\frac{\\bar{X} - \\mu}{\\frac{s}{\\sqrt{n}}}$"
   ],
   "metadata": {}
  },
  {
   "cell_type": "code",
   "execution_count": 7,
   "source": [
    "# Calculate Z-score \n",
    "sample_average = df.mean()[\"calls_in_France\"]\n",
    "sample_std = df.std()[\"calls_in_France\"]\n",
    "mu = df.mean()[\"calls_abroad\"]\n",
    "n = len(df)\n",
    "\n",
    "z_score = (sample_average - mu)/(sample_std/np.sqrt(n))\n",
    "print(\"Z-score equal: {}\".format(z_score))"
   ],
   "outputs": [
    {
     "output_type": "stream",
     "name": "stdout",
     "text": [
      "Z-score equal: 1.1664524375772458\n"
     ]
    }
   ],
   "metadata": {}
  },
  {
   "cell_type": "markdown",
   "source": [
    "## Step 6 - Set $\\alpha$ \n",
    "\n",
    "Now we need to set a confidence level $\\alpha$, after talking with Swile's marketing team, they told us that `10%` seemed enough. "
   ],
   "metadata": {}
  },
  {
   "cell_type": "code",
   "execution_count": 8,
   "source": [
    "# Define alpha \n",
    "alpha = 0.10"
   ],
   "outputs": [],
   "metadata": {}
  },
  {
   "cell_type": "markdown",
   "source": [
    "## Step 7 - Compare p-value to $\\alpha$ \n",
    "\n",
    "Finally, we need to get our `p-value`. Instead of looking at tools like [Statdistributions.com](https://statdistributions.com), you can use this function from `statsmodels` library: \n",
    "\n",
    "\n",
    "* [`ztest`](https://www.statsmodels.org/dev/generated/statsmodels.stats.weightstats.ztest.html)"
   ],
   "metadata": {}
  },
  {
   "cell_type": "code",
   "execution_count": 9,
   "source": [
    "from statsmodels.stats.weightstats import ztest\n",
    "\n",
    "z_score, p_value = ztest(df[\"calls_in_France\"], alternative='larger', value=mu)\n",
    "\n",
    "print(\"Z_score value is: {}\".format(z_score))\n",
    "print(\"p-value is: {}\".format(p_value))\n",
    "\n",
    "if p_value < alpha:\n",
    "    print(\"We can reject the Null Hypothesis\")\n",
    "else:\n",
    "    print(\"We can't reject the Null hypothesis\")"
   ],
   "outputs": [
    {
     "output_type": "stream",
     "name": "stdout",
     "text": [
      "Z_score value is: 1.1664524375772454\n",
      "p-value is: 0.12171578397679123\n",
      "We can't reject the Null hypothesis\n"
     ]
    }
   ],
   "metadata": {}
  },
  {
   "cell_type": "markdown",
   "source": [
    "## Step 8 (Optional) - Visualize probability\n",
    "\n",
    "Finally, one cool thing could be to visualize your Z-test! One thing that we could use is `matplotlib.pyplot` library with `seaborn`. Check out this code and try to understand the results. "
   ],
   "metadata": {}
  },
  {
   "cell_type": "code",
   "execution_count": 12,
   "source": [
    "### Visualize area under curve\n",
    "import seaborn as sns \n",
    "\n",
    "# Displot from seaborn gives us a distribution from what is inside the parenthesis\n",
    "# np.random.normal simulates a normal distribution \n",
    "# hist=None simply stats that we don't want a histogram\n",
    "ax = sns.distplot(np.random.normal(0, 1, size=1000000), hist=None) \n",
    "\n",
    "# This is a mask that will let us filter only the values beyond z-score\n",
    "mask = ax.lines[0].get_xydata()[:, 0] > z_score ## Only modify the operator sign (<, >) depending on your problem\n",
    "\n",
    "# This will get the coordinates of all the data points beyon z-score\n",
    "x_area_under_curve = ax.lines[0].get_xydata()[:, 0][mask]\n",
    "y_area_under_curve = ax.lines[0].get_xydata()[:, 1][mask]\n",
    "\n",
    "# We finally fill the area with red\n",
    "ax.fill_between(x_area_under_curve, y_area_under_curve, color=\"red\")\n",
    "plt.show()"
   ],
   "outputs": [
    {
     "output_type": "stream",
     "name": "stderr",
     "text": [
      "/usr/local/anaconda3/lib/python3.8/site-packages/seaborn/distributions.py:2551: FutureWarning: `distplot` is a deprecated function and will be removed in a future version. Please adapt your code to use either `displot` (a figure-level function with similar flexibility) or `kdeplot` (an axes-level function for kernel density plots).\n",
      "  warnings.warn(msg, FutureWarning)\n"
     ]
    },
    {
     "output_type": "display_data",
     "data": {
      "image/png": "[encoded data removed]",
      "text/plain": [
       "<Figure size 432x288 with 1 Axes>"
      ]
     },
     "metadata": {
      "needs_background": "light"
     }
    }
   ],
   "metadata": {}
  }
 ],
 "metadata": {
  "kernelspec": {
   "display_name": "Python 3",
   "language": "python",
   "name": "python3"
  },
  "language_info": {
   "codemirror_mode": {
    "name": "ipython",
    "version": 3
   },
   "file_extension": ".py",
   "mimetype": "text/x-python",
   "name": "python",
   "nbconvert_exporter": "python",
   "pygments_lexer": "ipython3",
   "version": "3.8.5"
  }
 },
 "nbformat": 4,
 "nbformat_minor": 2
}