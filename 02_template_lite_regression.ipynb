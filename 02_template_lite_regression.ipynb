{
 "cells": [
  {
   "attachments": {},
   "cell_type": "markdown",
   "metadata": {},
   "source": [
    "# Linear Regression Template Lite\n",
    "1. Preprocessing\n",
    "    1. Import lib\n",
    "    1. Import dataset\n",
    "    1. EDA - Exploratory Data Analysis\n",
    "    1. Separate features from target\n",
    "    1. Split Train and Test sets (80/20)\n",
    "    1. Cleaning\n",
    "        1. Replace missing val \n",
    "        1. Standardize numerical features + One hot encode categorical variables\n",
    "        1. Encode labels of y\n",
    "1. Build the model\n",
    "    1. Select and train a model\n",
    "    1. Apply model to train set\n",
    "    1. Apply model to test set\n",
    "1. Evaluate model (R², adj R²)\n",
    "1. Features importance\n",
    "\n",
    "\n",
    "Penser à utiliser d'autres modèles de régression : \n",
    "* DecisionTreeRegressor()\n",
    "* RandomForestRegressor()\n",
    "* ...\n",
    "* Voir https://scikit-learn.org/stable/supervised_learning.html\n"
   ]
  },
  {
   "attachments": {},
   "cell_type": "markdown",
   "metadata": {},
   "source": [
    "## Step 1 - Preprocessing\n",
    "* Jusqu'à Step 2, on reprend les étapes 1 à 5 du `template preprocessing`"
   ]
  },
  {
   "cell_type": "markdown",
   "metadata": {},
   "source": [
    "### Step 1.1 - Import libraries"
   ]
  },
  {
   "cell_type": "code",
   "execution_count": 1,
   "metadata": {},
   "outputs": [],
   "source": [
    "import pandas as pd\n",
    "import numpy as np \n",
    "from sklearn.model_selection import train_test_split\n",
    "from sklearn.preprocessing import StandardScaler, OneHotEncoder\n",
    "from sklearn.compose import ColumnTransformer\n",
    "from sklearn.linear_model import LinearRegression\n",
    "import seaborn as sns\n",
    "import matplotlib.pyplot as plt"
   ]
  },
  {
   "cell_type": "markdown",
   "metadata": {},
   "source": [
    "### Step 1.2 - Import dataset"
   ]
  },
  {
   "cell_type": "code",
   "execution_count": 2,
   "metadata": {},
   "outputs": [
    {
     "data": {
      "text/html": [
       "<div>\n",
       "<style scoped>\n",
       "    .dataframe tbody tr th:only-of-type {\n",
       "        vertical-align: middle;\n",
       "    }\n",
       "\n",
       "    .dataframe tbody tr th {\n",
       "        vertical-align: top;\n",
       "    }\n",
       "\n",
       "    .dataframe thead th {\n",
       "        text-align: right;\n",
       "    }\n",
       "</style>\n",
       "<table border=\"1\" class=\"dataframe\">\n",
       "  <thead>\n",
       "    <tr style=\"text-align: right;\">\n",
       "      <th></th>\n",
       "      <th>Country</th>\n",
       "      <th>YearsExperience</th>\n",
       "      <th>Salary</th>\n",
       "    </tr>\n",
       "  </thead>\n",
       "  <tbody>\n",
       "    <tr>\n",
       "      <th>0</th>\n",
       "      <td>France</td>\n",
       "      <td>1.1</td>\n",
       "      <td>39343.0</td>\n",
       "    </tr>\n",
       "    <tr>\n",
       "      <th>1</th>\n",
       "      <td>United-Kingdom</td>\n",
       "      <td>1.3</td>\n",
       "      <td>46205.0</td>\n",
       "    </tr>\n",
       "    <tr>\n",
       "      <th>2</th>\n",
       "      <td>France</td>\n",
       "      <td>1.5</td>\n",
       "      <td>37731.0</td>\n",
       "    </tr>\n",
       "    <tr>\n",
       "      <th>3</th>\n",
       "      <td>France</td>\n",
       "      <td>2.0</td>\n",
       "      <td>43525.0</td>\n",
       "    </tr>\n",
       "    <tr>\n",
       "      <th>4</th>\n",
       "      <td>Germany</td>\n",
       "      <td>2.2</td>\n",
       "      <td>39891.0</td>\n",
       "    </tr>\n",
       "  </tbody>\n",
       "</table>\n",
       "</div>"
      ],
      "text/plain": [
       "          Country  YearsExperience   Salary\n",
       "0          France              1.1  39343.0\n",
       "1  United-Kingdom              1.3  46205.0\n",
       "2          France              1.5  37731.0\n",
       "3          France              2.0  43525.0\n",
       "4         Germany              2.2  39891.0"
      ]
     },
     "execution_count": 2,
     "metadata": {},
     "output_type": "execute_result"
    }
   ],
   "source": [
    "df = pd.read_csv(\"99-assets/ML/salary_data.csv\")\n",
    "df.head() "
   ]
  },
  {
   "cell_type": "markdown",
   "metadata": {},
   "source": [
    "### Setp 1.3 - EDA - Exploratory Data Analysis"
   ]
  },
  {
   "cell_type": "code",
   "execution_count": 3,
   "metadata": {},
   "outputs": [
    {
     "name": "stdout",
     "output_type": "stream",
     "text": [
      "(30, 3)\n",
      "\n",
      "       Country  YearsExperience         Salary\n",
      "count       30        30.000000      30.000000\n",
      "unique       3              NaN            NaN\n",
      "top     France              NaN            NaN\n",
      "freq        12              NaN            NaN\n",
      "mean       NaN         5.313333   76003.000000\n",
      "std        NaN         2.837888   27414.429785\n",
      "min        NaN         1.100000   37731.000000\n",
      "25%        NaN         3.200000   56720.750000\n",
      "50%        NaN         4.700000   65237.000000\n",
      "75%        NaN         7.700000  100544.750000\n",
      "max        NaN        10.500000  122391.000000\n",
      "\n",
      "<class 'pandas.core.frame.DataFrame'>\n",
      "RangeIndex: 30 entries, 0 to 29\n",
      "Data columns (total 3 columns):\n",
      " #   Column           Non-Null Count  Dtype  \n",
      "---  ------           --------------  -----  \n",
      " 0   Country          30 non-null     object \n",
      " 1   YearsExperience  30 non-null     float64\n",
      " 2   Salary           30 non-null     float64\n",
      "dtypes: float64(2), object(1)\n",
      "memory usage: 852.0+ bytes\n",
      "\n"
     ]
    },
    {
     "data": {
      "text/plain": [
       "Country\n",
       "France            12\n",
       "United-Kingdom    12\n",
       "Germany            6\n",
       "Name: count, dtype: int64"
      ]
     },
     "execution_count": 3,
     "metadata": {},
     "output_type": "execute_result"
    }
   ],
   "source": [
    "print(df.shape)                       # (#rows, #columns)\n",
    "\n",
    "print()\n",
    "print(df.describe(include=\"all\")) # include non numerical info\n",
    "\n",
    "print()\n",
    "df.info()\n",
    "\n",
    "print()\n",
    "df[\"Country\"].value_counts()\n",
    "\n",
    "\n",
    "# Vérifier que le count est identique pour toutes les colonnes\n",
    "# Attention on peut avoir le même nb de valeurs qui manquent partout\n",
    "# Faut correler avec df.shape\n",
    "# Vérifier les unités\n",
    "# Les gammes de valeurs des données\n",
    "\n",
    "# df.drop([\"Country\"], axis=1, inplace = True)\n",
    "# df = df.drop(columns=[\"PassengerId\", \"Name\", \"Ticket\", \"Cabin\"])\n",
    "\n",
    "# vérifier si il y a des lignes dupliquées\n",
    "# duplicates = df[df.duplicated()]\n",
    "# print(\"Duplicate Rows:\", duplicates)\n",
    "# df = df.drop_duplicates()\n",
    "\n",
    "# df.value_counts()\n",
    "# df[\"Country\"].value_counts()/len(df)\n",
    "\n",
    "# print(df[df['Embarked'].isna()])                                      # print lines with NaN\n",
    "# df.isna().mean() * 100\n",
    "# df.isna().sum() / len(df) * 100                                       # print nb of Nan as %\n",
    "# isnull() = isna() mais isna() est plus récente\n",
    "\n",
    "# Créer des combinaisons de variables\n",
    "# df[\"debile\"] = df[\"Salary\"]/df[\"Age\"]\n",
    "\n",
    "# df.drop(\"debile\", axis=1)\n",
    "\n",
    "# corr_matrix = df.corr(numeric_only=True)\n",
    "# print(corr_matrix)\n",
    "# print()\n",
    "# print(corr_matrix[\"Survived\"].sort_values(ascending=False))\n",
    "\n",
    "# chercher les outliers\n",
    "# from scipy.stats import zscore\n",
    "# z_scores = zscore(df)\n",
    "# z_scores = np.abs(z_scores)\n",
    "# outliers = (z_scores > 3).all(axis=1)\n",
    "\n",
    "# chercher les outliers\n",
    "# Q1 = df.quantile(0.25)\n",
    "# Q3 = df.quantile(0.75)\n",
    "# IQR = Q3 - Q1 # interquartile range\n",
    "# outliers = ((df < (Q1 - 1.5 * IQR)) | (df > (Q3 + 1.5 * IQR))).any(axis=1)\n",
    "\n",
    "#########################################################################\n",
    "# Graphes\n",
    "# _ = df.hist(bins=50)                                                  # affiche une matrice avec tous les histogrammes \n",
    "# df[\"Country\"].hist()\n",
    "\n",
    "# from pandas.plotting import scatter_matrix                            # affiche une matrice avec le graphes des correlation entre features \n",
    "# attributes = [\"nom1\", \"nom2\", \"nom3\"]\n",
    "# scatter_matrix(housing[attribute], figsize=(10, 10))\n",
    "\n",
    "# sns.catplot(data = df, x=\"Sex\", y=\"Survived\", kind=\"bar\")\n",
    "# housing.plot(kind=\"scatter\", x=\"longitude\", y=\"latitude\", alpha=0.4, \n",
    "              #  s=housing[\"population\"]/75, label=\"population\",\n",
    "              #  c=\"median_house_value\", cmap=plt.get_cmap(\"jet\"), colorbar=True, figsize=(15,10))\n",
    "# _ = plt.legend()\n",
    "\n",
    "#sns.histplot(df['Positive_Axillary_Nodes'], bins=15, kde=True, color='lightgreen') # kernel density estimate (kde=True) \n",
    "                                                                                    # smoothed probability density function\n",
    "\n",
    "# sns.heatmap(df.corr(numeric_only=True));   \n",
    "\n",
    "# attributes = [\"Age\", \"Salary\"]\n",
    "# _ = scatter_matrix(df[attributes])\n",
    "\n",
    "# Camembert\n",
    "#marital_counts = df['Marital_Status'].value_counts()\n",
    "#plt.figure(figsize=(10, 6))\n",
    "#plt.pie(marital_counts, labels=marital_counts.index, autopct='%1.1f%%', startangle=90, colors=sns.color_palette('Blues'))\n",
    "\n",
    "# Courbe cumulée\n",
    "# plt.figure(figsize=(10, 6))\n",
    "# sns.ecdfplot(df['Age_Group'], color='purple')\n",
    "\n",
    "# Generate heatmap\n",
    "# corr_matrix = df.corr()\n",
    "# sns.heatmap(corr_matrix, annot=True, cmap='coolwarm', square=True)\n",
    "\n",
    "# Plotting violin plots for selected features\n",
    "# for feature in selected_features:\n",
    "#     plt.figure(figsize=(8, 6))\n",
    "#     sns.violinplot(x='Survival_Status', y=feature, data=df, hue='Survival_Status', palette='Blues', inner='quartile', legend=False)\n",
    "#     plt.title(f'Violin Plot for {feature} by Survival Status')\n",
    "#     plt.xlabel('Survival Status')\n",
    "#     plt.ylabel(feature)\n",
    "#     plt.show()\n",
    "\n",
    "# sns.pairplot(df, hue='Survival_Status')\n",
    "\n",
    "# plt.figure(figsize=(7, 6))\n",
    "# sns.scatterplot(x='Tumor_Size', y='Positive_Axillary_Nodes', data=df, hue='Survival_Status', palette='pastel')\n",
    "\n",
    "# sns.jointplot(x='Age', y='Positive_Axillary_Nodes', data=df,color='lightblue')\n",
    "# plt.show()\n",
    "\n",
    "# sns.jointplot(x = 'patient_age',  y = 'operation_year' , data = df,  kind = 'kde', fill = True)\n",
    "# plt.show()\n"
   ]
  },
  {
   "cell_type": "markdown",
   "metadata": {},
   "source": [
    "Vérifier count, si il manque des valeurs etc."
   ]
  },
  {
   "cell_type": "markdown",
   "metadata": {},
   "source": [
    "### Step 1.4 - Separate Target from feature variables\n"
   ]
  },
  {
   "cell_type": "code",
   "execution_count": 123,
   "metadata": {},
   "outputs": [],
   "source": [
    "features_list = [\"Country\", \"YearsExperience\"]\n",
    "X = df.loc[:,features_list] # Create an X dataframe as a subset of df with the columns of features_list\n",
    "y = df.loc[:,\"Salary\"]      # We set \"Salary\" as the target variable\n",
    "# print(X.head())\n",
    "# print(y.head())"
   ]
  },
  {
   "cell_type": "markdown",
   "metadata": {},
   "source": [
    "### Step 1.4 - Train / Test split "
   ]
  },
  {
   "cell_type": "code",
   "execution_count": 124,
   "metadata": {},
   "outputs": [],
   "source": [
    "# pas de stratify \n",
    "# si stratify = y       # Allows you to stratify your sample. \n",
    "                        # Meaning, you will have the same proportion of categories in test and train set\n",
    "# test_size=0.2 is completely arbitrary.  \n",
    "X_train, X_test, y_train, y_test = train_test_split(X, y, \n",
    "                                                    test_size=0.2, \n",
    "                                                    random_state=0)  \n",
    "                                                    # No stratify because y is not a set of categories"
   ]
  },
  {
   "cell_type": "markdown",
   "metadata": {},
   "source": [
    "### Step 1.5 - Cleaning \n",
    "1. Remplace missing values - SimpleImputer avec strategy='mean' pour valeurs numériques ou strategy='mode' si il manque des données catégorielles\n",
    "1. Standardize numerical features + One hot encode categorical variables\n",
    "1. If y is discrete => Encode labels of y"
   ]
  },
  {
   "cell_type": "code",
   "execution_count": 125,
   "metadata": {},
   "outputs": [
    {
     "name": "stdout",
     "output_type": "stream",
     "text": [
      "[[ 0.          0.          1.          1.75832984]\n",
      " [ 0.          0.          1.         -0.40973925]\n",
      " [ 0.          0.          1.          0.09356251]\n",
      " [ 1.          0.          0.          1.10016601]\n",
      " [ 0.          0.          1.         -0.83560996]]\n"
     ]
    }
   ],
   "source": [
    "# num_features_idx va contenir les index des colonnes de type numérique \n",
    "# num_features_idx = [1] \n",
    "num_features_idx = X.select_dtypes(exclude=\"object\").columns.to_list()\n",
    "num_features_idx = X.columns.get_indexer(num_features_idx)\n",
    "# print (*num_features_idx)\n",
    "\n",
    "# cat_features_idx va contenir les index des colonnes de type chaine \n",
    "# cat_features_idx = [0] \n",
    "cat_features_idx = X.select_dtypes(include=\"object\").columns.to_list()\n",
    "cat_features_idx = X.columns.get_indexer(cat_features_idx)\n",
    "# print (*cat_features_idx)\n",
    "\n",
    "# In this case, no need to Replace missing values\n",
    "# imputer = SimpleImputer(strategy=\"mean\")\n",
    "# X_train.iloc[:,[1,2]] = imputer.fit_transform(X_train.iloc[:,[1,2]])\n",
    "# categorical_imputer = SimpleImputer(strategy=\"constant\", fill_value=\"Unknown\")\n",
    "\n",
    "# Standardize numerical features + One hot encode categorical variables\n",
    "numeric_transformer = StandardScaler()\n",
    "categorical_transformer = OneHotEncoder()                 # ! On ne fait pas drop=\"first\"\n",
    "# categorical_transformer = OneHotEncoder(drop='first')   # supprimer la 1ere catégorie\n",
    "                                                          # pas toujours obligé de le faire\n",
    "\n",
    "feature_encoder = ColumnTransformer(\n",
    "  transformers=[\n",
    "    ('cat', categorical_transformer, cat_features_idx),    \n",
    "    ('num', numeric_transformer, num_features_idx)\n",
    "  ]\n",
    ")\n",
    "\n",
    "X_train = feature_encoder.fit_transform(X_train)\n",
    "print(X_train[0:5,:])                                   # print first 5 rows (not using iloc since X_train is now a numpy array)\n",
    "                                                        # ! X_train became a numpy array\n",
    "                                                        # bob = pd.DataFrame(X_train, columns=[\"Code 1\", \"Code 2\", \"Code 3\", \"Years\"])\n",
    "                                                        # print(bob)\n",
    "\n",
    "# In this case, no need to Encode labels of y \n",
    "# because it is a float value and not a category\n",
    "# labelencoder = LabelEncoder()    \n",
    "# y_train = labelencoder.fit_transform(y_train)"
   ]
  },
  {
   "attachments": {},
   "cell_type": "markdown",
   "metadata": {},
   "source": [
    "## Step 2 - Build the model"
   ]
  },
  {
   "cell_type": "markdown",
   "metadata": {},
   "source": [
    "### 2.1 Select and train a model"
   ]
  },
  {
   "cell_type": "code",
   "execution_count": 126,
   "metadata": {},
   "outputs": [
    {
     "data": {
      "text/html": [
       "<style>#sk-container-id-4 {color: black;}#sk-container-id-4 pre{padding: 0;}#sk-container-id-4 div.sk-toggleable {background-color: white;}#sk-container-id-4 label.sk-toggleable__label {cursor: pointer;display: block;width: 100%;margin-bottom: 0;padding: 0.3em;box-sizing: border-box;text-align: center;}#sk-container-id-4 label.sk-toggleable__label-arrow:before {content: \"▸\";float: left;margin-right: 0.25em;color: #696969;}#sk-container-id-4 label.sk-toggleable__label-arrow:hover:before {color: black;}#sk-container-id-4 div.sk-estimator:hover label.sk-toggleable__label-arrow:before {color: black;}#sk-container-id-4 div.sk-toggleable__content {max-height: 0;max-width: 0;overflow: hidden;text-align: left;background-color: #f0f8ff;}#sk-container-id-4 div.sk-toggleable__content pre {margin: 0.2em;color: black;border-radius: 0.25em;background-color: #f0f8ff;}#sk-container-id-4 input.sk-toggleable__control:checked~div.sk-toggleable__content {max-height: 200px;max-width: 100%;overflow: auto;}#sk-container-id-4 input.sk-toggleable__control:checked~label.sk-toggleable__label-arrow:before {content: \"▾\";}#sk-container-id-4 div.sk-estimator input.sk-toggleable__control:checked~label.sk-toggleable__label {background-color: #d4ebff;}#sk-container-id-4 div.sk-label input.sk-toggleable__control:checked~label.sk-toggleable__label {background-color: #d4ebff;}#sk-container-id-4 input.sk-hidden--visually {border: 0;clip: rect(1px 1px 1px 1px);clip: rect(1px, 1px, 1px, 1px);height: 1px;margin: -1px;overflow: hidden;padding: 0;position: absolute;width: 1px;}#sk-container-id-4 div.sk-estimator {font-family: monospace;background-color: #f0f8ff;border: 1px dotted black;border-radius: 0.25em;box-sizing: border-box;margin-bottom: 0.5em;}#sk-container-id-4 div.sk-estimator:hover {background-color: #d4ebff;}#sk-container-id-4 div.sk-parallel-item::after {content: \"\";width: 100%;border-bottom: 1px solid gray;flex-grow: 1;}#sk-container-id-4 div.sk-label:hover label.sk-toggleable__label {background-color: #d4ebff;}#sk-container-id-4 div.sk-serial::before {content: \"\";position: absolute;border-left: 1px solid gray;box-sizing: border-box;top: 0;bottom: 0;left: 50%;z-index: 0;}#sk-container-id-4 div.sk-serial {display: flex;flex-direction: column;align-items: center;background-color: white;padding-right: 0.2em;padding-left: 0.2em;position: relative;}#sk-container-id-4 div.sk-item {position: relative;z-index: 1;}#sk-container-id-4 div.sk-parallel {display: flex;align-items: stretch;justify-content: center;background-color: white;position: relative;}#sk-container-id-4 div.sk-item::before, #sk-container-id-4 div.sk-parallel-item::before {content: \"\";position: absolute;border-left: 1px solid gray;box-sizing: border-box;top: 0;bottom: 0;left: 50%;z-index: -1;}#sk-container-id-4 div.sk-parallel-item {display: flex;flex-direction: column;z-index: 1;position: relative;background-color: white;}#sk-container-id-4 div.sk-parallel-item:first-child::after {align-self: flex-end;width: 50%;}#sk-container-id-4 div.sk-parallel-item:last-child::after {align-self: flex-start;width: 50%;}#sk-container-id-4 div.sk-parallel-item:only-child::after {width: 0;}#sk-container-id-4 div.sk-dashed-wrapped {border: 1px dashed gray;margin: 0 0.4em 0.5em 0.4em;box-sizing: border-box;padding-bottom: 0.4em;background-color: white;}#sk-container-id-4 div.sk-label label {font-family: monospace;font-weight: bold;display: inline-block;line-height: 1.2em;}#sk-container-id-4 div.sk-label-container {text-align: center;}#sk-container-id-4 div.sk-container {/* jupyter's `normalize.less` sets `[hidden] { display: none; }` but bootstrap.min.css set `[hidden] { display: none !important; }` so we also need the `!important` here to be able to override the default hidden behavior on the sphinx rendered scikit-learn.org. See: https://github.com/scikit-learn/scikit-learn/issues/21755 */display: inline-block !important;position: relative;}#sk-container-id-4 div.sk-text-repr-fallback {display: none;}</style><div id=\"sk-container-id-4\" class=\"sk-top-container\"><div class=\"sk-text-repr-fallback\"><pre>LinearRegression()</pre><b>In a Jupyter environment, please rerun this cell to show the HTML representation or trust the notebook. <br />On GitHub, the HTML representation is unable to render, please try loading this page with nbviewer.org.</b></div><div class=\"sk-container\" hidden><div class=\"sk-item\"><div class=\"sk-estimator sk-toggleable\"><input class=\"sk-toggleable__control sk-hidden--visually\" id=\"sk-estimator-id-4\" type=\"checkbox\" checked><label for=\"sk-estimator-id-4\" class=\"sk-toggleable__label sk-toggleable__label-arrow\">LinearRegression</label><div class=\"sk-toggleable__content\"><pre>LinearRegression()</pre></div></div></div></div></div>"
      ],
      "text/plain": [
       "LinearRegression()"
      ]
     },
     "execution_count": 126,
     "metadata": {},
     "output_type": "execute_result"
    }
   ],
   "source": [
    "regressor = LinearRegression()\n",
    "regressor.fit(X_train, y_train)                  # This steps is the actual training !"
   ]
  },
  {
   "attachments": {},
   "cell_type": "markdown",
   "metadata": {},
   "source": [
    "### 2.2 Apply model on train set"
   ]
  },
  {
   "cell_type": "code",
   "execution_count": 127,
   "metadata": {},
   "outputs": [],
   "source": [
    "y_train_pred = regressor.predict(X_train)\n",
    "# print(y_train_pred[:5])                         # print first 5 rows\n",
    "                                                  # ! y_train became a numpy array"
   ]
  },
  {
   "cell_type": "code",
   "execution_count": 128,
   "metadata": {},
   "outputs": [
    {
     "data": {
      "image/png": "[encoded data removed]",
      "text/plain": [
       "<Figure size 640x480 with 1 Axes>"
      ]
     },
     "metadata": {},
     "output_type": "display_data"
    }
   ],
   "source": [
    "\n",
    "# ! On triche un peu là\n",
    "# On affiche \"y\" uniquement en fonction de \"Years Of experience\" (X_train[:,3])\n",
    "# On affiche pas \"y\" en fonctions des 3 features \"Years Of experience\"\n",
    "fig, ax = plt.subplots()\n",
    "ax.set_title(\"y_train & y_train_pred vs X_train\")\n",
    "ax.set_xlabel(\"Xtrain\")\n",
    "ax.set_ylabel(\"y_train, y_test_pred\")\n",
    "\n",
    "\n",
    "_ = ax.scatter(X_train[:,3], y_train)\n",
    "_ = ax.scatter(X_train[:,3], y_train_pred, c=\"red\")\n",
    "\n",
    "_ = ax.legend(('y_train', 'y_train_pred'))\n"
   ]
  },
  {
   "attachments": {},
   "cell_type": "markdown",
   "metadata": {},
   "source": [
    "### 2.3 Apply model on test set"
   ]
  },
  {
   "cell_type": "code",
   "execution_count": 129,
   "metadata": {},
   "outputs": [],
   "source": [
    "# Process test set data\n",
    " \n",
    "\n",
    "# 1.5 - No missing values => No imputer.transform...\n",
    "\n",
    "# 1.5 - Encoding categorical features and standardizing numeric features\n",
    "X_test = feature_encoder.transform(X_test)\n",
    "\n",
    "# 1.5 - No need to encode y labels"
   ]
  },
  {
   "cell_type": "code",
   "execution_count": 130,
   "metadata": {},
   "outputs": [],
   "source": [
    "# Predictions on test set\n",
    "# cf 2.1 above\n",
    "y_test_pred = regressor.predict(X_test)\n",
    "# print(y_test_pred[:5])"
   ]
  },
  {
   "cell_type": "code",
   "execution_count": 131,
   "metadata": {},
   "outputs": [
    {
     "data": {
      "image/png": "[encoded data removed]",
      "text/plain": [
       "<Figure size 640x480 with 1 Axes>"
      ]
     },
     "metadata": {},
     "output_type": "display_data"
    }
   ],
   "source": [
    "fig, ax = plt.subplots()\n",
    "ax.set_title(\"y_test & y_test_pred vs X_test\")\n",
    "ax.set_xlabel(\"Xtest\")\n",
    "ax.set_ylabel(\"y_test, y_test_pred\")\n",
    "ax.scatter(X_test[:,3], y_test)\n",
    "ax.scatter(X_test[:,3], y_test_pred, c=\"red\")\n",
    "_ = ax.legend(('y_train', 'y_train_pred'))"
   ]
  },
  {
   "attachments": {},
   "cell_type": "markdown",
   "metadata": {},
   "source": [
    "## Step 3 - Evaluate the model"
   ]
  },
  {
   "cell_type": "code",
   "execution_count": 132,
   "metadata": {},
   "outputs": [
    {
     "name": "stdout",
     "output_type": "stream",
     "text": [
      "R² score on training set : 0.947\n",
      "R² score on test set     : 0.989\n"
     ]
    }
   ],
   "source": [
    "# C'est bien X_train et y_train. \n",
    "# score() n'a pas besoin de y_train_pred car il peut les recalculer \n",
    "# Il a déjà en mémoire les 'a' et 'b' dont il a besoin \n",
    "\n",
    "# TODO : R² adjust\n",
    "# Print R² scores\n",
    "print(f\"R² score on training set : {regressor.score(X_train, y_train):.3f}\")\n",
    "print(f\"R² score on test set     : {regressor.score(X_test, y_test):.3f}\")"
   ]
  },
  {
   "attachments": {},
   "cell_type": "markdown",
   "metadata": {},
   "source": [
    "* $R^2$ close to 1 means good performance \n",
    "* $R^2_{train}$ > $R^2_{test}$ means overfitting \n",
    "* $R^2_{train}$ < $R^2_{test}$ means underfitting \n",
    "\n",
    "### Remarques\n",
    "1. Si on est en overfitting on peut : simplifier le modèle, lui imposer des contraintes, plus de données\n",
    "2. Tester d'autres modèles\n",
    "  * LinearRegression\n",
    "  * DecisionTreeRegressor\n",
    "  * Validation croisée avec K-fold cross-validation. cross_val_score()\n",
    "  * RandomForestRegressor(). Ensemble learning.\n",
    "  * Differents SVM (kernel lenear par exemple)\n"
   ]
  },
  {
   "attachments": {},
   "cell_type": "markdown",
   "metadata": {},
   "source": [
    "## Step 4 - Features importance\n",
    "If you want to interpret coefficients, make sure you `NORMALIZED` your data in the preprocessing part"
   ]
  },
  {
   "cell_type": "code",
   "execution_count": 133,
   "metadata": {},
   "outputs": [
    {
     "name": "stdout",
     "output_type": "stream",
     "text": [
      "('cat', OneHotEncoder(), array([0], dtype=int64))\n",
      "OneHotEncoder()\n",
      "[array(['France', 'Germany', 'United-Kingdom'], dtype=object)]\n"
     ]
    }
   ],
   "source": [
    "# Pour comprendre la ligne \n",
    "# categorical_column_names = feature_encoder.transformers_[0][1].categories_\n",
    "\n",
    "# print(feature_encoder.transformers_[0])\n",
    "# print(feature_encoder.transformers_[0][1])\n",
    "# print(feature_encoder.transformers_[0][1].categories_)"
   ]
  },
  {
   "cell_type": "code",
   "execution_count": 139,
   "metadata": {},
   "outputs": [
    {
     "name": "stdout",
     "output_type": "stream",
     "text": [
      "Numerical        : ['YearsExperience']\n",
      "Categories       : [array(['France', 'Germany', 'United-Kingdom'], dtype=object)]\n",
      "all_column_names : ['France' 'Germany' 'United-Kingdom' 'YearsExperience']\n",
      "     feature_names  coefficients\n",
      "0           France   -290.803965\n",
      "1          Germany  -2182.158187\n",
      "2   United-Kingdom   2472.962152\n",
      "3  YearsExperience  23904.202892\n",
      "Constant is      :  73498.28163844894\n"
     ]
    }
   ],
   "source": [
    "\n",
    "# TODO : voir si on peut simplifier le code\n",
    "\n",
    "numerical_column_names = X.select_dtypes(exclude=\"object\").columns.to_list()\n",
    "print(\"Numerical        :\", numerical_column_names)\n",
    "\n",
    "categorical_column_names = feature_encoder.transformers_[0][1].categories_\n",
    "print(\"Categories       :\", categorical_column_names)\n",
    "\n",
    "all_column_names = np.append(categorical_column_names, numerical_column_names)\n",
    "print(\"all_column_names :\", all_column_names)\n",
    "\n",
    "feature_importance = pd.DataFrame({\n",
    "    \"feature_names\": all_column_names,\n",
    "    \"coefficients\" : regressor.coef_\n",
    "})\n",
    "print(feature_importance)\n",
    "print(\"Constant is      : \", regressor.intercept_)"
   ]
  },
  {
   "attachments": {},
   "cell_type": "markdown",
   "metadata": {},
   "source": [
    "$y=23904\\times YearsExperience + 2472 \\times UK - 2182 \\times GE  -290\\times FR + 73498$"
   ]
  },
  {
   "cell_type": "code",
   "execution_count": 135,
   "metadata": {},
   "outputs": [],
   "source": [
    "\n",
    "# TODO : faire en sorte de générer l'équation mais avec les valeurs des variables\n",
    "\n",
    "from IPython.display import Latex\n",
    "\n",
    "# feature0 = feature_importance.loc[0, \"feature_names\"]\n",
    "# coef0 = feature_importance.loc[0, \"coefficients\"].round(2)\n",
    "\n",
    "# feature1 = feature_importance.loc[1, \"feature_names\"]\n",
    "# coef1 = feature_importance.loc[1, \"coefficients\"].round(2)\n",
    "\n",
    "# feature2 = feature_importance.loc[2, \"feature_names\"]\n",
    "# coef2 = feature_importance.loc[2, \"coefficients\"].round(2)\n",
    "\n",
    "# constant = classifier.intercept_[0].round(2)\n",
    "\n",
    "\n",
    "# $y=23904\\times YearsExperience + 2472 \\times UK - 2182 \\times GE  -290\\times FR + 73498$\n",
    "\n",
    "# Latex(f\"\"\"\\\\begin{{equation*}}\n",
    "# y = \\\\frac{1}{{1 + e^{{   {coef0}*{feature0}  + {coef1}*{feature1}  + {coef2}*{feature2}  + {constant}   }}                      }}\n",
    "# \\\\end{{equation*}}\n",
    "# \"\"\")"
   ]
  },
  {
   "cell_type": "code",
   "execution_count": 136,
   "metadata": {},
   "outputs": [
    {
     "data": {
      "image/png": "[encoded data removed]",
      "text/plain": [
       "<Figure size 640x480 with 1 Axes>"
      ]
     },
     "metadata": {},
     "output_type": "display_data"
    }
   ],
   "source": [
    "_ = feature_importance.sort_values(by=\"coefficients\", ascending=False).plot(kind=\"bar\", x=\"feature_names\") # , figsize=(16*.65, 9*.65)\n",
    "_ = plt.xticks(rotation=0)\n"
   ]
  }
 ],
 "metadata": {
  "interpreter": {
   "hash": "216d08ced86f1f6e0b5764233bcb18334be12ba95b6ee555f60be9cf0be8c147"
  },
  "kernelspec": {
   "display_name": "Python 3",
   "language": "python",
   "name": "python3"
  },
  "language_info": {
   "codemirror_mode": {
    "name": "ipython",
    "version": 3
   },
   "file_extension": ".py",
   "mimetype": "text/x-python",
   "name": "python",
   "nbconvert_exporter": "python",
   "pygments_lexer": "ipython3",
   "version": "3.11.7"
  }
 },
 "nbformat": 4,
 "nbformat_minor": 4
}
