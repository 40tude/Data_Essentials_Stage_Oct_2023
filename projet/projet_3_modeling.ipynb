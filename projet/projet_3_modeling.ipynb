{
 "cells": [
  {
   "cell_type": "code",
   "execution_count": 1,
   "metadata": {},
   "outputs": [],
   "source": [
    "import pandas as pd\n",
    "from sklearn.model_selection import train_test_split\n",
    "from sklearn.preprocessing import StandardScaler, OneHotEncoder\n",
    "from sklearn.compose import ColumnTransformer\n",
    "from sklearn.linear_model import LinearRegression\n",
    "import seaborn as sns\n",
    "import numpy as np \n",
    "# import matplotlib.pyplot as plt"
   ]
  },
  {
   "cell_type": "markdown",
   "metadata": {},
   "source": [
    "## Step 1 - Preprocessing"
   ]
  },
  {
   "cell_type": "code",
   "execution_count": 2,
   "metadata": {},
   "outputs": [
    {
     "data": {
      "text/plain": [
       "JobTitle             object\n",
       "BasePay             float64\n",
       "OvertimePay         float64\n",
       "OtherPay            float64\n",
       "Benefits            float64\n",
       "TotalPay            float64\n",
       "PensionDebt         float64\n",
       "TotalPayBenefits    float64\n",
       "Year                  int64\n",
       "dtype: object"
      ]
     },
     "execution_count": 2,
     "metadata": {},
     "output_type": "execute_result"
    }
   ],
   "source": [
    "# Import & visualize dataset\n",
    "df = pd.read_csv(\"./assets/data_warehouse/salaries_4_model.csv\", delimiter=\";\", decimal=\",\")\n",
    "df.head() \n",
    "df.dtypes"
   ]
  },
  {
   "cell_type": "code",
   "execution_count": 3,
   "metadata": {},
   "outputs": [
    {
     "name": "stdout",
     "output_type": "stream",
     "text": [
      "(478960, 9)\n",
      "                JobTitle        BasePay    OvertimePay       OtherPay  \\\n",
      "count             478960  478960.000000  478960.000000  478960.000000   \n",
      "unique              1810            NaN            NaN            NaN   \n",
      "top     TRANSIT OPERATOR            NaN            NaN            NaN   \n",
      "freq               31262            NaN            NaN            NaN   \n",
      "mean                 NaN   75469.817047    6449.248849    3725.357381   \n",
      "std                  NaN   49744.859572   14962.917669    7673.620109   \n",
      "min                  NaN   -9942.330000  -22453.280000   -7058.590000   \n",
      "25%                  NaN   39682.085000       0.000000       0.000000   \n",
      "50%                  NaN   73161.025000       4.000000     776.800000   \n",
      "75%                  NaN  107167.102500    5801.395000    4312.050000   \n",
      "max                  NaN  620352.770000  374502.760000  400184.250000   \n",
      "\n",
      "             Benefits       TotalPay    PensionDebt  TotalPayBenefits  \\\n",
      "count   478960.000000  478960.000000  478960.000000     478960.000000   \n",
      "unique            NaN            NaN            NaN               NaN   \n",
      "top               NaN            NaN            NaN               NaN   \n",
      "freq              NaN            NaN            NaN               NaN   \n",
      "mean     25047.555482   85644.423277     116.728785     110808.707544   \n",
      "std      17586.150048   58617.365928     839.172745      73828.224499   \n",
      "min     -13939.420000    -618.130000      -1.140000      -3628.780000   \n",
      "25%       5883.845000   43499.947500       0.000000      55179.427500   \n",
      "50%      29050.940000   81116.020000       0.000000     108797.740000   \n",
      "75%      36926.007500  120376.735000       0.000000     155681.512500   \n",
      "max     189815.970000  620352.770000   27012.730000     763320.580000   \n",
      "\n",
      "                 Year  \n",
      "count   478960.000000  \n",
      "unique            NaN  \n",
      "top               NaN  \n",
      "freq              NaN  \n",
      "mean      2016.649701  \n",
      "std          3.404724  \n",
      "min       2011.000000  \n",
      "25%       2014.000000  \n",
      "50%       2017.000000  \n",
      "75%       2020.000000  \n",
      "max       2022.000000  \n"
     ]
    }
   ],
   "source": [
    "# Print the shape of dataset in the form of (#rows, #columns)\n",
    "print(df.shape)\n",
    "\n",
    "# Describe dataset's main statistics\n",
    "print(df.describe(include=\"all\"))"
   ]
  },
  {
   "cell_type": "code",
   "execution_count": 4,
   "metadata": {},
   "outputs": [
    {
     "name": "stdout",
     "output_type": "stream",
     "text": [
      "Separating target variable from features...\n",
      "...Done.\n",
      "\n"
     ]
    }
   ],
   "source": [
    "# Separate target variable Y from features X\n",
    "print(\"Separating target variable from features...\")\n",
    "\n",
    "## Choose the columns you want to have as your features\n",
    "features_list = [\"BasePay\", \"OvertimePay\", \"OtherPay\", \"Benefits\", \"TotalPay\", \"PensionDebt\", \"Year\" ]\n",
    "\n",
    "X = df.loc[:,features_list] # We add feature_list into our loc \n",
    "y = df.loc[:,\"TotalPayBenefits\"] # We set \"Salary\" as the target variable\n",
    "\n",
    "print(\"...Done.\")\n",
    "print()"
   ]
  },
  {
   "cell_type": "code",
   "execution_count": 5,
   "metadata": {},
   "outputs": [
    {
     "name": "stdout",
     "output_type": "stream",
     "text": [
      "Splitting dataset into train set and test set...\n",
      "...Done.\n"
     ]
    }
   ],
   "source": [
    "# Divide dataset Train set & Test set \n",
    "\n",
    "print(\"Splitting dataset into train set and test set...\")\n",
    "X_train, X_test, y_train, y_test = train_test_split(X, y, \n",
    "                                                    test_size=0.2, \n",
    "                                                    random_state=0)\n",
    "\n",
    "print(\"...Done.\")                                                                "
   ]
  },
  {
   "cell_type": "code",
   "execution_count": 6,
   "metadata": {},
   "outputs": [
    {
     "name": "stdout",
     "output_type": "stream",
     "text": [
      "--- Training pipeline ---\n",
      "\n",
      "#### X_train BEFORE preprocessing ####\n",
      "         BasePay  OvertimePay  OtherPay  Benefits  TotalPay  PensionDebt  Year\n",
      "289726  71328.16     15650.72   2543.84  30778.05  89522.72          0.0  2018\n",
      "160804  98157.00         0.00      0.00  33009.30  98157.00          0.0  2015\n",
      "173377  56531.00      2301.41     11.95  24677.75  58844.36          0.0  2015\n",
      "389594  45358.57         0.00   1308.93  19768.30  46667.50          0.0  2020\n",
      "376387  93876.04      1856.81    474.11  35728.29  96206.96          0.0  2020\n",
      "\n",
      "Encoding categorical features and standardizing numerical features...\n",
      "...Done.\n",
      "#### X_train AFTER preprocessing ####\n",
      "[[ 0.          0.          0.          0.          0.          0.\n",
      "   0.          1.          0.          0.          0.          0.\n",
      "  -0.08363194  0.61619692 -0.15355708  0.32512468  0.06603006 -0.13890619]\n",
      " [ 0.          0.          0.          0.          1.          0.\n",
      "   0.          0.          0.          0.          0.          0.\n",
      "   0.45532299 -0.43051736 -0.48521632  0.45189238  0.21324996 -0.13890619]\n",
      " [ 0.          0.          0.          0.          1.          0.\n",
      "   0.          0.          0.          0.          0.          0.\n",
      "  -0.38088677 -0.27659992 -0.48365831 -0.02146177 -0.45705529 -0.13890619]\n",
      " [ 0.          0.          0.          0.          0.          0.\n",
      "   0.          0.          0.          1.          0.          0.\n",
      "  -0.6053257  -0.43051736 -0.31456143 -0.30039049 -0.66467842 -0.13890619]\n",
      " [ 0.          0.          0.          0.          0.          0.\n",
      "   0.          0.          0.          1.          0.          0.\n",
      "   0.36932432 -0.3063346  -0.42340309  0.60637086  0.18000055 -0.13890619]]\n",
      "\n"
     ]
    }
   ],
   "source": [
    "### Training pipeline ###\n",
    "print(\"--- Training pipeline ---\")\n",
    "print()  \n",
    "\n",
    "\n",
    "print(\"#### X_train BEFORE preprocessing ####\")\n",
    "print(X_train.head())\n",
    "print()\n",
    "\n",
    "print(\"Encoding categorical features and standardizing numerical features...\")\n",
    "## StandardScaler to scale data (i.e apply Z-score)\n",
    "## OneHotEncoder to encode categorical variables\n",
    "\n",
    "\n",
    "numeric_features = [0,1,2,3,4,5]           # Choose which column index we are going to scale\n",
    "numeric_transformer = StandardScaler()\n",
    "\n",
    "categorical_features = [6] \n",
    "categorical_transformer = OneHotEncoder()\n",
    "\n",
    "\n",
    "# Apply ColumnTransformer to create a pipeline that will apply the above preprocessing\n",
    "feature_encoder = ColumnTransformer(\n",
    "    transformers=[\n",
    "        ('cat', categorical_transformer, categorical_features),    \n",
    "        ('num', numeric_transformer, numeric_features)\n",
    "        ]\n",
    "    )\n",
    "\n",
    "X_train = feature_encoder.fit_transform(X_train)\n",
    "print(\"...Done.\")\n",
    "print(\"#### X_train AFTER preprocessing ####\")\n",
    "print(X_train[0:5,:]) # print first 5 rows (not using iloc since now X_train became a numpy array)\n",
    "print()"
   ]
  },
  {
   "attachments": {},
   "cell_type": "markdown",
   "metadata": {},
   "source": [
    "## Step 2 - Build the model\n"
   ]
  },
  {
   "cell_type": "code",
   "execution_count": 7,
   "metadata": {},
   "outputs": [
    {
     "name": "stdout",
     "output_type": "stream",
     "text": [
      "Train model...\n",
      "...Done.\n"
     ]
    }
   ],
   "source": [
    "# Train model\n",
    "print(\"Train model...\")\n",
    "regressor = LinearRegression()\n",
    "regressor.fit(X_train, y_train) # This steps is the actual training !\n",
    "print(\"...Done.\")"
   ]
  },
  {
   "attachments": {},
   "cell_type": "markdown",
   "metadata": {},
   "source": [
    "Let's now test our model and see its predictions "
   ]
  },
  {
   "cell_type": "code",
   "execution_count": 8,
   "metadata": {},
   "outputs": [
    {
     "name": "stdout",
     "output_type": "stream",
     "text": [
      "Predictions on training set...\n",
      "...Done.\n",
      "[120300.77 131166.3   83522.11  66435.8  131935.25]\n",
      "\n"
     ]
    }
   ],
   "source": [
    "# Predictions on training set\n",
    "print(\"Predictions on training set...\")\n",
    "y_train_pred = regressor.predict(X_train)\n",
    "print(\"...Done.\")\n",
    "print(y_train_pred[:5]) # print first 5 rows (not using iloc since now y_train became a numpy array)\n",
    "print()"
   ]
  },
  {
   "attachments": {},
   "cell_type": "markdown",
   "metadata": {},
   "source": [
    "Apply the exact same process on the test set and compare performances. "
   ]
  },
  {
   "cell_type": "code",
   "execution_count": 9,
   "metadata": {},
   "outputs": [
    {
     "name": "stdout",
     "output_type": "stream",
     "text": [
      "--- Testing pipeline ---\n",
      "Standardizing numerical features...\n",
      "          BasePay  OvertimePay  OtherPay  Benefits   TotalPay  PensionDebt  \\\n",
      "257122   54560.25      3292.03   5744.44  20238.56   63596.72         0.00   \n",
      "472714   19206.00       960.30    937.02   6643.12   21103.32         0.00   \n",
      "87613    67041.00     11850.06   8902.75  28707.76   87793.81         0.00   \n",
      "46601    95935.80        35.41    360.00  38280.06   96331.21         0.00   \n",
      "216931   42575.09      1851.63   3827.45  21724.80   48254.17         0.00   \n",
      "...           ...          ...       ...       ...        ...          ...   \n",
      "8374    105489.01         0.00      0.00      0.00  105489.01         0.00   \n",
      "403458  118299.97     33302.37  25517.74  48773.73  177120.08      5348.83   \n",
      "233219  151587.33         0.00      0.00  47360.09  151587.33         0.00   \n",
      "420405   71411.45     17099.86   4001.45  33351.19   92512.76         0.00   \n",
      "66298    17085.00         0.00      0.00   6909.10   17085.00         0.00   \n",
      "\n",
      "        Year  \n",
      "257122  2017  \n",
      "472714  2022  \n",
      "87613   2013  \n",
      "46601   2012  \n",
      "216931  2016  \n",
      "...      ...  \n",
      "8374    2011  \n",
      "403458  2021  \n",
      "233219  2017  \n",
      "420405  2021  \n",
      "66298   2012  \n",
      "\n",
      "[95792 rows x 7 columns]\n",
      "\n",
      "...Done.\n",
      "[[ 0.          0.          0.          0.          0.          0.\n",
      "   1.          0.          0.          0.          0.          0.\n",
      "  -0.42047645 -0.21034763  0.26372882 -0.27367283 -0.37602456 -0.13890619]\n",
      " [ 0.          0.          0.          0.          0.          0.\n",
      "   0.          0.          0.          0.          0.          1.\n",
      "  -1.13069528 -0.36629286 -0.36305009 -1.04609308 -1.10056378 -0.13890619]\n",
      " [ 0.          0.          1.          0.          0.          0.\n",
      "   0.          0.          0.          0.          0.          0.\n",
      "  -0.16975515  0.36201021  0.67550105  0.20750186  0.03655105 -0.13890619]\n",
      " [ 0.          1.          0.          0.          0.          0.\n",
      "   0.          0.          0.          0.          0.          0.\n",
      "   0.4107021  -0.42814915 -0.43828045  0.7513488   0.1821191  -0.13890619]\n",
      " [ 0.          0.          0.          0.          0.          1.\n",
      "   0.          0.          0.          0.          0.          0.\n",
      "  -0.66124203 -0.30668104  0.01379665 -0.18923261 -0.6376247  -0.13890619]]\n",
      "\n"
     ]
    }
   ],
   "source": [
    "### Testing pipeline ###\n",
    "print(\"--- Testing pipeline ---\")\n",
    "\n",
    "# Standardizing numeric features\n",
    "print(\"Standardizing numerical features...\")\n",
    "print(X_test)\n",
    "print()\n",
    "\n",
    "X_test = feature_encoder.transform(X_test)\n",
    "\n",
    "print(\"...Done.\")\n",
    "print(X_test[:5]) # print first 5 rows (not using iloc since now X_test became a numpy array)\n",
    "print()"
   ]
  },
  {
   "cell_type": "code",
   "execution_count": 10,
   "metadata": {},
   "outputs": [
    {
     "name": "stdout",
     "output_type": "stream",
     "text": [
      "Predictions on test set...\n",
      "...Done.\n",
      "[ 83835.28  27746.44 116501.57 134611.27  69978.97]\n",
      "\n"
     ]
    }
   ],
   "source": [
    "# Predictions on test set\n",
    "print(\"Predictions on test set...\")\n",
    "y_test_pred = regressor.predict(X_test)\n",
    "print(\"...Done.\")\n",
    "print(y_test_pred[:5])\n",
    "print()"
   ]
  },
  {
   "attachments": {},
   "cell_type": "markdown",
   "metadata": {},
   "source": [
    "## Step 3 - Evaluate the model"
   ]
  },
  {
   "cell_type": "code",
   "execution_count": 11,
   "metadata": {},
   "outputs": [
    {
     "name": "stdout",
     "output_type": "stream",
     "text": [
      "--- Assessing the performances of the model ---\n",
      "R2 score on training set :  1.0\n",
      "R2 score on test set :  1.0\n"
     ]
    }
   ],
   "source": [
    "# Performance assessment\n",
    "print(\"--- Assessing the performances of the model ---\")\n",
    "\n",
    "# Print R^2 scores\n",
    "print(\"R2 score on training set : \", regressor.score(X_train, y_train))\n",
    "print(\"R2 score on test set : \", regressor.score(X_test, y_test))"
   ]
  },
  {
   "attachments": {},
   "cell_type": "markdown",
   "metadata": {},
   "source": [
    "## Step 4 - Feature importance\n",
    "\n",
    "* Check which features are important\n",
    "* Check out model's coefficients! \n"
   ]
  },
  {
   "cell_type": "code",
   "execution_count": 12,
   "metadata": {},
   "outputs": [
    {
     "name": "stdout",
     "output_type": "stream",
     "text": [
      "coefficients are:  [   4530.98240395    4530.98240395    4530.98240395    4530.98240395\n",
      "    4530.98240395    4530.98240395    4530.98240395    4530.98240395\n",
      "    4530.98240395    4530.98240395    4530.98240395    4530.98240395\n",
      "  284256.96738062   85382.29805889   43798.51253391   17601.09205575\n",
      " -276255.84556142     839.78717435]\n",
      "Constant is:  106291.30231408543\n"
     ]
    }
   ],
   "source": [
    "print(\"coefficients are: \", regressor.coef_) \n",
    "print(\"Constant is: \", regressor.intercept_)"
   ]
  },
  {
   "attachments": {},
   "cell_type": "markdown",
   "metadata": {},
   "source": [
    "Now that we have the coefficients, we need to know which columns are associated with each one. If you look at `X_train` (or `X_test`), here is what you have:"
   ]
  },
  {
   "cell_type": "code",
   "execution_count": 13,
   "metadata": {},
   "outputs": [
    {
     "data": {
      "text/plain": [
       "array([[ 0.        ,  0.        ,  0.        ,  0.        ,  0.        ,\n",
       "         0.        ,  0.        ,  1.        ,  0.        ,  0.        ,\n",
       "         0.        ,  0.        , -0.08363194,  0.61619692, -0.15355708,\n",
       "         0.32512468,  0.06603006, -0.13890619],\n",
       "       [ 0.        ,  0.        ,  0.        ,  0.        ,  1.        ,\n",
       "         0.        ,  0.        ,  0.        ,  0.        ,  0.        ,\n",
       "         0.        ,  0.        ,  0.45532299, -0.43051736, -0.48521632,\n",
       "         0.45189238,  0.21324996, -0.13890619],\n",
       "       [ 0.        ,  0.        ,  0.        ,  0.        ,  1.        ,\n",
       "         0.        ,  0.        ,  0.        ,  0.        ,  0.        ,\n",
       "         0.        ,  0.        , -0.38088677, -0.27659992, -0.48365831,\n",
       "        -0.02146177, -0.45705529, -0.13890619],\n",
       "       [ 0.        ,  0.        ,  0.        ,  0.        ,  0.        ,\n",
       "         0.        ,  0.        ,  0.        ,  0.        ,  1.        ,\n",
       "         0.        ,  0.        , -0.6053257 , -0.43051736, -0.31456143,\n",
       "        -0.30039049, -0.66467842, -0.13890619],\n",
       "       [ 0.        ,  0.        ,  0.        ,  0.        ,  0.        ,\n",
       "         0.        ,  0.        ,  0.        ,  0.        ,  1.        ,\n",
       "         0.        ,  0.        ,  0.36932432, -0.3063346 , -0.42340309,\n",
       "         0.60637086,  0.18000055, -0.13890619]])"
      ]
     },
     "execution_count": 13,
     "metadata": {},
     "output_type": "execute_result"
    }
   ],
   "source": [
    "X_train[:5] # Visualize the first 5 rows of your X_train"
   ]
  },
  {
   "attachments": {},
   "cell_type": "markdown",
   "metadata": {},
   "source": [
    "* Can we show it in a DataFrame? \n",
    "* We need to use the `.categories_` attribute from `OneHotEncoder` \n",
    "* Since we use `ColumnTransformer`, we need to access `OneHotEncoder` using `.transformers_` "
   ]
  },
  {
   "cell_type": "code",
   "execution_count": 14,
   "metadata": {},
   "outputs": [
    {
     "name": "stdout",
     "output_type": "stream",
     "text": [
      "All transformers are:  [('cat', OneHotEncoder(), [6]), ('num', StandardScaler(), [0, 1, 2, 3, 4, 5])]\n",
      "One Hot Encoder transformer is:  OneHotEncoder()\n"
     ]
    }
   ],
   "source": [
    "# Access transformers from feature_encoder\n",
    "print(\"All transformers are: \", feature_encoder.transformers_)\n",
    "\n",
    "# Access one specific transformer\n",
    "print(\"One Hot Encoder transformer is: \", feature_encoder.transformers_[0][1])"
   ]
  },
  {
   "attachments": {},
   "cell_type": "markdown",
   "metadata": {},
   "source": [
    "Now we can simply check the categories"
   ]
  },
  {
   "cell_type": "code",
   "execution_count": 15,
   "metadata": {},
   "outputs": [
    {
     "name": "stdout",
     "output_type": "stream",
     "text": [
      "Categorical columns are:  [array([2011, 2012, 2013, 2014, 2015, 2016, 2017, 2018, 2019, 2020, 2021,\n",
      "       2022], dtype=int64)]\n"
     ]
    }
   ],
   "source": [
    "# Print categories\n",
    "categorical_column_names = feature_encoder.transformers_[0][1].categories_\n",
    "print(\"Categorical columns are: \", categorical_column_names)"
   ]
  },
  {
   "attachments": {},
   "cell_type": "markdown",
   "metadata": {},
   "source": [
    "Now we can concatenate them with the numerical column names. We will use `numeric_features` variable to determine the name of our columns"
   ]
  },
  {
   "cell_type": "code",
   "execution_count": 16,
   "metadata": {},
   "outputs": [
    {
     "name": "stdout",
     "output_type": "stream",
     "text": [
      "numerical columns are:  Index(['BasePay', 'OvertimePay', 'OtherPay', 'Benefits', 'TotalPay',\n",
      "       'PensionDebt'],\n",
      "      dtype='object')\n"
     ]
    }
   ],
   "source": [
    "numerical_column_names = X.iloc[:, numeric_features].columns # using the .columns attribute gives us the name of the column \n",
    "print(\"numerical columns are: \", numerical_column_names)"
   ]
  },
  {
   "attachments": {},
   "cell_type": "markdown",
   "metadata": {},
   "source": [
    "Finally, we need to concatenate our `numerical_column_names` and our `categorical_column_names`. The easiest way to do it is by using [np.append](https://numpy.org/doc/stable/reference/generated/numpy.append.html)"
   ]
  },
  {
   "cell_type": "code",
   "execution_count": 17,
   "metadata": {},
   "outputs": [
    {
     "data": {
      "text/plain": [
       "array([2011, 2012, 2013, 2014, 2015, 2016, 2017, 2018, 2019, 2020, 2021,\n",
       "       2022, 'BasePay', 'OvertimePay', 'OtherPay', 'Benefits', 'TotalPay',\n",
       "       'PensionDebt'], dtype=object)"
      ]
     },
     "execution_count": 17,
     "metadata": {},
     "output_type": "execute_result"
    }
   ],
   "source": [
    "# Append the columns \n",
    "all_column_names = np.append(categorical_column_names, numerical_column_names)\n",
    "all_column_names"
   ]
  },
  {
   "attachments": {},
   "cell_type": "markdown",
   "metadata": {},
   "source": [
    "Rank columns by importance using coefficients"
   ]
  },
  {
   "cell_type": "code",
   "execution_count": 18,
   "metadata": {},
   "outputs": [
    {
     "data": {
      "text/html": [
       "<div>\n",
       "<style scoped>\n",
       "    .dataframe tbody tr th:only-of-type {\n",
       "        vertical-align: middle;\n",
       "    }\n",
       "\n",
       "    .dataframe tbody tr th {\n",
       "        vertical-align: top;\n",
       "    }\n",
       "\n",
       "    .dataframe thead th {\n",
       "        text-align: right;\n",
       "    }\n",
       "</style>\n",
       "<table border=\"1\" class=\"dataframe\">\n",
       "  <thead>\n",
       "    <tr style=\"text-align: right;\">\n",
       "      <th></th>\n",
       "      <th>feature_names</th>\n",
       "      <th>coefficients</th>\n",
       "    </tr>\n",
       "  </thead>\n",
       "  <tbody>\n",
       "    <tr>\n",
       "      <th>0</th>\n",
       "      <td>2011</td>\n",
       "      <td>4530.982404</td>\n",
       "    </tr>\n",
       "    <tr>\n",
       "      <th>1</th>\n",
       "      <td>2012</td>\n",
       "      <td>4530.982404</td>\n",
       "    </tr>\n",
       "    <tr>\n",
       "      <th>2</th>\n",
       "      <td>2013</td>\n",
       "      <td>4530.982404</td>\n",
       "    </tr>\n",
       "    <tr>\n",
       "      <th>3</th>\n",
       "      <td>2014</td>\n",
       "      <td>4530.982404</td>\n",
       "    </tr>\n",
       "    <tr>\n",
       "      <th>4</th>\n",
       "      <td>2015</td>\n",
       "      <td>4530.982404</td>\n",
       "    </tr>\n",
       "    <tr>\n",
       "      <th>5</th>\n",
       "      <td>2016</td>\n",
       "      <td>4530.982404</td>\n",
       "    </tr>\n",
       "    <tr>\n",
       "      <th>6</th>\n",
       "      <td>2017</td>\n",
       "      <td>4530.982404</td>\n",
       "    </tr>\n",
       "    <tr>\n",
       "      <th>7</th>\n",
       "      <td>2018</td>\n",
       "      <td>4530.982404</td>\n",
       "    </tr>\n",
       "    <tr>\n",
       "      <th>8</th>\n",
       "      <td>2019</td>\n",
       "      <td>4530.982404</td>\n",
       "    </tr>\n",
       "    <tr>\n",
       "      <th>9</th>\n",
       "      <td>2020</td>\n",
       "      <td>4530.982404</td>\n",
       "    </tr>\n",
       "    <tr>\n",
       "      <th>10</th>\n",
       "      <td>2021</td>\n",
       "      <td>4530.982404</td>\n",
       "    </tr>\n",
       "    <tr>\n",
       "      <th>11</th>\n",
       "      <td>2022</td>\n",
       "      <td>4530.982404</td>\n",
       "    </tr>\n",
       "    <tr>\n",
       "      <th>12</th>\n",
       "      <td>BasePay</td>\n",
       "      <td>284256.967381</td>\n",
       "    </tr>\n",
       "    <tr>\n",
       "      <th>13</th>\n",
       "      <td>OvertimePay</td>\n",
       "      <td>85382.298059</td>\n",
       "    </tr>\n",
       "    <tr>\n",
       "      <th>14</th>\n",
       "      <td>OtherPay</td>\n",
       "      <td>43798.512534</td>\n",
       "    </tr>\n",
       "    <tr>\n",
       "      <th>15</th>\n",
       "      <td>Benefits</td>\n",
       "      <td>17601.092056</td>\n",
       "    </tr>\n",
       "    <tr>\n",
       "      <th>16</th>\n",
       "      <td>TotalPay</td>\n",
       "      <td>-276255.845561</td>\n",
       "    </tr>\n",
       "    <tr>\n",
       "      <th>17</th>\n",
       "      <td>PensionDebt</td>\n",
       "      <td>839.787174</td>\n",
       "    </tr>\n",
       "  </tbody>\n",
       "</table>\n",
       "</div>"
      ],
      "text/plain": [
       "   feature_names   coefficients\n",
       "0           2011    4530.982404\n",
       "1           2012    4530.982404\n",
       "2           2013    4530.982404\n",
       "3           2014    4530.982404\n",
       "4           2015    4530.982404\n",
       "5           2016    4530.982404\n",
       "6           2017    4530.982404\n",
       "7           2018    4530.982404\n",
       "8           2019    4530.982404\n",
       "9           2020    4530.982404\n",
       "10          2021    4530.982404\n",
       "11          2022    4530.982404\n",
       "12       BasePay  284256.967381\n",
       "13   OvertimePay   85382.298059\n",
       "14      OtherPay   43798.512534\n",
       "15      Benefits   17601.092056\n",
       "16      TotalPay -276255.845561\n",
       "17   PensionDebt     839.787174"
      ]
     },
     "execution_count": 18,
     "metadata": {},
     "output_type": "execute_result"
    }
   ],
   "source": [
    "# Feature importance \n",
    "feature_importance = pd.DataFrame({\n",
    "    \"feature_names\": all_column_names,\n",
    "    \"coefficients\":regressor.coef_\n",
    "})\n",
    "\n",
    "feature_importance"
   ]
  },
  {
   "attachments": {},
   "cell_type": "markdown",
   "metadata": {},
   "source": [
    "<!-- Now you know that you model is: \n",
    "\n",
    "$y=23904\\times YearsExperience + 2472 \\times UK - 2182 \\times Germany  -290\\times France + 73498$\n",
    "\n",
    "You can be very fancy and try to use `seaborn` to visualize feature importance 🌟 -->"
   ]
  },
  {
   "cell_type": "code",
   "execution_count": 20,
   "metadata": {},
   "outputs": [
    {
     "name": "stderr",
     "output_type": "stream",
     "text": [
      "c:\\Users\\phili\\anaconda3\\lib\\site-packages\\seaborn\\axisgrid.py:118: UserWarning: The figure layout has changed to tight\n",
      "  self._figure.tight_layout(*args, **kwargs)\n"
     ]
    },
    {
     "data": {
      "image/png": "[encoded data removed]",
      "text/plain": [
       "<Figure size 888.889x500 with 1 Axes>"
      ]
     },
     "metadata": {},
     "output_type": "display_data"
    }
   ],
   "source": [
    "# Set coefficient to absolute values to rank features\n",
    "feature_importance[\"coefficients\"] = feature_importance[\"coefficients\"].abs()\n",
    "\n",
    "# Visualize ranked features using seaborn\n",
    "_ = sns.catplot(x=\"feature_names\", \n",
    "            y=\"coefficients\", \n",
    "            data=feature_importance.sort_values(by=\"coefficients\", ascending=False), \n",
    "            kind=\"bar\",\n",
    "            aspect=16/9) # Resize graph"
   ]
  }
 ],
 "metadata": {
  "interpreter": {
   "hash": "216d08ced86f1f6e0b5764233bcb18334be12ba95b6ee555f60be9cf0be8c147"
  },
  "kernelspec": {
   "display_name": "Python 3",
   "language": "python",
   "name": "python3"
  },
  "language_info": {
   "codemirror_mode": {
    "name": "ipython",
    "version": 3
   },
   "file_extension": ".py",
   "mimetype": "text/x-python",
   "name": "python",
   "nbconvert_exporter": "python",
   "pygments_lexer": "ipython3",
   "version": "3.10.12"
  }
 },
 "nbformat": 4,
 "nbformat_minor": 4
}
