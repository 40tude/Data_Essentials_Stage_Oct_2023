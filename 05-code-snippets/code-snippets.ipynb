{
 "cells": [
  {
   "cell_type": "markdown",
   "metadata": {},
   "source": [
    "# Table des matières\n",
    "Pensez aussi à utiliser la section **OUTLINE** (colonne de gauche, en bas, au dessus de TIMELINE)\n",
    "\n",
    "1. [Remplacer les valeurs absentes par 42](#remplacer-les-valeurs-absentes-par-42)\n",
    "1. [Remplacer une valeur par une autre](#remplacer-une-valeur-par-une-autre)\n",
    "1. [N'afficher que les lignes où le PIB est vide](#nafficher-que-les-lignes-où-le-pib-est-vide)\n",
    "1. [Afficher les lignes d'une même catégorie](#afficher-les-lignes-dune-même-catégorie)\n",
    "1. [Afficher les catégories où le % de valeurs manquantes est non nul](#afficher-les-catégories-où-le--de-valeurs-manquantes-est-non-nul)\n",
    "1. [Créer des colonnes avec le contenu d'une colonne](#créer-des-colonnes-avec-le-contenu-dune-colonne)\n",
    "1. [Calculer de nouvelles colonnes](#calculer-de-nouvelles-colonnes)\n",
    "1. [Créer une colonne qui contient des catégories](#créer-une-colonne-qui-contient-des-catégories)\n",
    "1. [Difference entre `apply()` et `transform()`](#difference-entre-apply-et-transform)\n",
    "  1. [aply()](#apply)\n",
    "  1. [transform()](#transform)\n",
    "1. [Extraire les nombres d'une chaîne et créer une colonne](#extraire-les-nombres-dune-chaîne-et-créer-une-colonne)\n",
    "1. [Extraire les valeurs d'une chaine, remplir une colone avec leur moyenne](#extraire-les-valeurs-dune-chaine-remplir-une-colone-avec-leur-moyenne)\n",
    "[Transform (s'applique à un groupe)](#transform-sapplique-à-un-groupe)\n",
    "1. [groupby : remplacer valeurs manquantes par moyenne de la catégorie](#groupby--remplacer-valeurs-manquantes-par-moyenne-de-la-catégorie)\n",
    "1. [groupby : remplacer valeurs manquantes par moyenne de la catégorie - V2](#groupby--remplacer-valeurs-manquantes-par-moyenne-de-la-catégorie---v2)\n",
    "1. [Supprimer une colonne](#supprimer-une-colonne)\n",
    "1. [Supprimer des colonnes en fonction d'un motif dans le titre](#supprimer-des-colonnes-en-fonction-dun-motif-dans-le-titre)\n",
    "1. [Merger 2 fichiers csv ou dataframe](#merger-2-fichiers-csv-ou-dataframe)\n",
    "1. [Sauver une Dataframe](#sauver-un-dataframe)\n",
    "1. [Merge avancé de 2 DataFrames](#merge-avancé-de-2-dataframes)\n",
    "\n"
   ]
  },
  {
   "cell_type": "code",
   "execution_count": null,
   "metadata": {},
   "outputs": [],
   "source": []
  },
  {
   "cell_type": "markdown",
   "metadata": {},
   "source": [
    "# Remplacer les valeurs absentes par 42"
   ]
  },
  {
   "cell_type": "code",
   "execution_count": 67,
   "metadata": {},
   "outputs": [
    {
     "name": "stdout",
     "output_type": "stream",
     "text": [
      "Table avant : \n",
      "      A  B\n",
      "0  1.0  4\n",
      "1  NaN  5\n",
      "2  3.0  6 \n",
      "\n",
      "Table après : \n",
      "       A  B\n",
      "0   1.0  4\n",
      "1  42.0  5\n",
      "2   3.0  6 \n",
      "\n",
      "Table avant : \n",
      "      A  B\n",
      "0  1.0  4\n",
      "1  NaN  5\n",
      "2  3.0  6 \n",
      "\n",
      "Table après : \n",
      " [[ 1.  4.]\n",
      " [42.  5.]\n",
      " [ 3.  6.]] \n",
      "\n"
     ]
    }
   ],
   "source": [
    "import pandas as pd\n",
    "from sklearn.impute import SimpleImputer\n",
    "\n",
    "df = pd.DataFrame({'A': [1, None, 3], 'B': [4, 5, 6]})\n",
    "print(\"Table avant : \\n\", df.head(), \"\\n\")\n",
    "df['A'].fillna(42, inplace=True)\n",
    "print(\"Table après : \\n\", df.head(), \"\\n\")\n",
    "\n",
    "df = pd.DataFrame({'A': [1, None, 3], 'B': [4, 5, 6]})\n",
    "print(\"Table avant : \\n\", df.head(), \"\\n\")\n",
    "Zoubida = SimpleImputer(strategy=\"constant\", fill_value=42)\n",
    "Marcel_ndarray = Zoubida.fit_transform(df)\n",
    "# ! fit_transform() retroune un ndarray et PAS un DataFrame\n",
    "print(\"Table après : \\n\", Marcel_ndarray, \"\\n\")\n",
    "\n"
   ]
  },
  {
   "cell_type": "markdown",
   "metadata": {},
   "source": [
    "# Remplacer une valeur par une autre"
   ]
  },
  {
   "cell_type": "code",
   "execution_count": 68,
   "metadata": {},
   "outputs": [
    {
     "name": "stdout",
     "output_type": "stream",
     "text": [
      "Table avant : \n",
      "     A   B\n",
      "0   1   4\n",
      "1  42   5\n",
      "2   3  42 \n",
      "\n",
      "Table après : \n",
      "     A   B\n",
      "0   1   4\n",
      "1  24   5\n",
      "2   3  42 \n",
      "\n"
     ]
    }
   ],
   "source": [
    "import pandas as pd\n",
    "\n",
    "df = pd.DataFrame({'A': [1, 42, 3], 'B': [4, 5, 42]})\n",
    "print(\"Table avant : \\n\", df.head(), \"\\n\")\n",
    "\n",
    "df['A'].replace([42], '24', inplace=True)\n",
    "print(\"Table après : \\n\", df.head(), \"\\n\")"
   ]
  },
  {
   "cell_type": "markdown",
   "metadata": {},
   "source": [
    "# N'afficher que les lignes où le PIB est vide"
   ]
  },
  {
   "cell_type": "code",
   "execution_count": 69,
   "metadata": {},
   "outputs": [
    {
     "name": "stdout",
     "output_type": "stream",
     "text": [
      "Table : \n",
      "   Pays   PIB\n",
      "0   FR  44.0\n",
      "1   UK   NaN\n",
      "2   US   0.0 \n",
      "\n",
      "  Pays  PIB\n",
      "1   UK  NaN\n"
     ]
    }
   ],
   "source": [
    "import pandas as pd\n",
    "\n",
    "df = pd.DataFrame({\n",
    "  'Pays': [\"FR\", \"UK\", \"US\"], \n",
    "  'PIB': [44, None, 0]\n",
    "})\n",
    "print(\"Table : \\n\", df.head(), \"\\n\")\n",
    "print(df.loc[df['PIB'].isnull()])\n"
   ]
  },
  {
   "cell_type": "markdown",
   "metadata": {},
   "source": [
    "# Afficher les lignes d'une même catégorie"
   ]
  },
  {
   "cell_type": "code",
   "execution_count": 70,
   "metadata": {},
   "outputs": [
    {
     "name": "stdout",
     "output_type": "stream",
     "text": [
      "  Pays  Valeurs\n",
      "0   FR       44\n",
      "2   FR       33\n"
     ]
    }
   ],
   "source": [
    "import pandas as pd\n",
    "df = pd.DataFrame({\n",
    "  'Pays': [\"FR\", \"UK\", \"FR\"], \n",
    "  'Valeurs': [44, 58, 33]\n",
    "})\n",
    "print(df.loc[df['Pays'] == 'FR'])\n"
   ]
  },
  {
   "cell_type": "markdown",
   "metadata": {},
   "source": [
    "# Afficher les catégories où le % de valeurs manquantes est non nul"
   ]
  },
  {
   "cell_type": "code",
   "execution_count": 71,
   "metadata": {},
   "outputs": [
    {
     "name": "stdout",
     "output_type": "stream",
     "text": [
      "Table : \n",
      "   Pays  Feature-1  Feature-2  Feature-3\n",
      "0   FR       10.0        100       10.0\n",
      "1   UK       58.0        580       58.0\n",
      "2   US        NaN         10        NaN\n",
      "3   FR       20.0       2000        NaN \n",
      "\n",
      "Les % de valeurs manquantes dans les colonnes sont :\n",
      " Pays          0.0\n",
      "Feature-1    25.0\n",
      "Feature-2     0.0\n",
      "Feature-3    50.0\n",
      "dtype: float64 \n",
      "\n",
      "Il y a des valeurs manquantes dans les colonnes suivantes : \n",
      " Feature-1    25.0\n",
      "Feature-3    50.0\n",
      "dtype: float64\n"
     ]
    }
   ],
   "source": [
    "import pandas as pd\n",
    "df = pd.DataFrame({\n",
    "  'Pays': [\"FR\", \"UK\", \"US\", \"FR\"], \n",
    "  'Feature-1': [10, 58, None, 20],\n",
    "  'Feature-2': [100, 580, 10, 2000],\n",
    "  'Feature-3': [10, 58, None, None],\n",
    "})\n",
    "\n",
    "print(\"Table : \\n\", df.head(), \"\\n\")\n",
    "\n",
    "Bob = df.isna().sum() / len(df) * 100\n",
    "print(\"Les % de valeurs manquantes dans les colonnes sont :\\n\",Bob, \"\\n\")\n",
    "\n",
    "print(\"Il y a des valeurs manquantes dans les colonnes suivantes : \\n\", Bob.loc[Bob.ne(0)])\n"
   ]
  },
  {
   "cell_type": "markdown",
   "metadata": {},
   "source": [
    "# Créer des colonnes avec le contenu d'une colonne"
   ]
  },
  {
   "cell_type": "code",
   "execution_count": 107,
   "metadata": {},
   "outputs": [
    {
     "name": "stdout",
     "output_type": "stream",
     "text": [
      "Table avant : \n",
      "            Colonne\n",
      "0  Chaine1-Chaine2\n",
      "1              A-B\n",
      "2              X-Y \n",
      "\n",
      "Table après : \n",
      "            Colonne Colonne1 Colonne2\n",
      "0  Chaine1-Chaine2  Chaine1  Chaine2\n",
      "1              A-B        A        B\n",
      "2              X-Y        X        Y \n",
      "\n"
     ]
    }
   ],
   "source": [
    "import pandas as pd\n",
    "\n",
    "df = pd.DataFrame({'Colonne': ['Chaine1-Chaine2', 'A-B', 'X-Y']})\n",
    "print(\"Table avant : \\n\", df.head(), \"\\n\")\n",
    "\n",
    "df[['Colonne1', 'Colonne2']] = df['Colonne'].str.split('-', expand=True)\n",
    "print(\"Table après : \\n\", df.head(), \"\\n\")"
   ]
  },
  {
   "cell_type": "markdown",
   "metadata": {},
   "source": [
    "# Calculer de nouvelles colonnes"
   ]
  },
  {
   "cell_type": "code",
   "execution_count": 73,
   "metadata": {},
   "outputs": [
    {
     "name": "stdout",
     "output_type": "stream",
     "text": [
      "Table avant : \n",
      "    A  B\n",
      "0  1  4\n",
      "1  2  5\n",
      "2  3  6 \n",
      "\n",
      "Table après : \n",
      "    A  B  Somme  Hypothénuse  Prix-US\n",
      "0  1  4      5     4.123106      0.5\n",
      "1  2  5      7     5.385165      1.0\n",
      "2  3  6      9     6.708204      1.5 \n",
      "\n"
     ]
    }
   ],
   "source": [
    "import pandas as pd\n",
    "import numpy as np\n",
    "\n",
    "df = pd.DataFrame({'A': [1, 2, 3], 'B': [4, 5, 6]})\n",
    "print(\"Table avant : \\n\", df.head(), \"\\n\")\n",
    "\n",
    "df['Somme'] = df['A'] + df['B']\n",
    "df['Hypothénuse'] = np.sqrt(df['A']**2 + df['B']**2)\n",
    "\n",
    "taux = 0.5\n",
    "df[\"Prix-US\"]=df[\"A\"]*taux\n",
    "\n",
    "print(\"Table après : \\n\", df.head(), \"\\n\")\n"
   ]
  },
  {
   "cell_type": "markdown",
   "metadata": {},
   "source": [
    "# Créer une colonne qui contient des catégories"
   ]
  },
  {
   "cell_type": "code",
   "execution_count": 108,
   "metadata": {},
   "outputs": [
    {
     "name": "stdout",
     "output_type": "stream",
     "text": [
      "Table avant :\n",
      "           Id  Prix\n",
      "0       Riri     0\n",
      "1       Fifi    25\n",
      "2     Loulou    99\n",
      "3  Avasarala    80\n",
      "4     Holden    66\n",
      "5      Naomi    13\n",
      "6  Razorback   100\n",
      "7     Apollo    56\n",
      "8     Soyouz   110 \n",
      "\n",
      "Table après :\n",
      "           Id  Prix Catégorie\n",
      "0       Riri     0         A\n",
      "1       Fifi    25         A\n",
      "2     Loulou    99         D\n",
      "3  Avasarala    80         D\n",
      "4     Holden    66         C\n",
      "5      Naomi    13         A\n",
      "6  Razorback   100         D\n",
      "7     Apollo    56         C\n",
      "8     Soyouz   110       NaN \n",
      "\n"
     ]
    }
   ],
   "source": [
    "import pandas as pd\n",
    "\n",
    "df = pd.DataFrame({\n",
    "  'Id'        : [\"Riri\", \"Fifi\", \"Loulou\", \"Avasarala\", \"Holden\", \"Naomi\", \"Razorback\", \"Apollo\", \"Soyouz\"],\n",
    "  'Prix'      : [0, 25, 99, 80, 66, 13, 100, 56, 110] \n",
    "})\n",
    "print(\"Table avant :\\n\", df.head(10), \"\\n\")\n",
    "\n",
    "# Les bornes des intervalles\n",
    "# (0-25, 25-50, 50-75, 75-100) \n",
    "intervalles = [0, 25, 50, 75, 100]\n",
    "\n",
    "# Les étiquettes de chaque catégorie\n",
    "categories = ['A', 'B', 'C', 'D']\n",
    "\n",
    "# Utilise cut() pour créer la colonne 'Catégorie'\n",
    "# include_lowest=True => la 1ere catégorie inclura les valeurs égales à la borne inf de l'intervalle\n",
    "df['Catégorie'] = pd.cut(df['Prix'], bins=intervalles, labels=categories, include_lowest=True)\n",
    "\n",
    "print(\"Table après :\\n\", df.head(10), \"\\n\")\n"
   ]
  },
  {
   "cell_type": "markdown",
   "metadata": {},
   "source": [
    "# Difference entre `apply()` et `transform()`\n"
   ]
  },
  {
   "cell_type": "markdown",
   "metadata": {},
   "source": [
    "## `apply()`\n",
    "* `apply()` est plus générique que `transform()`\n",
    "* Utilisée pour appliquer une fonction sur des DataFrames entiers, des colonnes ou des lignes spécifiques\n",
    "* La fonction passée à `apply()` peut retourner un scalaire, une Serie ou un DataFrame"
   ]
  },
  {
   "cell_type": "code",
   "execution_count": 74,
   "metadata": {},
   "outputs": [
    {
     "name": "stdout",
     "output_type": "stream",
     "text": [
      "Table avant : \n",
      "    A  B\n",
      "0  1  4\n",
      "1  2  5\n",
      "2  3  6 \n",
      "\n",
      "Table après : \n",
      "    A  B   sqrt(A)  Moyenne\n",
      "0  1  4  1.000000      2.5\n",
      "1  2  5  1.414214      3.5\n",
      "2  3  6  1.732051      4.5 \n",
      "\n",
      "Serie A après\n",
      " 0    1\n",
      "1    4\n",
      "2    9\n",
      "Name: A, dtype: int64 \n",
      "\n"
     ]
    }
   ],
   "source": [
    "import pandas as pd\n",
    "\n",
    "df = pd.DataFrame({\n",
    "  'A': [1, 2, 3], \n",
    "  'B': [4, 5, 6]\n",
    "})\n",
    "\n",
    "def moyenne(row):\n",
    "  return (row['A']+ row['B'])/2\n",
    "\n",
    "print(\"Table avant : \\n\", df.head(), \"\\n\")\n",
    "\n",
    "df[\"sqrt(A)\"] = df['A'].apply(lambda x: x **.5)     # fonction lambda\n",
    "df[\"Moyenne\"] = df.apply(moyenne, axis=1)\n",
    "print(\"Table après : \\n\", df.head(), \"\\n\")\n",
    "\n",
    "result = df['A'].apply(lambda x: x **2)                 \n",
    "print(\"Serie A après\\n\", result, \"\\n\")"
   ]
  },
  {
   "cell_type": "markdown",
   "metadata": {},
   "source": [
    "## `transform()`\n",
    "* **`transform()`** est spécifiquement conçue pour effectuer des opérations sur des groupes de données.\n",
    "* La fonction de transformation doit renvoyer une série de la même longueur que l'entrée, et elle est appliquée à chaque groupe de données.\n",
    "* Utile pour effectuer des opérations de groupe (par exemple, remplacer les valeurs manquantes par la moyenne du groupe)."
   ]
  },
  {
   "cell_type": "code",
   "execution_count": 75,
   "metadata": {},
   "outputs": [
    {
     "name": "stdout",
     "output_type": "stream",
     "text": [
      "Table avant : \n",
      "   Groupe  Valeur\n",
      "0      A     NaN\n",
      "1      A     2.0\n",
      "2      B     NaN\n",
      "3      B     4.0\n",
      "4      A     5.0 \n",
      "\n",
      "Table après : \n",
      "   Groupe  Valeur\n",
      "0      A     3.5\n",
      "1      A     2.0\n",
      "2      B     4.0\n",
      "3      B     4.0\n",
      "4      A     5.0 \n",
      "\n"
     ]
    }
   ],
   "source": [
    "import pandas as pd\n",
    "\n",
    "df = pd.DataFrame({\n",
    "  'Groupe': ['A', 'A', 'B', 'B', 'A', 'B'], \n",
    "  'Valeur': [None, 2, None, 4, 5, None]\n",
    "})\n",
    "print(\"Table avant : \\n\", df.head(), \"\\n\")\n",
    "\n",
    "# Rempli les valeurs manquantes avec la moyenne du groupe\n",
    "moyennes_par_groupe = df.groupby('Groupe')['Valeur'].transform('mean')\n",
    "df['Valeur'] = df['Valeur'].fillna(moyennes_par_groupe)\n",
    "print(\"Table après : \\n\", df.head(), \"\\n\")"
   ]
  },
  {
   "cell_type": "markdown",
   "metadata": {},
   "source": [
    "# Extraire les nombres d'une chaîne et créer une colonne "
   ]
  },
  {
   "cell_type": "code",
   "execution_count": 76,
   "metadata": {},
   "outputs": [
    {
     "name": "stdout",
     "output_type": "stream",
     "text": [
      "Table avant : \n",
      "        Id Feature-0 Feature-1  Feature-2\n",
      "0    Riri      Val1  Marcel11     NE-555\n",
      "1    Fifi      Val2   Robert2  20-USA-48\n",
      "2  Loulou      Val3  Antoine3     Russia \n",
      "\n",
      "Table après : \n",
      "        Id Feature-0  Feature-1  Feature-2  Feature-3\n",
      "0    Riri      Val1         11     NE-555        555\n",
      "1    Fifi      Val2          2  20-USA-48       2048\n",
      "2  Loulou      Val3          3     Russia          0 \n",
      "\n"
     ]
    }
   ],
   "source": [
    "import pandas as pd\n",
    "import re                                    # regular expression\n",
    "\n",
    "df = pd.DataFrame({\n",
    "  'Id'       : [\"Riri\", \"Fifi\", \"Loulou\"],\n",
    "  'Feature-0': [\"Val1\", \"Val2\", \"Val3\"], \n",
    "  'Feature-1': [\"Marcel11\", \"Robert2\", \"Antoine3\"],\n",
    "  'Feature-2': [\"NE-555\", \"20-USA-48\", \"Russia\"],\n",
    "})\n",
    "\n",
    "def get_digit(mystr):\n",
    "  chiffres = re.findall(r'\\d+', str(mystr))  # Trouver tous les chiffres\n",
    "  try:\n",
    "    return int(''.join(chiffres))\n",
    "  except:\n",
    "    return 0                                 # on peut aussi retourner np.nan\n",
    "\n",
    "print(\"Table avant : \\n\", df.head(), \"\\n\")\n",
    "\n",
    "df['Feature-3'] = df['Feature-2'].apply(get_digit)         # voir le apply()\n",
    "df['Feature-1'] = df['Feature-1'].apply(get_digit)\n",
    "# df['Feature-0'] = df['Feature-0'].apply(keep_numbers)\n",
    "\n",
    "print(\"Table après : \\n\", df.head(), \"\\n\")"
   ]
  },
  {
   "cell_type": "markdown",
   "metadata": {},
   "source": [
    "# Extraire les valeurs d'une chaine, remplir une colone avec leur moyenne"
   ]
  },
  {
   "cell_type": "code",
   "execution_count": 77,
   "metadata": {},
   "outputs": [
    {
     "name": "stdout",
     "output_type": "stream",
     "text": [
      "Avant : \n",
      "        Id Feature-0 Feature-1\n",
      "0    Riri     11~13     18~20\n",
      "1    Fifi  10~20~30     10~20\n",
      "2  Loulou    50~100   50**100 \n",
      "\n",
      "Après : \n",
      "        Id  Feature-0 Feature-1  Moy Feature-1\n",
      "0    Riri       12.0     18~20           19.0\n",
      "1    Fifi       20.0     10~20           15.0\n",
      "2  Loulou       75.0   50**100            NaN\n"
     ]
    }
   ],
   "source": [
    "import pandas as pd\n",
    "\n",
    "def moy(x):\n",
    "  try : \n",
    "    return np.mean([float(i) for i in x.split(\"~\")])\n",
    "  except: \n",
    "    return np.nan     # on peut aussi retrouner une valeur : 42...\n",
    "\n",
    "df = pd.DataFrame({\n",
    "  'Id'       : [\"Riri\", \"Fifi\", \"Loulou\"],\n",
    "  'Feature-0': [\"11~13\", \"10~20~30\", \"50~100\"], \n",
    "  'Feature-1': [\"18~20\", \"10~20\", \"50**100\"],\n",
    "})\n",
    "print(\"Avant : \\n\", df.head(), \"\\n\")\n",
    "\n",
    "df['Feature-0'] = df['Feature-0'].apply(moy)          # voir le apply()\n",
    "df['Moy Feature-1'] = df['Feature-1'].apply(moy)\n",
    "\n",
    "print(\"Après : \\n\", df.head())\n"
   ]
  },
  {
   "cell_type": "markdown",
   "metadata": {},
   "source": [
    "# Transform (s'applique à un groupe)"
   ]
  },
  {
   "cell_type": "code",
   "execution_count": 78,
   "metadata": {},
   "outputs": [
    {
     "name": "stdout",
     "output_type": "stream",
     "text": [
      "Avant : \n",
      "   Groupe  Valeur\n",
      "0      A     NaN\n",
      "1      A    15.0\n",
      "2      B     NaN\n",
      "3      B    25.0\n",
      "4      A    30.0 \n",
      "\n",
      "Moyennes :\n",
      " 0    22.5\n",
      "1    22.5\n",
      "2    25.0\n",
      "3    25.0\n",
      "4    22.5\n",
      "5    25.0\n",
      "Name: Valeur, dtype: float64 \n",
      "\n",
      "Après : \n",
      "   Groupe  Valeur\n",
      "0      A    22.5\n",
      "1      A    15.0\n",
      "2      B    25.0\n",
      "3      B    25.0\n",
      "4      A    30.0 \n",
      "\n"
     ]
    }
   ],
   "source": [
    "import pandas as pd\n",
    "\n",
    "data = {'Groupe': ['A', 'A', 'B', 'B', 'A', 'B'],\n",
    "        'Valeur': [None, 15, None, 25, 30, None]}\n",
    "df = pd.DataFrame(data)\n",
    "print(\"Avant : \\n\", df.head(), \"\\n\")\n",
    "\n",
    "# Calculer la moyenne par groupe\n",
    "moyennes_par_groupe = df.groupby('Groupe')['Valeur'].transform('mean')         # voir le transform sur le groupe\n",
    "print(\"Moyennes :\\n\", moyennes_par_groupe, \"\\n\")\n",
    "\n",
    "# Remplacer les valeurs manquantes par la moyenne correspondante\n",
    "df['Valeur'] = df['Valeur'].fillna(moyennes_par_groupe)\n",
    "\n",
    "# Afficher le DataFrame après transformation\n",
    "print(\"Après : \\n\", df.head(), \"\\n\")"
   ]
  },
  {
   "cell_type": "markdown",
   "metadata": {},
   "source": [
    "# groupby : remplacer valeurs manquantes par moyenne de la catégorie\n",
    "\n",
    "* Marche pas dans tous les cas\n",
    "* Il faut que chaque catégorie ait une moyenne à calculer\n",
    "* Si une catégorie n'a aucune moyenne à calculer rien n'est fait\n"
   ]
  },
  {
   "cell_type": "code",
   "execution_count": 79,
   "metadata": {},
   "outputs": [
    {
     "name": "stdout",
     "output_type": "stream",
     "text": [
      "Avant : \n",
      "   Pays   PIB\n",
      "0    A   NaN\n",
      "1    A   NaN\n",
      "2    B  10.0\n",
      "3    B  25.0\n",
      "4    A   NaN \n",
      "\n",
      "Après : \n",
      "   Pays   PIB\n",
      "0    A   NaN\n",
      "1    A   NaN\n",
      "2    B  10.0\n",
      "3    B  25.0\n",
      "4    A   NaN \n",
      "\n"
     ]
    }
   ],
   "source": [
    "data = {\n",
    "  'Pays': ['A', 'A', 'B', 'B', 'A', 'B'],\n",
    "  'PIB': [None, None, 10, 25, None, 45]\n",
    "}\n",
    "df = pd.DataFrame(data)\n",
    "\n",
    "print(\"Avant : \\n\", df.head(), \"\\n\")\n",
    "moyennes_par_pays = df.groupby('Pays')['PIB'].mean()\n",
    "df['PIB'] = df.apply(lambda row: moyennes_par_pays[row['Pays']] if pd.isna(row['PIB']) else row['PIB'], axis=1)\n",
    "print(\"Après : \\n\", df.head(), \"\\n\")\n"
   ]
  },
  {
   "cell_type": "markdown",
   "metadata": {},
   "source": [
    "# groupby : remplacer valeurs manquantes par moyenne de la catégorie - V2\n",
    "\n",
    "* Met 0 si la moyenne n'a pas pu être calculée"
   ]
  },
  {
   "cell_type": "code",
   "execution_count": 80,
   "metadata": {},
   "outputs": [
    {
     "name": "stdout",
     "output_type": "stream",
     "text": [
      "Avant : \n",
      "   Pays   PIB\n",
      "0    A   NaN\n",
      "1    A   NaN\n",
      "2    B  10.0\n",
      "3    B  25.0\n",
      "4    A   NaN \n",
      "\n",
      "Après : \n",
      "   Pays   PIB\n",
      "0    A   0.0\n",
      "1    A   0.0\n",
      "2    B  10.0\n",
      "3    B  25.0\n",
      "4    A   0.0 \n",
      "\n"
     ]
    }
   ],
   "source": [
    "data = {\n",
    "  'Pays': ['A', 'A', 'B', 'B', 'A', 'B'],\n",
    "  'PIB': [None, None, 10, 25, None, 45]\n",
    "}\n",
    "df = pd.DataFrame(data)\n",
    "\n",
    "print(\"Avant : \\n\", df.head(), \"\\n\")\n",
    "moyennes_par_pays = df.groupby('Pays')['PIB'].mean()\n",
    "moyennes_par_pays.fillna(0.0, inplace=True)\n",
    "df['PIB'] = df.apply(lambda row: moyennes_par_pays[row['Pays']] if pd.isna(row['PIB']) else row['PIB'], axis=1)\n",
    "print(\"Après : \\n\", df.head(), \"\\n\")\n",
    "\n"
   ]
  },
  {
   "cell_type": "markdown",
   "metadata": {},
   "source": [
    "# Supprimer une colonne"
   ]
  },
  {
   "cell_type": "code",
   "execution_count": 94,
   "metadata": {},
   "outputs": [
    {
     "name": "stdout",
     "output_type": "stream",
     "text": [
      "Table avant : \n",
      "        Id  Feature0  Feature1  Feature2\n",
      "0    Riri         1        10       100\n",
      "1    Fifi         2        20       200\n",
      "2  Loulou         3        30       300 \n",
      "\n",
      "Table après : \n",
      "        Id  Feature0  Feature2\n",
      "0    Riri         1       100\n",
      "1    Fifi         2       200\n",
      "2  Loulou         3       300 \n",
      "\n"
     ]
    }
   ],
   "source": [
    "import pandas as pd\n",
    "df = pd.DataFrame({\n",
    "  'Id'      : [\"Riri\", \"Fifi\", \"Loulou\"],\n",
    "  'Feature0': [1, 2, 3], \n",
    "  'Feature1': [10, 20, 30], \n",
    "  'Feature2': [100, 200, 300], \n",
    "})\n",
    "print(\"Table avant : \\n\", df.head(), \"\\n\")\n",
    "df.drop(\"Feature1\", inplace=True, axis=1)\n",
    "print(\"Table après : \\n\", df.head(), \"\\n\")\n"
   ]
  },
  {
   "cell_type": "markdown",
   "metadata": {},
   "source": [
    "# Supprimer des colonnes en fonction d'un motif dans le titre"
   ]
  },
  {
   "cell_type": "code",
   "execution_count": 81,
   "metadata": {},
   "outputs": [
    {
     "name": "stdout",
     "output_type": "stream",
     "text": [
      "Table avant : \n",
      "      Id  Feature0  Feature1  Feature2  Feature3  Feature4  Feature5  Feature6\n",
      "0  Riri         1         4         7         1         4         7         1 \n",
      "\n",
      "Table après : \n",
      "      Id  Feature0  Feature1  Feature5  Feature6\n",
      "0  Riri         1         4         7         1 \n",
      "\n"
     ]
    }
   ],
   "source": [
    "import pandas as pd\n",
    "df = pd.DataFrame({\n",
    "  'Id'      : [\"Riri\", \"Fifi\", \"Loulou\"],\n",
    "  'Feature0': [1, 2, 3], \n",
    "  'Feature1': [4, 5, 6],\n",
    "  'Feature2': [7, 8, 9],\n",
    "  'Feature3': [1, 2, 3],\n",
    "  'Feature4': [4, 5, 6],\n",
    "  'Feature5': [7, 8, 9],\n",
    "  'Feature6': [1, 2, 3]\n",
    "})\n",
    "print(\"Table avant : \\n\", df.head(1), \"\\n\")\n",
    "columns_to_drop=[f'Feature{i}' for i in range (2,5)]\n",
    "df.drop(columns=columns_to_drop, inplace=True)\n",
    "print(\"Table après : \\n\", df.head(1), \"\\n\")\n"
   ]
  },
  {
   "cell_type": "markdown",
   "metadata": {},
   "source": [
    "# Merger 2 fichiers csv ou dataframe"
   ]
  },
  {
   "cell_type": "code",
   "execution_count": 82,
   "metadata": {},
   "outputs": [
    {
     "name": "stdout",
     "output_type": "stream",
     "text": [
      "    Id Valeur1_x Valeur2_x  Valeur1_y  Valeur2_y\n",
      "0  101         a        aa          1         11\n",
      "1  200         c        cc          3         13\n",
      "2  300         e        ee          5         15\n"
     ]
    }
   ],
   "source": [
    "import pandas as pd\n",
    "\n",
    "# Charger les deux fichiers CSV\n",
    "# df1 = pd.read_csv('fichier1.csv', delimiter=\";\")\n",
    "# df2 = pd.read_csv('fichier2.csv', delimiter=\";\")\n",
    "df1 = pd.DataFrame({\n",
    "  'Id' : [101, 1001, 200, 2000, 300],\n",
    "  'Valeur1' : ['a', 'b', 'c', 'd', 'e'],\n",
    "  'Valeur2' : ['aa', 'bb', 'cc', 'dd', 'ee']\n",
    "})\n",
    "\n",
    "df2 = pd.DataFrame({\n",
    "  'Id' : [101, 102, 200, 201, 300, 500],\n",
    "  'Valeur1' : [1,2,3,4,5,10],\n",
    "  'Valeur2' : [11,12,13,14,15,100]\n",
    "})\n",
    "\n",
    "# Effectue le merge sur la colonne 'Id'\n",
    "resultat_merge = pd.merge(df1, df2, on='Id')\n",
    "\n",
    "# Afficher le résultat\n",
    "print(resultat_merge)"
   ]
  },
  {
   "cell_type": "markdown",
   "metadata": {},
   "source": [
    "# Sauver un Dataframe"
   ]
  },
  {
   "cell_type": "code",
   "execution_count": 83,
   "metadata": {},
   "outputs": [],
   "source": [
    "df.to_csv(\"mon-fichier.csv\", index=False)"
   ]
  },
  {
   "cell_type": "markdown",
   "metadata": {},
   "source": [
    "# Merge avancé de 2 Dataframes\n",
    "[top](#table-des-matières)\n",
    "* La seconde table contient des Types dont on veut calculer la moyennes des features\n",
    "* Voir le contenu de la Table 3\n",
    "* Une des features de la Table 1 est le type\n",
    "* On veut étendre la Table 1, avec pour chaque ligne, en fonction du type, les moyennes calculées avec la Table 2 \n"
   ]
  },
  {
   "cell_type": "code",
   "execution_count": 84,
   "metadata": {},
   "outputs": [
    {
     "name": "stdout",
     "output_type": "stream",
     "text": [
      "Table 2 :\n",
      "           Id   Type  Feature-1  Value\n",
      "0       Riri  Type1          0     10\n",
      "1       Fifi  Type2          1     20\n",
      "2     Loulou  Type3          2     30\n",
      "3  Avasarala  Type1          3     11\n",
      "4     Holden  Type2          4     21\n",
      "5      Naomi  Type3          5     31\n",
      "6  Razorback  Type1          6     12\n",
      "7     Apollo  Type2          7     22\n",
      "8     Soyouz  Type3          8     32 \n",
      "\n",
      "Table 3 : Depuis Table 2, les moyennes de Value et Feature-1 par Type\n",
      "        Feature-1  Value\n",
      "Type                   \n",
      "Type1        3.0   11.0\n",
      "Type2        4.0   21.0\n",
      "Type3        5.0   31.0 \n",
      "\n",
      "Table 1 :\n",
      "           Id Colonne-00  Colonne-01 Colonne-02\n",
      "0       Riri         BB       3.140      Type1\n",
      "1  Avasarala         SF      42.000      Type2\n",
      "2     Apollo      Space       2.718      Type2\n",
      "3     Soyouz      Space       1.618      Type1 \n",
      "\n",
      "Merge de Table 1 et Table 3 sur le Type :\n",
      "           Id Colonne-00  Colonne-01 Colonne-02  Feature-1  Value\n",
      "0       Riri         BB       3.140      Type1        3.0   11.0\n",
      "1     Soyouz      Space       1.618      Type1        3.0   11.0\n",
      "2  Avasarala         SF      42.000      Type2        4.0   21.0\n",
      "3     Apollo      Space       2.718      Type2        4.0   21.0 \n",
      "\n"
     ]
    }
   ],
   "source": [
    "df2 = pd.DataFrame({\n",
    "  'Id'        : [\"Riri\", \"Fifi\", \"Loulou\", \"Avasarala\", \"Holden\", \"Naomi\", \"Razorback\", \"Apollo\", \"Soyouz\"],\n",
    "  'Type'      : [\"Type1\", \"Type2\", \"Type3\", \"Type1\", \"Type2\", \"Type3\", \"Type1\", \"Type2\", \"Type3\"], \n",
    "  'Feature-1' : [0, 1, 2, 3, 4, 5, 6, 7, 8],\n",
    "  'Value'     : [10, 20, 30, 11, 21, 31, 12, 22, 32],\n",
    "})\n",
    "print(\"Table 2 :\\n\", df2.head(10), \"\\n\")\n",
    "\n",
    "# df3 = df2.groupby('Type')[\"Value\"].transform(\"mean\")\n",
    "# df3 = df2.groupby('Type')[\"Value\"].mean()\n",
    "# print(\"Table 3 : Depuis Table 2, les moyennes de Value par Type\\n\", df3, \"\\n\")\n",
    "\n",
    "df3 = df2.groupby('Type')[[\"Feature-1\", \"Value\"]].mean()\n",
    "print(\"Table 3 : Depuis Table 2, les moyennes de Value et Feature-1 par Type\\n\", df3, \"\\n\")\n",
    "\n",
    "df1 = pd.DataFrame({\n",
    "  'Id'        : [\"Riri\", \"Avasarala\", \"Apollo\", \"Soyouz\"],\n",
    "  'Colonne-00': [\"BB\", \"SF\", \"Space\", \"Space\"], \n",
    "  'Colonne-01': [3.14, 42, 2.718, 1.618],\n",
    "  'Colonne-02': [\"Type1\", \"Type2\", \"Type2\", \"Type1\"],\n",
    "})\n",
    "print(\"Table 1 :\\n\", df1.head(), \"\\n\")\n",
    "\n",
    "# Voir que dans le join les colonnes n'ont pas le même nom\n",
    "df4 = pd.merge(df1, df3, left_on='Colonne-02', right_on='Type', how='inner' )\n",
    "# df4 = pd.merge(df1, df2.groupby('Type')[[\"Feature-1\",\"Value\"]].mean(),left_on='Colonne-02', right_on='Type', how='inner' )\n",
    "print(\"Merge de Table 1 et Table 3 sur le Type :\\n\", df4.head(10), \"\\n\")\n"
   ]
  }
 ],
 "metadata": {
  "kernelspec": {
   "display_name": "base",
   "language": "python",
   "name": "python3"
  },
  "language_info": {
   "codemirror_mode": {
    "name": "ipython",
    "version": 3
   },
   "file_extension": ".py",
   "mimetype": "text/x-python",
   "name": "python",
   "nbconvert_exporter": "python",
   "pygments_lexer": "ipython3",
   "version": "3.11.7"
  }
 },
 "nbformat": 4,
 "nbformat_minor": 2
}
