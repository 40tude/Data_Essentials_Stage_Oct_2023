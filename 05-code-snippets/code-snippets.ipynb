{
 "cells": [
  {
   "cell_type": "markdown",
   "metadata": {},
   "source": [
    "# Remplacer les valeurs manquantes par la moyenne de la catégorie\n",
    "\n",
    "* Marche pas dans tous les cas"
   ]
  },
  {
   "cell_type": "code",
   "execution_count": 31,
   "metadata": {},
   "outputs": [
    {
     "name": "stdout",
     "output_type": "stream",
     "text": [
      "Pays      0\n",
      "PIB     282\n",
      "dtype: int64\n",
      "         Pays  PIB\n",
      "3371  Bahamas  NaN\n",
      "3372  Bahamas  NaN\n",
      "3373  Bahamas  NaN\n",
      "3374  Bahamas  NaN\n",
      "3375  Bahamas  NaN\n",
      "...       ...  ...\n",
      "3644    Yemen  NaN\n",
      "3645    Yemen  NaN\n",
      "3646    Yemen  NaN\n",
      "3647    Yemen  NaN\n",
      "3648    Yemen  NaN\n",
      "\n",
      "[232 rows x 2 columns]\n"
     ]
    }
   ],
   "source": [
    "#\n",
    "# ! Attention si dès le départ le pays n'a aucun PIB alors on remplace aucune valeur\n",
    "import pandas as pd\n",
    "df = pd.read_csv(\"gdp.csv\")\n",
    "\n",
    "# print(df.loc[df['Pays'] == \"Afghanistan\"])\n",
    "print(df.isna().sum())\n",
    "\n",
    "moyennes_par_pays = df.groupby('Pays')['PIB'].mean()\n",
    "df['PIB'] = df.apply(lambda row: moyennes_par_pays[row['Pays']] if pd.isna(row['PIB']) else row['PIB'], axis=1)\n",
    "\n",
    "# print(df.isna().sum())\n",
    "# print(df.loc[df['Pays'] == \"Afghanistan\"])\n",
    "\n",
    "print(df.loc[df['PIB'].isnull()])\n",
    "\n"
   ]
  },
  {
   "cell_type": "code",
   "execution_count": null,
   "metadata": {},
   "outputs": [],
   "source": [
    "# Une solution similaire\n",
    "# Ne traite pas les cas où aucun PIB n'est renseigné pour un pays\n",
    "import pandas as pd\n",
    "df = pd.read_csv(\"gdp.csv\")\n",
    "print(df.head())\n",
    "print(df.isna().sum())\n",
    "\n",
    "columns_to_fill = ['PIB']\n",
    "for column in columns_to_fill:\n",
    "    mean_by_country = df.groupby('Pays')[column].transform('mean')\n",
    "    df[column].fillna(mean_by_country, inplace=True)\n",
    "\n",
    "print(df.isna().sum())"
   ]
  },
  {
   "cell_type": "markdown",
   "metadata": {},
   "source": [
    "# Remplacer les valeurs manquantes par la moyenne de la catégorie\n",
    "\n",
    "* Met 0 si la moyenne n'a pas pu être calculée"
   ]
  },
  {
   "cell_type": "code",
   "execution_count": 1,
   "metadata": {},
   "outputs": [
    {
     "name": "stdout",
     "output_type": "stream",
     "text": [
      "Pays    0\n",
      "PIB     0\n",
      "dtype: int64\n",
      "       Pays  PIB\n",
      "3628  Yemen  0.0\n",
      "3629  Yemen  0.0\n",
      "3630  Yemen  0.0\n",
      "3631  Yemen  0.0\n",
      "3632  Yemen  0.0\n",
      "3633  Yemen  0.0\n",
      "3634  Yemen  0.0\n",
      "3635  Yemen  0.0\n",
      "3636  Yemen  0.0\n",
      "3637  Yemen  0.0\n",
      "3638  Yemen  0.0\n",
      "3639  Yemen  0.0\n",
      "3640  Yemen  0.0\n",
      "3641  Yemen  0.0\n",
      "3642  Yemen  0.0\n",
      "3643  Yemen  0.0\n",
      "3644  Yemen  0.0\n",
      "3645  Yemen  0.0\n",
      "3646  Yemen  0.0\n",
      "3647  Yemen  0.0\n",
      "3648  Yemen  0.0\n"
     ]
    }
   ],
   "source": [
    "# Dans cette version si y a pas de PIB on met 0\n",
    "\n",
    "import pandas as pd\n",
    "df = pd.read_csv(\"gdp.csv\")\n",
    "\n",
    "# print(df.loc[df['Pays'] == \"Yemen\"])\n",
    "# print(df.isna().sum())\n",
    "\n",
    "moyennes_par_pays = df.groupby('Pays')['PIB'].mean()\n",
    "moyennes_par_pays.fillna(0.0, inplace=True)\n",
    "\n",
    "df['PIB'] = df.apply(lambda row: moyennes_par_pays[row['Pays']] if pd.isna(row['PIB']) else row['PIB'], axis=1)\n",
    "\n",
    "print(df.isna().sum())\n",
    "print(df.loc[df['Pays'] == \"Yemen\"])\n",
    "\n",
    "# print(df.loc[df['PIB'].isnull()])\n"
   ]
  },
  {
   "cell_type": "markdown",
   "metadata": {},
   "source": [
    "# Merge"
   ]
  },
  {
   "cell_type": "code",
   "execution_count": 45,
   "metadata": {},
   "outputs": [
    {
     "name": "stdout",
     "output_type": "stream",
     "text": [
      "    Id Valeur1 Valeur2  Valeur3  Valeur4\n",
      "0  101       a      aa        1       11\n",
      "1  200       c      cc        3       13\n",
      "2  300       e      ee        5       15\n"
     ]
    }
   ],
   "source": [
    "import pandas as pd\n",
    "\n",
    "# Charger les deux fichiers CSV\n",
    "df1 = pd.read_csv('fichier1.csv', delimiter=\";\")\n",
    "df2 = pd.read_csv('fichier2.csv', delimiter=\";\")\n",
    "\n",
    "# Effectuer la fusion sur la colonne 'Id'\n",
    "resultat_fusion = pd.merge(df1, df2, on='Id')\n",
    "\n",
    "# Afficher le résultat\n",
    "print(resultat_fusion)"
   ]
  },
  {
   "cell_type": "markdown",
   "metadata": {},
   "source": [
    "# Transform"
   ]
  },
  {
   "cell_type": "code",
   "execution_count": 46,
   "metadata": {},
   "outputs": [
    {
     "name": "stdout",
     "output_type": "stream",
     "text": [
      "  Groupe  Valeur\n",
      "0      A    10.0\n",
      "1      A    15.0\n",
      "2      B    25.0\n",
      "3      B    25.0\n",
      "4      A    30.0\n",
      "5      B    25.0\n"
     ]
    }
   ],
   "source": [
    "import pandas as pd\n",
    "\n",
    "# Exemple de DataFrame\n",
    "data = {'Groupe': ['A', 'A', 'B', 'B', 'A', 'B'],\n",
    "        'Valeur': [10, 15, None, 25, 30, None]}\n",
    "df = pd.DataFrame(data)\n",
    "\n",
    "# Calculer la moyenne par groupe\n",
    "moyennes_par_groupe = df.groupby('Groupe')['Valeur'].transform('mean')\n",
    "\n",
    "# Remplacer les valeurs manquantes par la moyenne correspondante\n",
    "df['Valeur'] = df['Valeur'].fillna(moyennes_par_groupe)\n",
    "\n",
    "# Afficher le DataFrame après transformation\n",
    "print(df)"
   ]
  },
  {
   "cell_type": "markdown",
   "metadata": {},
   "source": [
    "# Difference entre apply et transform\n"
   ]
  },
  {
   "cell_type": "markdown",
   "metadata": {},
   "source": [
    "* Plus générique que transform\n",
    "* utilisée pour appliquer une fonction à l'ensemble du DataFrame ou à une série.\n",
    "* Peut être utilisée avec des DataFrames entiers, des colonnes spécifiques ou des lignes spécifiques.\n",
    "* La fonction passée à apply peut retourner une série, un scalaire ou un objet DataFrame."
   ]
  },
  {
   "cell_type": "code",
   "execution_count": null,
   "metadata": {},
   "outputs": [],
   "source": [
    "import pandas as pd\n",
    "\n",
    "df = pd.DataFrame({'A': [1, 2, 3], 'B': [4, 5, 6]})\n",
    "result = df['A'].apply(lambda x: x * 2)"
   ]
  },
  {
   "cell_type": "markdown",
   "metadata": {},
   "source": [
    "* transform est spécifiquement conçue pour effectuer des opérations sur des groupes de données.\n",
    "* La fonction de transformation doit renvoyer une série de la même longueur que l'entrée, et elle est appliquée à chaque groupe de données.\n",
    "* Utile pour effectuer des opérations de groupe (par exemple, remplacer les valeurs manquantes par la moyenne du groupe)."
   ]
  },
  {
   "cell_type": "code",
   "execution_count": 1,
   "metadata": {},
   "outputs": [],
   "source": [
    "import pandas as pd\n",
    "\n",
    "df = pd.DataFrame({'Groupe': ['A', 'A', 'B', 'B', 'A', 'B'], 'Valeur': [1, 2, None, 4, 5, None]})\n",
    "moyennes_par_groupe = df.groupby('Groupe')['Valeur'].transform('mean')\n",
    "df['Valeur'] = df['Valeur'].fillna(moyennes_par_groupe)"
   ]
  },
  {
   "cell_type": "markdown",
   "metadata": {},
   "source": [
    "# Créer/Calculer une nouvelle colonne"
   ]
  },
  {
   "cell_type": "code",
   "execution_count": 10,
   "metadata": {},
   "outputs": [
    {
     "name": "stdout",
     "output_type": "stream",
     "text": [
      "   A  B  C         D\n",
      "0  1  4  5  4.123106\n",
      "1  2  5  7  5.385165\n",
      "2  3  6  9  6.708204\n"
     ]
    }
   ],
   "source": [
    "import pandas as pd\n",
    "import numpy as np\n",
    "\n",
    "df = pd.DataFrame({'A': [1, 2, 3], 'B': [4, 5, 6]})\n",
    "df['C'] = df['A'] + df['B']\n",
    "df['D'] = np.sqrt(df['A']**2 + df['B']**2)\n",
    "print(df)"
   ]
  },
  {
   "cell_type": "markdown",
   "metadata": {},
   "source": [
    "# Créer 2 nouvelles colonnes"
   ]
  },
  {
   "cell_type": "code",
   "execution_count": 15,
   "metadata": {},
   "outputs": [
    {
     "name": "stdout",
     "output_type": "stream",
     "text": [
      "           Colonne Colonne1 Colonne2\n",
      "0  Chaine1-Chaine2  Chaine1  Chaine2\n",
      "1              A-B        A        B\n",
      "2              X-Y        X        Y\n"
     ]
    }
   ],
   "source": [
    "import pandas as pd\n",
    "\n",
    "df = pd.DataFrame({'Colonne': ['Chaine1-Chaine2', 'A-B', 'X-Y']})\n",
    "df[['Colonne1', 'Colonne2']] = df['Colonne'].str.split('-', expand=True)\n",
    "print(df)"
   ]
  }
 ],
 "metadata": {
  "kernelspec": {
   "display_name": "base",
   "language": "python",
   "name": "python3"
  },
  "language_info": {
   "codemirror_mode": {
    "name": "ipython",
    "version": 3
   },
   "file_extension": ".py",
   "mimetype": "text/x-python",
   "name": "python",
   "nbconvert_exporter": "python",
   "pygments_lexer": "ipython3",
   "version": "3.11.5"
  }
 },
 "nbformat": 4,
 "nbformat_minor": 2
}
