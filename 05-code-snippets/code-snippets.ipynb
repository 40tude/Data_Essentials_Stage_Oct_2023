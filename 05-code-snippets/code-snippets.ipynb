{
 "cells": [
  {
   "cell_type": "markdown",
   "metadata": {},
   "source": [
    "# Créer des colonnes avec le contenu d'une colonne"
   ]
  },
  {
   "cell_type": "code",
   "execution_count": 223,
   "metadata": {},
   "outputs": [
    {
     "name": "stdout",
     "output_type": "stream",
     "text": [
      "Table avant : \n",
      "            Colonne\n",
      "0  Chaine1-Chaine2 \n",
      "\n",
      "Table après : \n",
      "            Colonne Colonne1 Colonne2\n",
      "0  Chaine1-Chaine2  Chaine1  Chaine2\n",
      "1              A-B        A        B\n",
      "2              X-Y        X        Y \n",
      "\n"
     ]
    }
   ],
   "source": [
    "import pandas as pd\n",
    "\n",
    "df = pd.DataFrame({'Colonne': ['Chaine1-Chaine2', 'A-B', 'X-Y']})\n",
    "print(\"Table avant : \\n\", df.head(1), \"\\n\")\n",
    "\n",
    "df[['Colonne1', 'Colonne2']] = df['Colonne'].str.split('-', expand=True)\n",
    "print(\"Table après : \\n\", df.head(), \"\\n\")"
   ]
  },
  {
   "cell_type": "markdown",
   "metadata": {},
   "source": [
    "# Calculer de nouvelles colonnes"
   ]
  },
  {
   "cell_type": "code",
   "execution_count": 224,
   "metadata": {},
   "outputs": [
    {
     "name": "stdout",
     "output_type": "stream",
     "text": [
      "Table avant : \n",
      "    A  B\n",
      "0  1  4\n",
      "1  2  5\n",
      "2  3  6 \n",
      "\n",
      "Table après : \n",
      "    A  B  Somme  Hypothénuse  Prix-US\n",
      "0  1  4      5     4.123106      0.5\n",
      "1  2  5      7     5.385165      1.0\n",
      "2  3  6      9     6.708204      1.5 \n",
      "\n"
     ]
    }
   ],
   "source": [
    "import pandas as pd\n",
    "import numpy as np\n",
    "\n",
    "df = pd.DataFrame({'A': [1, 2, 3], 'B': [4, 5, 6]})\n",
    "print(\"Table avant : \\n\", df.head(), \"\\n\")\n",
    "\n",
    "df['Somme'] = df['A'] + df['B']\n",
    "df['Hypothénuse'] = np.sqrt(df['A']**2 + df['B']**2)\n",
    "\n",
    "taux = 0.5\n",
    "df[\"Prix-US\"]=df[\"A\"]*taux\n",
    "\n",
    "print(\"Table après : \\n\", df.head(), \"\\n\")\n"
   ]
  },
  {
   "cell_type": "markdown",
   "metadata": {},
   "source": [
    "# Difference entre `apply()` et `transform()`\n"
   ]
  },
  {
   "cell_type": "markdown",
   "metadata": {},
   "source": [
    "## `apply()`\n",
    "* `apply()` est plus générique que `transform()`\n",
    "* Utilisée pour appliquer une fonction sur des DataFrames entiers, des colonnes ou des lignes spécifiques\n",
    "* La fonction passée à `apply()` peut retourner un scalaire, une Serie ou un DataFrame"
   ]
  },
  {
   "cell_type": "code",
   "execution_count": 225,
   "metadata": {},
   "outputs": [
    {
     "name": "stdout",
     "output_type": "stream",
     "text": [
      "Table avant : \n",
      "    A  B\n",
      "0  1  4\n",
      "1  2  5\n",
      "2  3  6 \n",
      "\n",
      "Table après : \n",
      "    A  B   sqrt(A)  Moyenne\n",
      "0  1  4  1.000000      2.5\n",
      "1  2  5  1.414214      3.5\n",
      "2  3  6  1.732051      4.5 \n",
      "\n",
      "Serie A après\n",
      " 0    1\n",
      "1    4\n",
      "2    9\n",
      "Name: A, dtype: int64 \n",
      "\n"
     ]
    }
   ],
   "source": [
    "import pandas as pd\n",
    "\n",
    "df = pd.DataFrame({\n",
    "  'A': [1, 2, 3], \n",
    "  'B': [4, 5, 6]\n",
    "})\n",
    "\n",
    "def moyenne(row):\n",
    "  return (row['A']+ row['B'])/2\n",
    "\n",
    "print(\"Table avant : \\n\", df.head(), \"\\n\")\n",
    "\n",
    "df[\"sqrt(A)\"] = df['A'].apply(lambda x: x **.5)     # fonction lambda\n",
    "df[\"Moyenne\"] = df.apply(moyenne, axis=1)\n",
    "print(\"Table après : \\n\", df.head(), \"\\n\")\n",
    "\n",
    "result = df['A'].apply(lambda x: x **2)                 \n",
    "print(\"Serie A après\\n\", result, \"\\n\")"
   ]
  },
  {
   "cell_type": "markdown",
   "metadata": {},
   "source": [
    "## `transform()`\n",
    "* **`transform()`** est spécifiquement conçue pour effectuer des opérations sur des groupes de données.\n",
    "* La fonction de transformation doit renvoyer une série de la même longueur que l'entrée, et elle est appliquée à chaque groupe de données.\n",
    "* Utile pour effectuer des opérations de groupe (par exemple, remplacer les valeurs manquantes par la moyenne du groupe)."
   ]
  },
  {
   "cell_type": "code",
   "execution_count": 226,
   "metadata": {},
   "outputs": [
    {
     "name": "stdout",
     "output_type": "stream",
     "text": [
      "Table avant : \n",
      "   Groupe  Valeur\n",
      "0      A     NaN\n",
      "1      A     2.0\n",
      "2      B     NaN\n",
      "3      B     4.0\n",
      "4      A     5.0 \n",
      "\n",
      "Table après : \n",
      "   Groupe  Valeur\n",
      "0      A     3.5\n",
      "1      A     2.0\n",
      "2      B     4.0\n",
      "3      B     4.0\n",
      "4      A     5.0 \n",
      "\n"
     ]
    }
   ],
   "source": [
    "import pandas as pd\n",
    "\n",
    "df = pd.DataFrame({\n",
    "  'Groupe': ['A', 'A', 'B', 'B', 'A', 'B'], \n",
    "  'Valeur': [None, 2, None, 4, 5, None]\n",
    "})\n",
    "print(\"Table avant : \\n\", df.head(), \"\\n\")\n",
    "\n",
    "# Rempli les valeurs manquantes avec la moyenne du groupe\n",
    "moyennes_par_groupe = df.groupby('Groupe')['Valeur'].transform('mean')\n",
    "df['Valeur'] = df['Valeur'].fillna(moyennes_par_groupe)\n",
    "print(\"Table après : \\n\", df.head(), \"\\n\")"
   ]
  },
  {
   "cell_type": "markdown",
   "metadata": {},
   "source": [
    "# Extraire les nombres d'une chaîne et créer une colonne "
   ]
  },
  {
   "cell_type": "code",
   "execution_count": 227,
   "metadata": {},
   "outputs": [
    {
     "name": "stdout",
     "output_type": "stream",
     "text": [
      "Table avant : \n",
      "        Id Feature-0 Feature-1  Feature-2\n",
      "0    Riri      Val1  Marcel11     NE-555\n",
      "1    Fifi      Val2   Robert2  20-USA-48\n",
      "2  Loulou      Val3  Antoine3     Russia \n",
      "\n",
      "Table après : \n",
      "        Id Feature-0  Feature-1  Feature-2  Feature-3\n",
      "0    Riri      Val1         11     NE-555        555\n",
      "1    Fifi      Val2          2  20-USA-48       2048\n",
      "2  Loulou      Val3          3     Russia          0 \n",
      "\n"
     ]
    }
   ],
   "source": [
    "import pandas as pd\n",
    "import re                                    # regular expression\n",
    "\n",
    "df = pd.DataFrame({\n",
    "  'Id'       : [\"Riri\", \"Fifi\", \"Loulou\"],\n",
    "  'Feature-0': [\"Val1\", \"Val2\", \"Val3\"], \n",
    "  'Feature-1': [\"Marcel11\", \"Robert2\", \"Antoine3\"],\n",
    "  'Feature-2': [\"NE-555\", \"20-USA-48\", \"Russia\"],\n",
    "})\n",
    "\n",
    "def get_digit(mystr):\n",
    "  chiffres = re.findall(r'\\d+', str(mystr))  # Trouver tous les chiffres\n",
    "  try:\n",
    "    return int(''.join(chiffres))\n",
    "  except:\n",
    "    return 0                                 # on peut aussi retourner np.nan\n",
    "\n",
    "\n",
    "print(\"Table avant : \\n\", df.head(), \"\\n\")\n",
    "\n",
    "df['Feature-3'] = df['Feature-2'].apply(get_digit)         # voir le apply()\n",
    "df['Feature-1'] = df['Feature-1'].apply(get_digit)\n",
    "# df['Feature-0'] = df['Feature-0'].apply(keep_numbers)\n",
    "\n",
    "print(\"Table après : \\n\", df.head(), \"\\n\")"
   ]
  },
  {
   "cell_type": "markdown",
   "metadata": {},
   "source": [
    "# Extraire les valeurs d'une chaine, remplir une colone avec leur moyenne"
   ]
  },
  {
   "cell_type": "code",
   "execution_count": 236,
   "metadata": {},
   "outputs": [
    {
     "name": "stdout",
     "output_type": "stream",
     "text": [
      "Avant : \n",
      "        Id Feature-0 Feature-1\n",
      "0    Riri     11~13     18~20\n",
      "1    Fifi  10~20~30     10~20\n",
      "2  Loulou    50~100   50**100 \n",
      "\n",
      "Après : \n",
      "        Id  Feature-0 Feature-1  Moy Feature-1\n",
      "0    Riri       12.0     18~20           19.0\n",
      "1    Fifi       20.0     10~20           15.0\n",
      "2  Loulou       75.0   50**100            NaN\n"
     ]
    }
   ],
   "source": [
    "import pandas as pd\n",
    "\n",
    "def moy(x):\n",
    "  try : \n",
    "    return np.mean([float(i) for i in x.split(\"~\")])\n",
    "  except: \n",
    "    return np.nan     # on peut aussi retrouner une valeur : 42...\n",
    "\n",
    "df = pd.DataFrame({\n",
    "  'Id'       : [\"Riri\", \"Fifi\", \"Loulou\"],\n",
    "  'Feature-0': [\"11~13\", \"10~20~30\", \"50~100\"], \n",
    "  'Feature-1': [\"18~20\", \"10~20\", \"50**100\"],\n",
    "})\n",
    "print(\"Avant : \\n\", df.head(), \"\\n\")\n",
    "\n",
    "df['Feature-0'] = df['Feature-0'].apply(moy)          # voir le apply()\n",
    "df['Moy Feature-1'] = df['Feature-1'].apply(moy)\n",
    "\n",
    "print(\"Après : \\n\", df.head())\n"
   ]
  },
  {
   "cell_type": "markdown",
   "metadata": {},
   "source": [
    "# Transform (s'applique à un groupe)"
   ]
  },
  {
   "cell_type": "code",
   "execution_count": 240,
   "metadata": {},
   "outputs": [
    {
     "name": "stdout",
     "output_type": "stream",
     "text": [
      "Avant : \n",
      "   Groupe  Valeur\n",
      "0      A     NaN\n",
      "1      A    15.0\n",
      "2      B     NaN\n",
      "3      B    25.0\n",
      "4      A    30.0 \n",
      "\n",
      "Moyennes :\n",
      " 0    22.5\n",
      "1    22.5\n",
      "2    25.0\n",
      "3    25.0\n",
      "4    22.5\n",
      "5    25.0\n",
      "Name: Valeur, dtype: float64 \n",
      "\n",
      "Après : \n",
      "   Groupe  Valeur\n",
      "0      A    22.5\n",
      "1      A    15.0\n",
      "2      B    25.0\n",
      "3      B    25.0\n",
      "4      A    30.0 \n",
      "\n"
     ]
    }
   ],
   "source": [
    "import pandas as pd\n",
    "\n",
    "data = {'Groupe': ['A', 'A', 'B', 'B', 'A', 'B'],\n",
    "        'Valeur': [None, 15, None, 25, 30, None]}\n",
    "df = pd.DataFrame(data)\n",
    "print(\"Avant : \\n\", df.head(), \"\\n\")\n",
    "\n",
    "# Calculer la moyenne par groupe\n",
    "moyennes_par_groupe = df.groupby('Groupe')['Valeur'].transform('mean')         # voir le transform sur le groupe\n",
    "print(\"Moyennes :\\n\", moyennes_par_groupe, \"\\n\")\n",
    "\n",
    "# Remplacer les valeurs manquantes par la moyenne correspondante\n",
    "df['Valeur'] = df['Valeur'].fillna(moyennes_par_groupe)\n",
    "\n",
    "# Afficher le DataFrame après transformation\n",
    "print(\"Après : \\n\", df.head(), \"\\n\")"
   ]
  },
  {
   "cell_type": "markdown",
   "metadata": {},
   "source": [
    "# groupby : remplacer valeurs manquantes par moyenne de la catégorie\n",
    "\n",
    "* Marche pas dans tous les cas\n",
    "* Il faut que chaque catégorie ait une moyenne à calculer\n",
    "* Si une catégorie n'a aucune moyenne à calculer rien n'est fait\n"
   ]
  },
  {
   "cell_type": "code",
   "execution_count": 230,
   "metadata": {},
   "outputs": [
    {
     "name": "stdout",
     "output_type": "stream",
     "text": [
      "Avant : \n",
      "   Pays   PIB\n",
      "0    A   NaN\n",
      "1    A   NaN\n",
      "2    B  10.0\n",
      "3    B  25.0\n",
      "4    A   NaN \n",
      "\n",
      "Après : \n",
      "   Pays   PIB\n",
      "0    A   NaN\n",
      "1    A   NaN\n",
      "2    B  10.0\n",
      "3    B  25.0\n",
      "4    A   NaN \n",
      "\n"
     ]
    }
   ],
   "source": [
    "data = {\n",
    "  'Pays': ['A', 'A', 'B', 'B', 'A', 'B'],\n",
    "  'PIB': [None, None, 10, 25, None, 45]\n",
    "}\n",
    "df = pd.DataFrame(data)\n",
    "\n",
    "print(\"Avant : \\n\", df.head(), \"\\n\")\n",
    "moyennes_par_pays = df.groupby('Pays')['PIB'].mean()\n",
    "df['PIB'] = df.apply(lambda row: moyennes_par_pays[row['Pays']] if pd.isna(row['PIB']) else row['PIB'], axis=1)\n",
    "print(\"Après : \\n\", df.head(), \"\\n\")\n"
   ]
  },
  {
   "cell_type": "markdown",
   "metadata": {},
   "source": [
    "# groupby : remplacer valeurs manquantes par moyenne de la catégorie\n",
    "\n",
    "* Met 0 si la moyenne n'a pas pu être calculée"
   ]
  },
  {
   "cell_type": "code",
   "execution_count": 231,
   "metadata": {},
   "outputs": [
    {
     "name": "stdout",
     "output_type": "stream",
     "text": [
      "Avant : \n",
      "   Pays   PIB\n",
      "0    A   NaN\n",
      "1    A   NaN\n",
      "2    B  10.0\n",
      "3    B  25.0\n",
      "4    A   NaN \n",
      "\n",
      "Après : \n",
      "   Pays   PIB\n",
      "0    A   0.0\n",
      "1    A   0.0\n",
      "2    B  10.0\n",
      "3    B  25.0\n",
      "4    A   0.0 \n",
      "\n"
     ]
    }
   ],
   "source": [
    "data = {\n",
    "  'Pays': ['A', 'A', 'B', 'B', 'A', 'B'],\n",
    "  'PIB': [None, None, 10, 25, None, 45]\n",
    "}\n",
    "df = pd.DataFrame(data)\n",
    "\n",
    "print(\"Avant : \\n\", df.head(), \"\\n\")\n",
    "moyennes_par_pays = df.groupby('Pays')['PIB'].mean()\n",
    "moyennes_par_pays.fillna(0.0, inplace=True)\n",
    "df['PIB'] = df.apply(lambda row: moyennes_par_pays[row['Pays']] if pd.isna(row['PIB']) else row['PIB'], axis=1)\n",
    "print(\"Après : \\n\", df.head(), \"\\n\")\n",
    "\n"
   ]
  },
  {
   "cell_type": "markdown",
   "metadata": {},
   "source": [
    "# Supprimer des colonnes en fonction d'un motif dans le titre"
   ]
  },
  {
   "cell_type": "code",
   "execution_count": 232,
   "metadata": {},
   "outputs": [
    {
     "name": "stdout",
     "output_type": "stream",
     "text": [
      "Table avant : \n",
      "      Id  Feature0  Feature1  Feature2  Feature3  Feature4  Feature5  Feature6\n",
      "0  Riri         1         4         7         1         4         7         1 \n",
      "\n",
      "Table après : \n",
      "      Id  Feature0  Feature1  Feature5  Feature6\n",
      "0  Riri         1         4         7         1 \n",
      "\n"
     ]
    }
   ],
   "source": [
    "import pandas as pd\n",
    "df = pd.DataFrame({\n",
    "  'Id'      : [\"Riri\", \"Fifi\", \"Loulou\"],\n",
    "  'Feature0': [1, 2, 3], \n",
    "  'Feature1': [4, 5, 6],\n",
    "  'Feature2': [7, 8, 9],\n",
    "  'Feature3': [1, 2, 3],\n",
    "  'Feature4': [4, 5, 6],\n",
    "  'Feature5': [7, 8, 9],\n",
    "  'Feature6': [1, 2, 3]\n",
    "})\n",
    "print(\"Table avant : \\n\", df.head(1), \"\\n\")\n",
    "columns_to_drop=[f'Feature{i}' for i in range (2,5)]\n",
    "df.drop(columns=columns_to_drop, inplace=True)\n",
    "print(\"Table après : \\n\", df.head(1), \"\\n\")\n"
   ]
  },
  {
   "cell_type": "markdown",
   "metadata": {},
   "source": [
    "# Merger 2 fichiers csv ou dataframe"
   ]
  },
  {
   "cell_type": "code",
   "execution_count": 233,
   "metadata": {},
   "outputs": [
    {
     "name": "stdout",
     "output_type": "stream",
     "text": [
      "    Id Valeur1_x Valeur2_x  Valeur1_y  Valeur2_y\n",
      "0  101         a        aa          1         11\n",
      "1  200         c        cc          3         13\n",
      "2  300         e        ee          5         15\n"
     ]
    }
   ],
   "source": [
    "import pandas as pd\n",
    "\n",
    "# Charger les deux fichiers CSV\n",
    "# df1 = pd.read_csv('fichier1.csv', delimiter=\";\")\n",
    "# df2 = pd.read_csv('fichier2.csv', delimiter=\";\")\n",
    "df1 = pd.DataFrame({\n",
    "  'Id' : [101, 1001, 200, 2000, 300],\n",
    "  'Valeur1' : ['a', 'b', 'c', 'd', 'e'],\n",
    "  'Valeur2' : ['aa', 'bb', 'cc', 'dd', 'ee']\n",
    "})\n",
    "\n",
    "df2 = pd.DataFrame({\n",
    "  'Id' : [101, 102, 200, 201, 300, 500],\n",
    "  'Valeur1' : [1,2,3,4,5,10],\n",
    "  'Valeur2' : [11,12,13,14,15,100]\n",
    "})\n",
    "\n",
    "# Effectue le merge sur la colonne 'Id'\n",
    "resultat_merge = pd.merge(df1, df2, on='Id')\n",
    "\n",
    "# Afficher le résultat\n",
    "print(resultat_merge)"
   ]
  },
  {
   "cell_type": "markdown",
   "metadata": {},
   "source": [
    "# Sauver un Dataframe"
   ]
  },
  {
   "cell_type": "code",
   "execution_count": 234,
   "metadata": {},
   "outputs": [],
   "source": [
    "df.to_csv(\"mon-fichier.csv\", index=False)"
   ]
  },
  {
   "cell_type": "markdown",
   "metadata": {},
   "source": [
    "# Merge avancé de 2 Dataframes\n",
    "\n",
    "* La seconde table contient des Types dont on veut calculer la moyennes des features\n",
    "* Voir le contenu de la Table 3\n",
    "* Une des features de la Table 1 est le type\n",
    "* On veut étendre la Table 1, avec pour chaque ligne, en fonction du type, les moyennes calculées avec la Table 2 \n"
   ]
  },
  {
   "cell_type": "code",
   "execution_count": 246,
   "metadata": {},
   "outputs": [
    {
     "name": "stdout",
     "output_type": "stream",
     "text": [
      "Table 2 :\n",
      "           Id   Type  Feature-1  Value\n",
      "0       Riri  Type1          0     10\n",
      "1       Fifi  Type2          1     20\n",
      "2     Loulou  Type3          2     30\n",
      "3  Avasarala  Type1          3     11\n",
      "4     Holden  Type2          4     21\n",
      "5      Naomi  Type3          5     31\n",
      "6  Razorback  Type1          6     12\n",
      "7     Apollo  Type2          7     22\n",
      "8     Soyouz  Type3          8     32 \n",
      "\n",
      "Table 3 : Depuis Table 2, les moyennes de Value et Feature-1 par Type\n",
      "        Feature-1  Value\n",
      "Type                   \n",
      "Type1        3.0   11.0\n",
      "Type2        4.0   21.0\n",
      "Type3        5.0   31.0 \n",
      "\n",
      "Table 1 :\n",
      "           Id Colonne-00  Colonne-01 Colonne-02\n",
      "0       Riri         BB       3.140      Type1\n",
      "1  Avasarala         SF      42.000      Type2\n",
      "2     Apollo      Space       2.718      Type2\n",
      "3     Soyouz      Space       1.618      Type1 \n",
      "\n",
      "Merge de Table 1 et Table 3 sur le Type :\n",
      "           Id Colonne-00  Colonne-01 Colonne-02  Feature-1  Value\n",
      "0       Riri         BB       3.140      Type1        3.0   11.0\n",
      "1     Soyouz      Space       1.618      Type1        3.0   11.0\n",
      "2  Avasarala         SF      42.000      Type2        4.0   21.0\n",
      "3     Apollo      Space       2.718      Type2        4.0   21.0 \n",
      "\n"
     ]
    }
   ],
   "source": [
    "df2 = pd.DataFrame({\n",
    "  'Id'        : [\"Riri\", \"Fifi\", \"Loulou\", \"Avasarala\", \"Holden\", \"Naomi\", \"Razorback\", \"Apollo\", \"Soyouz\"],\n",
    "  'Type'      : [\"Type1\", \"Type2\", \"Type3\", \"Type1\", \"Type2\", \"Type3\", \"Type1\", \"Type2\", \"Type3\"], \n",
    "  'Feature-1' : [0, 1, 2, 3, 4, 5, 6, 7, 8],\n",
    "  'Value'     : [10, 20, 30, 11, 21, 31, 12, 22, 32],\n",
    "})\n",
    "print(\"Table 2 :\\n\", df2.head(10), \"\\n\")\n",
    "\n",
    "# df3 = df2.groupby('Type')[\"Value\"].transform(\"mean\")\n",
    "# df3 = df2.groupby('Type')[\"Value\"].mean()\n",
    "# print(\"Table 3 : Depuis Table 2, les moyennes de Value par Type\\n\", df3, \"\\n\")\n",
    "\n",
    "df3 = df2.groupby('Type')[[\"Feature-1\", \"Value\"]].mean()\n",
    "print(\"Table 3 : Depuis Table 2, les moyennes de Value et Feature-1 par Type\\n\", df3, \"\\n\")\n",
    "\n",
    "df1 = pd.DataFrame({\n",
    "  'Id'        : [\"Riri\", \"Avasarala\", \"Apollo\", \"Soyouz\"],\n",
    "  'Colonne-00': [\"BB\", \"SF\", \"Space\", \"Space\"], \n",
    "  'Colonne-01': [3.14, 42, 2.718, 1.618],\n",
    "  'Colonne-02': [\"Type1\", \"Type2\", \"Type2\", \"Type1\"],\n",
    "})\n",
    "print(\"Table 1 :\\n\", df1.head(), \"\\n\")\n",
    "\n",
    "# Voir que dans le join les colonnes n'ont pas le même nom\n",
    "df4 = pd.merge(df1, df3, left_on='Colonne-02', right_on='Type', how='inner' )\n",
    "# df4 = pd.merge(df1, df2.groupby('Type')[[\"Feature-1\",\"Value\"]].mean(),left_on='Colonne-02', right_on='Type', how='inner' )\n",
    "print(\"Merge de Table 1 et Table 3 sur le Type :\\n\", df4.head(10), \"\\n\")\n"
   ]
  }
 ],
 "metadata": {
  "kernelspec": {
   "display_name": "base",
   "language": "python",
   "name": "python3"
  },
  "language_info": {
   "codemirror_mode": {
    "name": "ipython",
    "version": 3
   },
   "file_extension": ".py",
   "mimetype": "text/x-python",
   "name": "python",
   "nbconvert_exporter": "python",
   "pygments_lexer": "ipython3",
   "version": "3.11.5"
  }
 },
 "nbformat": 4,
 "nbformat_minor": 2
}
