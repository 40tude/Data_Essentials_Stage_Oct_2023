{
 "cells": [
  {
   "attachments": {},
   "cell_type": "markdown",
   "metadata": {},
   "source": [
    "# Introduction to Python - Exercises\n",
    "\n",
    "## HackerRank 🐒\n",
    "\n",
    "We've already used it for SQL and it turns out that HackerRank is a great tool to learn how to code in Python too. So let's try the following challenges:\n",
    "\n",
    "\n",
    "\n",
    "*   [Say \"Hello, World!\" With Python](https://www.hackerrank.com/challenges/py-hello-world/problem)\n",
    "*   [Arithmetic Operators](https://www.hackerrank.com/challenges/python-arithmetic-operators/problem)\n",
    "*   [Division](https://www.hackerrank.com/challenges/python-division/problem)\n",
    "*   [Loops](https://www.hackerrank.com/challenges/python-loops/problem) - (👋 : You'll need to use the function [range()](https://pynative.com/python-range-function/)\n",
    "*   [Python If-Else](https://www.hackerrank.com/challenges/py-if-else/problem) (👋 : You'll need to use [range()](https://pynative.com/python-range-function/) and [%](https://data-flair.training/blogs/python-operator/#targetText=Python%20Arithmetic%20Operator,operators%20for%20basic%20mathematical%20operations.&targetText=Adds%20the%20values%20on%20either%20side%20of%20the%20operator.&targetText=Subtracts%20the%20value%20on%20the%20right%20from%20the%20one%20on%20the%20left.&targetText=Multiplies%20the%20values%20on%20either%20side%20of%20the%20operator.))\n",
    "\n",
    "\n",
    "## Pandas 🐼\n",
    "\n",
    "We're going to manipulate data with `pandas`.\n",
    "\n",
    "1. Open a notebook\n",
    "\n",
    ":::note\n",
    "You can use whatever suits you best : Jupyter Lab locally, [Google Colab](https://colab.research.google.com/?hl=fr) or you can also subscribe to [JULIE's workstations](https://app.jedha.co/workspace) in which Jupyter and all the tools needed to do Data Science are installed.\n",
    ":::\n",
    "\n",
    "2. Import `pandas`\n",
    "3. Apply the code below\n",
    "\n",
    "```python\n",
    "from sklearn.datasets import fetch_california_housing\n",
    "cali_houses = fetch_california_housing()\n",
    "cali_houses = pd.DataFrame(columns=cali_houses.feature_names, data=cali_houses.data)\n",
    "```\n",
    "\n",
    "\n",
    "4. We have created a dataset and stored it in the variable _cali_houses._ Try to get an overview of the first 5 rows of the dataset\n",
    "5. Calculate the average of all the columns in the dataset\n",
    "6. Calculate the average of the _HouseAge_ column.\n",
    "7. Calculate the standard deviation of the _Population_ column.\n",
    "8. Describe the main statistics of the dataset"
   ]
  }
 ],
 "metadata": {
  "kernelspec": {
   "display_name": "Python 3",
   "language": "python",
   "name": "python3"
  },
  "language_info": {
   "codemirror_mode": {
    "name": "ipython",
    "version": 3
   },
   "file_extension": ".py",
   "mimetype": "text/x-python",
   "name": "python",
   "nbconvert_exporter": "python",
   "pygments_lexer": "ipython3",
   "version": "3.8.5"
  }
 },
 "nbformat": 4,
 "nbformat_minor": 4
}
