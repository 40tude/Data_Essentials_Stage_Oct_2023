{
 "cells": [
  {
   "cell_type": "markdown",
   "metadata": {},
   "source": [
    "# Estimates and sampling\n",
    "## Facebook"
   ]
  },
  {
   "cell_type": "code",
   "execution_count": 1,
   "metadata": {},
   "outputs": [],
   "source": [
    "# import libraries\n",
    "import pandas as pd\n",
    "import math"
   ]
  },
  {
   "cell_type": "code",
   "execution_count": 2,
   "metadata": {},
   "outputs": [
    {
     "name": "stdout",
     "output_type": "stream",
     "text": [
      "(102, 4)\n"
     ]
    }
   ],
   "source": [
    "# import dataset\n",
    "dataset = pd.read_excel(\"../99-assets/Python/Hours Spent on Facebook.xlsx\")\n",
    "print(dataset.shape)"
   ]
  },
  {
   "cell_type": "code",
   "execution_count": 3,
   "metadata": {},
   "outputs": [
    {
     "data": {
      "text/html": [
       "<div>\n",
       "<style scoped>\n",
       "    .dataframe tbody tr th:only-of-type {\n",
       "        vertical-align: middle;\n",
       "    }\n",
       "\n",
       "    .dataframe tbody tr th {\n",
       "        vertical-align: top;\n",
       "    }\n",
       "\n",
       "    .dataframe thead th {\n",
       "        text-align: right;\n",
       "    }\n",
       "</style>\n",
       "<table border=\"1\" class=\"dataframe\">\n",
       "  <thead>\n",
       "    <tr style=\"text-align: right;\">\n",
       "      <th></th>\n",
       "      <th>Customer</th>\n",
       "      <th>Hours spent on Facebook on Mobile</th>\n",
       "      <th>Unnamed: 2</th>\n",
       "      <th>Unnamed: 3</th>\n",
       "    </tr>\n",
       "  </thead>\n",
       "  <tbody>\n",
       "    <tr>\n",
       "      <th>0</th>\n",
       "      <td>1</td>\n",
       "      <td>4.092475</td>\n",
       "      <td>NaN</td>\n",
       "      <td>2.978913</td>\n",
       "    </tr>\n",
       "    <tr>\n",
       "      <th>1</th>\n",
       "      <td>2</td>\n",
       "      <td>7.233371</td>\n",
       "      <td>NaN</td>\n",
       "      <td>NaN</td>\n",
       "    </tr>\n",
       "    <tr>\n",
       "      <th>2</th>\n",
       "      <td>3</td>\n",
       "      <td>7.455792</td>\n",
       "      <td>NaN</td>\n",
       "      <td>NaN</td>\n",
       "    </tr>\n",
       "    <tr>\n",
       "      <th>3</th>\n",
       "      <td>4</td>\n",
       "      <td>7.253503</td>\n",
       "      <td>NaN</td>\n",
       "      <td>NaN</td>\n",
       "    </tr>\n",
       "    <tr>\n",
       "      <th>4</th>\n",
       "      <td>5</td>\n",
       "      <td>2.249682</td>\n",
       "      <td>NaN</td>\n",
       "      <td>NaN</td>\n",
       "    </tr>\n",
       "  </tbody>\n",
       "</table>\n",
       "</div>"
      ],
      "text/plain": [
       "   Customer   Hours spent on Facebook on Mobile  Unnamed: 2  Unnamed: 3\n",
       "0          1                           4.092475         NaN    2.978913\n",
       "1          2                           7.233371         NaN         NaN\n",
       "2          3                           7.455792         NaN         NaN\n",
       "3          4                           7.253503         NaN         NaN\n",
       "4          5                           2.249682         NaN         NaN"
      ]
     },
     "execution_count": 3,
     "metadata": {},
     "output_type": "execute_result"
    }
   ],
   "source": [
    "dataset.head()"
   ]
  },
  {
   "cell_type": "code",
   "execution_count": 4,
   "metadata": {},
   "outputs": [
    {
     "name": "stdout",
     "output_type": "stream",
     "text": [
      "Moyenne 4.847316438536623\n",
      "Ecart type 2.9789129198018\n"
     ]
    }
   ],
   "source": [
    "# Calculate Mean & Standard Dev\n",
    "mean = dataset[\"Hours spent on Facebook on Mobile\"].mean()\n",
    "stdev = dataset[\"Hours spent on Facebook on Mobile\"].std()\n",
    "\n",
    "print(\"Moyenne\", mean)\n",
    "print(\"Ecart type\", stdev)\n"
   ]
  },
  {
   "cell_type": "markdown",
   "metadata": {},
   "source": [
    "$$E = t \\frac{s}{\\sqrt{n}}$$"
   ]
  },
  {
   "cell_type": "code",
   "execution_count": 5,
   "metadata": {},
   "outputs": [],
   "source": [
    "    \n",
    "# Set the t-value for 95% confidence interval\n",
    "t = 1.96\n",
    "\n",
    "# Compute the interval \n",
    "\n",
    "# intervalle = [mean - t*stdev/math.sqrt(102), mean + t*stdev/math.sqrt(102)]\n",
    "\n",
    "# intervalle = [mean - t*stdev/math.sqrt(len(dataset)), mean + t*stdev/math.sqrt(len(dataset))]\n",
    "\n",
    "# n = len(dataset)\n",
    "# intervalle = [mean - t*stdev/math.sqrt(n), mean + t*stdev/math.sqrt(n)]\n",
    "\n",
    "n = len(dataset)\n",
    "E = t*stdev/math.sqrt(n)\n",
    "intervalle = [mean - E, mean + E]"
   ]
  },
  {
   "cell_type": "code",
   "execution_count": 6,
   "metadata": {},
   "outputs": [
    {
     "name": "stdout",
     "output_type": "stream",
     "text": [
      "[4.269202030113112, 5.4254308469601344]\n"
     ]
    }
   ],
   "source": [
    "print(intervalle)"
   ]
  },
  {
   "cell_type": "markdown",
   "metadata": {},
   "source": [
    "## Google"
   ]
  },
  {
   "cell_type": "code",
   "execution_count": 7,
   "metadata": {},
   "outputs": [
    {
     "data": {
      "text/plain": [
       "(31, 1)"
      ]
     },
     "execution_count": 7,
     "metadata": {},
     "output_type": "execute_result"
    }
   ],
   "source": [
    "dataset = pd.read_excel(\"../99-assets/Python/Monthly spending on adwords.xlsx\")\n",
    "dataset.shape"
   ]
  },
  {
   "cell_type": "code",
   "execution_count": 8,
   "metadata": {},
   "outputs": [],
   "source": [
    "# Calculate Mean & Standard Dev\n",
    "mean = dataset[\"Monthly spending\"].mean()\n",
    "stdev = dataset[\"Monthly spending\"].std()\n",
    "    \n",
    "# Set the t-value for 95% confidence level (Student distribution !)\n",
    "t = 2.043\n",
    "\n",
    "# Find the interval \n",
    "# real_mean = [mean - t*stdev/math.sqrt(31), mean + t*stdev/math.sqrt(31)]\n",
    "real_mean = [mean - t*stdev/math.sqrt(len(dataset)), mean + t*stdev/math.sqrt(len(dataset))]"
   ]
  },
  {
   "cell_type": "code",
   "execution_count": 9,
   "metadata": {},
   "outputs": [
    {
     "name": "stdout",
     "output_type": "stream",
     "text": [
      "[398.58537746767627, 584.9603384818613]\n"
     ]
    }
   ],
   "source": [
    "print(real_mean)"
   ]
  },
  {
   "cell_type": "markdown",
   "metadata": {},
   "source": [
    "## Nintendo"
   ]
  },
  {
   "cell_type": "code",
   "execution_count": 10,
   "metadata": {},
   "outputs": [
    {
     "data": {
      "text/plain": [
       "(20, 2)"
      ]
     },
     "execution_count": 10,
     "metadata": {},
     "output_type": "execute_result"
    }
   ],
   "source": [
    "dataset = pd.read_excel(\"../99-assets/Python/Number of switch sold.xlsx\")\n",
    "dataset.shape"
   ]
  },
  {
   "cell_type": "code",
   "execution_count": 11,
   "metadata": {},
   "outputs": [
    {
     "data": {
      "text/html": [
       "<div>\n",
       "<style scoped>\n",
       "    .dataframe tbody tr th:only-of-type {\n",
       "        vertical-align: middle;\n",
       "    }\n",
       "\n",
       "    .dataframe tbody tr th {\n",
       "        vertical-align: top;\n",
       "    }\n",
       "\n",
       "    .dataframe thead th {\n",
       "        text-align: right;\n",
       "    }\n",
       "</style>\n",
       "<table border=\"1\" class=\"dataframe\">\n",
       "  <thead>\n",
       "    <tr style=\"text-align: right;\">\n",
       "      <th></th>\n",
       "      <th>City</th>\n",
       "      <th>Number of sales</th>\n",
       "    </tr>\n",
       "  </thead>\n",
       "  <tbody>\n",
       "    <tr>\n",
       "      <th>0</th>\n",
       "      <td>New York</td>\n",
       "      <td>65538.794054</td>\n",
       "    </tr>\n",
       "    <tr>\n",
       "      <th>1</th>\n",
       "      <td>San Francisco</td>\n",
       "      <td>45709.289870</td>\n",
       "    </tr>\n",
       "    <tr>\n",
       "      <th>2</th>\n",
       "      <td>Seattle</td>\n",
       "      <td>87417.957092</td>\n",
       "    </tr>\n",
       "    <tr>\n",
       "      <th>3</th>\n",
       "      <td>Denver</td>\n",
       "      <td>96461.186529</td>\n",
       "    </tr>\n",
       "    <tr>\n",
       "      <th>4</th>\n",
       "      <td>Austin</td>\n",
       "      <td>3665.528408</td>\n",
       "    </tr>\n",
       "  </tbody>\n",
       "</table>\n",
       "</div>"
      ],
      "text/plain": [
       "            City  Number of sales\n",
       "0       New York     65538.794054\n",
       "1  San Francisco     45709.289870\n",
       "2       Seattle      87417.957092\n",
       "3        Denver      96461.186529\n",
       "4        Austin       3665.528408"
      ]
     },
     "execution_count": 11,
     "metadata": {},
     "output_type": "execute_result"
    }
   ],
   "source": [
    "dataset.head()"
   ]
  },
  {
   "cell_type": "code",
   "execution_count": 12,
   "metadata": {},
   "outputs": [
    {
     "name": "stdout",
     "output_type": "stream",
     "text": [
      "42996.94036175361\n",
      "28365.335356619857\n"
     ]
    }
   ],
   "source": [
    "# Calculate Mean & Standard Dev\n",
    "mean = dataset[\"Number of sales\"].mean()\n",
    "stdev = dataset[\"Number of sales\"].std()\n",
    "print(mean)\n",
    "print(stdev)\n"
   ]
  },
  {
   "cell_type": "markdown",
   "metadata": {},
   "source": [
    "$$E = t \\frac{s}{\\sqrt{n}}$$\n",
    "\n",
    "Et donc \n",
    "\n",
    "$$ \\sqrt{n} = t \\frac{s}{E}$$\n",
    "\n",
    "$$ n = (t \\frac{s}{E})^2$$\n"
   ]
  },
  {
   "cell_type": "code",
   "execution_count": 13,
   "metadata": {},
   "outputs": [],
   "source": [
    "\n",
    "# Set Standard Error\n",
    "E = 5000\n",
    "\n",
    "# Set t value\n",
    "t = 1.96\n",
    "\n",
    "# Minimum Sample Size\n",
    "n = (t*stdev/E)**2"
   ]
  },
  {
   "cell_type": "code",
   "execution_count": 14,
   "metadata": {},
   "outputs": [
    {
     "name": "stdout",
     "output_type": "stream",
     "text": [
      "123.6368634876361\n",
      "124\n",
      "Nombre minimum de villes : 124\n"
     ]
    }
   ],
   "source": [
    "print(n)\n",
    "print(math.ceil(n))\n",
    "print(f\"Nombre minimum de villes : {int(n+1)}\")"
   ]
  },
  {
   "cell_type": "markdown",
   "metadata": {},
   "source": [
    "## Apple"
   ]
  },
  {
   "cell_type": "code",
   "execution_count": 15,
   "metadata": {},
   "outputs": [
    {
     "data": {
      "text/plain": [
       "(41, 1)"
      ]
     },
     "execution_count": 15,
     "metadata": {},
     "output_type": "execute_result"
    }
   ],
   "source": [
    "dataset = pd.read_excel(\"../99-assets/Python/satisfaction apple release.xlsx\")\n",
    "dataset.shape"
   ]
  },
  {
   "cell_type": "code",
   "execution_count": 16,
   "metadata": {},
   "outputs": [
    {
     "data": {
      "text/html": [
       "<div>\n",
       "<style scoped>\n",
       "    .dataframe tbody tr th:only-of-type {\n",
       "        vertical-align: middle;\n",
       "    }\n",
       "\n",
       "    .dataframe tbody tr th {\n",
       "        vertical-align: top;\n",
       "    }\n",
       "\n",
       "    .dataframe thead th {\n",
       "        text-align: right;\n",
       "    }\n",
       "</style>\n",
       "<table border=\"1\" class=\"dataframe\">\n",
       "  <thead>\n",
       "    <tr style=\"text-align: right;\">\n",
       "      <th></th>\n",
       "      <th>Satisfied customer</th>\n",
       "    </tr>\n",
       "  </thead>\n",
       "  <tbody>\n",
       "    <tr>\n",
       "      <th>0</th>\n",
       "      <td>0</td>\n",
       "    </tr>\n",
       "    <tr>\n",
       "      <th>1</th>\n",
       "      <td>0</td>\n",
       "    </tr>\n",
       "    <tr>\n",
       "      <th>2</th>\n",
       "      <td>0</td>\n",
       "    </tr>\n",
       "    <tr>\n",
       "      <th>3</th>\n",
       "      <td>0</td>\n",
       "    </tr>\n",
       "    <tr>\n",
       "      <th>4</th>\n",
       "      <td>0</td>\n",
       "    </tr>\n",
       "    <tr>\n",
       "      <th>5</th>\n",
       "      <td>1</td>\n",
       "    </tr>\n",
       "    <tr>\n",
       "      <th>6</th>\n",
       "      <td>1</td>\n",
       "    </tr>\n",
       "    <tr>\n",
       "      <th>7</th>\n",
       "      <td>0</td>\n",
       "    </tr>\n",
       "    <tr>\n",
       "      <th>8</th>\n",
       "      <td>1</td>\n",
       "    </tr>\n",
       "    <tr>\n",
       "      <th>9</th>\n",
       "      <td>1</td>\n",
       "    </tr>\n",
       "  </tbody>\n",
       "</table>\n",
       "</div>"
      ],
      "text/plain": [
       "   Satisfied customer\n",
       "0                   0\n",
       "1                   0\n",
       "2                   0\n",
       "3                   0\n",
       "4                   0\n",
       "5                   1\n",
       "6                   1\n",
       "7                   0\n",
       "8                   1\n",
       "9                   1"
      ]
     },
     "execution_count": 16,
     "metadata": {},
     "output_type": "execute_result"
    }
   ],
   "source": [
    "dataset.head(10)"
   ]
  },
  {
   "cell_type": "code",
   "execution_count": 17,
   "metadata": {},
   "outputs": [],
   "source": [
    "# Calculate percentage\n",
    "\n",
    "n = dataset.shape[0]\n",
    "\n",
    "k = dataset[\"Satisfied customer\"].sum()\n",
    "\n",
    "p = k/n\n",
    "\n",
    "# 95% n>30 => z=1.96\n",
    "z = 1.96 \n"
   ]
  },
  {
   "cell_type": "markdown",
   "metadata": {},
   "source": [
    "$$E = z \\sqrt{\\frac{p (1-p)}{n}}$$"
   ]
  },
  {
   "cell_type": "code",
   "execution_count": 18,
   "metadata": {},
   "outputs": [
    {
     "name": "stdout",
     "output_type": "stream",
     "text": [
      "p                       : 0.37\n",
      "E                       : 0.15\n",
      "Intervalle de confiance : [0.22, 0.51]\n"
     ]
    }
   ],
   "source": [
    "\n",
    "# Calculate the confidence interval of the proportion of the population.\n",
    "E = 1.96 * (p*(1-p)/n)**.5\n",
    "\n",
    "print(f\"p                       : {p:.2f}\")\n",
    "print(f\"E                       : {E:.2f}\")\n",
    "print(f\"Intervalle de confiance : [{p-E:.2f}, {p+E:.2f}]\")"
   ]
  },
  {
   "cell_type": "markdown",
   "metadata": {},
   "source": [
    "## Laboratory"
   ]
  },
  {
   "cell_type": "markdown",
   "metadata": {},
   "source": [
    "$$E = z \\sqrt{\\frac{p (1-p)}{n}}$$\n",
    "\n",
    "donc\n",
    "\n",
    "$$n = p (1-p) (\\frac{z}{E})^2$$"
   ]
  },
  {
   "cell_type": "code",
   "execution_count": 19,
   "metadata": {},
   "outputs": [],
   "source": [
    "# Set up your expected proportion\n",
    "p = 0.90\n",
    "\n",
    "# Set up Z\n",
    "z = 1.96\n",
    "\n",
    "# Set up Error\n",
    "E = 0.01\n",
    "\n",
    "# Calculate N \n",
    "n = p * (1 - p)* (z/E)**2"
   ]
  },
  {
   "cell_type": "code",
   "execution_count": 20,
   "metadata": {},
   "outputs": [
    {
     "name": "stdout",
     "output_type": "stream",
     "text": [
      "3457.439999999999\n",
      "3458\n",
      "Nombre de personnes à tester: 3457.44 => 3458\n"
     ]
    }
   ],
   "source": [
    "print(n)\n",
    "print(math.ceil(n))\n",
    "print(f\"Nombre de personnes à tester: {n:.2f} => {int(n+1)}\")"
   ]
  }
 ],
 "metadata": {
  "kernelspec": {
   "display_name": "Python 3",
   "language": "python",
   "name": "python3"
  },
  "language_info": {
   "codemirror_mode": {
    "name": "ipython",
    "version": 3
   },
   "file_extension": ".py",
   "mimetype": "text/x-python",
   "name": "python",
   "nbconvert_exporter": "python",
   "pygments_lexer": "ipython3",
   "version": "3.11.7"
  }
 },
 "nbformat": 4,
 "nbformat_minor": 4
}
