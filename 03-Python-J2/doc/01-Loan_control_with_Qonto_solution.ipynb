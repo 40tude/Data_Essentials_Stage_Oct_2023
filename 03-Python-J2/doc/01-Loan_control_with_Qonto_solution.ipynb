{
 "cells": [
  {
   "cell_type": "markdown",
   "metadata": {},
   "source": [
    "![](https://searchvectorlogo.com/wp-content/uploads/2020/10/qonto-logo-vector.png)"
   ]
  },
  {
   "cell_type": "markdown",
   "metadata": {},
   "source": [
    "## Loan control with Qonto \n",
    "\n",
    "[Qonto](https://qonto.com) is an online bank for SMEs and entrepreneurs. Their goal is: *building the best business banking service by using technology and design, with a fair and transparent pricing! We think that SMEs have been neglected for too long and that traditional institutions have failed to propose a banking experience adapted to the needs of entrepreneurs.*\n"
   ]
  },
  {
   "cell_type": "code",
   "execution_count": 10,
   "metadata": {},
   "outputs": [
    {
     "data": {
      "image/jpeg": "[encoded data removed]",
      "text/html": [
       "\n",
       "        <iframe\n",
       "            width=\"700\"\n",
       "            height=\"500\"\n",
       "            src=\"https://www.youtube.com/embed/pexgKGBEPzA\"\n",
       "            frameborder=\"0\"\n",
       "            allowfullscreen\n",
       "            \n",
       "        ></iframe>\n",
       "        "
      ],
      "text/plain": [
       "<IPython.lib.display.YouTubeVideo at 0x202fd603a90>"
      ]
     },
     "execution_count": 10,
     "metadata": {},
     "output_type": "execute_result"
    }
   ],
   "source": [
    "from IPython.display import YouTubeVideo\n",
    "YouTubeVideo(\n",
    "    \"pexgKGBEPzA\",\n",
    "    width=700,\n",
    "    height=500\n",
    "    )\n"
   ]
  },
  {
   "cell_type": "markdown",
   "metadata": {},
   "source": [
    "Recently Qonto partnered with [October](https://fr.october.eu/) to provide loan to their customers. The idea is: \n",
    "\n",
    "* No paperwork \n",
    "* Immediate answer \n",
    "\n",
    "Their service is actually based on Machine Learning since it's an algorithm (name [KEA](https://fr.october.eu/notre-nouveau-modele-de-scoring-analyse-risque-kea/)) that will tell whether the loan is authorized or not. \n",
    "\n",
    "Now, what Qonto would like to know is whether the algorithm follows the same performance as the ones showed during tests. \n",
    "\n",
    "The main way to test loan performance is to assess the percentage of defaults (how many people couldn't pay back their loan). To make sure the company stays profitable, they need to have an average default rate below 8.5%.\n",
    "\n",
    "We've gathered data on different loans, your goal is to test whether the algorithm respects the maximum default loan rate. "
   ]
  },
  {
   "cell_type": "markdown",
   "metadata": {},
   "source": [
    "## Step 1 - Import libraries"
   ]
  },
  {
   "cell_type": "code",
   "execution_count": 11,
   "metadata": {},
   "outputs": [],
   "source": [
    "import pandas as pd \n",
    "import numpy as np \n",
    "import matplotlib.pyplot as plt \n",
    "import seaborn as sns "
   ]
  },
  {
   "cell_type": "markdown",
   "metadata": {},
   "source": [
    "## Step 2 - Import Dataset \n",
    "\n",
    "Now you need to import your dataset. Download `swile_calls.csv` and load it in your notebook using `pandas`"
   ]
  },
  {
   "cell_type": "code",
   "execution_count": 12,
   "metadata": {},
   "outputs": [
    {
     "data": {
      "text/html": [
       "<div>\n",
       "<style scoped>\n",
       "    .dataframe tbody tr th:only-of-type {\n",
       "        vertical-align: middle;\n",
       "    }\n",
       "\n",
       "    .dataframe tbody tr th {\n",
       "        vertical-align: top;\n",
       "    }\n",
       "\n",
       "    .dataframe thead th {\n",
       "        text-align: right;\n",
       "    }\n",
       "</style>\n",
       "<table border=\"1\" class=\"dataframe\">\n",
       "  <thead>\n",
       "    <tr style=\"text-align: right;\">\n",
       "      <th></th>\n",
       "      <th>SK_ID_CURR</th>\n",
       "      <th>TARGET</th>\n",
       "      <th>NAME_CONTRACT_TYPE</th>\n",
       "      <th>CODE_GENDER</th>\n",
       "      <th>FLAG_OWN_CAR</th>\n",
       "      <th>FLAG_OWN_REALTY</th>\n",
       "      <th>CNT_CHILDREN</th>\n",
       "      <th>AMT_INCOME_TOTAL</th>\n",
       "      <th>AMT_CREDIT</th>\n",
       "      <th>AMT_ANNUITY</th>\n",
       "      <th>AMT_GOODS_PRICE</th>\n",
       "      <th>NAME_TYPE_SUITE</th>\n",
       "      <th>NAME_INCOME_TYPE</th>\n",
       "      <th>NAME_EDUCATION_TYPE</th>\n",
       "      <th>NAME_FAMILY_STATUS</th>\n",
       "      <th>NAME_HOUSING_TYPE</th>\n",
       "      <th>REGION_POPULATION_RELATIVE</th>\n",
       "    </tr>\n",
       "  </thead>\n",
       "  <tbody>\n",
       "    <tr>\n",
       "      <th>0</th>\n",
       "      <td>182940</td>\n",
       "      <td>0</td>\n",
       "      <td>Cash loans</td>\n",
       "      <td>F</td>\n",
       "      <td>N</td>\n",
       "      <td>N</td>\n",
       "      <td>0</td>\n",
       "      <td>90000.0</td>\n",
       "      <td>835380.0</td>\n",
       "      <td>23571.0</td>\n",
       "      <td>675000.0</td>\n",
       "      <td>Unaccompanied</td>\n",
       "      <td>Pensioner</td>\n",
       "      <td>Secondary / secondary special</td>\n",
       "      <td>Married</td>\n",
       "      <td>House / apartment</td>\n",
       "      <td>0.019689</td>\n",
       "    </tr>\n",
       "    <tr>\n",
       "      <th>1</th>\n",
       "      <td>397049</td>\n",
       "      <td>1</td>\n",
       "      <td>Cash loans</td>\n",
       "      <td>M</td>\n",
       "      <td>Y</td>\n",
       "      <td>Y</td>\n",
       "      <td>0</td>\n",
       "      <td>225000.0</td>\n",
       "      <td>254700.0</td>\n",
       "      <td>20250.0</td>\n",
       "      <td>225000.0</td>\n",
       "      <td>Unaccompanied</td>\n",
       "      <td>Working</td>\n",
       "      <td>Secondary / secondary special</td>\n",
       "      <td>Married</td>\n",
       "      <td>House / apartment</td>\n",
       "      <td>0.018029</td>\n",
       "    </tr>\n",
       "    <tr>\n",
       "      <th>2</th>\n",
       "      <td>120845</td>\n",
       "      <td>1</td>\n",
       "      <td>Cash loans</td>\n",
       "      <td>M</td>\n",
       "      <td>Y</td>\n",
       "      <td>Y</td>\n",
       "      <td>3</td>\n",
       "      <td>135000.0</td>\n",
       "      <td>755190.0</td>\n",
       "      <td>38686.5</td>\n",
       "      <td>675000.0</td>\n",
       "      <td>Unaccompanied</td>\n",
       "      <td>Working</td>\n",
       "      <td>Secondary / secondary special</td>\n",
       "      <td>Married</td>\n",
       "      <td>House / apartment</td>\n",
       "      <td>0.025164</td>\n",
       "    </tr>\n",
       "    <tr>\n",
       "      <th>3</th>\n",
       "      <td>155211</td>\n",
       "      <td>0</td>\n",
       "      <td>Revolving loans</td>\n",
       "      <td>M</td>\n",
       "      <td>N</td>\n",
       "      <td>N</td>\n",
       "      <td>2</td>\n",
       "      <td>180000.0</td>\n",
       "      <td>180000.0</td>\n",
       "      <td>9000.0</td>\n",
       "      <td>180000.0</td>\n",
       "      <td>Unaccompanied</td>\n",
       "      <td>Working</td>\n",
       "      <td>Secondary / secondary special</td>\n",
       "      <td>Married</td>\n",
       "      <td>House / apartment</td>\n",
       "      <td>0.007305</td>\n",
       "    </tr>\n",
       "    <tr>\n",
       "      <th>4</th>\n",
       "      <td>172542</td>\n",
       "      <td>0</td>\n",
       "      <td>Cash loans</td>\n",
       "      <td>M</td>\n",
       "      <td>N</td>\n",
       "      <td>Y</td>\n",
       "      <td>0</td>\n",
       "      <td>270000.0</td>\n",
       "      <td>781920.0</td>\n",
       "      <td>33129.0</td>\n",
       "      <td>675000.0</td>\n",
       "      <td>Unaccompanied</td>\n",
       "      <td>Working</td>\n",
       "      <td>Secondary / secondary special</td>\n",
       "      <td>Married</td>\n",
       "      <td>House / apartment</td>\n",
       "      <td>0.007330</td>\n",
       "    </tr>\n",
       "  </tbody>\n",
       "</table>\n",
       "</div>"
      ],
      "text/plain": [
       "   SK_ID_CURR  TARGET NAME_CONTRACT_TYPE CODE_GENDER FLAG_OWN_CAR  \\\n",
       "0      182940       0         Cash loans           F            N   \n",
       "1      397049       1         Cash loans           M            Y   \n",
       "2      120845       1         Cash loans           M            Y   \n",
       "3      155211       0    Revolving loans           M            N   \n",
       "4      172542       0         Cash loans           M            N   \n",
       "\n",
       "  FLAG_OWN_REALTY  CNT_CHILDREN  AMT_INCOME_TOTAL  AMT_CREDIT  AMT_ANNUITY  \\\n",
       "0               N             0           90000.0    835380.0      23571.0   \n",
       "1               Y             0          225000.0    254700.0      20250.0   \n",
       "2               Y             3          135000.0    755190.0      38686.5   \n",
       "3               N             2          180000.0    180000.0       9000.0   \n",
       "4               Y             0          270000.0    781920.0      33129.0   \n",
       "\n",
       "   AMT_GOODS_PRICE NAME_TYPE_SUITE NAME_INCOME_TYPE  \\\n",
       "0         675000.0   Unaccompanied        Pensioner   \n",
       "1         225000.0   Unaccompanied          Working   \n",
       "2         675000.0   Unaccompanied          Working   \n",
       "3         180000.0   Unaccompanied          Working   \n",
       "4         675000.0   Unaccompanied          Working   \n",
       "\n",
       "             NAME_EDUCATION_TYPE NAME_FAMILY_STATUS  NAME_HOUSING_TYPE  \\\n",
       "0  Secondary / secondary special            Married  House / apartment   \n",
       "1  Secondary / secondary special            Married  House / apartment   \n",
       "2  Secondary / secondary special            Married  House / apartment   \n",
       "3  Secondary / secondary special            Married  House / apartment   \n",
       "4  Secondary / secondary special            Married  House / apartment   \n",
       "\n",
       "   REGION_POPULATION_RELATIVE  \n",
       "0                    0.019689  \n",
       "1                    0.018029  \n",
       "2                    0.025164  \n",
       "3                    0.007305  \n",
       "4                    0.007330  "
      ]
     },
     "execution_count": 12,
     "metadata": {},
     "output_type": "execute_result"
    }
   ],
   "source": [
    "df = pd.read_csv(\"../99-assets/Python/qonto_loans.csv \")\n",
    "df.head()"
   ]
  },
  {
   "cell_type": "markdown",
   "metadata": {},
   "source": [
    "## Step 3 - EDA \n",
    "\n",
    "For our EDA, we will simply calculate the `mean` using python. Also, you can plug data in Tableau to see understand your dataset better. You can also read descriptions of the columns in the `qonto_loans_columns_description.xlsx` file "
   ]
  },
  {
   "cell_type": "code",
   "execution_count": 13,
   "metadata": {},
   "outputs": [
    {
     "data": {
      "text/html": [
       "<div>\n",
       "<style scoped>\n",
       "    .dataframe tbody tr th:only-of-type {\n",
       "        vertical-align: middle;\n",
       "    }\n",
       "\n",
       "    .dataframe tbody tr th {\n",
       "        vertical-align: top;\n",
       "    }\n",
       "\n",
       "    .dataframe thead th {\n",
       "        text-align: right;\n",
       "    }\n",
       "</style>\n",
       "<table border=\"1\" class=\"dataframe\">\n",
       "  <thead>\n",
       "    <tr style=\"text-align: right;\">\n",
       "      <th></th>\n",
       "      <th>SK_ID_CURR</th>\n",
       "      <th>TARGET</th>\n",
       "      <th>CNT_CHILDREN</th>\n",
       "      <th>AMT_INCOME_TOTAL</th>\n",
       "      <th>AMT_CREDIT</th>\n",
       "      <th>AMT_ANNUITY</th>\n",
       "      <th>AMT_GOODS_PRICE</th>\n",
       "      <th>REGION_POPULATION_RELATIVE</th>\n",
       "    </tr>\n",
       "  </thead>\n",
       "  <tbody>\n",
       "    <tr>\n",
       "      <th>count</th>\n",
       "      <td>10000.000000</td>\n",
       "      <td>10000.000000</td>\n",
       "      <td>10000.000000</td>\n",
       "      <td>1.000000e+04</td>\n",
       "      <td>1.000000e+04</td>\n",
       "      <td>9999.000000</td>\n",
       "      <td>9.997000e+03</td>\n",
       "      <td>10000.000000</td>\n",
       "    </tr>\n",
       "    <tr>\n",
       "      <th>mean</th>\n",
       "      <td>278434.555600</td>\n",
       "      <td>0.077500</td>\n",
       "      <td>0.419200</td>\n",
       "      <td>1.677800e+05</td>\n",
       "      <td>6.034761e+05</td>\n",
       "      <td>26909.101710</td>\n",
       "      <td>5.414610e+05</td>\n",
       "      <td>0.021051</td>\n",
       "    </tr>\n",
       "    <tr>\n",
       "      <th>std</th>\n",
       "      <td>103005.459546</td>\n",
       "      <td>0.267397</td>\n",
       "      <td>0.747213</td>\n",
       "      <td>9.376608e+04</td>\n",
       "      <td>4.015770e+05</td>\n",
       "      <td>14132.620434</td>\n",
       "      <td>3.679354e+05</td>\n",
       "      <td>0.014012</td>\n",
       "    </tr>\n",
       "    <tr>\n",
       "      <th>min</th>\n",
       "      <td>100077.000000</td>\n",
       "      <td>0.000000</td>\n",
       "      <td>0.000000</td>\n",
       "      <td>2.655000e+04</td>\n",
       "      <td>4.500000e+04</td>\n",
       "      <td>1980.000000</td>\n",
       "      <td>4.500000e+04</td>\n",
       "      <td>0.000533</td>\n",
       "    </tr>\n",
       "    <tr>\n",
       "      <th>25%</th>\n",
       "      <td>187556.750000</td>\n",
       "      <td>0.000000</td>\n",
       "      <td>0.000000</td>\n",
       "      <td>1.125000e+05</td>\n",
       "      <td>2.762775e+05</td>\n",
       "      <td>16551.000000</td>\n",
       "      <td>2.385000e+05</td>\n",
       "      <td>0.010032</td>\n",
       "    </tr>\n",
       "    <tr>\n",
       "      <th>50%</th>\n",
       "      <td>279763.000000</td>\n",
       "      <td>0.000000</td>\n",
       "      <td>0.000000</td>\n",
       "      <td>1.485000e+05</td>\n",
       "      <td>5.212800e+05</td>\n",
       "      <td>24822.000000</td>\n",
       "      <td>4.500000e+05</td>\n",
       "      <td>0.018850</td>\n",
       "    </tr>\n",
       "    <tr>\n",
       "      <th>75%</th>\n",
       "      <td>367411.750000</td>\n",
       "      <td>0.000000</td>\n",
       "      <td>1.000000</td>\n",
       "      <td>2.025000e+05</td>\n",
       "      <td>8.100000e+05</td>\n",
       "      <td>34049.250000</td>\n",
       "      <td>6.795000e+05</td>\n",
       "      <td>0.028663</td>\n",
       "    </tr>\n",
       "    <tr>\n",
       "      <th>max</th>\n",
       "      <td>456251.000000</td>\n",
       "      <td>1.000000</td>\n",
       "      <td>14.000000</td>\n",
       "      <td>1.890000e+06</td>\n",
       "      <td>3.150000e+06</td>\n",
       "      <td>225000.000000</td>\n",
       "      <td>3.150000e+06</td>\n",
       "      <td>0.072508</td>\n",
       "    </tr>\n",
       "  </tbody>\n",
       "</table>\n",
       "</div>"
      ],
      "text/plain": [
       "          SK_ID_CURR        TARGET  CNT_CHILDREN  AMT_INCOME_TOTAL  \\\n",
       "count   10000.000000  10000.000000  10000.000000      1.000000e+04   \n",
       "mean   278434.555600      0.077500      0.419200      1.677800e+05   \n",
       "std    103005.459546      0.267397      0.747213      9.376608e+04   \n",
       "min    100077.000000      0.000000      0.000000      2.655000e+04   \n",
       "25%    187556.750000      0.000000      0.000000      1.125000e+05   \n",
       "50%    279763.000000      0.000000      0.000000      1.485000e+05   \n",
       "75%    367411.750000      0.000000      1.000000      2.025000e+05   \n",
       "max    456251.000000      1.000000     14.000000      1.890000e+06   \n",
       "\n",
       "         AMT_CREDIT    AMT_ANNUITY  AMT_GOODS_PRICE  \\\n",
       "count  1.000000e+04    9999.000000     9.997000e+03   \n",
       "mean   6.034761e+05   26909.101710     5.414610e+05   \n",
       "std    4.015770e+05   14132.620434     3.679354e+05   \n",
       "min    4.500000e+04    1980.000000     4.500000e+04   \n",
       "25%    2.762775e+05   16551.000000     2.385000e+05   \n",
       "50%    5.212800e+05   24822.000000     4.500000e+05   \n",
       "75%    8.100000e+05   34049.250000     6.795000e+05   \n",
       "max    3.150000e+06  225000.000000     3.150000e+06   \n",
       "\n",
       "       REGION_POPULATION_RELATIVE  \n",
       "count                10000.000000  \n",
       "mean                     0.021051  \n",
       "std                      0.014012  \n",
       "min                      0.000533  \n",
       "25%                      0.010032  \n",
       "50%                      0.018850  \n",
       "75%                      0.028663  \n",
       "max                      0.072508  "
      ]
     },
     "execution_count": 13,
     "metadata": {},
     "output_type": "execute_result"
    }
   ],
   "source": [
    "df.describe()"
   ]
  },
  {
   "cell_type": "markdown",
   "metadata": {},
   "source": [
    "## Step 4 - Define hypothesises"
   ]
  },
  {
   "cell_type": "markdown",
   "metadata": {},
   "source": [
    "Now what we need to do is to define our $H_0$ and $H_1$: \n",
    "\n",
    "* $H_0$ - Target >= 0.085\n",
    "* $H_1$ - Target <  0.085"
   ]
  },
  {
   "cell_type": "markdown",
   "metadata": {},
   "source": [
    "## Step 5 - Calculate Z-score \n",
    "\n",
    "Let's calculate our $Z-score$ so that we will be able to run our test. To do so, you will need to:\n",
    "\n",
    "* Calculate the average `TARGET` \n",
    "* Calculate the std of `TARGET` \n",
    "* Find sample size `n`\n",
    "* Apply $Z = \\frac{\\bar{X} - \\mu}{\\frac{s}{\\sqrt{n}}}$"
   ]
  },
  {
   "cell_type": "code",
   "execution_count": 14,
   "metadata": {},
   "outputs": [
    {
     "name": "stdout",
     "output_type": "stream",
     "text": [
      "Z-score equal: -2.804823315581202\n"
     ]
    }
   ],
   "source": [
    "# Calculate Z-score \n",
    "sample_average = df[\"TARGET\"].mean()\n",
    "sample_std = df[\"TARGET\"].std()\n",
    "mu = 0.085\n",
    "n = len(df)\n",
    "\n",
    "z_score = (sample_average - mu)/(sample_std/np.sqrt(n))\n",
    "print(\"Z-score equal: {}\".format(z_score))"
   ]
  },
  {
   "cell_type": "markdown",
   "metadata": {},
   "source": [
    "## Step 6 - Set $\\alpha$ \n",
    "\n",
    "Now we need to set a confidence level $\\alpha$, after talking with Qonto's financial team, they told us that `5%` is okay."
   ]
  },
  {
   "cell_type": "code",
   "execution_count": 15,
   "metadata": {},
   "outputs": [],
   "source": [
    "# Define alpha \n",
    "alpha = 0.05"
   ]
  },
  {
   "cell_type": "markdown",
   "metadata": {},
   "source": [
    "## Step 7 - Compare p-value to $\\alpha$ \n",
    "\n",
    "Finally, we need to get our `p-value`. Instead of looking at tools like [Statdistributions.com](https://statdistributions.com), you can use this function from `statsmodels` library: \n",
    "\n",
    "* [`ztest`](https://www.statsmodels.org/dev/generated/statsmodels.stats.weightstats.ztest.html)"
   ]
  },
  {
   "cell_type": "code",
   "execution_count": 16,
   "metadata": {},
   "outputs": [
    {
     "name": "stdout",
     "output_type": "stream",
     "text": [
      "p-value is: 0.0025172084065654857\n",
      "Z_score value is: -2.8048233155813316\n",
      "We can reject the Null Hypothesis\n"
     ]
    }
   ],
   "source": [
    "from statsmodels.stats.weightstats import ztest\n",
    "\n",
    "z_score, p_value = ztest(df[\"TARGET\"], alternative='smaller', value=mu)\n",
    "\n",
    "print(\"p-value is: {}\".format(p_value))\n",
    "print(\"Z_score value is: {}\".format(z_score))\n",
    "\n",
    "if p_value < alpha:\n",
    "    print(\"We can reject the Null Hypothesis\")\n",
    "else:\n",
    "    print(\"We can't reject the Null hypothesis\")"
   ]
  },
  {
   "cell_type": "markdown",
   "metadata": {},
   "source": [
    "## Step 8 (Optional) - Visualize probability\n",
    "\n",
    "Finally, one cool thing could be to visualize your Z-test! One thing that we could use is `matplotlib.pyplot` library with `seaborn`. Check out this code and try to understand the results. "
   ]
  },
  {
   "cell_type": "code",
   "execution_count": 17,
   "metadata": {},
   "outputs": [
    {
     "name": "stderr",
     "output_type": "stream",
     "text": [
      "C:\\Users\\phili\\AppData\\Local\\Temp\\ipykernel_10388\\1140963200.py:7: UserWarning: \n",
      "\n",
      "`distplot` is a deprecated function and will be removed in seaborn v0.14.0.\n",
      "\n",
      "Please adapt your code to use either `displot` (a figure-level function with\n",
      "similar flexibility) or `kdeplot` (an axes-level function for kernel density plots).\n",
      "\n",
      "For a guide to updating your code to use the new functions, please see\n",
      "https://gist.github.com/mwaskom/de44147ed2974457ad6372750bbe5751\n",
      "\n",
      "  ax = sns.distplot(np.random.normal(0, 1, size=1000000), hist=None)\n",
      "c:\\Users\\phili\\anaconda3\\envs\\jedha\\Lib\\site-packages\\seaborn\\_oldcore.py:1498: FutureWarning: is_categorical_dtype is deprecated and will be removed in a future version. Use isinstance(dtype, CategoricalDtype) instead\n",
      "  if pd.api.types.is_categorical_dtype(vector):\n",
      "c:\\Users\\phili\\anaconda3\\envs\\jedha\\Lib\\site-packages\\seaborn\\_oldcore.py:1119: FutureWarning: use_inf_as_na option is deprecated and will be removed in a future version. Convert inf values to NaN before operating instead.\n",
      "  with pd.option_context('mode.use_inf_as_na', True):\n"
     ]
    },
    {
     "data": {
      "image/png": "[encoded data removed]",
      "text/plain": [
       "<Figure size 640x480 with 1 Axes>"
      ]
     },
     "metadata": {},
     "output_type": "display_data"
    }
   ],
   "source": [
    "### Visualize area under curve\n",
    "import seaborn as sns\n",
    "\n",
    "# Displot from seaborn gives us a distribution from what is inside the parenthesis\n",
    "# np.random.normal simulates a normal distribution \n",
    "# hist=None simply stats that we don't want a histogram\n",
    "ax = sns.distplot(np.random.normal(0, 1, size=1000000), hist=None) \n",
    "\n",
    "# This is a mask that will let us filter only the values beyond z-score\n",
    "mask = ax.lines[0].get_xydata()[:, 0] < z_score ## Only modify the operator sign (<, >) depending on your problem\n",
    "\n",
    "# This will get the coordinates of all the data points beyon z-score\n",
    "x_area_under_curve = ax.lines[0].get_xydata()[:, 0][mask]\n",
    "y_area_under_curve = ax.lines[0].get_xydata()[:, 1][mask]\n",
    "\n",
    "# We finally fill the area with red\n",
    "ax.fill_between(x_area_under_curve, y_area_under_curve, color=\"red\")\n",
    "plt.show()"
   ]
  }
 ],
 "metadata": {
  "kernelspec": {
   "display_name": "Python 3",
   "language": "python",
   "name": "python3"
  },
  "language_info": {
   "codemirror_mode": {
    "name": "ipython",
    "version": 3
   },
   "file_extension": ".py",
   "mimetype": "text/x-python",
   "name": "python",
   "nbconvert_exporter": "python",
   "pygments_lexer": "ipython3",
   "version": "3.11.5"
  }
 },
 "nbformat": 4,
 "nbformat_minor": 2
}
