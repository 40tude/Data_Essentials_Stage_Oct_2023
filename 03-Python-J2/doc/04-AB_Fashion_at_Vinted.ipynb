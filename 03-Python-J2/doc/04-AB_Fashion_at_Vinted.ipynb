{
 "cells": [
  {
   "cell_type": "markdown",
   "metadata": {},
   "source": [
    "![](https://upload.wikimedia.org/wikipedia/commons/2/29/Vinted_logo.png)\n",
    "\n",
    "## A/B Fashion @ Vinted\n",
    "\n",
    "[Vinted](https://www.vinted.fr/) is a French e-commerce platform which allow to sell your old clothes. Over the years the company has grown a lot and is now making around $40 Millions in revenue and is value $4.5 billion dollars. \n",
    "\n",
    "Conversion for e-commerce is extremely important. Vinted's team would like to optimize their website. Their designer and marketing team selected two versions they would like to test on their website. Here they are: \n",
    "\n",
    "## Feature A \n",
    "\n",
    "![](https://essentials-assets.s3.eu-west-3.amazonaws.com/M03-Python_programming_and_statistics/D02-A_B_testing_and_web_analytics/Vinted_Feature_A.png)\n",
    "\n",
    "## Feature B \n",
    "\n",
    "![](https://essentials-assets.s3.eu-west-3.amazonaws.com/M03-Python_programming_and_statistics/D02-A_B_testing_and_web_analytics/Vinted_Feature_B.png)\n",
    "\n",
    "They asked you to run an A/B test to determine which version would provide more conversions. They also provided you with a file called `vinted_website_optimization.csv`. "
   ]
  },
  {
   "cell_type": "markdown",
   "metadata": {},
   "source": [
    "## Step 1 - Import Libraries \n",
    "\n",
    "For this project, we will be using: \n",
    "\n",
    "* `pandas as pd`\n",
    "* `numpy as np`\n",
    "* `seaborn as sns`\n",
    "* `matplotlib.pyplot as plt`"
   ]
  },
  {
   "cell_type": "code",
   "execution_count": 2,
   "metadata": {
    "colab": {},
    "colab_type": "code",
    "id": "spiCFrrk6xH9"
   },
   "outputs": [],
   "source": []
  },
  {
   "cell_type": "markdown",
   "metadata": {
    "colab_type": "text",
    "id": "VAwRdJhOAgNa"
   },
   "source": [
    "## Step 2 - Import dataset \n",
    "\n",
    "As stated above, we need to import `vinted_website_optimization.csv` that holds the results of our A/B test "
   ]
  },
  {
   "cell_type": "code",
   "execution_count": 11,
   "metadata": {},
   "outputs": [
    {
     "data": {
      "text/html": [
       "<div>\n",
       "<style scoped>\n",
       "    .dataframe tbody tr th:only-of-type {\n",
       "        vertical-align: middle;\n",
       "    }\n",
       "\n",
       "    .dataframe tbody tr th {\n",
       "        vertical-align: top;\n",
       "    }\n",
       "\n",
       "    .dataframe thead th {\n",
       "        text-align: right;\n",
       "    }\n",
       "</style>\n",
       "<table border=\"1\" class=\"dataframe\">\n",
       "  <thead>\n",
       "    <tr style=\"text-align: right;\">\n",
       "      <th></th>\n",
       "      <th>Feature_A</th>\n",
       "      <th>Feature_B</th>\n",
       "    </tr>\n",
       "  </thead>\n",
       "  <tbody>\n",
       "    <tr>\n",
       "      <th>0</th>\n",
       "      <td>0</td>\n",
       "      <td>0</td>\n",
       "    </tr>\n",
       "    <tr>\n",
       "      <th>1</th>\n",
       "      <td>0</td>\n",
       "      <td>0</td>\n",
       "    </tr>\n",
       "    <tr>\n",
       "      <th>2</th>\n",
       "      <td>0</td>\n",
       "      <td>0</td>\n",
       "    </tr>\n",
       "    <tr>\n",
       "      <th>3</th>\n",
       "      <td>0</td>\n",
       "      <td>0</td>\n",
       "    </tr>\n",
       "    <tr>\n",
       "      <th>4</th>\n",
       "      <td>1</td>\n",
       "      <td>0</td>\n",
       "    </tr>\n",
       "  </tbody>\n",
       "</table>\n",
       "</div>"
      ],
      "text/plain": [
       "   Feature_A  Feature_B\n",
       "0          0          0\n",
       "1          0          0\n",
       "2          0          0\n",
       "3          0          0\n",
       "4          1          0"
      ]
     },
     "execution_count": 11,
     "metadata": {},
     "output_type": "execute_result"
    }
   ],
   "source": []
  },
  {
   "cell_type": "markdown",
   "metadata": {},
   "source": [
    "## Step 3 - EDA \n",
    "\n",
    "Now, let's do a little bit of Exploratory Data Analysis. Let's first see the proportion of conversion for Feature A as well as Feature B "
   ]
  },
  {
   "cell_type": "code",
   "execution_count": 4,
   "metadata": {},
   "outputs": [
    {
     "data": {
      "text/plain": [
       "Feature_A    0.086\n",
       "Feature_B    0.126\n",
       "dtype: float64"
      ]
     },
     "execution_count": 4,
     "metadata": {},
     "output_type": "execute_result"
    }
   ],
   "source": []
  },
  {
   "cell_type": "markdown",
   "metadata": {
    "colab_type": "text",
    "id": "qQzTyr_MAzwC"
   },
   "source": [
    "Then visualize both feature using `pandas` and the `plot` function. We will need to build confidence intervals with 95% confidence level."
   ]
  },
  {
   "cell_type": "code",
   "execution_count": 5,
   "metadata": {},
   "outputs": [
    {
     "data": {
      "text/plain": [
       "<matplotlib.axes._subplots.AxesSubplot at 0x7ff0b68d3a90>"
      ]
     },
     "execution_count": 5,
     "metadata": {},
     "output_type": "execute_result"
    },
    {
     "data": {
      "image/png": "[encoded data removed]",
      "text/plain": [
       "<Figure size 432x288 with 1 Axes>"
      ]
     },
     "metadata": {
      "needs_background": "light"
     },
     "output_type": "display_data"
    }
   ],
   "source": []
  },
  {
   "cell_type": "markdown",
   "metadata": {},
   "source": [
    "## Step 4 - Test \n",
    "\n",
    "Since our DataFrame is made differently we won't need to do much manipulations. However we do need to apply the following formula:\n",
    "\n",
    "$$Z-Score = \\frac{\\mu_B - \\mu_A}{\\sqrt{\\frac{\\sigma_B^2}{n_B}+ \\frac{\\sigma_A^2}{n_A}}}$$"
   ]
  },
  {
   "cell_type": "code",
   "execution_count": 6,
   "metadata": {},
   "outputs": [
    {
     "data": {
      "text/plain": [
       "2.0568001501604343"
      ]
     },
     "execution_count": 6,
     "metadata": {},
     "output_type": "execute_result"
    }
   ],
   "source": []
  },
  {
   "cell_type": "markdown",
   "metadata": {
    "colab": {
     "base_uri": "https://localhost:8080/",
     "height": 54
    },
    "colab_type": "code",
    "executionInfo": {
     "elapsed": 522,
     "status": "ok",
     "timestamp": 1567965975158,
     "user": {
      "displayName": "Antoine Krajnc",
      "photoUrl": "https://lh3.googleusercontent.com/a-/AAuE7mC4XzNDVGvURzl4T5duDbMr6bUdhkYkDul_37G0OA=s64",
      "userId": "08465960390418158788"
     },
     "user_tz": -120
    },
    "id": "fmbYLUNzDU0Z",
    "outputId": "aa091fa3-b3ba-4b63-9b7c-3a0aacccbee5"
   },
   "source": [
    "## Step 5 - Set $\\alpha$\n",
    "\n",
    "Let's now set $\\alpha$, after checking with Airbnb's team, they've settled for 95% confidence level"
   ]
  },
  {
   "cell_type": "code",
   "execution_count": 7,
   "metadata": {},
   "outputs": [],
   "source": []
  },
  {
   "cell_type": "markdown",
   "metadata": {},
   "source": [
    "## Step 6 - Compare p-value to $\\alpha$ \n",
    "\n",
    "Finally, we need to compare our p-value to $\\alpha$, to do so, we'll be using `ztest` from `statsmodels`: \n",
    "\n",
    "* [`ztest`](https://www.statsmodels.org/dev/generated/statsmodels.stats.weightstats.ztest.html)"
   ]
  },
  {
   "cell_type": "code",
   "execution_count": 8,
   "metadata": {},
   "outputs": [
    {
     "name": "stdout",
     "output_type": "stream",
     "text": [
      "Z_score value is: 2.056800150160431\n",
      "p-value is: 0.019852726822912285\n",
      "We can reject the Null Hypothesis\n"
     ]
    }
   ],
   "source": []
  },
  {
   "cell_type": "markdown",
   "metadata": {},
   "source": [
    "## Step 7 (Optional) - Visualize probability\n",
    "\n",
    "Finally, one cool thing could be to visualize your Z-test! One thing that we could use is `matplotlib.pyplot` library with `seaborn`. Check out this code and try to understand the results. "
   ]
  },
  {
   "cell_type": "code",
   "execution_count": 9,
   "metadata": {
    "colab": {},
    "colab_type": "code",
    "id": "wyWVadACDg_n"
   },
   "outputs": [
    {
     "data": {
      "image/png": "[encoded data removed]",
      "text/plain": [
       "<Figure size 432x288 with 1 Axes>"
      ]
     },
     "metadata": {
      "needs_background": "light"
     },
     "output_type": "display_data"
    }
   ],
   "source": []
  }
 ],
 "metadata": {
  "colab": {
   "name": "A/B sur JEDHA.ipynb",
   "provenance": [],
   "toc_visible": true,
   "version": "0.3.2"
  },
  "interpreter": {
   "hash": "dca0ade3e726a953b501b15e8e990130d2b7799f14cfd9f4271676035ebe5511"
  },
  "kernelspec": {
   "display_name": "Python 3",
   "language": "python",
   "name": "python3"
  },
  "language_info": {
   "codemirror_mode": {
    "name": "ipython",
    "version": 3
   },
   "file_extension": ".py",
   "mimetype": "text/x-python",
   "name": "python",
   "nbconvert_exporter": "python",
   "pygments_lexer": "ipython3",
   "version": "3.8.5"
  }
 },
 "nbformat": 4,
 "nbformat_minor": 4
}
