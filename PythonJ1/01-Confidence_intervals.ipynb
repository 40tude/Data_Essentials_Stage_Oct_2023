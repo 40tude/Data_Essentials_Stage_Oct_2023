{
 "cells": [
  {
   "cell_type": "markdown",
   "metadata": {},
   "source": [
    "# Estimates and sampling\n",
    "## Facebook"
   ]
  },
  {
   "cell_type": "code",
   "execution_count": 33,
   "metadata": {},
   "outputs": [],
   "source": [
    "# import libraries\n",
    "import pandas as pd\n",
    "import math"
   ]
  },
  {
   "cell_type": "code",
   "execution_count": 34,
   "metadata": {},
   "outputs": [
    {
     "name": "stdout",
     "output_type": "stream",
     "text": [
      "(102, 4)\n"
     ]
    }
   ],
   "source": [
    "# import dataset\n",
    "dataset = pd.read_excel(\"../assets/Python/Hours Spent on Facebook.xlsx\")\n",
    "print(dataset.shape)"
   ]
  },
  {
   "cell_type": "code",
   "execution_count": 35,
   "metadata": {},
   "outputs": [
    {
     "data": {
      "text/html": [
       "<div>\n",
       "<style scoped>\n",
       "    .dataframe tbody tr th:only-of-type {\n",
       "        vertical-align: middle;\n",
       "    }\n",
       "\n",
       "    .dataframe tbody tr th {\n",
       "        vertical-align: top;\n",
       "    }\n",
       "\n",
       "    .dataframe thead th {\n",
       "        text-align: right;\n",
       "    }\n",
       "</style>\n",
       "<table border=\"1\" class=\"dataframe\">\n",
       "  <thead>\n",
       "    <tr style=\"text-align: right;\">\n",
       "      <th></th>\n",
       "      <th>Customer</th>\n",
       "      <th>Hours spent on Facebook on Mobile</th>\n",
       "      <th>Unnamed: 2</th>\n",
       "      <th>Unnamed: 3</th>\n",
       "    </tr>\n",
       "  </thead>\n",
       "  <tbody>\n",
       "    <tr>\n",
       "      <th>0</th>\n",
       "      <td>1</td>\n",
       "      <td>4.092475</td>\n",
       "      <td>NaN</td>\n",
       "      <td>2.978913</td>\n",
       "    </tr>\n",
       "    <tr>\n",
       "      <th>1</th>\n",
       "      <td>2</td>\n",
       "      <td>7.233371</td>\n",
       "      <td>NaN</td>\n",
       "      <td>NaN</td>\n",
       "    </tr>\n",
       "    <tr>\n",
       "      <th>2</th>\n",
       "      <td>3</td>\n",
       "      <td>7.455792</td>\n",
       "      <td>NaN</td>\n",
       "      <td>NaN</td>\n",
       "    </tr>\n",
       "    <tr>\n",
       "      <th>3</th>\n",
       "      <td>4</td>\n",
       "      <td>7.253503</td>\n",
       "      <td>NaN</td>\n",
       "      <td>NaN</td>\n",
       "    </tr>\n",
       "    <tr>\n",
       "      <th>4</th>\n",
       "      <td>5</td>\n",
       "      <td>2.249682</td>\n",
       "      <td>NaN</td>\n",
       "      <td>NaN</td>\n",
       "    </tr>\n",
       "  </tbody>\n",
       "</table>\n",
       "</div>"
      ],
      "text/plain": [
       "   Customer   Hours spent on Facebook on Mobile  Unnamed: 2  Unnamed: 3\n",
       "0          1                           4.092475         NaN    2.978913\n",
       "1          2                           7.233371         NaN         NaN\n",
       "2          3                           7.455792         NaN         NaN\n",
       "3          4                           7.253503         NaN         NaN\n",
       "4          5                           2.249682         NaN         NaN"
      ]
     },
     "execution_count": 35,
     "metadata": {},
     "output_type": "execute_result"
    }
   ],
   "source": [
    "dataset.head()"
   ]
  },
  {
   "cell_type": "code",
   "execution_count": 36,
   "metadata": {},
   "outputs": [],
   "source": [
    "# Calculate Mean & Standard Dev\n",
    "mean = dataset[\"Hours spent on Facebook on Mobile\"].mean()\n",
    "stdev = dataset[\"Hours spent on Facebook on Mobile\"].std()\n",
    "    \n",
    "# Set the t-value for 95% confidence interval\n",
    "t = 1.96\n",
    "\n",
    "# Compute the interval \n",
    "\n",
    "#real_mean = [mean - t*stdev/math.sqrt(102), mean + t*stdev/math.sqrt(102)]\n",
    "real_mean = [mean - t*stdev/math.sqrt(len(dataset)), mean + t*stdev/math.sqrt(len(dataset))]"
   ]
  },
  {
   "cell_type": "code",
   "execution_count": 37,
   "metadata": {},
   "outputs": [
    {
     "name": "stdout",
     "output_type": "stream",
     "text": [
      "[4.269202030113112, 5.4254308469601344]\n"
     ]
    }
   ],
   "source": [
    "print(real_mean)"
   ]
  },
  {
   "cell_type": "markdown",
   "metadata": {},
   "source": [
    "## Google"
   ]
  },
  {
   "cell_type": "code",
   "execution_count": 38,
   "metadata": {},
   "outputs": [
    {
     "data": {
      "text/plain": [
       "(31, 1)"
      ]
     },
     "execution_count": 38,
     "metadata": {},
     "output_type": "execute_result"
    }
   ],
   "source": [
    "dataset = pd.read_excel(\"../assets/Python/Monthly spending on adwords.xlsx\")\n",
    "dataset.shape"
   ]
  },
  {
   "cell_type": "code",
   "execution_count": 39,
   "metadata": {},
   "outputs": [],
   "source": [
    "# Calculate Mean & Standard Dev\n",
    "mean = dataset[\"Monthly spending\"].mean()\n",
    "stdev = dataset[\"Monthly spending\"].std()\n",
    "    \n",
    "# Set the t-value for 95% confidence level (Student distribution !)\n",
    "t = 2.043\n",
    "\n",
    "# Find the interval \n",
    "# real_mean = [mean - t*stdev/math.sqrt(31), mean + t*stdev/math.sqrt(31)]\n",
    "real_mean = [mean - t*stdev/math.sqrt(len(dataset)), mean + t*stdev/math.sqrt(len(dataset))]"
   ]
  },
  {
   "cell_type": "code",
   "execution_count": 40,
   "metadata": {},
   "outputs": [
    {
     "name": "stdout",
     "output_type": "stream",
     "text": [
      "[398.58537746767627, 584.9603384818613]\n"
     ]
    }
   ],
   "source": [
    "print(real_mean)"
   ]
  },
  {
   "cell_type": "markdown",
   "metadata": {},
   "source": [
    "## Nintendo"
   ]
  },
  {
   "cell_type": "code",
   "execution_count": 9,
   "metadata": {},
   "outputs": [
    {
     "data": {
      "text/plain": [
       "(20, 2)"
      ]
     },
     "execution_count": 9,
     "metadata": {},
     "output_type": "execute_result"
    }
   ],
   "source": [
    "dataset = pd.read_excel(\"../assets/Python/Number of switch sold.xlsx\")\n",
    "dataset.shape"
   ]
  },
  {
   "cell_type": "code",
   "execution_count": 10,
   "metadata": {},
   "outputs": [
    {
     "data": {
      "text/html": [
       "<div>\n",
       "<style scoped>\n",
       "    .dataframe tbody tr th:only-of-type {\n",
       "        vertical-align: middle;\n",
       "    }\n",
       "\n",
       "    .dataframe tbody tr th {\n",
       "        vertical-align: top;\n",
       "    }\n",
       "\n",
       "    .dataframe thead th {\n",
       "        text-align: right;\n",
       "    }\n",
       "</style>\n",
       "<table border=\"1\" class=\"dataframe\">\n",
       "  <thead>\n",
       "    <tr style=\"text-align: right;\">\n",
       "      <th></th>\n",
       "      <th>City</th>\n",
       "      <th>Number of sales</th>\n",
       "    </tr>\n",
       "  </thead>\n",
       "  <tbody>\n",
       "    <tr>\n",
       "      <th>0</th>\n",
       "      <td>New York</td>\n",
       "      <td>65538.794054</td>\n",
       "    </tr>\n",
       "    <tr>\n",
       "      <th>1</th>\n",
       "      <td>San Francisco</td>\n",
       "      <td>45709.289870</td>\n",
       "    </tr>\n",
       "    <tr>\n",
       "      <th>2</th>\n",
       "      <td>Seattle</td>\n",
       "      <td>87417.957092</td>\n",
       "    </tr>\n",
       "    <tr>\n",
       "      <th>3</th>\n",
       "      <td>Denver</td>\n",
       "      <td>96461.186529</td>\n",
       "    </tr>\n",
       "    <tr>\n",
       "      <th>4</th>\n",
       "      <td>Austin</td>\n",
       "      <td>3665.528408</td>\n",
       "    </tr>\n",
       "  </tbody>\n",
       "</table>\n",
       "</div>"
      ],
      "text/plain": [
       "            City  Number of sales\n",
       "0       New York     65538.794054\n",
       "1  San Francisco     45709.289870\n",
       "2       Seattle      87417.957092\n",
       "3        Denver      96461.186529\n",
       "4        Austin       3665.528408"
      ]
     },
     "execution_count": 10,
     "metadata": {},
     "output_type": "execute_result"
    }
   ],
   "source": [
    "dataset.head()"
   ]
  },
  {
   "cell_type": "code",
   "execution_count": 11,
   "metadata": {},
   "outputs": [
    {
     "name": "stdout",
     "output_type": "stream",
     "text": [
      "42996.94036175361\n",
      "28365.335356619857\n"
     ]
    }
   ],
   "source": [
    "# Calculate Mean & Standard Dev\n",
    "mean = dataset[\"Number of sales\"].mean()\n",
    "stdev = dataset[\"Number of sales\"].std()\n",
    "print(mean)\n",
    "print(stdev)\n",
    "\n",
    "# Set Standard Error\n",
    "E = 5000\n",
    "\n",
    "# Set t value\n",
    "t = 1.96\n",
    "\n",
    "# Minimum Sample Size\n",
    "n = (t*stdev/E)**2"
   ]
  },
  {
   "cell_type": "code",
   "execution_count": 12,
   "metadata": {},
   "outputs": [
    {
     "name": "stdout",
     "output_type": "stream",
     "text": [
      "123.6368634876361\n"
     ]
    }
   ],
   "source": [
    "print(n)"
   ]
  },
  {
   "cell_type": "markdown",
   "metadata": {},
   "source": [
    "## Apple"
   ]
  },
  {
   "cell_type": "code",
   "execution_count": 13,
   "metadata": {},
   "outputs": [
    {
     "data": {
      "text/plain": [
       "(41, 1)"
      ]
     },
     "execution_count": 13,
     "metadata": {},
     "output_type": "execute_result"
    }
   ],
   "source": [
    "dataset = pd.read_excel(\"../assets/Python/satisfaction apple release.xlsx\")\n",
    "dataset.shape"
   ]
  },
  {
   "cell_type": "code",
   "execution_count": 14,
   "metadata": {},
   "outputs": [],
   "source": [
    "# Calculate percentage\n",
    "\n",
    "n = dataset.shape[0]\n",
    "\n",
    "k = dataset[\"Satisfied customer\"].sum()\n",
    "\n",
    "p = k/n\n",
    "\n",
    "# Set Z Value : we use the normal distribution because the FINAL sample size n will probably be > 40\n",
    "z = 1.96 \n",
    "\n",
    "# Calculate interval\n",
    "real_percentage = [p - z*math.sqrt(p*(1-p)/n), p + z*math.sqrt(p*(1-p)/n)]"
   ]
  },
  {
   "cell_type": "code",
   "execution_count": 15,
   "metadata": {},
   "outputs": [
    {
     "name": "stdout",
     "output_type": "stream",
     "text": [
      "[0.21841458617183335, 0.5132927309013373]\n"
     ]
    }
   ],
   "source": [
    "print(real_percentage)"
   ]
  },
  {
   "cell_type": "markdown",
   "metadata": {},
   "source": [
    "## Laboratory"
   ]
  },
  {
   "cell_type": "code",
   "execution_count": 16,
   "metadata": {},
   "outputs": [],
   "source": [
    "# Set up your expected proportion\n",
    "p = 0.90\n",
    "\n",
    "# Set up Z\n",
    "z = 1.96\n",
    "\n",
    "# Set up Error\n",
    "E = 0.01\n",
    "\n",
    "# Calculate N \n",
    "n = p * (1 - p)* (z/E)**2"
   ]
  },
  {
   "cell_type": "code",
   "execution_count": 43,
   "metadata": {},
   "outputs": [
    {
     "name": "stdout",
     "output_type": "stream",
     "text": [
      "3457.439999999999\n",
      "3458\n"
     ]
    }
   ],
   "source": [
    "print(n)\n",
    "print(math.ceil(n))"
   ]
  }
 ],
 "metadata": {
  "kernelspec": {
   "display_name": "Python 3",
   "language": "python",
   "name": "python3"
  },
  "language_info": {
   "codemirror_mode": {
    "name": "ipython",
    "version": 3
   },
   "file_extension": ".py",
   "mimetype": "text/x-python",
   "name": "python",
   "nbconvert_exporter": "python",
   "pygments_lexer": "ipython3",
   "version": "3.11.5"
  }
 },
 "nbformat": 4,
 "nbformat_minor": 4
}
