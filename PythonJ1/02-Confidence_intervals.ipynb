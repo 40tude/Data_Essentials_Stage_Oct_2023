{
 "cells": [
  {
   "attachments": {},
   "cell_type": "markdown",
   "metadata": {},
   "source": [
    "# Build confidence intervals\n",
    "\n",
    "We will use Python for all the exercises. Let's find the confidence interval:\n",
    "\n",
    "* Facebook would like to know the average time spent on their site. To do so, they launched a study on 100 people and asked them how much time they spend on Facebook per day:\n",
    "    1. Open the `Hours spent on Facebook.xlsx` file. \n",
    "    2. Calculate the mean and standard deviation of the corresponding column.\n",
    "    3. We would like to know the mean of the total population. Calculate the 95% confidence interval.\n",
    "<br/>\n",
    "\n",
    "* Google would like to know the mean monthly revenue generated per client on their Adwords platform. Due to lack of time, they have launched a questionnaire on only 31 people.  \n",
    "    1. Open the `monthly_spending_adwords.xlsx` file.\n",
    "    2. Calculate the mean and standard deviation of the corresponding column.\n",
    "    3. We would like to know the mean of the total population. Calculate the 95% confidence interval.  \n",
    "<br/>\n",
    "\n",
    "* Nintendo is building their new console. However, the last console they launched was a disaster because no one bought it. This time, Nintendo would like to know how many cities they would have to survey to be 95% sure that they will build the right number of systems. The company will accept an error of 5000 consoles.  \n",
    "    1. Open the `Number of switch sold.xlsx` file.\n",
    "    2. Calculate the mean and standard deviation of the corresponding column.\n",
    "    3. Set the margin of error to 5000.\n",
    "    4. Find the minimum number of cities to study.  \n",
    "<br/>\n",
    "\n",
    "* Apple has just launched their new IOS for Iphone and would like to know if customers are satisfied with this version or not. They asked 40 people about their satisfaction with the OS and collected their answers. For educational purposes, we have marked the satisfied with a `1` and the dissatisfied with a `0`.\n",
    "    1. Open the `satisfaction apple release.xlsx` file.\n",
    "    2. Set the number $n$ of people in the sample.\n",
    "    3. Calculate $k$, the number of people satisfied with the OS.\n",
    "    4. Calculate $p$, the proportion of people satisfied with the OS.\n",
    "    5. Calculate the confidence interval of the proportion of the population.\n",
    "<br/>\n",
    "\n",
    "* A laboratory has created a new drug and would like to test its effectiveness. Based on tests done on rats, experts estimate that it should have an efficiency rate of about 90%. They would like to know the number of individuals ($n$) that would have to be tested to confirm its 95% effectiveness with a Error margin $E$ of 1%.\n",
    "    1. Set $p$, the estimated proportion.\n",
    "    2. Set $z$, the $z-value$ for a 95% confidence level.\n",
    "    3. Set your margin of Error, $E$.\n",
    "    4. Calculate $n$."
   ]
  }
 ],
 "metadata": {
  "kernelspec": {
   "display_name": "Python 3",
   "language": "python",
   "name": "python3"
  },
  "language_info": {
   "codemirror_mode": {
    "name": "ipython",
    "version": 3
   },
   "file_extension": ".py",
   "mimetype": "text/x-python",
   "name": "python",
   "nbconvert_exporter": "python",
   "pygments_lexer": "ipython3",
   "version": "3.8.5"
  }
 },
 "nbformat": 4,
 "nbformat_minor": 4
}
